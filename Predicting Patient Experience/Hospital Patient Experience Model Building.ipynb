{
 "cells": [
  {
   "cell_type": "markdown",
   "metadata": {},
   "source": [
    "# Leah Prince"
   ]
  },
  {
   "cell_type": "markdown",
   "metadata": {},
   "source": [
    "## Hospital Patient Experience"
   ]
  },
  {
   "cell_type": "markdown",
   "metadata": {},
   "source": [
    "HCAHPS is the first national, standardized, publicly-reported survey of patients' perspectives of hospital care. The survey captures the patients' experience of communication with doctors and nurses, responsiveness of hospital staff, communication about medicines, cleanliness and quietness of the hospital, discharge information, transition to post-hospital care and overall rating of the hospital.The survey is administered between 2 and 42 days after discharge to a random sample of patients, by mail, telephone and interactive voice response. The survey is administered in a variety of languages and over 4,000 hospitals participate in the survey, with over 3 million patients completing the survey each year."
   ]
  },
  {
   "cell_type": "markdown",
   "metadata": {},
   "source": [
    "### Data Dictionary"
   ]
  },
  {
   "cell_type": "markdown",
   "metadata": {},
   "source": [
    "[Data Dictionary](https://hcahpsonline.org/globalassets/hcahps/technical-specifications/2019_technical-specifications_xml-file-specifications-v4.2.pdf)"
   ]
  },
  {
   "cell_type": "markdown",
   "metadata": {},
   "source": [
    "# Objectives\n",
    "Predict hospital patient experience, using one of the most import features, \"Nurses Courtesy and Respect - Q01_1\". Nurses are on the front lines of health care. They become experts at establishing relationships with patients. A healthly nurse-patient relationship built on trust and respect goes a long way in improving a patient's overall health. Although, this dataset contains an overall rating of patient experience, the overall rating is calculated based on each individual component, being the questions. It is important to understand the uniqueness of each question and how it contributes to the overall experience. Therefore, \"Nurses Courtesy and Respect\" will be predicted based on a number of feature variables, such as patient's age and race, as well as the admission source and reason for admission. Other features will be incorporated into the model to determine model performance."
   ]
  },
  {
   "cell_type": "markdown",
   "metadata": {},
   "source": [
    "- Build a model that predicts hospital patient experience. \n",
    "- The initial model that will be used is Logistic Regression. Depending on the accuracy of the model. Other models may be incorporated, such as Decision Trees and Random Forest."
   ]
  },
  {
   "cell_type": "markdown",
   "metadata": {},
   "source": [
    "## Import Libraries and Files"
   ]
  },
  {
   "cell_type": "code",
   "execution_count": 1,
   "metadata": {},
   "outputs": [],
   "source": [
    "import pandas as pd\n",
    "import numpy as np\n",
    "%matplotlib inline\n",
    "import matplotlib.pyplot as plt\n",
    "import seaborn as sns\n",
    "\n",
    "#logistic regression with sklearn\n",
    "from sklearn.linear_model import LogisticRegression\n",
    "#logistic regression with statsmodels is sm.Logit\n",
    "import statsmodels.api as sm\n",
    "\n",
    "from sklearn.model_selection import train_test_split\n",
    "from sklearn.model_selection import KFold\n",
    "\n",
    "from sklearn.metrics import classification_report, confusion_matrix, accuracy_score, mean_squared_error, roc_auc_score\n",
    "from sklearn import metrics"
   ]
  },
  {
   "cell_type": "code",
   "execution_count": 2,
   "metadata": {},
   "outputs": [
    {
     "data": {
      "text/html": [
       "<div>\n",
       "<style scoped>\n",
       "    .dataframe tbody tr th:only-of-type {\n",
       "        vertical-align: middle;\n",
       "    }\n",
       "\n",
       "    .dataframe tbody tr th {\n",
       "        vertical-align: top;\n",
       "    }\n",
       "\n",
       "    .dataframe thead th {\n",
       "        text-align: right;\n",
       "    }\n",
       "</style>\n",
       "<table border=\"1\" class=\"dataframe\">\n",
       "  <thead>\n",
       "    <tr style=\"text-align: right;\">\n",
       "      <th></th>\n",
       "      <th>Unnamed: 0</th>\n",
       "      <th>WES_HOSPID</th>\n",
       "      <th>FINAL_STATE</th>\n",
       "      <th>FINAL_BEDSIZE</th>\n",
       "      <th>FINAL_OWNERSHIP</th>\n",
       "      <th>FINAL_TEACHING</th>\n",
       "      <th>FINAL_REGION</th>\n",
       "      <th>AGE</th>\n",
       "      <th>Q01_06</th>\n",
       "      <th>Q02_06</th>\n",
       "      <th>...</th>\n",
       "      <th>FINAL_MODE_1</th>\n",
       "      <th>SURVLANG_1</th>\n",
       "      <th>SURVLANG_3</th>\n",
       "      <th>FINAL_STATE_Midwest_Region</th>\n",
       "      <th>FINAL_STATE_Northeast_Region</th>\n",
       "      <th>FINAL_STATE_South_Region</th>\n",
       "      <th>Season_Fall</th>\n",
       "      <th>Season_Spring</th>\n",
       "      <th>Season_Summer</th>\n",
       "      <th>Year_2005</th>\n",
       "    </tr>\n",
       "  </thead>\n",
       "  <tbody>\n",
       "    <tr>\n",
       "      <th>0</th>\n",
       "      <td>0</td>\n",
       "      <td>1</td>\n",
       "      <td>South_Region</td>\n",
       "      <td>4</td>\n",
       "      <td>3</td>\n",
       "      <td>3</td>\n",
       "      <td>5</td>\n",
       "      <td>8.0</td>\n",
       "      <td>1</td>\n",
       "      <td>1</td>\n",
       "      <td>...</td>\n",
       "      <td>1</td>\n",
       "      <td>1</td>\n",
       "      <td>0</td>\n",
       "      <td>0</td>\n",
       "      <td>0</td>\n",
       "      <td>1</td>\n",
       "      <td>0</td>\n",
       "      <td>1</td>\n",
       "      <td>0</td>\n",
       "      <td>0</td>\n",
       "    </tr>\n",
       "    <tr>\n",
       "      <th>1</th>\n",
       "      <td>1</td>\n",
       "      <td>1</td>\n",
       "      <td>South_Region</td>\n",
       "      <td>4</td>\n",
       "      <td>3</td>\n",
       "      <td>3</td>\n",
       "      <td>5</td>\n",
       "      <td>8.0</td>\n",
       "      <td>0</td>\n",
       "      <td>0</td>\n",
       "      <td>...</td>\n",
       "      <td>1</td>\n",
       "      <td>1</td>\n",
       "      <td>0</td>\n",
       "      <td>0</td>\n",
       "      <td>0</td>\n",
       "      <td>1</td>\n",
       "      <td>0</td>\n",
       "      <td>1</td>\n",
       "      <td>0</td>\n",
       "      <td>0</td>\n",
       "    </tr>\n",
       "    <tr>\n",
       "      <th>2</th>\n",
       "      <td>2</td>\n",
       "      <td>1</td>\n",
       "      <td>South_Region</td>\n",
       "      <td>4</td>\n",
       "      <td>3</td>\n",
       "      <td>3</td>\n",
       "      <td>5</td>\n",
       "      <td>7.0</td>\n",
       "      <td>1</td>\n",
       "      <td>1</td>\n",
       "      <td>...</td>\n",
       "      <td>1</td>\n",
       "      <td>1</td>\n",
       "      <td>0</td>\n",
       "      <td>0</td>\n",
       "      <td>0</td>\n",
       "      <td>1</td>\n",
       "      <td>0</td>\n",
       "      <td>1</td>\n",
       "      <td>0</td>\n",
       "      <td>0</td>\n",
       "    </tr>\n",
       "    <tr>\n",
       "      <th>3</th>\n",
       "      <td>3</td>\n",
       "      <td>1</td>\n",
       "      <td>South_Region</td>\n",
       "      <td>4</td>\n",
       "      <td>3</td>\n",
       "      <td>3</td>\n",
       "      <td>5</td>\n",
       "      <td>6.0</td>\n",
       "      <td>1</td>\n",
       "      <td>0</td>\n",
       "      <td>...</td>\n",
       "      <td>1</td>\n",
       "      <td>1</td>\n",
       "      <td>0</td>\n",
       "      <td>0</td>\n",
       "      <td>0</td>\n",
       "      <td>1</td>\n",
       "      <td>0</td>\n",
       "      <td>1</td>\n",
       "      <td>0</td>\n",
       "      <td>0</td>\n",
       "    </tr>\n",
       "    <tr>\n",
       "      <th>4</th>\n",
       "      <td>4</td>\n",
       "      <td>1</td>\n",
       "      <td>South_Region</td>\n",
       "      <td>4</td>\n",
       "      <td>3</td>\n",
       "      <td>3</td>\n",
       "      <td>5</td>\n",
       "      <td>8.0</td>\n",
       "      <td>0</td>\n",
       "      <td>0</td>\n",
       "      <td>...</td>\n",
       "      <td>1</td>\n",
       "      <td>1</td>\n",
       "      <td>0</td>\n",
       "      <td>0</td>\n",
       "      <td>0</td>\n",
       "      <td>1</td>\n",
       "      <td>0</td>\n",
       "      <td>1</td>\n",
       "      <td>0</td>\n",
       "      <td>0</td>\n",
       "    </tr>\n",
       "  </tbody>\n",
       "</table>\n",
       "<p>5 rows × 99 columns</p>\n",
       "</div>"
      ],
      "text/plain": [
       "   Unnamed: 0  WES_HOSPID   FINAL_STATE  FINAL_BEDSIZE  FINAL_OWNERSHIP  \\\n",
       "0           0           1  South_Region              4                3   \n",
       "1           1           1  South_Region              4                3   \n",
       "2           2           1  South_Region              4                3   \n",
       "3           3           1  South_Region              4                3   \n",
       "4           4           1  South_Region              4                3   \n",
       "\n",
       "   FINAL_TEACHING  FINAL_REGION  AGE Q01_06 Q02_06  ... FINAL_MODE_1  \\\n",
       "0               3             5  8.0      1      1  ...            1   \n",
       "1               3             5  8.0      0      0  ...            1   \n",
       "2               3             5  7.0      1      1  ...            1   \n",
       "3               3             5  6.0      1      0  ...            1   \n",
       "4               3             5  8.0      0      0  ...            1   \n",
       "\n",
       "  SURVLANG_1 SURVLANG_3 FINAL_STATE_Midwest_Region  \\\n",
       "0          1          0                          0   \n",
       "1          1          0                          0   \n",
       "2          1          0                          0   \n",
       "3          1          0                          0   \n",
       "4          1          0                          0   \n",
       "\n",
       "  FINAL_STATE_Northeast_Region FINAL_STATE_South_Region Season_Fall  \\\n",
       "0                            0                        1           0   \n",
       "1                            0                        1           0   \n",
       "2                            0                        1           0   \n",
       "3                            0                        1           0   \n",
       "4                            0                        1           0   \n",
       "\n",
       "  Season_Spring Season_Summer Year_2005  \n",
       "0             1             0         0  \n",
       "1             1             0         0  \n",
       "2             1             0         0  \n",
       "3             1             0         0  \n",
       "4             1             0         0  \n",
       "\n",
       "[5 rows x 99 columns]"
      ]
     },
     "execution_count": 2,
     "metadata": {},
     "output_type": "execute_result"
    }
   ],
   "source": [
    "normalized_df = pd.read_csv('Hospital Patient Experience_Cleaned.csv', low_memory=False)\n",
    "normalized_df.head()"
   ]
  },
  {
   "cell_type": "code",
   "execution_count": 3,
   "metadata": {},
   "outputs": [
    {
     "data": {
      "text/plain": [
       "Index(['Unnamed: 0', 'WES_HOSPID', 'FINAL_STATE', 'FINAL_BEDSIZE',\n",
       "       'FINAL_OWNERSHIP', 'FINAL_TEACHING', 'FINAL_REGION', 'AGE', 'Q01_06',\n",
       "       'Q02_06', 'Q03_06', 'Q04_06', 'Q05_06', 'Q06_06', 'Q07_06', 'Q08_06',\n",
       "       'Q09_06', 'Q10_06', 'Q11_06', 'Q12_06', 'Q13_06', 'Q14_06', 'Q15_06',\n",
       "       'Q16_06', 'Q17_06', 'Q18_06', 'Q19_06', 'Q20_06', 'Q21_06', 'Q22_06',\n",
       "       'Q23_06', 'Q24_06', 'Q25_06', 'Q26A_06', 'Q26B_06', 'Q26C_06',\n",
       "       'Q26D_06', 'Q26E_06', 'Q27_06', 'RECORDID', 'RACE', 'FINAL_MODE', 'SEX',\n",
       "       'CRITICAL_HOSPITAL', 'ADMISSIONSOURCE', 'PRINCIPALREASONADMISSION',\n",
       "       'PATIENTDISCHARGEDATE', 'SURVLANG', 'Season', 'Year', 'Q01_1', 'Q02_1',\n",
       "       'Q03_1', 'Q05_1', 'Q06_1', 'Q07_1', 'Q08_1', 'Q09_1', 'AGE_1.0',\n",
       "       'AGE_2.0', 'AGE_3.0', 'AGE_4.0', 'AGE_5.0', 'AGE_6.0', 'AGE_7.0',\n",
       "       'AGE_8.0', 'AGE_9.0', 'AGE_10.0', 'AGE_11.0', 'AGE_12.0', 'AGE_13.0',\n",
       "       'AGE_14.0', 'RACE_1.0', 'RACE_2.0', 'RACE_3.0', 'RACE_4.0', 'SEX_1.0',\n",
       "       'CRITICAL_HOSPITAL_N', 'ADMISSIONSOURCE_1', 'ADMISSIONSOURCE_2',\n",
       "       'ADMISSIONSOURCE_3', 'ADMISSIONSOURCE_4', 'ADMISSIONSOURCE_5',\n",
       "       'ADMISSIONSOURCE_6', 'ADMISSIONSOURCE_7', 'ADMISSIONSOURCE_8',\n",
       "       'ADMISSIONSOURCE_9', 'PRINCIPALREASONADMISSION_1.0',\n",
       "       'PRINCIPALREASONADMISSION_2.0', 'FINAL_MODE_1', 'SURVLANG_1',\n",
       "       'SURVLANG_3', 'FINAL_STATE_Midwest_Region',\n",
       "       'FINAL_STATE_Northeast_Region', 'FINAL_STATE_South_Region',\n",
       "       'Season_Fall', 'Season_Spring', 'Season_Summer', 'Year_2005'],\n",
       "      dtype='object')"
      ]
     },
     "execution_count": 3,
     "metadata": {},
     "output_type": "execute_result"
    }
   ],
   "source": [
    "normalized_df.columns"
   ]
  },
  {
   "cell_type": "markdown",
   "metadata": {},
   "source": [
    "## Exploring the Outcome"
   ]
  },
  {
   "cell_type": "code",
   "execution_count": 4,
   "metadata": {},
   "outputs": [
    {
     "data": {
      "text/plain": [
       "1    144869\n",
       "0     45821\n",
       "Name: Q01_1, dtype: int64"
      ]
     },
     "execution_count": 4,
     "metadata": {},
     "output_type": "execute_result"
    }
   ],
   "source": [
    "normalized_df['Q01_1'].value_counts()"
   ]
  },
  {
   "cell_type": "code",
   "execution_count": 5,
   "metadata": {},
   "outputs": [
    {
     "data": {
      "text/plain": [
       "1    75.970948\n",
       "0    24.029052\n",
       "Name: Q01_1, dtype: float64"
      ]
     },
     "execution_count": 5,
     "metadata": {},
     "output_type": "execute_result"
    }
   ],
   "source": [
    "normalized_df['Q01_1'].value_counts(normalize=True)*100"
   ]
  },
  {
   "cell_type": "code",
   "execution_count": 6,
   "metadata": {},
   "outputs": [
    {
     "data": {
      "image/png": "[encoded data removed]",
      "text/plain": [
       "<Figure size 432x288 with 1 Axes>"
      ]
     },
     "metadata": {
      "needs_background": "light"
     },
     "output_type": "display_data"
    }
   ],
   "source": [
    "normalized_df['Q01_1'].value_counts(normalize=True).plot(kind='bar');"
   ]
  },
  {
   "cell_type": "markdown",
   "metadata": {},
   "source": [
    "Due to the 76:24 split, this indicates that the dataset is unbalanced. Logistic regression and decision trees have bias towards classes with a high number of instances and tend to predict the majority class and overfit the model. Therefore, it may be a high probability of misclassification for the minority group. However, I will test this assumption by building a Logistic Regression and Decision Tree model."
   ]
  },
  {
   "cell_type": "markdown",
   "metadata": {},
   "source": [
    "## Logistic Regression Model - using Train, Test, Split"
   ]
  },
  {
   "cell_type": "code",
   "execution_count": 7,
   "metadata": {},
   "outputs": [],
   "source": [
    "X = normalized_df[['Q02_1', 'Q03_1','Season_Spring', 'Season_Summer','SEX_1.0',\n",
    "       'CRITICAL_HOSPITAL_N','ADMISSIONSOURCE_1']]\n",
    "y = normalized_df['Q01_1']"
   ]
  },
  {
   "cell_type": "code",
   "execution_count": 8,
   "metadata": {},
   "outputs": [],
   "source": [
    "X_train, X_test, y_train, y_test = train_test_split(X,y, test_size = .3, random_state = 1)"
   ]
  },
  {
   "cell_type": "code",
   "execution_count": 9,
   "metadata": {},
   "outputs": [],
   "source": [
    "model1 = LogisticRegression()"
   ]
  },
  {
   "cell_type": "code",
   "execution_count": 10,
   "metadata": {},
   "outputs": [
    {
     "data": {
      "text/plain": [
       "LogisticRegression()"
      ]
     },
     "execution_count": 10,
     "metadata": {},
     "output_type": "execute_result"
    }
   ],
   "source": [
    "model1.fit(X_train, y_train)"
   ]
  },
  {
   "cell_type": "markdown",
   "metadata": {},
   "source": [
    "### Model Predictions"
   ]
  },
  {
   "cell_type": "code",
   "execution_count": 11,
   "metadata": {},
   "outputs": [
    {
     "data": {
      "text/plain": [
       "array([1, 1, 1, ..., 1, 1, 1], dtype=int64)"
      ]
     },
     "execution_count": 11,
     "metadata": {},
     "output_type": "execute_result"
    }
   ],
   "source": [
    "y_pred = model1.predict(X_test)\n",
    "y_pred"
   ]
  },
  {
   "cell_type": "markdown",
   "metadata": {},
   "source": [
    "I'm only seeing predictions of top box ratings."
   ]
  },
  {
   "cell_type": "markdown",
   "metadata": {},
   "source": [
    "### Model Evaluation Metrics"
   ]
  },
  {
   "cell_type": "markdown",
   "metadata": {},
   "source": [
    "#### Accuracy Score"
   ]
  },
  {
   "cell_type": "code",
   "execution_count": 12,
   "metadata": {},
   "outputs": [
    {
     "data": {
      "text/plain": [
       "84.70991312251998"
      ]
     },
     "execution_count": 12,
     "metadata": {},
     "output_type": "execute_result"
    }
   ],
   "source": [
    "metrics.accuracy_score(y_test, y_pred)*100"
   ]
  },
  {
   "cell_type": "markdown",
   "metadata": {},
   "source": [
    "#### Confusion Matrix"
   ]
  },
  {
   "cell_type": "code",
   "execution_count": 13,
   "metadata": {},
   "outputs": [],
   "source": [
    "tn, fp, fn, tp = confusion_matrix(y_test, y_pred).ravel()"
   ]
  },
  {
   "cell_type": "code",
   "execution_count": 14,
   "metadata": {},
   "outputs": [
    {
     "name": "stdout",
     "output_type": "stream",
     "text": [
      "Correctly Identified\n",
      "true negatives: 9749\n",
      "true positives 38711\n",
      "----------------------------\n",
      "Missclassified\n",
      "false positives 4056\n",
      "false negtives 4691\n"
     ]
    }
   ],
   "source": [
    "print(\"Correctly Identified\")\n",
    "print(\"true negatives:\", tn)\n",
    "print(\"true positives\", tp)\n",
    "print(\"----------------------------\")\n",
    "print(\"Missclassified\")\n",
    "print(\"false positives\", fp)\n",
    "print(\"false negtives\", fn)"
   ]
  },
  {
   "cell_type": "markdown",
   "metadata": {},
   "source": [
    "#### ROC AUC Curve"
   ]
  },
  {
   "cell_type": "code",
   "execution_count": 15,
   "metadata": {},
   "outputs": [
    {
     "name": "stdout",
     "output_type": "stream",
     "text": [
      "0.7990554156728316\n"
     ]
    }
   ],
   "source": [
    "print(roc_auc_score(y_test, y_pred))"
   ]
  },
  {
   "cell_type": "markdown",
   "metadata": {},
   "source": [
    "As expected, there is a high number of misclassifications. I will run a new model using KFolds to try to reduce the number of misclassifications and increase the AUC."
   ]
  },
  {
   "cell_type": "markdown",
   "metadata": {},
   "source": [
    "## Logistic Regression Model using - KFold Cross Validation\n",
    "I will use kfolds and cross validation to ensure that every observation from the original dataset has a chance of appearing in the training and testing dataset, to try and create a less bias model."
   ]
  },
  {
   "cell_type": "code",
   "execution_count": 16,
   "metadata": {},
   "outputs": [],
   "source": [
    "k = 10\n",
    "kf = KFold(n_splits = k, random_state = 1, shuffle = True)"
   ]
  },
  {
   "cell_type": "code",
   "execution_count": 17,
   "metadata": {},
   "outputs": [],
   "source": [
    "auc_values = []\n",
    "\n",
    "for train_index, test_index in kf.split(X,y):\n",
    "    model2 = LogisticRegression().fit(X.iloc[train_index], y.iloc[train_index])\n",
    "    auc_values.append(roc_auc_score(y.iloc[test_index], model2.predict_proba(X.iloc[test_index])[:, 1]))"
   ]
  },
  {
   "cell_type": "markdown",
   "metadata": {},
   "source": [
    "### Model Evaluation Metrics"
   ]
  },
  {
   "cell_type": "code",
   "execution_count": 18,
   "metadata": {},
   "outputs": [],
   "source": [
    "from sklearn.model_selection import cross_val_score"
   ]
  },
  {
   "cell_type": "code",
   "execution_count": 19,
   "metadata": {},
   "outputs": [
    {
     "name": "stdout",
     "output_type": "stream",
     "text": [
      "CV AUC [0.87385767 0.86942257 0.87552749 0.87423965 0.87416394 0.87471694\n",
      " 0.86882208 0.87432022 0.87568799 0.87586289], \\ nAverage AUC 0.8736621443814789\n"
     ]
    }
   ],
   "source": [
    "scores = cross_val_score(model2, X, y, cv=kf, scoring='roc_auc')\n",
    "print('CV AUC {}, \\ nAverage AUC {}'.format(scores, scores.mean()))"
   ]
  },
  {
   "cell_type": "markdown",
   "metadata": {},
   "source": [
    "KFolds increased the model performance from .79 to .87 using the same variables, so this is an improvement. I will see if cross validation will improve the model even more before adjusting the variables."
   ]
  },
  {
   "cell_type": "markdown",
   "metadata": {},
   "source": [
    "## Logistic Regression Model  - using Cross Validation\n",
    "Cross Validation will give the model an opportunity to train on multiple train, test, splits, which will give a better indication of model performance."
   ]
  },
  {
   "cell_type": "code",
   "execution_count": 20,
   "metadata": {},
   "outputs": [],
   "source": [
    "normalized_df['intercept'] = 1.0\n",
    "X = normalized_df[['Q02_1', 'Q03_1','Season_Spring', 'Season_Summer','SEX_1.0',\n",
    "       'CRITICAL_HOSPITAL_N','ADMISSIONSOURCE_1']]\n",
    "y = normalized_df['Q01_1']"
   ]
  },
  {
   "cell_type": "code",
   "execution_count": 21,
   "metadata": {},
   "outputs": [],
   "source": [
    "model3 = LogisticRegression()"
   ]
  },
  {
   "cell_type": "code",
   "execution_count": 22,
   "metadata": {},
   "outputs": [
    {
     "data": {
      "text/plain": [
       "LogisticRegression()"
      ]
     },
     "execution_count": 22,
     "metadata": {},
     "output_type": "execute_result"
    }
   ],
   "source": [
    "model3.fit(X,y)"
   ]
  },
  {
   "cell_type": "markdown",
   "metadata": {},
   "source": [
    "### Model Evaluation Metrics"
   ]
  },
  {
   "cell_type": "code",
   "execution_count": 23,
   "metadata": {},
   "outputs": [
    {
     "name": "stdout",
     "output_type": "stream",
     "text": [
      "CV AUC [0.87414423 0.85742925 0.86934683 0.85474055 0.8856827  0.86967419\n",
      " 0.87762896 0.87318038 0.87315953 0.86815744], \\ nAverage AUC 0.8703144075749014\n"
     ]
    }
   ],
   "source": [
    "scores = cross_val_score(model3, X, y, cv=10, scoring='roc_auc')\n",
    "print('CV AUC {}, \\ nAverage AUC {}'.format(scores, scores.mean()))"
   ]
  },
  {
   "cell_type": "code",
   "execution_count": 24,
   "metadata": {},
   "outputs": [],
   "source": [
    "from sklearn.model_selection import cross_val_predict"
   ]
  },
  {
   "cell_type": "code",
   "execution_count": 25,
   "metadata": {},
   "outputs": [
    {
     "data": {
      "text/plain": [
       "array([[ 32411,  13410],\n",
       "       [ 15254, 129615]], dtype=int64)"
      ]
     },
     "execution_count": 25,
     "metadata": {},
     "output_type": "execute_result"
    }
   ],
   "source": [
    "y_pred = cross_val_predict(model3, X, y, cv=10)\n",
    "confusion_matrix(y, y_pred)"
   ]
  },
  {
   "cell_type": "markdown",
   "metadata": {},
   "source": [
    "Cross Validation slightly reduced the model performance, adding more misclassifications to the model. Due to the assumption of an unbalanced dataset, I will undersample the data to see if this helps the model performance."
   ]
  },
  {
   "cell_type": "markdown",
   "metadata": {},
   "source": [
    "## Undersample\n",
    "This method will be used to randomly remove samples from the majority class to prevent it from dominating the algorithm."
   ]
  },
  {
   "cell_type": "code",
   "execution_count": 26,
   "metadata": {},
   "outputs": [
    {
     "data": {
      "text/plain": [
       "1    144869\n",
       "0     45821\n",
       "Name: Q01_1, dtype: int64"
      ]
     },
     "execution_count": 26,
     "metadata": {},
     "output_type": "execute_result"
    }
   ],
   "source": [
    "normalized_df['Q01_1'].value_counts()"
   ]
  },
  {
   "cell_type": "markdown",
   "metadata": {},
   "source": [
    "#### Put the lower ratings in a separate dataset"
   ]
  },
  {
   "cell_type": "code",
   "execution_count": 27,
   "metadata": {},
   "outputs": [],
   "source": [
    "df_class_0 = normalized_df[normalized_df['Q01_1'] == 0]"
   ]
  },
  {
   "cell_type": "markdown",
   "metadata": {},
   "source": [
    "#### Put the high ratings in a separate dataset"
   ]
  },
  {
   "cell_type": "code",
   "execution_count": 28,
   "metadata": {},
   "outputs": [],
   "source": [
    "df_class_1 = normalized_df[normalized_df['Q01_1'] == 1]"
   ]
  },
  {
   "cell_type": "markdown",
   "metadata": {},
   "source": [
    "#### Undersample class 1\n",
    "Set the number of samples to match the minority class"
   ]
  },
  {
   "cell_type": "code",
   "execution_count": 29,
   "metadata": {},
   "outputs": [],
   "source": [
    "df_class_1_undersample = df_class_1[df_class_1['Q01_1'] == 1].sample(n=45821, random_state=1, replace=False)"
   ]
  },
  {
   "cell_type": "markdown",
   "metadata": {},
   "source": [
    "#### Concatenate both of the dataframes"
   ]
  },
  {
   "cell_type": "code",
   "execution_count": 30,
   "metadata": {},
   "outputs": [],
   "source": [
    "balanced_df = pd.concat([df_class_1_undersample, df_class_0], axis = 0)"
   ]
  },
  {
   "cell_type": "markdown",
   "metadata": {},
   "source": [
    "#### Check that the data is balanced"
   ]
  },
  {
   "cell_type": "code",
   "execution_count": 31,
   "metadata": {},
   "outputs": [
    {
     "data": {
      "text/plain": [
       "1    45821\n",
       "0    45821\n",
       "Name: Q01_1, dtype: int64"
      ]
     },
     "execution_count": 31,
     "metadata": {},
     "output_type": "execute_result"
    }
   ],
   "source": [
    "balanced_df['Q01_1'].value_counts()"
   ]
  },
  {
   "cell_type": "code",
   "execution_count": 32,
   "metadata": {},
   "outputs": [
    {
     "data": {
      "image/png": "[encoded data removed]",
      "text/plain": [
       "<Figure size 432x288 with 1 Axes>"
      ]
     },
     "metadata": {
      "needs_background": "light"
     },
     "output_type": "display_data"
    }
   ],
   "source": [
    "balanced_df['Q01_1'].value_counts().plot(kind='bar');"
   ]
  },
  {
   "cell_type": "markdown",
   "metadata": {},
   "source": [
    "### Train, Test, Split"
   ]
  },
  {
   "cell_type": "code",
   "execution_count": 33,
   "metadata": {},
   "outputs": [
    {
     "data": {
      "text/plain": [
       "Index(['Unnamed: 0', 'WES_HOSPID', 'FINAL_STATE', 'FINAL_BEDSIZE',\n",
       "       'FINAL_OWNERSHIP', 'FINAL_TEACHING', 'FINAL_REGION', 'AGE', 'Q01_06',\n",
       "       'Q02_06', 'Q03_06', 'Q04_06', 'Q05_06', 'Q06_06', 'Q07_06', 'Q08_06',\n",
       "       'Q09_06', 'Q10_06', 'Q11_06', 'Q12_06', 'Q13_06', 'Q14_06', 'Q15_06',\n",
       "       'Q16_06', 'Q17_06', 'Q18_06', 'Q19_06', 'Q20_06', 'Q21_06', 'Q22_06',\n",
       "       'Q23_06', 'Q24_06', 'Q25_06', 'Q26A_06', 'Q26B_06', 'Q26C_06',\n",
       "       'Q26D_06', 'Q26E_06', 'Q27_06', 'RECORDID', 'RACE', 'FINAL_MODE', 'SEX',\n",
       "       'CRITICAL_HOSPITAL', 'ADMISSIONSOURCE', 'PRINCIPALREASONADMISSION',\n",
       "       'PATIENTDISCHARGEDATE', 'SURVLANG', 'Season', 'Year', 'Q01_1', 'Q02_1',\n",
       "       'Q03_1', 'Q05_1', 'Q06_1', 'Q07_1', 'Q08_1', 'Q09_1', 'AGE_1.0',\n",
       "       'AGE_2.0', 'AGE_3.0', 'AGE_4.0', 'AGE_5.0', 'AGE_6.0', 'AGE_7.0',\n",
       "       'AGE_8.0', 'AGE_9.0', 'AGE_10.0', 'AGE_11.0', 'AGE_12.0', 'AGE_13.0',\n",
       "       'AGE_14.0', 'RACE_1.0', 'RACE_2.0', 'RACE_3.0', 'RACE_4.0', 'SEX_1.0',\n",
       "       'CRITICAL_HOSPITAL_N', 'ADMISSIONSOURCE_1', 'ADMISSIONSOURCE_2',\n",
       "       'ADMISSIONSOURCE_3', 'ADMISSIONSOURCE_4', 'ADMISSIONSOURCE_5',\n",
       "       'ADMISSIONSOURCE_6', 'ADMISSIONSOURCE_7', 'ADMISSIONSOURCE_8',\n",
       "       'ADMISSIONSOURCE_9', 'PRINCIPALREASONADMISSION_1.0',\n",
       "       'PRINCIPALREASONADMISSION_2.0', 'FINAL_MODE_1', 'SURVLANG_1',\n",
       "       'SURVLANG_3', 'FINAL_STATE_Midwest_Region',\n",
       "       'FINAL_STATE_Northeast_Region', 'FINAL_STATE_South_Region',\n",
       "       'Season_Fall', 'Season_Spring', 'Season_Summer', 'Year_2005',\n",
       "       'intercept'],\n",
       "      dtype='object')"
      ]
     },
     "execution_count": 33,
     "metadata": {},
     "output_type": "execute_result"
    }
   ],
   "source": [
    "balanced_df.columns"
   ]
  },
  {
   "cell_type": "code",
   "execution_count": 34,
   "metadata": {},
   "outputs": [],
   "source": [
    "features = ['Q02_1', 'Q03_1','Season_Spring', 'Season_Summer', 'Season_Fall','SEX_1.0',\n",
    "       'CRITICAL_HOSPITAL_N','ADMISSIONSOURCE_1','ADMISSIONSOURCE_2',\n",
    "       'ADMISSIONSOURCE_3', 'ADMISSIONSOURCE_4', 'ADMISSIONSOURCE_5',\n",
    "       'ADMISSIONSOURCE_6', 'ADMISSIONSOURCE_7', 'ADMISSIONSOURCE_8',\n",
    "       'ADMISSIONSOURCE_9']\n",
    "X = balanced_df[features]\n",
    "y = balanced_df['Q01_1']"
   ]
  },
  {
   "cell_type": "code",
   "execution_count": 35,
   "metadata": {},
   "outputs": [],
   "source": [
    "X_train, X_test, y_train, y_test = train_test_split(X,y, test_size = .3, random_state = 1)"
   ]
  },
  {
   "cell_type": "markdown",
   "metadata": {},
   "source": [
    "## Decision Tree"
   ]
  },
  {
   "cell_type": "code",
   "execution_count": 36,
   "metadata": {},
   "outputs": [],
   "source": [
    "from sklearn import tree\n",
    "from sklearn.tree import DecisionTreeClassifier"
   ]
  },
  {
   "cell_type": "code",
   "execution_count": 37,
   "metadata": {},
   "outputs": [],
   "source": [
    "treeclf = DecisionTreeClassifier(max_depth = 5, random_state = 1)"
   ]
  },
  {
   "cell_type": "code",
   "execution_count": 38,
   "metadata": {},
   "outputs": [
    {
     "data": {
      "text/plain": [
       "DecisionTreeClassifier(max_depth=5, random_state=1)"
      ]
     },
     "execution_count": 38,
     "metadata": {},
     "output_type": "execute_result"
    }
   ],
   "source": [
    "treeclf.fit(X_train,y_train)"
   ]
  },
  {
   "cell_type": "code",
   "execution_count": 39,
   "metadata": {},
   "outputs": [
    {
     "data": {
      "text/plain": [
       "[Text(390.6, 498.3, 'Q02_1 <= 0.5\\ngini = 0.5\\nsamples = 64149\\nvalue = [32164, 31985]'),\n",
       " Text(195.3, 407.70000000000005, 'Q03_1 <= 0.5\\ngini = 0.306\\nsamples = 34198\\nvalue = [27753, 6445]'),\n",
       " Text(97.65, 317.1, 'SEX_1.0 <= 0.5\\ngini = 0.222\\nsamples = 26102\\nvalue = [22789, 3313]'),\n",
       " Text(48.825, 226.5, 'CRITICAL_HOSPITAL_N <= 0.5\\ngini = 0.211\\nsamples = 16863\\nvalue = [14839, 2024]'),\n",
       " Text(24.4125, 135.89999999999998, 'ADMISSIONSOURCE_6 <= 0.5\\ngini = 0.305\\nsamples = 277\\nvalue = [225, 52]'),\n",
       " Text(12.20625, 45.299999999999955, 'gini = 0.301\\nsamples = 276\\nvalue = [225, 51]'),\n",
       " Text(36.618750000000006, 45.299999999999955, 'gini = 0.0\\nsamples = 1\\nvalue = [0, 1]'),\n",
       " Text(73.23750000000001, 135.89999999999998, 'Season_Spring <= 0.5\\ngini = 0.21\\nsamples = 16586\\nvalue = [14614, 1972]'),\n",
       " Text(61.03125, 45.299999999999955, 'gini = 0.213\\nsamples = 12399\\nvalue = [10893, 1506]'),\n",
       " Text(85.44375000000001, 45.299999999999955, 'gini = 0.198\\nsamples = 4187\\nvalue = [3721, 466]'),\n",
       " Text(146.47500000000002, 226.5, 'ADMISSIONSOURCE_4 <= 0.5\\ngini = 0.24\\nsamples = 9239\\nvalue = [7950, 1289]'),\n",
       " Text(122.0625, 135.89999999999998, 'ADMISSIONSOURCE_8 <= 0.5\\ngini = 0.239\\nsamples = 9043\\nvalue = [7786, 1257]'),\n",
       " Text(109.85625, 45.299999999999955, 'gini = 0.239\\nsamples = 9038\\nvalue = [7781, 1257]'),\n",
       " Text(134.26875, 45.299999999999955, 'gini = 0.0\\nsamples = 5\\nvalue = [5, 0]'),\n",
       " Text(170.88750000000002, 135.89999999999998, 'CRITICAL_HOSPITAL_N <= 0.5\\ngini = 0.273\\nsamples = 196\\nvalue = [164, 32]'),\n",
       " Text(158.68125, 45.299999999999955, 'gini = 0.0\\nsamples = 1\\nvalue = [0, 1]'),\n",
       " Text(183.09375, 45.299999999999955, 'gini = 0.267\\nsamples = 195\\nvalue = [164, 31]'),\n",
       " Text(292.95000000000005, 317.1, 'SEX_1.0 <= 0.5\\ngini = 0.474\\nsamples = 8096\\nvalue = [4964, 3132]'),\n",
       " Text(244.125, 226.5, 'CRITICAL_HOSPITAL_N <= 0.5\\ngini = 0.467\\nsamples = 5578\\nvalue = [3507, 2071]'),\n",
       " Text(219.7125, 135.89999999999998, 'ADMISSIONSOURCE_1 <= 0.5\\ngini = 0.5\\nsamples = 136\\nvalue = [69, 67]'),\n",
       " Text(207.50625000000002, 45.299999999999955, 'gini = 0.492\\nsamples = 78\\nvalue = [44, 34]'),\n",
       " Text(231.91875000000002, 45.299999999999955, 'gini = 0.49\\nsamples = 58\\nvalue = [25, 33]'),\n",
       " Text(268.5375, 135.89999999999998, 'ADMISSIONSOURCE_7 <= 0.5\\ngini = 0.465\\nsamples = 5442\\nvalue = [3438, 2004]'),\n",
       " Text(256.33125, 45.299999999999955, 'gini = 0.461\\nsamples = 4198\\nvalue = [2684, 1514]'),\n",
       " Text(280.74375000000003, 45.299999999999955, 'gini = 0.477\\nsamples = 1244\\nvalue = [754, 490]'),\n",
       " Text(341.77500000000003, 226.5, 'CRITICAL_HOSPITAL_N <= 0.5\\ngini = 0.488\\nsamples = 2518\\nvalue = [1457, 1061]'),\n",
       " Text(317.3625, 135.89999999999998, 'Season_Summer <= 0.5\\ngini = 0.46\\nsamples = 39\\nvalue = [14, 25]'),\n",
       " Text(305.15625, 45.299999999999955, 'gini = 0.363\\nsamples = 21\\nvalue = [5, 16]'),\n",
       " Text(329.56875, 45.299999999999955, 'gini = 0.5\\nsamples = 18\\nvalue = [9, 9]'),\n",
       " Text(366.1875, 135.89999999999998, 'ADMISSIONSOURCE_2 <= 0.5\\ngini = 0.487\\nsamples = 2479\\nvalue = [1443, 1036]'),\n",
       " Text(353.98125000000005, 45.299999999999955, 'gini = 0.488\\nsamples = 2402\\nvalue = [1390, 1012]'),\n",
       " Text(378.39375, 45.299999999999955, 'gini = 0.429\\nsamples = 77\\nvalue = [53, 24]'),\n",
       " Text(585.9000000000001, 407.70000000000005, 'Q03_1 <= 0.5\\ngini = 0.251\\nsamples = 29951\\nvalue = [4411, 25540]'),\n",
       " Text(488.25, 317.1, 'ADMISSIONSOURCE_9 <= 0.5\\ngini = 0.431\\nsamples = 5683\\nvalue = [1785, 3898]'),\n",
       " Text(439.425, 226.5, 'ADMISSIONSOURCE_3 <= 0.5\\ngini = 0.422\\nsamples = 4018\\nvalue = [1218, 2800]'),\n",
       " Text(415.01250000000005, 135.89999999999998, 'ADMISSIONSOURCE_2 <= 0.5\\ngini = 0.422\\nsamples = 4002\\nvalue = [1209, 2793]'),\n",
       " Text(402.80625000000003, 45.299999999999955, 'gini = 0.42\\nsamples = 3883\\nvalue = [1165, 2718]'),\n",
       " Text(427.21875, 45.299999999999955, 'gini = 0.466\\nsamples = 119\\nvalue = [44, 75]'),\n",
       " Text(463.83750000000003, 135.89999999999998, 'Season_Spring <= 0.5\\ngini = 0.492\\nsamples = 16\\nvalue = [9, 7]'),\n",
       " Text(451.63125, 45.299999999999955, 'gini = 0.5\\nsamples = 14\\nvalue = [7, 7]'),\n",
       " Text(476.04375000000005, 45.299999999999955, 'gini = 0.0\\nsamples = 2\\nvalue = [2, 0]'),\n",
       " Text(537.075, 226.5, 'Season_Summer <= 0.5\\ngini = 0.449\\nsamples = 1665\\nvalue = [567, 1098]'),\n",
       " Text(512.6625, 135.89999999999998, 'Season_Spring <= 0.5\\ngini = 0.437\\nsamples = 1117\\nvalue = [361, 756]'),\n",
       " Text(500.45625, 45.299999999999955, 'gini = 0.426\\nsamples = 762\\nvalue = [234, 528]'),\n",
       " Text(524.86875, 45.299999999999955, 'gini = 0.46\\nsamples = 355\\nvalue = [127, 228]'),\n",
       " Text(561.4875000000001, 135.89999999999998, 'CRITICAL_HOSPITAL_N <= 0.5\\ngini = 0.469\\nsamples = 548\\nvalue = [206, 342]'),\n",
       " Text(549.28125, 45.299999999999955, 'gini = 0.165\\nsamples = 11\\nvalue = [1, 10]'),\n",
       " Text(573.69375, 45.299999999999955, 'gini = 0.472\\nsamples = 537\\nvalue = [205, 332]'),\n",
       " Text(683.5500000000001, 317.1, 'SEX_1.0 <= 0.5\\ngini = 0.193\\nsamples = 24268\\nvalue = [2626, 21642]'),\n",
       " Text(634.725, 226.5, 'ADMISSIONSOURCE_9 <= 0.5\\ngini = 0.204\\nsamples = 16003\\nvalue = [1844, 14159]'),\n",
       " Text(610.3125, 135.89999999999998, 'ADMISSIONSOURCE_7 <= 0.5\\ngini = 0.197\\nsamples = 10935\\nvalue = [1209, 9726]'),\n",
       " Text(598.10625, 45.299999999999955, 'gini = 0.202\\nsamples = 7431\\nvalue = [848, 6583]'),\n",
       " Text(622.5187500000001, 45.299999999999955, 'gini = 0.185\\nsamples = 3504\\nvalue = [361, 3143]'),\n",
       " Text(659.1375, 135.89999999999998, 'CRITICAL_HOSPITAL_N <= 0.5\\ngini = 0.219\\nsamples = 5068\\nvalue = [635, 4433]'),\n",
       " Text(646.9312500000001, 45.299999999999955, 'gini = 0.102\\nsamples = 74\\nvalue = [4, 70]'),\n",
       " Text(671.34375, 45.299999999999955, 'gini = 0.221\\nsamples = 4994\\nvalue = [631, 4363]'),\n",
       " Text(732.375, 226.5, 'ADMISSIONSOURCE_2 <= 0.5\\ngini = 0.171\\nsamples = 8265\\nvalue = [782, 7483]'),\n",
       " Text(707.9625000000001, 135.89999999999998, 'ADMISSIONSOURCE_8 <= 0.5\\ngini = 0.169\\nsamples = 8111\\nvalue = [756, 7355]'),\n",
       " Text(695.75625, 45.299999999999955, 'gini = 0.169\\nsamples = 8105\\nvalue = [754, 7351]'),\n",
       " Text(720.16875, 45.299999999999955, 'gini = 0.444\\nsamples = 6\\nvalue = [2, 4]'),\n",
       " Text(756.7875, 135.89999999999998, 'Season_Fall <= 0.5\\ngini = 0.281\\nsamples = 154\\nvalue = [26, 128]'),\n",
       " Text(744.5812500000001, 45.299999999999955, 'gini = 0.237\\nsamples = 124\\nvalue = [17, 107]'),\n",
       " Text(768.9937500000001, 45.299999999999955, 'gini = 0.42\\nsamples = 30\\nvalue = [9, 21]')]"
      ]
     },
     "execution_count": 39,
     "metadata": {},
     "output_type": "execute_result"
    },
    {
     "data": {
      "image/png": "[encoded data removed]",
      "text/plain": [
       "<Figure size 1008x720 with 1 Axes>"
      ]
     },
     "metadata": {
      "needs_background": "light"
     },
     "output_type": "display_data"
    }
   ],
   "source": [
    "plt.figure(figsize = (14,10))\n",
    "tree.plot_tree(treeclf, feature_names = X.columns, filled=True)"
   ]
  },
  {
   "cell_type": "markdown",
   "metadata": {},
   "source": [
    "### Model Predictions"
   ]
  },
  {
   "cell_type": "code",
   "execution_count": 40,
   "metadata": {},
   "outputs": [
    {
     "data": {
      "text/plain": [
       "array([0, 1, 1, ..., 0, 0, 1], dtype=int64)"
      ]
     },
     "execution_count": 40,
     "metadata": {},
     "output_type": "execute_result"
    }
   ],
   "source": [
    "y_pred = treeclf.predict(X_test)\n",
    "y_pred"
   ]
  },
  {
   "cell_type": "markdown",
   "metadata": {},
   "source": [
    "### Model Evaluation Metrics"
   ]
  },
  {
   "cell_type": "markdown",
   "metadata": {},
   "source": [
    "#### Accuracy Score"
   ]
  },
  {
   "cell_type": "code",
   "execution_count": 41,
   "metadata": {
    "scrolled": true
   },
   "outputs": [
    {
     "data": {
      "text/plain": [
       "0.8257738333393955"
      ]
     },
     "execution_count": 41,
     "metadata": {},
     "output_type": "execute_result"
    }
   ],
   "source": [
    "accuracy_score(y_test, y_pred)"
   ]
  },
  {
   "cell_type": "markdown",
   "metadata": {},
   "source": [
    "#### Confusion Matrix"
   ]
  },
  {
   "cell_type": "code",
   "execution_count": 42,
   "metadata": {},
   "outputs": [],
   "source": [
    "tn, fp, fn, tp = confusion_matrix(y_test, y_pred).ravel()"
   ]
  },
  {
   "cell_type": "code",
   "execution_count": 43,
   "metadata": {},
   "outputs": [
    {
     "name": "stdout",
     "output_type": "stream",
     "text": [
      "Got them right\n",
      "true negatives: 11681\n",
      "true positives 11022\n",
      "----------------------------\n",
      "Missclassified\n",
      "false positives 1976\n",
      "false negtives 2814\n"
     ]
    }
   ],
   "source": [
    "print(\"Got them right\")\n",
    "print(\"true negatives:\", tn)\n",
    "print(\"true positives\", tp)\n",
    "print(\"----------------------------\")\n",
    "print(\"Missclassified\")\n",
    "print(\"false positives\", fp)\n",
    "print(\"false negtives\", fn)"
   ]
  },
  {
   "cell_type": "markdown",
   "metadata": {},
   "source": [
    "#### ROC AUC Curve"
   ]
  },
  {
   "cell_type": "code",
   "execution_count": 44,
   "metadata": {},
   "outputs": [
    {
     "name": "stdout",
     "output_type": "stream",
     "text": [
      "0.871\n"
     ]
    }
   ],
   "source": [
    "print(roc_auc_score(y_test, treeclf.predict_proba(X_test)[:,1]).round(3))"
   ]
  },
  {
   "cell_type": "code",
   "execution_count": 45,
   "metadata": {},
   "outputs": [],
   "source": [
    "from sklearn.metrics import plot_roc_curve"
   ]
  },
  {
   "cell_type": "code",
   "execution_count": 46,
   "metadata": {},
   "outputs": [
    {
     "data": {
      "image/png": "[encoded data removed]",
      "text/plain": [
       "<Figure size 432x288 with 1 Axes>"
      ]
     },
     "metadata": {
      "needs_background": "light"
     },
     "output_type": "display_data"
    }
   ],
   "source": [
    "plot = plot_roc_curve(treeclf, X_test, y_test);\n",
    "plt.show()"
   ]
  },
  {
   "cell_type": "code",
   "execution_count": 47,
   "metadata": {},
   "outputs": [],
   "source": [
    "from sklearn.metrics import roc_curve"
   ]
  },
  {
   "cell_type": "markdown",
   "metadata": {},
   "source": [
    "The ROC Curve is staying fairly stagnant but the number of misclassifications are much lower."
   ]
  },
  {
   "cell_type": "markdown",
   "metadata": {},
   "source": [
    "## Random Forest Model"
   ]
  },
  {
   "cell_type": "code",
   "execution_count": 48,
   "metadata": {
    "scrolled": true
   },
   "outputs": [
    {
     "data": {
      "text/plain": [
       "Index(['Unnamed: 0', 'WES_HOSPID', 'FINAL_STATE', 'FINAL_BEDSIZE',\n",
       "       'FINAL_OWNERSHIP', 'FINAL_TEACHING', 'FINAL_REGION', 'AGE', 'Q01_06',\n",
       "       'Q02_06', 'Q03_06', 'Q04_06', 'Q05_06', 'Q06_06', 'Q07_06', 'Q08_06',\n",
       "       'Q09_06', 'Q10_06', 'Q11_06', 'Q12_06', 'Q13_06', 'Q14_06', 'Q15_06',\n",
       "       'Q16_06', 'Q17_06', 'Q18_06', 'Q19_06', 'Q20_06', 'Q21_06', 'Q22_06',\n",
       "       'Q23_06', 'Q24_06', 'Q25_06', 'Q26A_06', 'Q26B_06', 'Q26C_06',\n",
       "       'Q26D_06', 'Q26E_06', 'Q27_06', 'RECORDID', 'RACE', 'FINAL_MODE', 'SEX',\n",
       "       'CRITICAL_HOSPITAL', 'ADMISSIONSOURCE', 'PRINCIPALREASONADMISSION',\n",
       "       'PATIENTDISCHARGEDATE', 'SURVLANG', 'Season', 'Year', 'Q01_1', 'Q02_1',\n",
       "       'Q03_1', 'Q05_1', 'Q06_1', 'Q07_1', 'Q08_1', 'Q09_1', 'AGE_1.0',\n",
       "       'AGE_2.0', 'AGE_3.0', 'AGE_4.0', 'AGE_5.0', 'AGE_6.0', 'AGE_7.0',\n",
       "       'AGE_8.0', 'AGE_9.0', 'AGE_10.0', 'AGE_11.0', 'AGE_12.0', 'AGE_13.0',\n",
       "       'AGE_14.0', 'RACE_1.0', 'RACE_2.0', 'RACE_3.0', 'RACE_4.0', 'SEX_1.0',\n",
       "       'CRITICAL_HOSPITAL_N', 'ADMISSIONSOURCE_1', 'ADMISSIONSOURCE_2',\n",
       "       'ADMISSIONSOURCE_3', 'ADMISSIONSOURCE_4', 'ADMISSIONSOURCE_5',\n",
       "       'ADMISSIONSOURCE_6', 'ADMISSIONSOURCE_7', 'ADMISSIONSOURCE_8',\n",
       "       'ADMISSIONSOURCE_9', 'PRINCIPALREASONADMISSION_1.0',\n",
       "       'PRINCIPALREASONADMISSION_2.0', 'FINAL_MODE_1', 'SURVLANG_1',\n",
       "       'SURVLANG_3', 'FINAL_STATE_Midwest_Region',\n",
       "       'FINAL_STATE_Northeast_Region', 'FINAL_STATE_South_Region',\n",
       "       'Season_Fall', 'Season_Spring', 'Season_Summer', 'Year_2005',\n",
       "       'intercept'],\n",
       "      dtype='object')"
      ]
     },
     "execution_count": 48,
     "metadata": {},
     "output_type": "execute_result"
    }
   ],
   "source": [
    "balanced_df.columns"
   ]
  },
  {
   "cell_type": "code",
   "execution_count": 49,
   "metadata": {},
   "outputs": [],
   "source": [
    "features = ['Q02_1', 'Q03_1','Q08_1', 'Q09_1', 'AGE_1.0',\n",
    "       'AGE_2.0', 'AGE_3.0', 'AGE_4.0', 'AGE_5.0', 'AGE_6.0', 'AGE_7.0',\n",
    "       'AGE_8.0', 'AGE_9.0', 'AGE_10.0', 'AGE_11.0', 'AGE_12.0', 'AGE_13.0',\n",
    "       'AGE_14.0', 'RACE_1.0', 'RACE_2.0', 'RACE_3.0', 'RACE_4.0', 'SEX_1.0',\n",
    "       'CRITICAL_HOSPITAL_N', 'ADMISSIONSOURCE_1', 'ADMISSIONSOURCE_2',\n",
    "       'ADMISSIONSOURCE_3', 'ADMISSIONSOURCE_4', 'ADMISSIONSOURCE_5',\n",
    "       'ADMISSIONSOURCE_6', 'ADMISSIONSOURCE_7', 'ADMISSIONSOURCE_8',\n",
    "       'ADMISSIONSOURCE_9', 'PRINCIPALREASONADMISSION_1.0',\n",
    "       'PRINCIPALREASONADMISSION_2.0', 'FINAL_MODE_1', 'SURVLANG_1',\n",
    "       'SURVLANG_3', 'FINAL_STATE_Midwest_Region',\n",
    "       'FINAL_STATE_Northeast_Region', 'FINAL_STATE_South_Region',\n",
    "       'Season_Fall', 'Season_Spring', 'Season_Summer', 'Year_2005']\n",
    "X = balanced_df[features]\n",
    "y = balanced_df['Q01_1']"
   ]
  },
  {
   "cell_type": "code",
   "execution_count": 50,
   "metadata": {},
   "outputs": [],
   "source": [
    "X_train, X_test, y_train, y_test = train_test_split(X,y, test_size = .3, random_state = 1)"
   ]
  },
  {
   "cell_type": "code",
   "execution_count": 51,
   "metadata": {},
   "outputs": [],
   "source": [
    "from sklearn.ensemble import RandomForestClassifier"
   ]
  },
  {
   "cell_type": "code",
   "execution_count": 52,
   "metadata": {},
   "outputs": [],
   "source": [
    "rf = RandomForestClassifier(n_estimators = 4, random_state=1, max_depth = 5, max_features = None, \n",
    "                            min_samples_leaf = 75)"
   ]
  },
  {
   "cell_type": "code",
   "execution_count": 53,
   "metadata": {},
   "outputs": [
    {
     "data": {
      "text/plain": [
       "RandomForestClassifier(max_depth=5, max_features=None, min_samples_leaf=75,\n",
       "                       n_estimators=4, random_state=1)"
      ]
     },
     "execution_count": 53,
     "metadata": {},
     "output_type": "execute_result"
    }
   ],
   "source": [
    "rf.fit(X_train,y_train)"
   ]
  },
  {
   "cell_type": "markdown",
   "metadata": {},
   "source": [
    "### Model Predictions"
   ]
  },
  {
   "cell_type": "code",
   "execution_count": 54,
   "metadata": {},
   "outputs": [
    {
     "data": {
      "text/plain": [
       "array([0, 1, 1, ..., 0, 0, 1], dtype=int64)"
      ]
     },
     "execution_count": 54,
     "metadata": {},
     "output_type": "execute_result"
    }
   ],
   "source": [
    "y_pred = rf.predict(X_test)\n",
    "y_pred"
   ]
  },
  {
   "cell_type": "markdown",
   "metadata": {},
   "source": [
    "### Model Evaluation Metrics"
   ]
  },
  {
   "cell_type": "markdown",
   "metadata": {},
   "source": [
    "#### Accuracy Score"
   ]
  },
  {
   "cell_type": "code",
   "execution_count": 55,
   "metadata": {
    "scrolled": true
   },
   "outputs": [
    {
     "data": {
      "text/plain": [
       "0.82621030807842"
      ]
     },
     "execution_count": 55,
     "metadata": {},
     "output_type": "execute_result"
    }
   ],
   "source": [
    "accuracy_score(y_test, y_pred)"
   ]
  },
  {
   "cell_type": "markdown",
   "metadata": {},
   "source": [
    "#### Confusion Matrix"
   ]
  },
  {
   "cell_type": "code",
   "execution_count": 56,
   "metadata": {},
   "outputs": [],
   "source": [
    "tn, fp, fn, tp = confusion_matrix(y_test, y_pred).ravel()"
   ]
  },
  {
   "cell_type": "code",
   "execution_count": 57,
   "metadata": {},
   "outputs": [
    {
     "name": "stdout",
     "output_type": "stream",
     "text": [
      "Got them right\n",
      "true negatives: 11704\n",
      "true positives 11011\n",
      "----------------------------\n",
      "Missclassified\n",
      "false positives 1953\n",
      "false negtives 2825\n"
     ]
    }
   ],
   "source": [
    "print(\"Got them right\")\n",
    "print(\"true negatives:\", tn)\n",
    "print(\"true positives\", tp)\n",
    "print(\"----------------------------\")\n",
    "print(\"Missclassified\")\n",
    "print(\"false positives\", fp)\n",
    "print(\"false negtives\", fn)"
   ]
  },
  {
   "cell_type": "markdown",
   "metadata": {},
   "source": [
    "#### ROC AUC Curve"
   ]
  },
  {
   "cell_type": "code",
   "execution_count": 58,
   "metadata": {},
   "outputs": [
    {
     "name": "stdout",
     "output_type": "stream",
     "text": [
      "0.888\n"
     ]
    }
   ],
   "source": [
    "print(roc_auc_score(y_test, rf.predict_proba(X_test)[:,1]).round(3))"
   ]
  },
  {
   "cell_type": "code",
   "execution_count": 59,
   "metadata": {},
   "outputs": [
    {
     "data": {
      "image/png": "[encoded data removed]",
      "text/plain": [
       "<Figure size 432x288 with 1 Axes>"
      ]
     },
     "metadata": {
      "needs_background": "light"
     },
     "output_type": "display_data"
    }
   ],
   "source": [
    "plot = plot_roc_curve(rf, X_test, y_test);\n",
    "plt.show()"
   ]
  },
  {
   "cell_type": "markdown",
   "metadata": {},
   "source": [
    "Creating the random forest model showed some improvement, as far as with the ROC AUC. Since, all features were used in this model, I will run a process to choose the best feature variables to see if this helps with the performance."
   ]
  },
  {
   "cell_type": "markdown",
   "metadata": {},
   "source": [
    "#### Features of Importance\n",
    "This method will score the features. The features with the highest scores will help determine features that are the most or least important in the model."
   ]
  },
  {
   "cell_type": "code",
   "execution_count": 60,
   "metadata": {},
   "outputs": [
    {
     "data": {
      "text/plain": [
       "Q02_1                           0.889901\n",
       "Q03_1                           0.079621\n",
       "Q08_1                           0.019286\n",
       "Q09_1                           0.001565\n",
       "AGE_1.0                         0.001298\n",
       "RACE_1.0                        0.001120\n",
       "PRINCIPALREASONADMISSION_1.0    0.001010\n",
       "AGE_3.0                         0.000823\n",
       "SEX_1.0                         0.000725\n",
       "SURVLANG_1                      0.000674\n",
       "AGE_10.0                        0.000539\n",
       "AGE_9.0                         0.000455\n",
       "FINAL_MODE_1                    0.000413\n",
       "AGE_2.0                         0.000396\n",
       "AGE_13.0                        0.000374\n",
       "RACE_3.0                        0.000301\n",
       "Season_Summer                   0.000283\n",
       "ADMISSIONSOURCE_9               0.000237\n",
       "AGE_11.0                        0.000173\n",
       "AGE_14.0                        0.000140\n",
       "FINAL_STATE_Northeast_Region    0.000139\n",
       "AGE_5.0                         0.000106\n",
       "Season_Spring                   0.000105\n",
       "FINAL_STATE_South_Region        0.000101\n",
       "AGE_12.0                        0.000093\n",
       "ADMISSIONSOURCE_1               0.000085\n",
       "PRINCIPALREASONADMISSION_2.0    0.000038\n",
       "AGE_7.0                         0.000000\n",
       "Season_Fall                     0.000000\n",
       "ADMISSIONSOURCE_8               0.000000\n",
       "FINAL_STATE_Midwest_Region      0.000000\n",
       "AGE_4.0                         0.000000\n",
       "AGE_6.0                         0.000000\n",
       "ADMISSIONSOURCE_7               0.000000\n",
       "AGE_8.0                         0.000000\n",
       "CRITICAL_HOSPITAL_N             0.000000\n",
       "ADMISSIONSOURCE_6               0.000000\n",
       "ADMISSIONSOURCE_5               0.000000\n",
       "ADMISSIONSOURCE_4               0.000000\n",
       "SURVLANG_3                      0.000000\n",
       "RACE_2.0                        0.000000\n",
       "ADMISSIONSOURCE_3               0.000000\n",
       "RACE_4.0                        0.000000\n",
       "ADMISSIONSOURCE_2               0.000000\n",
       "Year_2005                       0.000000\n",
       "dtype: float64"
      ]
     },
     "execution_count": 60,
     "metadata": {},
     "output_type": "execute_result"
    }
   ],
   "source": [
    "feature_imp = pd.Series(rf.feature_importances_,index = X.columns).sort_values(ascending=False)\n",
    "feature_imp"
   ]
  },
  {
   "cell_type": "code",
   "execution_count": 61,
   "metadata": {
    "scrolled": true
   },
   "outputs": [
    {
     "data": {
      "image/png": "[encoded data removed]",
      "text/plain": [
       "<Figure size 504x144 with 1 Axes>"
      ]
     },
     "metadata": {
      "needs_background": "light"
     },
     "output_type": "display_data"
    }
   ],
   "source": [
    "plt.figure(figsize=(7,2))\n",
    "feature_imp.nlargest(10).plot(kind = 'bar', color='gray');\n",
    "plt.title('Features of Importance');"
   ]
  },
  {
   "cell_type": "markdown",
   "metadata": {},
   "source": [
    "Q02_1 had the highest score, indicating the best feature for the model. However, I would expect this. Typically a person who has courtesy and respect, may also have characteristics of good listening skills and explaining things well. I also checked the correlation of these questions and the outcome was minimum."
   ]
  },
  {
   "cell_type": "markdown",
   "metadata": {},
   "source": [
    "## Random Forest - using features of importance"
   ]
  },
  {
   "cell_type": "markdown",
   "metadata": {},
   "source": [
    "### Train, Test, Split"
   ]
  },
  {
   "cell_type": "code",
   "execution_count": 62,
   "metadata": {},
   "outputs": [],
   "source": [
    "features = ['Q02_1', 'Q03_1','Q08_1']\n",
    "X = balanced_df[features]\n",
    "y = balanced_df['Q01_1']"
   ]
  },
  {
   "cell_type": "code",
   "execution_count": 63,
   "metadata": {},
   "outputs": [],
   "source": [
    "X_train, X_test, y_train, y_test = train_test_split(X,y, test_size = .3, random_state = 1)"
   ]
  },
  {
   "cell_type": "code",
   "execution_count": 64,
   "metadata": {},
   "outputs": [],
   "source": [
    "rf = RandomForestClassifier(n_estimators = 4, random_state=1, max_depth = 6, max_features = None, min_samples_leaf = 50)"
   ]
  },
  {
   "cell_type": "code",
   "execution_count": 65,
   "metadata": {},
   "outputs": [
    {
     "data": {
      "text/plain": [
       "RandomForestClassifier(max_depth=6, max_features=None, min_samples_leaf=50,\n",
       "                       n_estimators=4, random_state=1)"
      ]
     },
     "execution_count": 65,
     "metadata": {},
     "output_type": "execute_result"
    }
   ],
   "source": [
    "rf.fit(X_train,y_train)"
   ]
  },
  {
   "cell_type": "markdown",
   "metadata": {},
   "source": [
    "### Model Predictions"
   ]
  },
  {
   "cell_type": "code",
   "execution_count": 66,
   "metadata": {},
   "outputs": [
    {
     "data": {
      "text/plain": [
       "array([0, 1, 1, ..., 0, 0, 1], dtype=int64)"
      ]
     },
     "execution_count": 66,
     "metadata": {},
     "output_type": "execute_result"
    }
   ],
   "source": [
    "y_pred = rf.predict(X_test)\n",
    "y_pred"
   ]
  },
  {
   "cell_type": "markdown",
   "metadata": {},
   "source": [
    "### Model Evaluation Metrics"
   ]
  },
  {
   "cell_type": "markdown",
   "metadata": {},
   "source": [
    "#### Accuracy Score"
   ]
  },
  {
   "cell_type": "code",
   "execution_count": 67,
   "metadata": {
    "scrolled": true
   },
   "outputs": [
    {
     "data": {
      "text/plain": [
       "0.8262830538682574"
      ]
     },
     "execution_count": 67,
     "metadata": {},
     "output_type": "execute_result"
    }
   ],
   "source": [
    "accuracy_score(y_test, y_pred)"
   ]
  },
  {
   "cell_type": "markdown",
   "metadata": {},
   "source": [
    "#### Confusion Matrix"
   ]
  },
  {
   "cell_type": "code",
   "execution_count": 68,
   "metadata": {},
   "outputs": [],
   "source": [
    "tn, fp, fn, tp = confusion_matrix(y_test, y_pred).ravel()"
   ]
  },
  {
   "cell_type": "code",
   "execution_count": 69,
   "metadata": {},
   "outputs": [
    {
     "name": "stdout",
     "output_type": "stream",
     "text": [
      "Got them right\n",
      "true negatives: 11699\n",
      "true positives 11018\n",
      "----------------------------\n",
      "Missclassified\n",
      "false positives 1958\n",
      "false negtives 2818\n"
     ]
    }
   ],
   "source": [
    "print(\"Got them right\")\n",
    "print(\"true negatives:\", tn)\n",
    "print(\"true positives\", tp)\n",
    "print(\"----------------------------\")\n",
    "print(\"Missclassified\")\n",
    "print(\"false positives\", fp)\n",
    "print(\"false negtives\", fn)"
   ]
  },
  {
   "cell_type": "markdown",
   "metadata": {},
   "source": [
    "#### ROC AUC Curve"
   ]
  },
  {
   "cell_type": "code",
   "execution_count": 70,
   "metadata": {},
   "outputs": [
    {
     "name": "stdout",
     "output_type": "stream",
     "text": [
      "0.882\n"
     ]
    }
   ],
   "source": [
    "print(roc_auc_score(y_test, rf.predict_proba(X_test)[:,1]).round(3))"
   ]
  },
  {
   "cell_type": "code",
   "execution_count": 71,
   "metadata": {},
   "outputs": [
    {
     "data": {
      "image/png": "[encoded data removed]",
      "text/plain": [
       "<Figure size 432x288 with 1 Axes>"
      ]
     },
     "metadata": {
      "needs_background": "light"
     },
     "output_type": "display_data"
    }
   ],
   "source": [
    "plot = plot_roc_curve(rf, X_test, y_test);\n",
    "plt.show()"
   ]
  },
  {
   "cell_type": "markdown",
   "metadata": {},
   "source": [
    "## Decision Tree - using Features of Importance"
   ]
  },
  {
   "cell_type": "code",
   "execution_count": 72,
   "metadata": {},
   "outputs": [],
   "source": [
    "treeclf = DecisionTreeClassifier(max_depth = 5, random_state = 1)"
   ]
  },
  {
   "cell_type": "code",
   "execution_count": 73,
   "metadata": {},
   "outputs": [
    {
     "data": {
      "text/plain": [
       "DecisionTreeClassifier(max_depth=5, random_state=1)"
      ]
     },
     "execution_count": 73,
     "metadata": {},
     "output_type": "execute_result"
    }
   ],
   "source": [
    "treeclf.fit(X_train,y_train)"
   ]
  },
  {
   "cell_type": "code",
   "execution_count": 74,
   "metadata": {},
   "outputs": [
    {
     "data": {
      "text/plain": [
       "[Text(390.6, 475.65000000000003, 'Q02_1 <= 0.5\\ngini = 0.5\\nsamples = 64149\\nvalue = [32164, 31985]'),\n",
       " Text(195.3, 339.75, 'Q03_1 <= 0.5\\ngini = 0.306\\nsamples = 34198\\nvalue = [27753, 6445]'),\n",
       " Text(97.65, 203.85000000000002, 'Q08_1 <= 0.5\\ngini = 0.222\\nsamples = 26102\\nvalue = [22789, 3313]'),\n",
       " Text(48.825, 67.94999999999999, 'gini = 0.167\\nsamples = 17809\\nvalue = [16167, 1642]'),\n",
       " Text(146.47500000000002, 67.94999999999999, 'gini = 0.322\\nsamples = 8293\\nvalue = [6622, 1671]'),\n",
       " Text(292.95000000000005, 203.85000000000002, 'Q08_1 <= 0.5\\ngini = 0.474\\nsamples = 8096\\nvalue = [4964, 3132]'),\n",
       " Text(244.125, 67.94999999999999, 'gini = 0.439\\nsamples = 3637\\nvalue = [2453, 1184]'),\n",
       " Text(341.77500000000003, 67.94999999999999, 'gini = 0.492\\nsamples = 4459\\nvalue = [2511, 1948]'),\n",
       " Text(585.9000000000001, 339.75, 'Q03_1 <= 0.5\\ngini = 0.251\\nsamples = 29951\\nvalue = [4411, 25540]'),\n",
       " Text(488.25, 203.85000000000002, 'Q08_1 <= 0.5\\ngini = 0.431\\nsamples = 5683\\nvalue = [1785, 3898]'),\n",
       " Text(439.425, 67.94999999999999, 'gini = 0.476\\nsamples = 2302\\nvalue = [899, 1403]'),\n",
       " Text(537.075, 67.94999999999999, 'gini = 0.387\\nsamples = 3381\\nvalue = [886, 2495]'),\n",
       " Text(683.5500000000001, 203.85000000000002, 'Q08_1 <= 0.5\\ngini = 0.193\\nsamples = 24268\\nvalue = [2626, 21642]'),\n",
       " Text(634.725, 67.94999999999999, 'gini = 0.295\\nsamples = 5761\\nvalue = [1037, 4724]'),\n",
       " Text(732.375, 67.94999999999999, 'gini = 0.157\\nsamples = 18507\\nvalue = [1589, 16918]')]"
      ]
     },
     "execution_count": 74,
     "metadata": {},
     "output_type": "execute_result"
    },
    {
     "data": {
      "image/png": "[encoded data removed]",
      "text/plain": [
       "<Figure size 1008x720 with 1 Axes>"
      ]
     },
     "metadata": {
      "needs_background": "light"
     },
     "output_type": "display_data"
    }
   ],
   "source": [
    "plt.figure(figsize = (14,10))\n",
    "tree.plot_tree(treeclf, feature_names = X.columns, filled=True)"
   ]
  },
  {
   "cell_type": "markdown",
   "metadata": {},
   "source": [
    "### Model Predictions"
   ]
  },
  {
   "cell_type": "code",
   "execution_count": 75,
   "metadata": {},
   "outputs": [
    {
     "data": {
      "text/plain": [
       "array([0, 1, 1, ..., 0, 0, 1], dtype=int64)"
      ]
     },
     "execution_count": 75,
     "metadata": {},
     "output_type": "execute_result"
    }
   ],
   "source": [
    "y_pred = treeclf.predict(X_test)\n",
    "y_pred"
   ]
  },
  {
   "cell_type": "markdown",
   "metadata": {},
   "source": [
    "### Model Evaluation Metrics"
   ]
  },
  {
   "cell_type": "markdown",
   "metadata": {},
   "source": [
    "#### Accuracy Score"
   ]
  },
  {
   "cell_type": "code",
   "execution_count": 76,
   "metadata": {
    "scrolled": true
   },
   "outputs": [
    {
     "data": {
      "text/plain": [
       "0.8262830538682574"
      ]
     },
     "execution_count": 76,
     "metadata": {},
     "output_type": "execute_result"
    }
   ],
   "source": [
    "accuracy_score(y_test, y_pred)"
   ]
  },
  {
   "cell_type": "markdown",
   "metadata": {},
   "source": [
    "#### Confusion Matrix"
   ]
  },
  {
   "cell_type": "code",
   "execution_count": 77,
   "metadata": {},
   "outputs": [],
   "source": [
    "tn, fp, fn, tp = confusion_matrix(y_test, y_pred).ravel()"
   ]
  },
  {
   "cell_type": "code",
   "execution_count": 78,
   "metadata": {},
   "outputs": [
    {
     "name": "stdout",
     "output_type": "stream",
     "text": [
      "Got them right\n",
      "true negatives: 11699\n",
      "true positives 11018\n",
      "----------------------------\n",
      "Missclassified\n",
      "false positives 1958\n",
      "false negtives 2818\n"
     ]
    }
   ],
   "source": [
    "print(\"Got them right\")\n",
    "print(\"true negatives:\", tn)\n",
    "print(\"true positives\", tp)\n",
    "print(\"----------------------------\")\n",
    "print(\"Missclassified\")\n",
    "print(\"false positives\", fp)\n",
    "print(\"false negtives\", fn)"
   ]
  },
  {
   "cell_type": "markdown",
   "metadata": {},
   "source": [
    "#### ROC AUC Curve"
   ]
  },
  {
   "cell_type": "code",
   "execution_count": 79,
   "metadata": {},
   "outputs": [
    {
     "name": "stdout",
     "output_type": "stream",
     "text": [
      "0.882\n"
     ]
    }
   ],
   "source": [
    "print(roc_auc_score(y_test, treeclf.predict_proba(X_test)[:,1]).round(3))"
   ]
  },
  {
   "cell_type": "code",
   "execution_count": 80,
   "metadata": {},
   "outputs": [],
   "source": [
    "from sklearn.metrics import plot_roc_curve"
   ]
  },
  {
   "cell_type": "code",
   "execution_count": 81,
   "metadata": {},
   "outputs": [
    {
     "data": {
      "image/png": "[encoded data removed]",
      "text/plain": [
       "<Figure size 432x288 with 1 Axes>"
      ]
     },
     "metadata": {
      "needs_background": "light"
     },
     "output_type": "display_data"
    }
   ],
   "source": [
    "plot = plot_roc_curve(treeclf, X_test, y_test,color='orange');\n",
    "plt.show()"
   ]
  },
  {
   "cell_type": "markdown",
   "metadata": {},
   "source": [
    "Based on the accuracy and ROC AUC of each model, the Random Forest and Decision Tree w/ feature variables had the best ROC Score, with a decent error rate of misclassifications. Therefore, the Decision Tree w/ feature variables will be used."
   ]
  },
  {
   "cell_type": "markdown",
   "metadata": {},
   "source": [
    "## Recommendations"
   ]
  },
  {
   "cell_type": "markdown",
   "metadata": {},
   "source": [
    "- In a real world scenario, make sure the data is right and complete to determine if there are issues with the input dataset and features. (However, in this case, the data being used is not a true representation of the real data, which may be why other features don't work well with the model.)\n",
    "- Add in new features to the dataset, such as complaints from patients and length of waiting times to see if that helps with the models performance."
   ]
  },
  {
   "cell_type": "code",
   "execution_count": null,
   "metadata": {},
   "outputs": [],
   "source": []
  }
 ],
 "metadata": {
  "kernelspec": {
   "display_name": "Python 3",
   "language": "python",
   "name": "python3"
  },
  "language_info": {
   "codemirror_mode": {
    "name": "ipython",
    "version": 3
   },
   "file_extension": ".py",
   "mimetype": "text/x-python",
   "name": "python",
   "nbconvert_exporter": "python",
   "pygments_lexer": "ipython3",
   "version": "3.8.5"
  }
 },
 "nbformat": 4,
 "nbformat_minor": 4
}
