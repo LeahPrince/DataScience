{
 "cells": [
  {
   "cell_type": "markdown",
   "metadata": {},
   "source": [
    "# Leah Prince"
   ]
  },
  {
   "cell_type": "markdown",
   "metadata": {},
   "source": [
    "## Overview"
   ]
  },
  {
   "cell_type": "markdown",
   "metadata": {},
   "source": [
    "This dataset was pulled from Kaggle.\n",
    "\n",
    "A nationwide survey of hospital costs conducted by the US Agency for Healthcare consists of hospital records of inpatient samples. The given data is restricted to the city of Wisconsin and relates to patients in the age group 0-17 years. The agency wants to analyze the data to research on the healthcare costs and their utilization.\n",
    "\n",
    "Here is a detailed description of the given dataset:\n",
    "- AGE : Age of the patient discharged\n",
    "- FEMALE : Binary variable that indicates if the patient is female\n",
    "- LOS : Length of stay, in days\n",
    "- RACE : Race of the patient (specified numerically)\n",
    "- TOTCHG : Hospital discharge costs\n",
    "- APRDRG : All Patient Refined Diagnosis Related Groups\n",
    "\n",
    "Objectives:\n",
    "- Find the category of people who frequently visit the hospital and who has the maximum expenditure, by diagnosis.\n",
    "- Understand charges of each diagnosis treatment and the most expensive treatment.\n",
    "- Understand charges by age and gender.\n",
    "- Understand if the race of a patient is related to hospitalization costs to understand risks of malpractice.\n",
    "- Determine the best variable(s) for predicting hospital costs."
   ]
  },
  {
   "cell_type": "markdown",
   "metadata": {},
   "source": [
    "## OLS Model Assumptions"
   ]
  },
  {
   "cell_type": "markdown",
   "metadata": {},
   "source": [
    "- Data is normally distributed\n",
    "- Little to no multicollinearity\n",
    "- Linear relationship between X and Y\n",
    "- Homoscedasticity (equal variance of residuals for X)\n",
    "- No missing values or missing at random"
   ]
  },
  {
   "cell_type": "markdown",
   "metadata": {},
   "source": [
    "## Import Libraries and Files"
   ]
  },
  {
   "cell_type": "code",
   "execution_count": 1,
   "metadata": {},
   "outputs": [],
   "source": [
    "import pandas as pd\n",
    "import numpy as np\n",
    "import matplotlib.pyplot as plt\n",
    "%matplotlib inline\n",
    "import seaborn as sns\n",
    "\n",
    "import statsmodels.formula.api as smf\n",
    "import statsmodels.tools.eval_measures as smf_metrics\n",
    "import statsmodels.api as sm"
   ]
  },
  {
   "cell_type": "code",
   "execution_count": 2,
   "metadata": {},
   "outputs": [
    {
     "data": {
      "text/html": [
       "<div>\n",
       "<style scoped>\n",
       "    .dataframe tbody tr th:only-of-type {\n",
       "        vertical-align: middle;\n",
       "    }\n",
       "\n",
       "    .dataframe tbody tr th {\n",
       "        vertical-align: top;\n",
       "    }\n",
       "\n",
       "    .dataframe thead th {\n",
       "        text-align: right;\n",
       "    }\n",
       "</style>\n",
       "<table border=\"1\" class=\"dataframe\">\n",
       "  <thead>\n",
       "    <tr style=\"text-align: right;\">\n",
       "      <th></th>\n",
       "      <th>AGE</th>\n",
       "      <th>FEMALE</th>\n",
       "      <th>LOS</th>\n",
       "      <th>RACE</th>\n",
       "      <th>TOTCHG</th>\n",
       "      <th>APRDRG</th>\n",
       "    </tr>\n",
       "  </thead>\n",
       "  <tbody>\n",
       "    <tr>\n",
       "      <th>0</th>\n",
       "      <td>17</td>\n",
       "      <td>1</td>\n",
       "      <td>2</td>\n",
       "      <td>1.0</td>\n",
       "      <td>2660</td>\n",
       "      <td>560</td>\n",
       "    </tr>\n",
       "    <tr>\n",
       "      <th>1</th>\n",
       "      <td>17</td>\n",
       "      <td>0</td>\n",
       "      <td>2</td>\n",
       "      <td>1.0</td>\n",
       "      <td>1689</td>\n",
       "      <td>753</td>\n",
       "    </tr>\n",
       "    <tr>\n",
       "      <th>2</th>\n",
       "      <td>17</td>\n",
       "      <td>1</td>\n",
       "      <td>7</td>\n",
       "      <td>1.0</td>\n",
       "      <td>20060</td>\n",
       "      <td>930</td>\n",
       "    </tr>\n",
       "    <tr>\n",
       "      <th>3</th>\n",
       "      <td>17</td>\n",
       "      <td>1</td>\n",
       "      <td>1</td>\n",
       "      <td>1.0</td>\n",
       "      <td>736</td>\n",
       "      <td>758</td>\n",
       "    </tr>\n",
       "    <tr>\n",
       "      <th>4</th>\n",
       "      <td>17</td>\n",
       "      <td>1</td>\n",
       "      <td>1</td>\n",
       "      <td>1.0</td>\n",
       "      <td>1194</td>\n",
       "      <td>754</td>\n",
       "    </tr>\n",
       "  </tbody>\n",
       "</table>\n",
       "</div>"
      ],
      "text/plain": [
       "   AGE  FEMALE  LOS  RACE  TOTCHG  APRDRG\n",
       "0   17       1    2   1.0    2660     560\n",
       "1   17       0    2   1.0    1689     753\n",
       "2   17       1    7   1.0   20060     930\n",
       "3   17       1    1   1.0     736     758\n",
       "4   17       1    1   1.0    1194     754"
      ]
     },
     "execution_count": 2,
     "metadata": {},
     "output_type": "execute_result"
    }
   ],
   "source": [
    "df = pd.read_csv('HospitalCosts.csv')\n",
    "df.head()"
   ]
  },
  {
   "cell_type": "markdown",
   "metadata": {},
   "source": [
    "## Data Exploration"
   ]
  },
  {
   "cell_type": "markdown",
   "metadata": {},
   "source": [
    "### Determine Missing Values"
   ]
  },
  {
   "cell_type": "code",
   "execution_count": 3,
   "metadata": {},
   "outputs": [
    {
     "data": {
      "text/plain": [
       "AGE       0\n",
       "FEMALE    0\n",
       "LOS       0\n",
       "RACE      1\n",
       "TOTCHG    0\n",
       "APRDRG    0\n",
       "dtype: int64"
      ]
     },
     "execution_count": 3,
     "metadata": {},
     "output_type": "execute_result"
    }
   ],
   "source": [
    "df.isnull().sum()"
   ]
  },
  {
   "cell_type": "code",
   "execution_count": 4,
   "metadata": {},
   "outputs": [
    {
     "data": {
      "text/plain": [
       "array([ 1.,  4.,  6.,  2.,  5., nan,  3.])"
      ]
     },
     "execution_count": 4,
     "metadata": {},
     "output_type": "execute_result"
    }
   ],
   "source": [
    "df['RACE'].unique()"
   ]
  },
  {
   "cell_type": "code",
   "execution_count": 5,
   "metadata": {},
   "outputs": [],
   "source": [
    "df['RACE'] = df['RACE'].replace(np.nan,0)"
   ]
  },
  {
   "cell_type": "markdown",
   "metadata": {},
   "source": [
    "Race was the only category missing values. Therefore, I created a category to capture missing values, which is 0."
   ]
  },
  {
   "cell_type": "code",
   "execution_count": 6,
   "metadata": {},
   "outputs": [
    {
     "data": {
      "text/plain": [
       "AGE       0\n",
       "FEMALE    0\n",
       "LOS       0\n",
       "RACE      0\n",
       "TOTCHG    0\n",
       "APRDRG    0\n",
       "dtype: int64"
      ]
     },
     "execution_count": 6,
     "metadata": {},
     "output_type": "execute_result"
    }
   ],
   "source": [
    "df.isnull().sum()"
   ]
  },
  {
   "cell_type": "code",
   "execution_count": 7,
   "metadata": {},
   "outputs": [
    {
     "data": {
      "text/html": [
       "<div>\n",
       "<style scoped>\n",
       "    .dataframe tbody tr th:only-of-type {\n",
       "        vertical-align: middle;\n",
       "    }\n",
       "\n",
       "    .dataframe tbody tr th {\n",
       "        vertical-align: top;\n",
       "    }\n",
       "\n",
       "    .dataframe thead th {\n",
       "        text-align: right;\n",
       "    }\n",
       "</style>\n",
       "<table border=\"1\" class=\"dataframe\">\n",
       "  <thead>\n",
       "    <tr style=\"text-align: right;\">\n",
       "      <th></th>\n",
       "      <th>AGE</th>\n",
       "      <th>FEMALE</th>\n",
       "      <th>LOS</th>\n",
       "      <th>RACE</th>\n",
       "      <th>TOTCHG</th>\n",
       "      <th>APRDRG</th>\n",
       "    </tr>\n",
       "  </thead>\n",
       "  <tbody>\n",
       "    <tr>\n",
       "      <th>0</th>\n",
       "      <td>17</td>\n",
       "      <td>1</td>\n",
       "      <td>2</td>\n",
       "      <td>1.0</td>\n",
       "      <td>2660</td>\n",
       "      <td>560</td>\n",
       "    </tr>\n",
       "    <tr>\n",
       "      <th>1</th>\n",
       "      <td>17</td>\n",
       "      <td>0</td>\n",
       "      <td>2</td>\n",
       "      <td>1.0</td>\n",
       "      <td>1689</td>\n",
       "      <td>753</td>\n",
       "    </tr>\n",
       "    <tr>\n",
       "      <th>2</th>\n",
       "      <td>17</td>\n",
       "      <td>1</td>\n",
       "      <td>7</td>\n",
       "      <td>1.0</td>\n",
       "      <td>20060</td>\n",
       "      <td>930</td>\n",
       "    </tr>\n",
       "    <tr>\n",
       "      <th>3</th>\n",
       "      <td>17</td>\n",
       "      <td>1</td>\n",
       "      <td>1</td>\n",
       "      <td>1.0</td>\n",
       "      <td>736</td>\n",
       "      <td>758</td>\n",
       "    </tr>\n",
       "    <tr>\n",
       "      <th>4</th>\n",
       "      <td>17</td>\n",
       "      <td>1</td>\n",
       "      <td>1</td>\n",
       "      <td>1.0</td>\n",
       "      <td>1194</td>\n",
       "      <td>754</td>\n",
       "    </tr>\n",
       "  </tbody>\n",
       "</table>\n",
       "</div>"
      ],
      "text/plain": [
       "   AGE  FEMALE  LOS  RACE  TOTCHG  APRDRG\n",
       "0   17       1    2   1.0    2660     560\n",
       "1   17       0    2   1.0    1689     753\n",
       "2   17       1    7   1.0   20060     930\n",
       "3   17       1    1   1.0     736     758\n",
       "4   17       1    1   1.0    1194     754"
      ]
     },
     "execution_count": 7,
     "metadata": {},
     "output_type": "execute_result"
    }
   ],
   "source": [
    "df.head()"
   ]
  },
  {
   "cell_type": "markdown",
   "metadata": {},
   "source": [
    "### Explore Data"
   ]
  },
  {
   "cell_type": "code",
   "execution_count": 8,
   "metadata": {},
   "outputs": [
    {
     "data": {
      "text/plain": [
       "(500, 6)"
      ]
     },
     "execution_count": 8,
     "metadata": {},
     "output_type": "execute_result"
    }
   ],
   "source": [
    "df.shape"
   ]
  },
  {
   "cell_type": "markdown",
   "metadata": {},
   "source": [
    "There are 500 rows and 6 colums."
   ]
  },
  {
   "cell_type": "code",
   "execution_count": 9,
   "metadata": {},
   "outputs": [
    {
     "name": "stdout",
     "output_type": "stream",
     "text": [
      "<class 'pandas.core.frame.DataFrame'>\n",
      "RangeIndex: 500 entries, 0 to 499\n",
      "Data columns (total 6 columns):\n",
      " #   Column  Non-Null Count  Dtype  \n",
      "---  ------  --------------  -----  \n",
      " 0   AGE     500 non-null    int64  \n",
      " 1   FEMALE  500 non-null    int64  \n",
      " 2   LOS     500 non-null    int64  \n",
      " 3   RACE    500 non-null    float64\n",
      " 4   TOTCHG  500 non-null    int64  \n",
      " 5   APRDRG  500 non-null    int64  \n",
      "dtypes: float64(1), int64(5)\n",
      "memory usage: 23.6 KB\n"
     ]
    }
   ],
   "source": [
    "df.info()"
   ]
  },
  {
   "cell_type": "markdown",
   "metadata": {},
   "source": [
    "All variables are numeric."
   ]
  },
  {
   "cell_type": "code",
   "execution_count": 10,
   "metadata": {},
   "outputs": [
    {
     "data": {
      "text/plain": [
       "Index(['AGE', 'FEMALE', 'LOS', 'RACE', 'TOTCHG', 'APRDRG'], dtype='object')"
      ]
     },
     "execution_count": 10,
     "metadata": {},
     "output_type": "execute_result"
    }
   ],
   "source": [
    "df.columns"
   ]
  },
  {
   "cell_type": "markdown",
   "metadata": {},
   "source": [
    "#### Race"
   ]
  },
  {
   "cell_type": "code",
   "execution_count": 11,
   "metadata": {
    "scrolled": true
   },
   "outputs": [
    {
     "data": {
      "text/plain": [
       "1.0    484\n",
       "2.0      6\n",
       "5.0      3\n",
       "4.0      3\n",
       "6.0      2\n",
       "3.0      1\n",
       "0.0      1\n",
       "Name: RACE, dtype: int64"
      ]
     },
     "execution_count": 11,
     "metadata": {},
     "output_type": "execute_result"
    }
   ],
   "source": [
    "df['RACE'].value_counts()"
   ]
  },
  {
   "cell_type": "code",
   "execution_count": 12,
   "metadata": {},
   "outputs": [
    {
     "data": {
      "text/plain": [
       "RACE\n",
       "0.0    1156.00\n",
       "1.0    2772.67\n",
       "2.0    4202.17\n",
       "3.0    3041.00\n",
       "4.0    2344.67\n",
       "5.0    2026.67\n",
       "6.0    1349.00\n",
       "Name: TOTCHG, dtype: float64"
      ]
     },
     "execution_count": 12,
     "metadata": {},
     "output_type": "execute_result"
    }
   ],
   "source": [
    "df.groupby('RACE')['TOTCHG'].mean().round(2)"
   ]
  },
  {
   "cell_type": "markdown",
   "metadata": {},
   "source": [
    "People of race 1, accounted for the most number of patients."
   ]
  },
  {
   "cell_type": "markdown",
   "metadata": {},
   "source": [
    "Patients of race two and three incurred the highest charges, amongst all other races."
   ]
  },
  {
   "cell_type": "markdown",
   "metadata": {},
   "source": [
    "#### Age"
   ]
  },
  {
   "cell_type": "code",
   "execution_count": 13,
   "metadata": {
    "scrolled": true
   },
   "outputs": [
    {
     "data": {
      "text/plain": [
       "count    500.000000\n",
       "mean       5.086000\n",
       "std        6.949474\n",
       "min        0.000000\n",
       "25%        0.000000\n",
       "50%        0.000000\n",
       "75%       13.000000\n",
       "max       17.000000\n",
       "Name: AGE, dtype: float64"
      ]
     },
     "execution_count": 13,
     "metadata": {},
     "output_type": "execute_result"
    }
   ],
   "source": [
    "df['AGE'].describe()"
   ]
  },
  {
   "cell_type": "markdown",
   "metadata": {},
   "source": [
    "Patient ages range between 0 and 17, with an average age of 5."
   ]
  },
  {
   "cell_type": "code",
   "execution_count": 14,
   "metadata": {},
   "outputs": [
    {
     "data": {
      "text/plain": [
       "0     307\n",
       "17     38\n",
       "15     29\n",
       "16     29\n",
       "14     25\n",
       "13     18\n",
       "12     15\n",
       "1      10\n",
       "11      8\n",
       "10      4\n",
       "7       3\n",
       "3       3\n",
       "9       2\n",
       "6       2\n",
       "5       2\n",
       "4       2\n",
       "8       2\n",
       "2       1\n",
       "Name: AGE, dtype: int64"
      ]
     },
     "execution_count": 14,
     "metadata": {},
     "output_type": "execute_result"
    }
   ],
   "source": [
    "df.AGE.value_counts()"
   ]
  },
  {
   "cell_type": "code",
   "execution_count": 15,
   "metadata": {},
   "outputs": [
    {
     "data": {
      "text/plain": [
       "AGE\n",
       "0      2208.853420\n",
       "1      3774.400000\n",
       "2      7298.000000\n",
       "3     10183.333333\n",
       "4      7996.000000\n",
       "5      9253.500000\n",
       "6      8964.000000\n",
       "7      3362.333333\n",
       "8      2370.500000\n",
       "9     10573.500000\n",
       "10     6117.250000\n",
       "11     1781.250000\n",
       "12     3660.800000\n",
       "13     1729.722222\n",
       "14     2585.720000\n",
       "15     3853.344828\n",
       "16     2384.448276\n",
       "17     4599.394737\n",
       "Name: TOTCHG, dtype: float64"
      ]
     },
     "execution_count": 15,
     "metadata": {},
     "output_type": "execute_result"
    }
   ],
   "source": [
    "df.groupby('AGE')['TOTCHG'].mean()"
   ]
  },
  {
   "cell_type": "markdown",
   "metadata": {},
   "source": [
    "Patients less than 1 year of age accounted for the most number of patients. However, patients who were ages 3 and 9 incurred the highest charges."
   ]
  },
  {
   "cell_type": "markdown",
   "metadata": {},
   "source": [
    "#### Female"
   ]
  },
  {
   "cell_type": "code",
   "execution_count": 16,
   "metadata": {},
   "outputs": [
    {
     "data": {
      "text/plain": [
       "1    256\n",
       "0    244\n",
       "Name: FEMALE, dtype: int64"
      ]
     },
     "execution_count": 16,
     "metadata": {},
     "output_type": "execute_result"
    }
   ],
   "source": [
    "df['FEMALE'].value_counts()"
   ]
  },
  {
   "cell_type": "code",
   "execution_count": 17,
   "metadata": {},
   "outputs": [
    {
     "data": {
      "text/plain": [
       "FEMALE\n",
       "0    3013.897541\n",
       "1    2546.105469\n",
       "Name: TOTCHG, dtype: float64"
      ]
     },
     "execution_count": 17,
     "metadata": {},
     "output_type": "execute_result"
    }
   ],
   "source": [
    "df.groupby('FEMALE')['TOTCHG'].mean()"
   ]
  },
  {
   "cell_type": "markdown",
   "metadata": {},
   "source": [
    "Females accounted for the highest number of patients. However, males accounted for the highest in total charges."
   ]
  },
  {
   "cell_type": "code",
   "execution_count": 18,
   "metadata": {},
   "outputs": [
    {
     "data": {
      "text/html": [
       "<div>\n",
       "<style scoped>\n",
       "    .dataframe tbody tr th:only-of-type {\n",
       "        vertical-align: middle;\n",
       "    }\n",
       "\n",
       "    .dataframe tbody tr th {\n",
       "        vertical-align: top;\n",
       "    }\n",
       "\n",
       "    .dataframe thead th {\n",
       "        text-align: right;\n",
       "    }\n",
       "</style>\n",
       "<table border=\"1\" class=\"dataframe\">\n",
       "  <thead>\n",
       "    <tr style=\"text-align: right;\">\n",
       "      <th>FEMALE</th>\n",
       "      <th>0</th>\n",
       "      <th>1</th>\n",
       "    </tr>\n",
       "    <tr>\n",
       "      <th>RACE</th>\n",
       "      <th></th>\n",
       "      <th></th>\n",
       "    </tr>\n",
       "  </thead>\n",
       "  <tbody>\n",
       "    <tr>\n",
       "      <th>0.0</th>\n",
       "      <td>0</td>\n",
       "      <td>1</td>\n",
       "    </tr>\n",
       "    <tr>\n",
       "      <th>1.0</th>\n",
       "      <td>235</td>\n",
       "      <td>249</td>\n",
       "    </tr>\n",
       "    <tr>\n",
       "      <th>2.0</th>\n",
       "      <td>4</td>\n",
       "      <td>2</td>\n",
       "    </tr>\n",
       "    <tr>\n",
       "      <th>3.0</th>\n",
       "      <td>0</td>\n",
       "      <td>1</td>\n",
       "    </tr>\n",
       "    <tr>\n",
       "      <th>4.0</th>\n",
       "      <td>1</td>\n",
       "      <td>2</td>\n",
       "    </tr>\n",
       "    <tr>\n",
       "      <th>5.0</th>\n",
       "      <td>3</td>\n",
       "      <td>0</td>\n",
       "    </tr>\n",
       "    <tr>\n",
       "      <th>6.0</th>\n",
       "      <td>1</td>\n",
       "      <td>1</td>\n",
       "    </tr>\n",
       "  </tbody>\n",
       "</table>\n",
       "</div>"
      ],
      "text/plain": [
       "FEMALE    0    1\n",
       "RACE            \n",
       "0.0       0    1\n",
       "1.0     235  249\n",
       "2.0       4    2\n",
       "3.0       0    1\n",
       "4.0       1    2\n",
       "5.0       3    0\n",
       "6.0       1    1"
      ]
     },
     "execution_count": 18,
     "metadata": {},
     "output_type": "execute_result"
    }
   ],
   "source": [
    "pd.crosstab(df['RACE'], df['FEMALE'])"
   ]
  },
  {
   "cell_type": "markdown",
   "metadata": {},
   "source": [
    "Females of race 1 accounted for the highest number of patients."
   ]
  },
  {
   "cell_type": "code",
   "execution_count": 19,
   "metadata": {},
   "outputs": [
    {
     "data": {
      "text/html": [
       "<div>\n",
       "<style scoped>\n",
       "    .dataframe tbody tr th:only-of-type {\n",
       "        vertical-align: middle;\n",
       "    }\n",
       "\n",
       "    .dataframe tbody tr th {\n",
       "        vertical-align: top;\n",
       "    }\n",
       "\n",
       "    .dataframe thead th {\n",
       "        text-align: right;\n",
       "    }\n",
       "</style>\n",
       "<table border=\"1\" class=\"dataframe\">\n",
       "  <thead>\n",
       "    <tr style=\"text-align: right;\">\n",
       "      <th>FEMALE</th>\n",
       "      <th>0</th>\n",
       "      <th>1</th>\n",
       "    </tr>\n",
       "    <tr>\n",
       "      <th>AGE</th>\n",
       "      <th></th>\n",
       "      <th></th>\n",
       "    </tr>\n",
       "  </thead>\n",
       "  <tbody>\n",
       "    <tr>\n",
       "      <th>0</th>\n",
       "      <td>170</td>\n",
       "      <td>137</td>\n",
       "    </tr>\n",
       "    <tr>\n",
       "      <th>1</th>\n",
       "      <td>8</td>\n",
       "      <td>2</td>\n",
       "    </tr>\n",
       "    <tr>\n",
       "      <th>2</th>\n",
       "      <td>1</td>\n",
       "      <td>0</td>\n",
       "    </tr>\n",
       "    <tr>\n",
       "      <th>3</th>\n",
       "      <td>2</td>\n",
       "      <td>1</td>\n",
       "    </tr>\n",
       "    <tr>\n",
       "      <th>4</th>\n",
       "      <td>1</td>\n",
       "      <td>1</td>\n",
       "    </tr>\n",
       "    <tr>\n",
       "      <th>5</th>\n",
       "      <td>1</td>\n",
       "      <td>1</td>\n",
       "    </tr>\n",
       "    <tr>\n",
       "      <th>6</th>\n",
       "      <td>2</td>\n",
       "      <td>0</td>\n",
       "    </tr>\n",
       "    <tr>\n",
       "      <th>7</th>\n",
       "      <td>3</td>\n",
       "      <td>0</td>\n",
       "    </tr>\n",
       "    <tr>\n",
       "      <th>8</th>\n",
       "      <td>2</td>\n",
       "      <td>0</td>\n",
       "    </tr>\n",
       "    <tr>\n",
       "      <th>9</th>\n",
       "      <td>2</td>\n",
       "      <td>0</td>\n",
       "    </tr>\n",
       "    <tr>\n",
       "      <th>10</th>\n",
       "      <td>3</td>\n",
       "      <td>1</td>\n",
       "    </tr>\n",
       "    <tr>\n",
       "      <th>11</th>\n",
       "      <td>6</td>\n",
       "      <td>2</td>\n",
       "    </tr>\n",
       "    <tr>\n",
       "      <th>12</th>\n",
       "      <td>6</td>\n",
       "      <td>9</td>\n",
       "    </tr>\n",
       "    <tr>\n",
       "      <th>13</th>\n",
       "      <td>4</td>\n",
       "      <td>14</td>\n",
       "    </tr>\n",
       "    <tr>\n",
       "      <th>14</th>\n",
       "      <td>4</td>\n",
       "      <td>21</td>\n",
       "    </tr>\n",
       "    <tr>\n",
       "      <th>15</th>\n",
       "      <td>10</td>\n",
       "      <td>19</td>\n",
       "    </tr>\n",
       "    <tr>\n",
       "      <th>16</th>\n",
       "      <td>6</td>\n",
       "      <td>23</td>\n",
       "    </tr>\n",
       "    <tr>\n",
       "      <th>17</th>\n",
       "      <td>13</td>\n",
       "      <td>25</td>\n",
       "    </tr>\n",
       "  </tbody>\n",
       "</table>\n",
       "</div>"
      ],
      "text/plain": [
       "FEMALE    0    1\n",
       "AGE             \n",
       "0       170  137\n",
       "1         8    2\n",
       "2         1    0\n",
       "3         2    1\n",
       "4         1    1\n",
       "5         1    1\n",
       "6         2    0\n",
       "7         3    0\n",
       "8         2    0\n",
       "9         2    0\n",
       "10        3    1\n",
       "11        6    2\n",
       "12        6    9\n",
       "13        4   14\n",
       "14        4   21\n",
       "15       10   19\n",
       "16        6   23\n",
       "17       13   25"
      ]
     },
     "execution_count": 19,
     "metadata": {},
     "output_type": "execute_result"
    }
   ],
   "source": [
    "pd.crosstab(df['AGE'], df['FEMALE'])"
   ]
  },
  {
   "cell_type": "markdown",
   "metadata": {},
   "source": [
    "Males less than 1 year of age, accounted for the highest number of patients."
   ]
  },
  {
   "cell_type": "markdown",
   "metadata": {},
   "source": [
    "#### APRDRG"
   ]
  },
  {
   "cell_type": "code",
   "execution_count": 20,
   "metadata": {},
   "outputs": [
    {
     "data": {
      "text/plain": [
       "array([560, 753, 930, 758, 754, 347, 751, 812, 566, 249, 422,  50, 139,\n",
       "       141, 420,  97, 811, 755, 720,  53, 760, 710, 776, 115, 602, 138,\n",
       "       137, 640, 639, 143, 254, 581, 633, 626, 636,  23,  57, 421, 580,\n",
       "       750,  49,  51, 313, 614, 634, 952,  21,  92, 756, 317, 344, 114,\n",
       "       206, 723, 911,  54, 225,  58, 740, 308, 204, 561, 863], dtype=int64)"
      ]
     },
     "execution_count": 20,
     "metadata": {},
     "output_type": "execute_result"
    }
   ],
   "source": [
    "df['APRDRG'].unique()"
   ]
  },
  {
   "cell_type": "code",
   "execution_count": 21,
   "metadata": {},
   "outputs": [],
   "source": [
    "df.sort_values('TOTCHG', axis=0, ascending=False, inplace=True)"
   ]
  },
  {
   "cell_type": "code",
   "execution_count": 22,
   "metadata": {
    "scrolled": true
   },
   "outputs": [
    {
     "data": {
      "text/html": [
       "<div>\n",
       "<style scoped>\n",
       "    .dataframe tbody tr th:only-of-type {\n",
       "        vertical-align: middle;\n",
       "    }\n",
       "\n",
       "    .dataframe tbody tr th {\n",
       "        vertical-align: top;\n",
       "    }\n",
       "\n",
       "    .dataframe thead th {\n",
       "        text-align: right;\n",
       "    }\n",
       "</style>\n",
       "<table border=\"1\" class=\"dataframe\">\n",
       "  <thead>\n",
       "    <tr style=\"text-align: right;\">\n",
       "      <th></th>\n",
       "      <th>APRDRG</th>\n",
       "      <th>TOTCHG</th>\n",
       "    </tr>\n",
       "  </thead>\n",
       "  <tbody>\n",
       "    <tr>\n",
       "      <th>332</th>\n",
       "      <td>911</td>\n",
       "      <td>48388</td>\n",
       "    </tr>\n",
       "    <tr>\n",
       "      <th>71</th>\n",
       "      <td>602</td>\n",
       "      <td>29188</td>\n",
       "    </tr>\n",
       "    <tr>\n",
       "      <th>168</th>\n",
       "      <td>421</td>\n",
       "      <td>26356</td>\n",
       "    </tr>\n",
       "    <tr>\n",
       "      <th>244</th>\n",
       "      <td>49</td>\n",
       "      <td>20195</td>\n",
       "    </tr>\n",
       "    <tr>\n",
       "      <th>2</th>\n",
       "      <td>930</td>\n",
       "      <td>20060</td>\n",
       "    </tr>\n",
       "  </tbody>\n",
       "</table>\n",
       "</div>"
      ],
      "text/plain": [
       "     APRDRG  TOTCHG\n",
       "332     911   48388\n",
       "71      602   29188\n",
       "168     421   26356\n",
       "244      49   20195\n",
       "2       930   20060"
      ]
     },
     "execution_count": 22,
     "metadata": {},
     "output_type": "execute_result"
    }
   ],
   "source": [
    "df[['APRDRG', 'TOTCHG']].head()"
   ]
  },
  {
   "cell_type": "markdown",
   "metadata": {},
   "source": [
    "APRDRG 911 had the most charges, at 48,388."
   ]
  },
  {
   "cell_type": "code",
   "execution_count": 23,
   "metadata": {},
   "outputs": [],
   "source": [
    "df.sort_values('TOTCHG', axis=0, ascending=True, inplace=True)"
   ]
  },
  {
   "cell_type": "code",
   "execution_count": 24,
   "metadata": {},
   "outputs": [
    {
     "data": {
      "text/html": [
       "<div>\n",
       "<style scoped>\n",
       "    .dataframe tbody tr th:only-of-type {\n",
       "        vertical-align: middle;\n",
       "    }\n",
       "\n",
       "    .dataframe tbody tr th {\n",
       "        vertical-align: top;\n",
       "    }\n",
       "\n",
       "    .dataframe thead th {\n",
       "        text-align: right;\n",
       "    }\n",
       "</style>\n",
       "<table border=\"1\" class=\"dataframe\">\n",
       "  <thead>\n",
       "    <tr style=\"text-align: right;\">\n",
       "      <th></th>\n",
       "      <th>APRDRG</th>\n",
       "      <th>TOTCHG</th>\n",
       "    </tr>\n",
       "  </thead>\n",
       "  <tbody>\n",
       "    <tr>\n",
       "      <th>8</th>\n",
       "      <td>753</td>\n",
       "      <td>532</td>\n",
       "    </tr>\n",
       "    <tr>\n",
       "      <th>388</th>\n",
       "      <td>755</td>\n",
       "      <td>532</td>\n",
       "    </tr>\n",
       "    <tr>\n",
       "      <th>365</th>\n",
       "      <td>754</td>\n",
       "      <td>547</td>\n",
       "    </tr>\n",
       "    <tr>\n",
       "      <th>378</th>\n",
       "      <td>751</td>\n",
       "      <td>548</td>\n",
       "    </tr>\n",
       "    <tr>\n",
       "      <th>403</th>\n",
       "      <td>640</td>\n",
       "      <td>550</td>\n",
       "    </tr>\n",
       "  </tbody>\n",
       "</table>\n",
       "</div>"
      ],
      "text/plain": [
       "     APRDRG  TOTCHG\n",
       "8       753     532\n",
       "388     755     532\n",
       "365     754     547\n",
       "378     751     548\n",
       "403     640     550"
      ]
     },
     "execution_count": 24,
     "metadata": {},
     "output_type": "execute_result"
    }
   ],
   "source": [
    "df[['APRDRG', 'TOTCHG']].head()"
   ]
  },
  {
   "cell_type": "markdown",
   "metadata": {},
   "source": [
    "APRDRG 755 and 753 had the least number of charges at 532."
   ]
  },
  {
   "cell_type": "markdown",
   "metadata": {},
   "source": [
    "#### TOTCHG"
   ]
  },
  {
   "cell_type": "code",
   "execution_count": 25,
   "metadata": {},
   "outputs": [
    {
     "data": {
      "text/plain": [
       "count      500.000000\n",
       "mean      2774.388000\n",
       "std       3888.407367\n",
       "min        532.000000\n",
       "25%       1216.250000\n",
       "50%       1536.500000\n",
       "75%       2530.250000\n",
       "max      48388.000000\n",
       "Name: TOTCHG, dtype: float64"
      ]
     },
     "execution_count": 25,
     "metadata": {},
     "output_type": "execute_result"
    }
   ],
   "source": [
    "df['TOTCHG'].describe()"
   ]
  },
  {
   "cell_type": "markdown",
   "metadata": {},
   "source": [
    "#### All Variables"
   ]
  },
  {
   "cell_type": "code",
   "execution_count": 26,
   "metadata": {},
   "outputs": [
    {
     "data": {
      "image/png": "[encoded data removed]",
      "text/plain": [
       "<Figure size 540x540 with 12 Axes>"
      ]
     },
     "metadata": {
      "needs_background": "light"
     },
     "output_type": "display_data"
    }
   ],
   "source": [
    "sns.pairplot(df, vars = ['AGE', 'LOS', 'TOTCHG'], palette = 'Dark2', kind='reg', diag_kind='kde')\n",
    "plt.show()"
   ]
  },
  {
   "cell_type": "code",
   "execution_count": 27,
   "metadata": {},
   "outputs": [
    {
     "data": {
      "image/png": "[encoded data removed]",
      "text/plain": [
       "<Figure size 587.25x540 with 12 Axes>"
      ]
     },
     "metadata": {
      "needs_background": "light"
     },
     "output_type": "display_data"
    }
   ],
   "source": [
    "sns.pairplot(df,vars = ['AGE', 'LOS', 'TOTCHG'], hue='FEMALE', palette = 'Dark2', kind='reg', diag_kind='kde')\n",
    "plt.show()"
   ]
  },
  {
   "cell_type": "markdown",
   "metadata": {},
   "source": [
    "There are not any visible strong correlations in the data. Also, the distribution for each variable does not follow a normal distribution, which violates one of the model assumptions."
   ]
  },
  {
   "cell_type": "markdown",
   "metadata": {},
   "source": [
    "## Check for Multicollinearity"
   ]
  },
  {
   "cell_type": "code",
   "execution_count": 28,
   "metadata": {},
   "outputs": [
    {
     "name": "stdout",
     "output_type": "stream",
     "text": [
      "             AGE    FEMALE       LOS      RACE    TOTCHG    APRDRG\n",
      "AGE     1.000000  0.233979 -0.068640  0.018834  0.131680  0.147497\n",
      "FEMALE  0.233979  1.000000  0.035761 -0.042309 -0.060195  0.252863\n",
      "LOS    -0.068640  0.035761  1.000000 -0.016686  0.623193  0.005059\n",
      "RACE    0.018834 -0.042309 -0.016686  1.000000 -0.016341 -0.044100\n",
      "TOTCHG  0.131680 -0.060195  0.623193 -0.016341  1.000000 -0.330001\n",
      "APRDRG  0.147497  0.252863  0.005059 -0.044100 -0.330001  1.000000\n",
      "AxesSubplot(0.125,0.125;0.62x0.755)\n"
     ]
    },
    {
     "data": {
      "image/png": "[encoded data removed]",
      "text/plain": [
       "<Figure size 432x288 with 2 Axes>"
      ]
     },
     "metadata": {
      "needs_background": "light"
     },
     "output_type": "display_data"
    }
   ],
   "source": [
    "cmap = sns.diverging_palette(220, 20, as_cmap=True)\n",
    "\n",
    "\n",
    "correlations = df.corr()\n",
    "\n",
    "print(correlations)\n",
    "print (sns.heatmap(correlations,  vmin=-1, vmax=1, cmap=cmap,  annot=True ))"
   ]
  },
  {
   "cell_type": "markdown",
   "metadata": {},
   "source": [
    "There is no multicollinearity found between the independent variables."
   ]
  },
  {
   "cell_type": "markdown",
   "metadata": {},
   "source": [
    "## Create OLS Model"
   ]
  },
  {
   "cell_type": "code",
   "execution_count": 29,
   "metadata": {
    "scrolled": false
   },
   "outputs": [
    {
     "data": {
      "text/html": [
       "<table class=\"simpletable\">\n",
       "<caption>OLS Regression Results</caption>\n",
       "<tr>\n",
       "  <th>Dep. Variable:</th>         <td>TOTCHG</td>      <th>  R-squared:         </th> <td>   0.388</td>\n",
       "</tr>\n",
       "<tr>\n",
       "  <th>Model:</th>                   <td>OLS</td>       <th>  Adj. R-squared:    </th> <td>   0.387</td>\n",
       "</tr>\n",
       "<tr>\n",
       "  <th>Method:</th>             <td>Least Squares</td>  <th>  F-statistic:       </th> <td>   316.2</td>\n",
       "</tr>\n",
       "<tr>\n",
       "  <th>Date:</th>             <td>Fri, 25 Jun 2021</td> <th>  Prob (F-statistic):</th> <td>3.92e-55</td>\n",
       "</tr>\n",
       "<tr>\n",
       "  <th>Time:</th>                 <td>09:21:38</td>     <th>  Log-Likelihood:    </th> <td> -4718.9</td>\n",
       "</tr>\n",
       "<tr>\n",
       "  <th>No. Observations:</th>      <td>   500</td>      <th>  AIC:               </th> <td>   9442.</td>\n",
       "</tr>\n",
       "<tr>\n",
       "  <th>Df Residuals:</th>          <td>   498</td>      <th>  BIC:               </th> <td>   9450.</td>\n",
       "</tr>\n",
       "<tr>\n",
       "  <th>Df Model:</th>              <td>     1</td>      <th>                     </th>     <td> </td>   \n",
       "</tr>\n",
       "<tr>\n",
       "  <th>Covariance Type:</th>      <td>nonrobust</td>    <th>                     </th>     <td> </td>   \n",
       "</tr>\n",
       "</table>\n",
       "<table class=\"simpletable\">\n",
       "<tr>\n",
       "      <td></td>         <th>coef</th>     <th>std err</th>      <th>t</th>      <th>P>|t|</th>  <th>[0.025</th>    <th>0.975]</th>  \n",
       "</tr>\n",
       "<tr>\n",
       "  <th>Intercept</th> <td>  736.9518</td> <td>  177.933</td> <td>    4.142</td> <td> 0.000</td> <td>  387.361</td> <td> 1086.543</td>\n",
       "</tr>\n",
       "<tr>\n",
       "  <th>LOS</th>       <td>  720.4513</td> <td>   40.515</td> <td>   17.782</td> <td> 0.000</td> <td>  640.851</td> <td>  800.052</td>\n",
       "</tr>\n",
       "</table>\n",
       "<table class=\"simpletable\">\n",
       "<tr>\n",
       "  <th>Omnibus:</th>       <td>692.811</td> <th>  Durbin-Watson:     </th>  <td>   0.820</td> \n",
       "</tr>\n",
       "<tr>\n",
       "  <th>Prob(Omnibus):</th> <td> 0.000</td>  <th>  Jarque-Bera (JB):  </th> <td>137486.082</td>\n",
       "</tr>\n",
       "<tr>\n",
       "  <th>Skew:</th>          <td> 7.047</td>  <th>  Prob(JB):          </th>  <td>    0.00</td> \n",
       "</tr>\n",
       "<tr>\n",
       "  <th>Kurtosis:</th>      <td>83.004</td>  <th>  Cond. No.          </th>  <td>    5.87</td> \n",
       "</tr>\n",
       "</table><br/><br/>Notes:<br/>[1] Standard Errors assume that the covariance matrix of the errors is correctly specified."
      ],
      "text/plain": [
       "<class 'statsmodels.iolib.summary.Summary'>\n",
       "\"\"\"\n",
       "                            OLS Regression Results                            \n",
       "==============================================================================\n",
       "Dep. Variable:                 TOTCHG   R-squared:                       0.388\n",
       "Model:                            OLS   Adj. R-squared:                  0.387\n",
       "Method:                 Least Squares   F-statistic:                     316.2\n",
       "Date:                Fri, 25 Jun 2021   Prob (F-statistic):           3.92e-55\n",
       "Time:                        09:21:38   Log-Likelihood:                -4718.9\n",
       "No. Observations:                 500   AIC:                             9442.\n",
       "Df Residuals:                     498   BIC:                             9450.\n",
       "Df Model:                           1                                         \n",
       "Covariance Type:            nonrobust                                         \n",
       "==============================================================================\n",
       "                 coef    std err          t      P>|t|      [0.025      0.975]\n",
       "------------------------------------------------------------------------------\n",
       "Intercept    736.9518    177.933      4.142      0.000     387.361    1086.543\n",
       "LOS          720.4513     40.515     17.782      0.000     640.851     800.052\n",
       "==============================================================================\n",
       "Omnibus:                      692.811   Durbin-Watson:                   0.820\n",
       "Prob(Omnibus):                  0.000   Jarque-Bera (JB):           137486.082\n",
       "Skew:                           7.047   Prob(JB):                         0.00\n",
       "Kurtosis:                      83.004   Cond. No.                         5.87\n",
       "==============================================================================\n",
       "\n",
       "Notes:\n",
       "[1] Standard Errors assume that the covariance matrix of the errors is correctly specified.\n",
       "\"\"\""
      ]
     },
     "execution_count": 29,
     "metadata": {},
     "output_type": "execute_result"
    }
   ],
   "source": [
    "lm = smf.ols(formula='TOTCHG ~ LOS', data=df)\n",
    "\n",
    "ols_res= lm.fit()\n",
    "\n",
    "ols_res.summary()"
   ]
  },
  {
   "cell_type": "markdown",
   "metadata": {},
   "source": [
    "The R-Squared value of 0.388 indicates that LOS may not be the best variable to use in predicting hospital charges. Therefore, additional variables will be added to the model."
   ]
  },
  {
   "cell_type": "code",
   "execution_count": 30,
   "metadata": {},
   "outputs": [
    {
     "data": {
      "text/html": [
       "<table class=\"simpletable\">\n",
       "<caption>OLS Regression Results</caption>\n",
       "<tr>\n",
       "  <th>Dep. Variable:</th>         <td>TOTCHG</td>      <th>  R-squared:         </th> <td>   0.419</td>\n",
       "</tr>\n",
       "<tr>\n",
       "  <th>Model:</th>                   <td>OLS</td>       <th>  Adj. R-squared:    </th> <td>   0.417</td>\n",
       "</tr>\n",
       "<tr>\n",
       "  <th>Method:</th>             <td>Least Squares</td>  <th>  F-statistic:       </th> <td>   179.2</td>\n",
       "</tr>\n",
       "<tr>\n",
       "  <th>Date:</th>             <td>Fri, 25 Jun 2021</td> <th>  Prob (F-statistic):</th> <td>2.55e-59</td>\n",
       "</tr>\n",
       "<tr>\n",
       "  <th>Time:</th>                 <td>09:21:38</td>     <th>  Log-Likelihood:    </th> <td> -4706.1</td>\n",
       "</tr>\n",
       "<tr>\n",
       "  <th>No. Observations:</th>      <td>   500</td>      <th>  AIC:               </th> <td>   9418.</td>\n",
       "</tr>\n",
       "<tr>\n",
       "  <th>Df Residuals:</th>          <td>   497</td>      <th>  BIC:               </th> <td>   9431.</td>\n",
       "</tr>\n",
       "<tr>\n",
       "  <th>Df Model:</th>              <td>     2</td>      <th>                     </th>     <td> </td>   \n",
       "</tr>\n",
       "<tr>\n",
       "  <th>Covariance Type:</th>      <td>nonrobust</td>    <th>                     </th>     <td> </td>   \n",
       "</tr>\n",
       "</table>\n",
       "<table class=\"simpletable\">\n",
       "<tr>\n",
       "      <td></td>         <th>coef</th>     <th>std err</th>      <th>t</th>      <th>P>|t|</th>  <th>[0.025</th>    <th>0.975]</th>  \n",
       "</tr>\n",
       "<tr>\n",
       "  <th>Intercept</th> <td>  198.8113</td> <td>  203.002</td> <td>    0.979</td> <td> 0.328</td> <td> -200.036</td> <td>  597.659</td>\n",
       "</tr>\n",
       "<tr>\n",
       "  <th>LOS</th>       <td>  734.3602</td> <td>   39.622</td> <td>   18.534</td> <td> 0.000</td> <td>  656.513</td> <td>  812.208</td>\n",
       "</tr>\n",
       "<tr>\n",
       "  <th>AGE</th>       <td>   98.0743</td> <td>   19.177</td> <td>    5.114</td> <td> 0.000</td> <td>   60.397</td> <td>  135.752</td>\n",
       "</tr>\n",
       "</table>\n",
       "<table class=\"simpletable\">\n",
       "<tr>\n",
       "  <th>Omnibus:</th>       <td>678.829</td> <th>  Durbin-Watson:     </th>  <td>   0.871</td> \n",
       "</tr>\n",
       "<tr>\n",
       "  <th>Prob(Omnibus):</th> <td> 0.000</td>  <th>  Jarque-Bera (JB):  </th> <td>130949.572</td>\n",
       "</tr>\n",
       "<tr>\n",
       "  <th>Skew:</th>          <td> 6.781</td>  <th>  Prob(JB):          </th>  <td>    0.00</td> \n",
       "</tr>\n",
       "<tr>\n",
       "  <th>Kurtosis:</th>      <td>81.113</td>  <th>  Cond. No.          </th>  <td>    13.5</td> \n",
       "</tr>\n",
       "</table><br/><br/>Notes:<br/>[1] Standard Errors assume that the covariance matrix of the errors is correctly specified."
      ],
      "text/plain": [
       "<class 'statsmodels.iolib.summary.Summary'>\n",
       "\"\"\"\n",
       "                            OLS Regression Results                            \n",
       "==============================================================================\n",
       "Dep. Variable:                 TOTCHG   R-squared:                       0.419\n",
       "Model:                            OLS   Adj. R-squared:                  0.417\n",
       "Method:                 Least Squares   F-statistic:                     179.2\n",
       "Date:                Fri, 25 Jun 2021   Prob (F-statistic):           2.55e-59\n",
       "Time:                        09:21:38   Log-Likelihood:                -4706.1\n",
       "No. Observations:                 500   AIC:                             9418.\n",
       "Df Residuals:                     497   BIC:                             9431.\n",
       "Df Model:                           2                                         \n",
       "Covariance Type:            nonrobust                                         \n",
       "==============================================================================\n",
       "                 coef    std err          t      P>|t|      [0.025      0.975]\n",
       "------------------------------------------------------------------------------\n",
       "Intercept    198.8113    203.002      0.979      0.328    -200.036     597.659\n",
       "LOS          734.3602     39.622     18.534      0.000     656.513     812.208\n",
       "AGE           98.0743     19.177      5.114      0.000      60.397     135.752\n",
       "==============================================================================\n",
       "Omnibus:                      678.829   Durbin-Watson:                   0.871\n",
       "Prob(Omnibus):                  0.000   Jarque-Bera (JB):           130949.572\n",
       "Skew:                           6.781   Prob(JB):                         0.00\n",
       "Kurtosis:                      81.113   Cond. No.                         13.5\n",
       "==============================================================================\n",
       "\n",
       "Notes:\n",
       "[1] Standard Errors assume that the covariance matrix of the errors is correctly specified.\n",
       "\"\"\""
      ]
     },
     "execution_count": 30,
     "metadata": {},
     "output_type": "execute_result"
    }
   ],
   "source": [
    "lm = smf.ols(formula='TOTCHG ~ LOS + AGE', data=df)\n",
    "\n",
    "ols_res= lm.fit()\n",
    "\n",
    "ols_res.summary()"
   ]
  },
  {
   "cell_type": "code",
   "execution_count": 31,
   "metadata": {},
   "outputs": [
    {
     "data": {
      "text/html": [
       "<table class=\"simpletable\">\n",
       "<caption>OLS Regression Results</caption>\n",
       "<tr>\n",
       "  <th>Dep. Variable:</th>         <td>TOTCHG</td>      <th>  R-squared:         </th> <td>   0.435</td>\n",
       "</tr>\n",
       "<tr>\n",
       "  <th>Model:</th>                   <td>OLS</td>       <th>  Adj. R-squared:    </th> <td>   0.432</td>\n",
       "</tr>\n",
       "<tr>\n",
       "  <th>Method:</th>             <td>Least Squares</td>  <th>  F-statistic:       </th> <td>   127.4</td>\n",
       "</tr>\n",
       "<tr>\n",
       "  <th>Date:</th>             <td>Fri, 25 Jun 2021</td> <th>  Prob (F-statistic):</th> <td>3.41e-61</td>\n",
       "</tr>\n",
       "<tr>\n",
       "  <th>Time:</th>                 <td>09:21:38</td>     <th>  Log-Likelihood:    </th> <td> -4699.0</td>\n",
       "</tr>\n",
       "<tr>\n",
       "  <th>No. Observations:</th>      <td>   500</td>      <th>  AIC:               </th> <td>   9406.</td>\n",
       "</tr>\n",
       "<tr>\n",
       "  <th>Df Residuals:</th>          <td>   496</td>      <th>  BIC:               </th> <td>   9423.</td>\n",
       "</tr>\n",
       "<tr>\n",
       "  <th>Df Model:</th>              <td>     3</td>      <th>                     </th>     <td> </td>   \n",
       "</tr>\n",
       "<tr>\n",
       "  <th>Covariance Type:</th>      <td>nonrobust</td>    <th>                     </th>     <td> </td>   \n",
       "</tr>\n",
       "</table>\n",
       "<table class=\"simpletable\">\n",
       "<tr>\n",
       "         <td></td>           <th>coef</th>     <th>std err</th>      <th>t</th>      <th>P>|t|</th>  <th>[0.025</th>    <th>0.975]</th>  \n",
       "</tr>\n",
       "<tr>\n",
       "  <th>Intercept</th>      <td>  610.6805</td> <td>  228.013</td> <td>    2.678</td> <td> 0.008</td> <td>  162.690</td> <td> 1058.671</td>\n",
       "</tr>\n",
       "<tr>\n",
       "  <th>C(FEMALE)[T.1]</th> <td>-1021.7377</td> <td>  270.103</td> <td>   -3.783</td> <td> 0.000</td> <td>-1552.425</td> <td> -491.051</td>\n",
       "</tr>\n",
       "<tr>\n",
       "  <th>LOS</th>            <td>  742.2741</td> <td>   39.158</td> <td>   18.956</td> <td> 0.000</td> <td>  665.338</td> <td>  819.210</td>\n",
       "</tr>\n",
       "<tr>\n",
       "  <th>AGE</th>            <td>  115.5497</td> <td>   19.481</td> <td>    5.931</td> <td> 0.000</td> <td>   77.275</td> <td>  153.825</td>\n",
       "</tr>\n",
       "</table>\n",
       "<table class=\"simpletable\">\n",
       "<tr>\n",
       "  <th>Omnibus:</th>       <td>694.817</td> <th>  Durbin-Watson:     </th>  <td>   0.908</td> \n",
       "</tr>\n",
       "<tr>\n",
       "  <th>Prob(Omnibus):</th> <td> 0.000</td>  <th>  Jarque-Bera (JB):  </th> <td>152230.933</td>\n",
       "</tr>\n",
       "<tr>\n",
       "  <th>Skew:</th>          <td> 7.036</td>  <th>  Prob(JB):          </th>  <td>    0.00</td> \n",
       "</tr>\n",
       "<tr>\n",
       "  <th>Kurtosis:</th>      <td>87.315</td>  <th>  Cond. No.          </th>  <td>    20.6</td> \n",
       "</tr>\n",
       "</table><br/><br/>Notes:<br/>[1] Standard Errors assume that the covariance matrix of the errors is correctly specified."
      ],
      "text/plain": [
       "<class 'statsmodels.iolib.summary.Summary'>\n",
       "\"\"\"\n",
       "                            OLS Regression Results                            \n",
       "==============================================================================\n",
       "Dep. Variable:                 TOTCHG   R-squared:                       0.435\n",
       "Model:                            OLS   Adj. R-squared:                  0.432\n",
       "Method:                 Least Squares   F-statistic:                     127.4\n",
       "Date:                Fri, 25 Jun 2021   Prob (F-statistic):           3.41e-61\n",
       "Time:                        09:21:38   Log-Likelihood:                -4699.0\n",
       "No. Observations:                 500   AIC:                             9406.\n",
       "Df Residuals:                     496   BIC:                             9423.\n",
       "Df Model:                           3                                         \n",
       "Covariance Type:            nonrobust                                         \n",
       "==================================================================================\n",
       "                     coef    std err          t      P>|t|      [0.025      0.975]\n",
       "----------------------------------------------------------------------------------\n",
       "Intercept        610.6805    228.013      2.678      0.008     162.690    1058.671\n",
       "C(FEMALE)[T.1] -1021.7377    270.103     -3.783      0.000   -1552.425    -491.051\n",
       "LOS              742.2741     39.158     18.956      0.000     665.338     819.210\n",
       "AGE              115.5497     19.481      5.931      0.000      77.275     153.825\n",
       "==============================================================================\n",
       "Omnibus:                      694.817   Durbin-Watson:                   0.908\n",
       "Prob(Omnibus):                  0.000   Jarque-Bera (JB):           152230.933\n",
       "Skew:                           7.036   Prob(JB):                         0.00\n",
       "Kurtosis:                      87.315   Cond. No.                         20.6\n",
       "==============================================================================\n",
       "\n",
       "Notes:\n",
       "[1] Standard Errors assume that the covariance matrix of the errors is correctly specified.\n",
       "\"\"\""
      ]
     },
     "execution_count": 31,
     "metadata": {},
     "output_type": "execute_result"
    }
   ],
   "source": [
    "lm = smf.ols(formula='TOTCHG ~ LOS + AGE + C(FEMALE)', data=df)\n",
    "\n",
    "ols_res= lm.fit()\n",
    "\n",
    "ols_res.summary()"
   ]
  },
  {
   "cell_type": "code",
   "execution_count": 32,
   "metadata": {},
   "outputs": [
    {
     "data": {
      "text/html": [
       "<table class=\"simpletable\">\n",
       "<caption>OLS Regression Results</caption>\n",
       "<tr>\n",
       "  <th>Dep. Variable:</th>         <td>TOTCHG</td>      <th>  R-squared:         </th> <td>   0.437</td>\n",
       "</tr>\n",
       "<tr>\n",
       "  <th>Model:</th>                   <td>OLS</td>       <th>  Adj. R-squared:    </th> <td>   0.427</td>\n",
       "</tr>\n",
       "<tr>\n",
       "  <th>Method:</th>             <td>Least Squares</td>  <th>  F-statistic:       </th> <td>   42.26</td>\n",
       "</tr>\n",
       "<tr>\n",
       "  <th>Date:</th>             <td>Fri, 25 Jun 2021</td> <th>  Prob (F-statistic):</th> <td>8.61e-56</td>\n",
       "</tr>\n",
       "<tr>\n",
       "  <th>Time:</th>                 <td>09:21:38</td>     <th>  Log-Likelihood:    </th> <td> -4698.2</td>\n",
       "</tr>\n",
       "<tr>\n",
       "  <th>No. Observations:</th>      <td>   500</td>      <th>  AIC:               </th> <td>   9416.</td>\n",
       "</tr>\n",
       "<tr>\n",
       "  <th>Df Residuals:</th>          <td>   490</td>      <th>  BIC:               </th> <td>   9459.</td>\n",
       "</tr>\n",
       "<tr>\n",
       "  <th>Df Model:</th>              <td>     9</td>      <th>                     </th>     <td> </td>   \n",
       "</tr>\n",
       "<tr>\n",
       "  <th>Covariance Type:</th>      <td>nonrobust</td>    <th>                     </th>     <td> </td>   \n",
       "</tr>\n",
       "</table>\n",
       "<table class=\"simpletable\">\n",
       "<tr>\n",
       "         <td></td>           <th>coef</th>     <th>std err</th>      <th>t</th>      <th>P>|t|</th>  <th>[0.025</th>    <th>0.975]</th>  \n",
       "</tr>\n",
       "<tr>\n",
       "  <th>Intercept</th>      <td>  679.5999</td> <td> 2957.612</td> <td>    0.230</td> <td> 0.818</td> <td>-5131.567</td> <td> 6490.766</td>\n",
       "</tr>\n",
       "<tr>\n",
       "  <th>C(FEMALE)[T.1]</th> <td>-1008.9365</td> <td>  273.277</td> <td>   -3.692</td> <td> 0.000</td> <td>-1545.877</td> <td> -471.996</td>\n",
       "</tr>\n",
       "<tr>\n",
       "  <th>C(RACE)[T.1.0]</th> <td>  -74.3931</td> <td> 2953.404</td> <td>   -0.025</td> <td> 0.980</td> <td>-5877.292</td> <td> 5728.506</td>\n",
       "</tr>\n",
       "<tr>\n",
       "  <th>C(RACE)[T.2.0]</th> <td>  988.3878</td> <td> 3195.858</td> <td>    0.309</td> <td> 0.757</td> <td>-5290.888</td> <td> 7267.664</td>\n",
       "</tr>\n",
       "<tr>\n",
       "  <th>C(RACE)[T.3.0]</th> <td>  399.6634</td> <td> 4164.585</td> <td>    0.096</td> <td> 0.924</td> <td>-7782.984</td> <td> 8582.311</td>\n",
       "</tr>\n",
       "<tr>\n",
       "  <th>C(RACE)[T.4.0]</th> <td>-1169.9052</td> <td> 3407.465</td> <td>   -0.343</td> <td> 0.731</td> <td>-7864.951</td> <td> 5525.140</td>\n",
       "</tr>\n",
       "<tr>\n",
       "  <th>C(RACE)[T.5.0]</th> <td> -138.2698</td> <td> 3410.727</td> <td>   -0.041</td> <td> 0.968</td> <td>-6839.725</td> <td> 6563.185</td>\n",
       "</tr>\n",
       "<tr>\n",
       "  <th>C(RACE)[T.6.0]</th> <td>-1228.8330</td> <td> 3613.482</td> <td>   -0.340</td> <td> 0.734</td> <td>-8328.665</td> <td> 5870.999</td>\n",
       "</tr>\n",
       "<tr>\n",
       "  <th>LOS</th>            <td>  742.6683</td> <td>   39.361</td> <td>   18.868</td> <td> 0.000</td> <td>  665.332</td> <td>  820.005</td>\n",
       "</tr>\n",
       "<tr>\n",
       "  <th>AGE</th>            <td>  114.6706</td> <td>   19.756</td> <td>    5.804</td> <td> 0.000</td> <td>   75.853</td> <td>  153.488</td>\n",
       "</tr>\n",
       "</table>\n",
       "<table class=\"simpletable\">\n",
       "<tr>\n",
       "  <th>Omnibus:</th>       <td>696.334</td> <th>  Durbin-Watson:     </th>  <td>   0.911</td> \n",
       "</tr>\n",
       "<tr>\n",
       "  <th>Prob(Omnibus):</th> <td> 0.000</td>  <th>  Jarque-Bera (JB):  </th> <td>154273.994</td>\n",
       "</tr>\n",
       "<tr>\n",
       "  <th>Skew:</th>          <td> 7.061</td>  <th>  Prob(JB):          </th>  <td>    0.00</td> \n",
       "</tr>\n",
       "<tr>\n",
       "  <th>Kurtosis:</th>      <td>87.887</td>  <th>  Cond. No.          </th>  <td>    536.</td> \n",
       "</tr>\n",
       "</table><br/><br/>Notes:<br/>[1] Standard Errors assume that the covariance matrix of the errors is correctly specified."
      ],
      "text/plain": [
       "<class 'statsmodels.iolib.summary.Summary'>\n",
       "\"\"\"\n",
       "                            OLS Regression Results                            \n",
       "==============================================================================\n",
       "Dep. Variable:                 TOTCHG   R-squared:                       0.437\n",
       "Model:                            OLS   Adj. R-squared:                  0.427\n",
       "Method:                 Least Squares   F-statistic:                     42.26\n",
       "Date:                Fri, 25 Jun 2021   Prob (F-statistic):           8.61e-56\n",
       "Time:                        09:21:38   Log-Likelihood:                -4698.2\n",
       "No. Observations:                 500   AIC:                             9416.\n",
       "Df Residuals:                     490   BIC:                             9459.\n",
       "Df Model:                           9                                         \n",
       "Covariance Type:            nonrobust                                         \n",
       "==================================================================================\n",
       "                     coef    std err          t      P>|t|      [0.025      0.975]\n",
       "----------------------------------------------------------------------------------\n",
       "Intercept        679.5999   2957.612      0.230      0.818   -5131.567    6490.766\n",
       "C(FEMALE)[T.1] -1008.9365    273.277     -3.692      0.000   -1545.877    -471.996\n",
       "C(RACE)[T.1.0]   -74.3931   2953.404     -0.025      0.980   -5877.292    5728.506\n",
       "C(RACE)[T.2.0]   988.3878   3195.858      0.309      0.757   -5290.888    7267.664\n",
       "C(RACE)[T.3.0]   399.6634   4164.585      0.096      0.924   -7782.984    8582.311\n",
       "C(RACE)[T.4.0] -1169.9052   3407.465     -0.343      0.731   -7864.951    5525.140\n",
       "C(RACE)[T.5.0]  -138.2698   3410.727     -0.041      0.968   -6839.725    6563.185\n",
       "C(RACE)[T.6.0] -1228.8330   3613.482     -0.340      0.734   -8328.665    5870.999\n",
       "LOS              742.6683     39.361     18.868      0.000     665.332     820.005\n",
       "AGE              114.6706     19.756      5.804      0.000      75.853     153.488\n",
       "==============================================================================\n",
       "Omnibus:                      696.334   Durbin-Watson:                   0.911\n",
       "Prob(Omnibus):                  0.000   Jarque-Bera (JB):           154273.994\n",
       "Skew:                           7.061   Prob(JB):                         0.00\n",
       "Kurtosis:                      87.887   Cond. No.                         536.\n",
       "==============================================================================\n",
       "\n",
       "Notes:\n",
       "[1] Standard Errors assume that the covariance matrix of the errors is correctly specified.\n",
       "\"\"\""
      ]
     },
     "execution_count": 32,
     "metadata": {},
     "output_type": "execute_result"
    }
   ],
   "source": [
    "lm = smf.ols(formula='TOTCHG ~ LOS + AGE + C(FEMALE) + C(RACE)', data=df)\n",
    "\n",
    "ols_res= lm.fit()\n",
    "\n",
    "ols_res.summary()"
   ]
  },
  {
   "cell_type": "markdown",
   "metadata": {},
   "source": [
    "Age, Female and Race did not have much of an impact to the Adj. R-Squared."
   ]
  },
  {
   "cell_type": "code",
   "execution_count": 33,
   "metadata": {},
   "outputs": [
    {
     "data": {
      "text/html": [
       "<table class=\"simpletable\">\n",
       "<caption>OLS Regression Results</caption>\n",
       "<tr>\n",
       "  <th>Dep. Variable:</th>         <td>TOTCHG</td>      <th>  R-squared:         </th> <td>   0.965</td> \n",
       "</tr>\n",
       "<tr>\n",
       "  <th>Model:</th>                   <td>OLS</td>       <th>  Adj. R-squared:    </th> <td>   0.959</td> \n",
       "</tr>\n",
       "<tr>\n",
       "  <th>Method:</th>             <td>Least Squares</td>  <th>  F-statistic:       </th> <td>   166.3</td> \n",
       "</tr>\n",
       "<tr>\n",
       "  <th>Date:</th>             <td>Fri, 25 Jun 2021</td> <th>  Prob (F-statistic):</th> <td>1.48e-270</td>\n",
       "</tr>\n",
       "<tr>\n",
       "  <th>Time:</th>                 <td>09:21:38</td>     <th>  Log-Likelihood:    </th> <td> -4003.6</td> \n",
       "</tr>\n",
       "<tr>\n",
       "  <th>No. Observations:</th>      <td>   500</td>      <th>  AIC:               </th> <td>   8151.</td> \n",
       "</tr>\n",
       "<tr>\n",
       "  <th>Df Residuals:</th>          <td>   428</td>      <th>  BIC:               </th> <td>   8455.</td> \n",
       "</tr>\n",
       "<tr>\n",
       "  <th>Df Model:</th>              <td>    71</td>      <th>                     </th>     <td> </td>    \n",
       "</tr>\n",
       "<tr>\n",
       "  <th>Covariance Type:</th>      <td>nonrobust</td>    <th>                     </th>     <td> </td>    \n",
       "</tr>\n",
       "</table>\n",
       "<table class=\"simpletable\">\n",
       "<tr>\n",
       "          <td></td>            <th>coef</th>     <th>std err</th>      <th>t</th>      <th>P>|t|</th>  <th>[0.025</th>    <th>0.975]</th>  \n",
       "</tr>\n",
       "<tr>\n",
       "  <th>Intercept</th>        <td> 6904.4207</td> <td> 1245.829</td> <td>    5.542</td> <td> 0.000</td> <td> 4455.717</td> <td> 9353.124</td>\n",
       "</tr>\n",
       "<tr>\n",
       "  <th>C(FEMALE)[T.1]</th>   <td> -136.8780</td> <td>   78.782</td> <td>   -1.737</td> <td> 0.083</td> <td> -291.726</td> <td>   17.970</td>\n",
       "</tr>\n",
       "<tr>\n",
       "  <th>C(RACE)[T.1.0]</th>   <td>  113.0158</td> <td>  787.982</td> <td>    0.143</td> <td> 0.886</td> <td>-1435.779</td> <td> 1661.811</td>\n",
       "</tr>\n",
       "<tr>\n",
       "  <th>C(RACE)[T.2.0]</th>   <td>  382.7501</td> <td>  887.506</td> <td>    0.431</td> <td> 0.666</td> <td>-1361.663</td> <td> 2127.163</td>\n",
       "</tr>\n",
       "<tr>\n",
       "  <th>C(RACE)[T.3.0]</th>   <td>  754.3492</td> <td> 1166.428</td> <td>    0.647</td> <td> 0.518</td> <td>-1538.290</td> <td> 3046.988</td>\n",
       "</tr>\n",
       "<tr>\n",
       "  <th>C(RACE)[T.4.0]</th>   <td>  219.4237</td> <td>  910.767</td> <td>    0.241</td> <td> 0.810</td> <td>-1570.709</td> <td> 2009.556</td>\n",
       "</tr>\n",
       "<tr>\n",
       "  <th>C(RACE)[T.5.0]</th>   <td> 1690.2033</td> <td> 1204.268</td> <td>    1.404</td> <td> 0.161</td> <td> -676.812</td> <td> 4057.218</td>\n",
       "</tr>\n",
       "<tr>\n",
       "  <th>C(RACE)[T.6.0]</th>   <td>   39.1891</td> <td>  969.747</td> <td>    0.040</td> <td> 0.968</td> <td>-1866.871</td> <td> 1945.249</td>\n",
       "</tr>\n",
       "<tr>\n",
       "  <th>C(APRDRG)[T.23]</th>  <td> 4355.1399</td> <td> 1182.422</td> <td>    3.683</td> <td> 0.000</td> <td> 2031.063</td> <td> 6679.217</td>\n",
       "</tr>\n",
       "<tr>\n",
       "  <th>C(APRDRG)[T.49]</th>  <td> 7890.6917</td> <td> 1187.248</td> <td>    6.646</td> <td> 0.000</td> <td> 5557.130</td> <td> 1.02e+04</td>\n",
       "</tr>\n",
       "<tr>\n",
       "  <th>C(APRDRG)[T.50]</th>  <td>-5254.4156</td> <td> 1194.682</td> <td>   -4.398</td> <td> 0.000</td> <td>-7602.589</td> <td>-2906.242</td>\n",
       "</tr>\n",
       "<tr>\n",
       "  <th>C(APRDRG)[T.51]</th>  <td>-7323.6414</td> <td> 1184.287</td> <td>   -6.184</td> <td> 0.000</td> <td>-9651.384</td> <td>-4995.899</td>\n",
       "</tr>\n",
       "<tr>\n",
       "  <th>C(APRDRG)[T.53]</th>  <td>-1199.9825</td> <td>  954.202</td> <td>   -1.258</td> <td> 0.209</td> <td>-3075.487</td> <td>  675.522</td>\n",
       "</tr>\n",
       "<tr>\n",
       "  <th>C(APRDRG)[T.54]</th>  <td>-8166.3229</td> <td> 1184.459</td> <td>   -6.895</td> <td> 0.000</td> <td>-1.05e+04</td> <td>-5838.242</td>\n",
       "</tr>\n",
       "<tr>\n",
       "  <th>C(APRDRG)[T.57]</th>  <td> -860.5678</td> <td> 1081.767</td> <td>   -0.796</td> <td> 0.427</td> <td>-2986.804</td> <td> 1265.668</td>\n",
       "</tr>\n",
       "<tr>\n",
       "  <th>C(APRDRG)[T.58]</th>  <td>-5651.6901</td> <td> 1238.031</td> <td>   -4.565</td> <td> 0.000</td> <td>-8085.067</td> <td>-3218.313</td>\n",
       "</tr>\n",
       "<tr>\n",
       "  <th>C(APRDRG)[T.92]</th>  <td> 3042.9880</td> <td> 1184.641</td> <td>    2.569</td> <td> 0.011</td> <td>  714.550</td> <td> 5371.426</td>\n",
       "</tr>\n",
       "<tr>\n",
       "  <th>C(APRDRG)[T.97]</th>  <td>   -0.9807</td> <td> 1211.222</td> <td>   -0.001</td> <td> 0.999</td> <td>-2381.664</td> <td> 2379.703</td>\n",
       "</tr>\n",
       "<tr>\n",
       "  <th>C(APRDRG)[T.114]</th> <td>  771.2360</td> <td> 1199.154</td> <td>    0.643</td> <td> 0.520</td> <td>-1585.727</td> <td> 3128.199</td>\n",
       "</tr>\n",
       "<tr>\n",
       "  <th>C(APRDRG)[T.115]</th> <td> 2529.0158</td> <td> 1063.901</td> <td>    2.377</td> <td> 0.018</td> <td>  437.894</td> <td> 4620.137</td>\n",
       "</tr>\n",
       "<tr>\n",
       "  <th>C(APRDRG)[T.137]</th> <td>  135.6525</td> <td> 1262.554</td> <td>    0.107</td> <td> 0.914</td> <td>-2345.926</td> <td> 2617.231</td>\n",
       "</tr>\n",
       "<tr>\n",
       "  <th>C(APRDRG)[T.138]</th> <td>-4574.7058</td> <td> 1042.133</td> <td>   -4.390</td> <td> 0.000</td> <td>-6623.042</td> <td>-2526.369</td>\n",
       "</tr>\n",
       "<tr>\n",
       "  <th>C(APRDRG)[T.139]</th> <td>-4931.6448</td> <td>  985.592</td> <td>   -5.004</td> <td> 0.000</td> <td>-6868.848</td> <td>-2994.441</td>\n",
       "</tr>\n",
       "<tr>\n",
       "  <th>C(APRDRG)[T.141]</th> <td>-6352.6992</td> <td> 1195.663</td> <td>   -5.313</td> <td> 0.000</td> <td>-8702.800</td> <td>-4002.598</td>\n",
       "</tr>\n",
       "<tr>\n",
       "  <th>C(APRDRG)[T.143]</th> <td>-8530.9425</td> <td> 1540.389</td> <td>   -5.538</td> <td> 0.000</td> <td>-1.16e+04</td> <td>-5503.274</td>\n",
       "</tr>\n",
       "<tr>\n",
       "  <th>C(APRDRG)[T.204]</th> <td>-2044.5193</td> <td> 1182.551</td> <td>   -1.729</td> <td> 0.085</td> <td>-4368.850</td> <td>  279.811</td>\n",
       "</tr>\n",
       "<tr>\n",
       "  <th>C(APRDRG)[T.206]</th> <td> -127.7919</td> <td> 1220.972</td> <td>   -0.105</td> <td> 0.917</td> <td>-2527.639</td> <td> 2272.056</td>\n",
       "</tr>\n",
       "<tr>\n",
       "  <th>C(APRDRG)[T.225]</th> <td>  895.8186</td> <td> 1049.471</td> <td>    0.854</td> <td> 0.394</td> <td>-1166.941</td> <td> 2958.578</td>\n",
       "</tr>\n",
       "<tr>\n",
       "  <th>C(APRDRG)[T.249]</th> <td>-5315.2746</td> <td>  997.455</td> <td>   -5.329</td> <td> 0.000</td> <td>-7275.795</td> <td>-3354.754</td>\n",
       "</tr>\n",
       "<tr>\n",
       "  <th>C(APRDRG)[T.254]</th> <td>-7979.6240</td> <td> 1540.566</td> <td>   -5.180</td> <td> 0.000</td> <td> -1.1e+04</td> <td>-4951.606</td>\n",
       "</tr>\n",
       "<tr>\n",
       "  <th>C(APRDRG)[T.308]</th> <td> 2123.5545</td> <td> 1199.194</td> <td>    1.771</td> <td> 0.077</td> <td> -233.487</td> <td> 4480.596</td>\n",
       "</tr>\n",
       "<tr>\n",
       "  <th>C(APRDRG)[T.313]</th> <td>-1178.3407</td> <td> 1110.627</td> <td>   -1.061</td> <td> 0.289</td> <td>-3361.302</td> <td> 1004.621</td>\n",
       "</tr>\n",
       "<tr>\n",
       "  <th>C(APRDRG)[T.317]</th> <td> 4988.0046</td> <td> 1200.267</td> <td>    4.156</td> <td> 0.000</td> <td> 2628.853</td> <td> 7347.156</td>\n",
       "</tr>\n",
       "<tr>\n",
       "  <th>C(APRDRG)[T.344]</th> <td>-2162.1842</td> <td> 1056.003</td> <td>   -2.048</td> <td> 0.041</td> <td>-4237.782</td> <td>  -86.586</td>\n",
       "</tr>\n",
       "<tr>\n",
       "  <th>C(APRDRG)[T.347]</th> <td>-3802.5781</td> <td> 1012.639</td> <td>   -3.755</td> <td> 0.000</td> <td>-5792.942</td> <td>-1812.214</td>\n",
       "</tr>\n",
       "<tr>\n",
       "  <th>C(APRDRG)[T.420]</th> <td>-6004.9500</td> <td> 1049.037</td> <td>   -5.724</td> <td> 0.000</td> <td>-8066.855</td> <td>-3943.045</td>\n",
       "</tr>\n",
       "<tr>\n",
       "  <th>C(APRDRG)[T.421]</th> <td>-6583.1473</td> <td> 1473.476</td> <td>   -4.468</td> <td> 0.000</td> <td>-9479.296</td> <td>-3686.998</td>\n",
       "</tr>\n",
       "<tr>\n",
       "  <th>C(APRDRG)[T.422]</th> <td>-7058.7682</td> <td> 1015.583</td> <td>   -6.950</td> <td> 0.000</td> <td>-9054.919</td> <td>-5062.617</td>\n",
       "</tr>\n",
       "<tr>\n",
       "  <th>C(APRDRG)[T.560]</th> <td>-7243.4821</td> <td> 1045.957</td> <td>   -6.925</td> <td> 0.000</td> <td>-9299.334</td> <td>-5187.630</td>\n",
       "</tr>\n",
       "<tr>\n",
       "  <th>C(APRDRG)[T.561]</th> <td>-8455.5174</td> <td> 1188.431</td> <td>   -7.115</td> <td> 0.000</td> <td>-1.08e+04</td> <td>-6119.630</td>\n",
       "</tr>\n",
       "<tr>\n",
       "  <th>C(APRDRG)[T.566]</th> <td>-7552.9821</td> <td> 1184.182</td> <td>   -6.378</td> <td> 0.000</td> <td>-9880.517</td> <td>-5225.447</td>\n",
       "</tr>\n",
       "<tr>\n",
       "  <th>C(APRDRG)[T.580]</th> <td>-4857.0957</td> <td> 1244.364</td> <td>   -3.903</td> <td> 0.000</td> <td>-7302.921</td> <td>-2411.271</td>\n",
       "</tr>\n",
       "<tr>\n",
       "  <th>C(APRDRG)[T.581]</th> <td>-4663.4042</td> <td> 1068.059</td> <td>   -4.366</td> <td> 0.000</td> <td>-6762.698</td> <td>-2564.110</td>\n",
       "</tr>\n",
       "<tr>\n",
       "  <th>C(APRDRG)[T.602]</th> <td>-4943.5879</td> <td> 1497.944</td> <td>   -3.300</td> <td> 0.001</td> <td>-7887.830</td> <td>-1999.346</td>\n",
       "</tr>\n",
       "<tr>\n",
       "  <th>C(APRDRG)[T.614]</th> <td>-7719.0733</td> <td> 1102.964</td> <td>   -6.998</td> <td> 0.000</td> <td>-9886.973</td> <td>-5551.174</td>\n",
       "</tr>\n",
       "<tr>\n",
       "  <th>C(APRDRG)[T.626]</th> <td>-7139.5289</td> <td> 1032.355</td> <td>   -6.916</td> <td> 0.000</td> <td>-9168.646</td> <td>-5110.412</td>\n",
       "</tr>\n",
       "<tr>\n",
       "  <th>C(APRDRG)[T.633]</th> <td>-6705.3678</td> <td> 1046.599</td> <td>   -6.407</td> <td> 0.000</td> <td>-8762.482</td> <td>-4648.254</td>\n",
       "</tr>\n",
       "<tr>\n",
       "  <th>C(APRDRG)[T.634]</th> <td>-5032.4031</td> <td> 1114.805</td> <td>   -4.514</td> <td> 0.000</td> <td>-7223.578</td> <td>-2841.228</td>\n",
       "</tr>\n",
       "<tr>\n",
       "  <th>C(APRDRG)[T.636]</th> <td>-3615.9128</td> <td> 1072.169</td> <td>   -3.373</td> <td> 0.001</td> <td>-5723.284</td> <td>-1508.542</td>\n",
       "</tr>\n",
       "<tr>\n",
       "  <th>C(APRDRG)[T.639]</th> <td>-7181.2610</td> <td> 1069.036</td> <td>   -6.718</td> <td> 0.000</td> <td>-9282.476</td> <td>-5080.046</td>\n",
       "</tr>\n",
       "<tr>\n",
       "  <th>C(APRDRG)[T.640]</th> <td>-6940.8612</td> <td>  966.208</td> <td>   -7.184</td> <td> 0.000</td> <td>-8839.964</td> <td>-5041.758</td>\n",
       "</tr>\n",
       "<tr>\n",
       "  <th>C(APRDRG)[T.710]</th> <td>-1575.9787</td> <td> 1229.117</td> <td>   -1.282</td> <td> 0.200</td> <td>-3991.835</td> <td>  839.877</td>\n",
       "</tr>\n",
       "<tr>\n",
       "  <th>C(APRDRG)[T.720]</th> <td> 3642.4840</td> <td> 1227.847</td> <td>    2.967</td> <td> 0.003</td> <td> 1229.124</td> <td> 6055.844</td>\n",
       "</tr>\n",
       "<tr>\n",
       "  <th>C(APRDRG)[T.723]</th> <td>-5705.2093</td> <td> 1065.398</td> <td>   -5.355</td> <td> 0.000</td> <td>-7799.272</td> <td>-3611.147</td>\n",
       "</tr>\n",
       "<tr>\n",
       "  <th>C(APRDRG)[T.740]</th> <td> -377.7710</td> <td> 1187.729</td> <td>   -0.318</td> <td> 0.751</td> <td>-2712.278</td> <td> 1956.736</td>\n",
       "</tr>\n",
       "<tr>\n",
       "  <th>C(APRDRG)[T.750]</th> <td>-8730.5193</td> <td> 1182.551</td> <td>   -7.383</td> <td> 0.000</td> <td>-1.11e+04</td> <td>-6406.189</td>\n",
       "</tr>\n",
       "<tr>\n",
       "  <th>C(APRDRG)[T.751]</th> <td>-8155.6282</td> <td>  914.211</td> <td>   -8.921</td> <td> 0.000</td> <td>-9952.530</td> <td>-6358.727</td>\n",
       "</tr>\n",
       "<tr>\n",
       "  <th>C(APRDRG)[T.753]</th> <td>-8003.8054</td> <td>  892.960</td> <td>   -8.963</td> <td> 0.000</td> <td>-9758.938</td> <td>-6248.673</td>\n",
       "</tr>\n",
       "<tr>\n",
       "  <th>C(APRDRG)[T.754]</th> <td>-8103.7523</td> <td>  898.215</td> <td>   -9.022</td> <td> 0.000</td> <td>-9869.214</td> <td>-6338.291</td>\n",
       "</tr>\n",
       "<tr>\n",
       "  <th>C(APRDRG)[T.755]</th> <td>-7940.5790</td> <td>  916.352</td> <td>   -8.665</td> <td> 0.000</td> <td>-9741.689</td> <td>-6139.469</td>\n",
       "</tr>\n",
       "<tr>\n",
       "  <th>C(APRDRG)[T.756]</th> <td>-7949.0870</td> <td> 1051.934</td> <td>   -7.557</td> <td> 0.000</td> <td>   -1e+04</td> <td>-5881.488</td>\n",
       "</tr>\n",
       "<tr>\n",
       "  <th>C(APRDRG)[T.758]</th> <td>-8234.5317</td> <td>  887.891</td> <td>   -9.274</td> <td> 0.000</td> <td>-9979.701</td> <td>-6489.362</td>\n",
       "</tr>\n",
       "<tr>\n",
       "  <th>C(APRDRG)[T.760]</th> <td>-8608.9951</td> <td> 1055.050</td> <td>   -8.160</td> <td> 0.000</td> <td>-1.07e+04</td> <td>-6535.271</td>\n",
       "</tr>\n",
       "<tr>\n",
       "  <th>C(APRDRG)[T.776]</th> <td>-8625.8601</td> <td> 1182.422</td> <td>   -7.295</td> <td> 0.000</td> <td>-1.09e+04</td> <td>-6301.783</td>\n",
       "</tr>\n",
       "<tr>\n",
       "  <th>C(APRDRG)[T.811]</th> <td>-6636.1016</td> <td> 1048.166</td> <td>   -6.331</td> <td> 0.000</td> <td>-8696.295</td> <td>-4575.908</td>\n",
       "</tr>\n",
       "<tr>\n",
       "  <th>C(APRDRG)[T.812]</th> <td>-6042.7403</td> <td>  999.266</td> <td>   -6.047</td> <td> 0.000</td> <td>-8006.819</td> <td>-4078.661</td>\n",
       "</tr>\n",
       "<tr>\n",
       "  <th>C(APRDRG)[T.863]</th> <td>-9792.3805</td> <td> 1331.737</td> <td>   -7.353</td> <td> 0.000</td> <td>-1.24e+04</td> <td>-7174.823</td>\n",
       "</tr>\n",
       "<tr>\n",
       "  <th>C(APRDRG)[T.911]</th> <td> 3.538e+04</td> <td> 1188.529</td> <td>   29.770</td> <td> 0.000</td> <td>  3.3e+04</td> <td> 3.77e+04</td>\n",
       "</tr>\n",
       "<tr>\n",
       "  <th>C(APRDRG)[T.930]</th> <td> 1651.0401</td> <td> 1047.614</td> <td>    1.576</td> <td> 0.116</td> <td> -408.069</td> <td> 3710.149</td>\n",
       "</tr>\n",
       "<tr>\n",
       "  <th>C(APRDRG)[T.952]</th> <td>-4321.2008</td> <td> 1182.677</td> <td>   -3.654</td> <td> 0.000</td> <td>-6645.778</td> <td>-1996.623</td>\n",
       "</tr>\n",
       "<tr>\n",
       "  <th>LOS</th>              <td>  664.6593</td> <td>   21.292</td> <td>   31.216</td> <td> 0.000</td> <td>  622.809</td> <td>  706.510</td>\n",
       "</tr>\n",
       "<tr>\n",
       "  <th>AGE</th>              <td>   86.5944</td> <td>   20.788</td> <td>    4.166</td> <td> 0.000</td> <td>   45.735</td> <td>  127.454</td>\n",
       "</tr>\n",
       "</table>\n",
       "<table class=\"simpletable\">\n",
       "<tr>\n",
       "  <th>Omnibus:</th>       <td>164.642</td> <th>  Durbin-Watson:     </th> <td>   1.977</td>\n",
       "</tr>\n",
       "<tr>\n",
       "  <th>Prob(Omnibus):</th> <td> 0.000</td>  <th>  Jarque-Bera (JB):  </th> <td>6289.738</td>\n",
       "</tr>\n",
       "<tr>\n",
       "  <th>Skew:</th>          <td> 0.684</td>  <th>  Prob(JB):          </th> <td>    0.00</td>\n",
       "</tr>\n",
       "<tr>\n",
       "  <th>Kurtosis:</th>      <td>20.321</td>  <th>  Cond. No.          </th> <td>1.82e+03</td>\n",
       "</tr>\n",
       "</table><br/><br/>Notes:<br/>[1] Standard Errors assume that the covariance matrix of the errors is correctly specified.<br/>[2] The condition number is large, 1.82e+03. This might indicate that there are<br/>strong multicollinearity or other numerical problems."
      ],
      "text/plain": [
       "<class 'statsmodels.iolib.summary.Summary'>\n",
       "\"\"\"\n",
       "                            OLS Regression Results                            \n",
       "==============================================================================\n",
       "Dep. Variable:                 TOTCHG   R-squared:                       0.965\n",
       "Model:                            OLS   Adj. R-squared:                  0.959\n",
       "Method:                 Least Squares   F-statistic:                     166.3\n",
       "Date:                Fri, 25 Jun 2021   Prob (F-statistic):          1.48e-270\n",
       "Time:                        09:21:38   Log-Likelihood:                -4003.6\n",
       "No. Observations:                 500   AIC:                             8151.\n",
       "Df Residuals:                     428   BIC:                             8455.\n",
       "Df Model:                          71                                         \n",
       "Covariance Type:            nonrobust                                         \n",
       "====================================================================================\n",
       "                       coef    std err          t      P>|t|      [0.025      0.975]\n",
       "------------------------------------------------------------------------------------\n",
       "Intercept         6904.4207   1245.829      5.542      0.000    4455.717    9353.124\n",
       "C(FEMALE)[T.1]    -136.8780     78.782     -1.737      0.083    -291.726      17.970\n",
       "C(RACE)[T.1.0]     113.0158    787.982      0.143      0.886   -1435.779    1661.811\n",
       "C(RACE)[T.2.0]     382.7501    887.506      0.431      0.666   -1361.663    2127.163\n",
       "C(RACE)[T.3.0]     754.3492   1166.428      0.647      0.518   -1538.290    3046.988\n",
       "C(RACE)[T.4.0]     219.4237    910.767      0.241      0.810   -1570.709    2009.556\n",
       "C(RACE)[T.5.0]    1690.2033   1204.268      1.404      0.161    -676.812    4057.218\n",
       "C(RACE)[T.6.0]      39.1891    969.747      0.040      0.968   -1866.871    1945.249\n",
       "C(APRDRG)[T.23]   4355.1399   1182.422      3.683      0.000    2031.063    6679.217\n",
       "C(APRDRG)[T.49]   7890.6917   1187.248      6.646      0.000    5557.130    1.02e+04\n",
       "C(APRDRG)[T.50]  -5254.4156   1194.682     -4.398      0.000   -7602.589   -2906.242\n",
       "C(APRDRG)[T.51]  -7323.6414   1184.287     -6.184      0.000   -9651.384   -4995.899\n",
       "C(APRDRG)[T.53]  -1199.9825    954.202     -1.258      0.209   -3075.487     675.522\n",
       "C(APRDRG)[T.54]  -8166.3229   1184.459     -6.895      0.000   -1.05e+04   -5838.242\n",
       "C(APRDRG)[T.57]   -860.5678   1081.767     -0.796      0.427   -2986.804    1265.668\n",
       "C(APRDRG)[T.58]  -5651.6901   1238.031     -4.565      0.000   -8085.067   -3218.313\n",
       "C(APRDRG)[T.92]   3042.9880   1184.641      2.569      0.011     714.550    5371.426\n",
       "C(APRDRG)[T.97]     -0.9807   1211.222     -0.001      0.999   -2381.664    2379.703\n",
       "C(APRDRG)[T.114]   771.2360   1199.154      0.643      0.520   -1585.727    3128.199\n",
       "C(APRDRG)[T.115]  2529.0158   1063.901      2.377      0.018     437.894    4620.137\n",
       "C(APRDRG)[T.137]   135.6525   1262.554      0.107      0.914   -2345.926    2617.231\n",
       "C(APRDRG)[T.138] -4574.7058   1042.133     -4.390      0.000   -6623.042   -2526.369\n",
       "C(APRDRG)[T.139] -4931.6448    985.592     -5.004      0.000   -6868.848   -2994.441\n",
       "C(APRDRG)[T.141] -6352.6992   1195.663     -5.313      0.000   -8702.800   -4002.598\n",
       "C(APRDRG)[T.143] -8530.9425   1540.389     -5.538      0.000   -1.16e+04   -5503.274\n",
       "C(APRDRG)[T.204] -2044.5193   1182.551     -1.729      0.085   -4368.850     279.811\n",
       "C(APRDRG)[T.206]  -127.7919   1220.972     -0.105      0.917   -2527.639    2272.056\n",
       "C(APRDRG)[T.225]   895.8186   1049.471      0.854      0.394   -1166.941    2958.578\n",
       "C(APRDRG)[T.249] -5315.2746    997.455     -5.329      0.000   -7275.795   -3354.754\n",
       "C(APRDRG)[T.254] -7979.6240   1540.566     -5.180      0.000    -1.1e+04   -4951.606\n",
       "C(APRDRG)[T.308]  2123.5545   1199.194      1.771      0.077    -233.487    4480.596\n",
       "C(APRDRG)[T.313] -1178.3407   1110.627     -1.061      0.289   -3361.302    1004.621\n",
       "C(APRDRG)[T.317]  4988.0046   1200.267      4.156      0.000    2628.853    7347.156\n",
       "C(APRDRG)[T.344] -2162.1842   1056.003     -2.048      0.041   -4237.782     -86.586\n",
       "C(APRDRG)[T.347] -3802.5781   1012.639     -3.755      0.000   -5792.942   -1812.214\n",
       "C(APRDRG)[T.420] -6004.9500   1049.037     -5.724      0.000   -8066.855   -3943.045\n",
       "C(APRDRG)[T.421] -6583.1473   1473.476     -4.468      0.000   -9479.296   -3686.998\n",
       "C(APRDRG)[T.422] -7058.7682   1015.583     -6.950      0.000   -9054.919   -5062.617\n",
       "C(APRDRG)[T.560] -7243.4821   1045.957     -6.925      0.000   -9299.334   -5187.630\n",
       "C(APRDRG)[T.561] -8455.5174   1188.431     -7.115      0.000   -1.08e+04   -6119.630\n",
       "C(APRDRG)[T.566] -7552.9821   1184.182     -6.378      0.000   -9880.517   -5225.447\n",
       "C(APRDRG)[T.580] -4857.0957   1244.364     -3.903      0.000   -7302.921   -2411.271\n",
       "C(APRDRG)[T.581] -4663.4042   1068.059     -4.366      0.000   -6762.698   -2564.110\n",
       "C(APRDRG)[T.602] -4943.5879   1497.944     -3.300      0.001   -7887.830   -1999.346\n",
       "C(APRDRG)[T.614] -7719.0733   1102.964     -6.998      0.000   -9886.973   -5551.174\n",
       "C(APRDRG)[T.626] -7139.5289   1032.355     -6.916      0.000   -9168.646   -5110.412\n",
       "C(APRDRG)[T.633] -6705.3678   1046.599     -6.407      0.000   -8762.482   -4648.254\n",
       "C(APRDRG)[T.634] -5032.4031   1114.805     -4.514      0.000   -7223.578   -2841.228\n",
       "C(APRDRG)[T.636] -3615.9128   1072.169     -3.373      0.001   -5723.284   -1508.542\n",
       "C(APRDRG)[T.639] -7181.2610   1069.036     -6.718      0.000   -9282.476   -5080.046\n",
       "C(APRDRG)[T.640] -6940.8612    966.208     -7.184      0.000   -8839.964   -5041.758\n",
       "C(APRDRG)[T.710] -1575.9787   1229.117     -1.282      0.200   -3991.835     839.877\n",
       "C(APRDRG)[T.720]  3642.4840   1227.847      2.967      0.003    1229.124    6055.844\n",
       "C(APRDRG)[T.723] -5705.2093   1065.398     -5.355      0.000   -7799.272   -3611.147\n",
       "C(APRDRG)[T.740]  -377.7710   1187.729     -0.318      0.751   -2712.278    1956.736\n",
       "C(APRDRG)[T.750] -8730.5193   1182.551     -7.383      0.000   -1.11e+04   -6406.189\n",
       "C(APRDRG)[T.751] -8155.6282    914.211     -8.921      0.000   -9952.530   -6358.727\n",
       "C(APRDRG)[T.753] -8003.8054    892.960     -8.963      0.000   -9758.938   -6248.673\n",
       "C(APRDRG)[T.754] -8103.7523    898.215     -9.022      0.000   -9869.214   -6338.291\n",
       "C(APRDRG)[T.755] -7940.5790    916.352     -8.665      0.000   -9741.689   -6139.469\n",
       "C(APRDRG)[T.756] -7949.0870   1051.934     -7.557      0.000      -1e+04   -5881.488\n",
       "C(APRDRG)[T.758] -8234.5317    887.891     -9.274      0.000   -9979.701   -6489.362\n",
       "C(APRDRG)[T.760] -8608.9951   1055.050     -8.160      0.000   -1.07e+04   -6535.271\n",
       "C(APRDRG)[T.776] -8625.8601   1182.422     -7.295      0.000   -1.09e+04   -6301.783\n",
       "C(APRDRG)[T.811] -6636.1016   1048.166     -6.331      0.000   -8696.295   -4575.908\n",
       "C(APRDRG)[T.812] -6042.7403    999.266     -6.047      0.000   -8006.819   -4078.661\n",
       "C(APRDRG)[T.863] -9792.3805   1331.737     -7.353      0.000   -1.24e+04   -7174.823\n",
       "C(APRDRG)[T.911]  3.538e+04   1188.529     29.770      0.000     3.3e+04    3.77e+04\n",
       "C(APRDRG)[T.930]  1651.0401   1047.614      1.576      0.116    -408.069    3710.149\n",
       "C(APRDRG)[T.952] -4321.2008   1182.677     -3.654      0.000   -6645.778   -1996.623\n",
       "LOS                664.6593     21.292     31.216      0.000     622.809     706.510\n",
       "AGE                 86.5944     20.788      4.166      0.000      45.735     127.454\n",
       "==============================================================================\n",
       "Omnibus:                      164.642   Durbin-Watson:                   1.977\n",
       "Prob(Omnibus):                  0.000   Jarque-Bera (JB):             6289.738\n",
       "Skew:                           0.684   Prob(JB):                         0.00\n",
       "Kurtosis:                      20.321   Cond. No.                     1.82e+03\n",
       "==============================================================================\n",
       "\n",
       "Notes:\n",
       "[1] Standard Errors assume that the covariance matrix of the errors is correctly specified.\n",
       "[2] The condition number is large, 1.82e+03. This might indicate that there are\n",
       "strong multicollinearity or other numerical problems.\n",
       "\"\"\""
      ]
     },
     "execution_count": 33,
     "metadata": {},
     "output_type": "execute_result"
    }
   ],
   "source": [
    "lm = smf.ols(formula='TOTCHG ~ LOS + AGE + C(FEMALE) + C(RACE) + C(APRDRG)', data=df)\n",
    "\n",
    "ols_res= lm.fit()\n",
    "\n",
    "ols_res.summary()"
   ]
  },
  {
   "cell_type": "markdown",
   "metadata": {},
   "source": [
    "APRDRG seems to have a significant impact on the prediction, with an Adj. R-Squared of 0.959."
   ]
  },
  {
   "cell_type": "markdown",
   "metadata": {},
   "source": [
    "Charges for APRDRG 49 increases by 7,890.69, compared to other APRDRG groups, controlling for gender, race, LOS and age, with a probability of < 0.05, which means the model is significant at predicting total charges based on APRDRG."
   ]
  },
  {
   "cell_type": "markdown",
   "metadata": {},
   "source": [
    "Charges for APRDRG 863 decreases by 9,792.38, compared to other APRDRG groups, controlling for gender, race, LOS and age, with a probability of < 0.05, which means the model is significant at predicting total charges based on APRDRG."
   ]
  },
  {
   "cell_type": "markdown",
   "metadata": {},
   "source": [
    "Charges based on LOS increases by 664.66, controlling for gender, race, APRDRG and age, with a probability of < 0.05, which means the model is significant at predicting total charges based on APRDRG."
   ]
  },
  {
   "cell_type": "markdown",
   "metadata": {},
   "source": [
    "Charges based on Age increases by 86.59, controlling for gender, race, LOS, and APRDRG, with a probability of < 0.05, which means the model is significant at predicting total charges based on APRDRG."
   ]
  },
  {
   "cell_type": "markdown",
   "metadata": {},
   "source": [
    "## Model Predictions"
   ]
  },
  {
   "cell_type": "code",
   "execution_count": 34,
   "metadata": {},
   "outputs": [
    {
     "data": {
      "text/plain": [
       "8      926.923010\n",
       "388    990.149461\n",
       "365    826.976149\n",
       "378    515.317023\n",
       "403    741.234500\n",
       "dtype: float64"
      ]
     },
     "execution_count": 34,
     "metadata": {},
     "output_type": "execute_result"
    }
   ],
   "source": [
    "ypred = ols_res.predict(df[['LOS','AGE','FEMALE','RACE', 'APRDRG']])\n",
    "ypred.head()"
   ]
  },
  {
   "cell_type": "code",
   "execution_count": 35,
   "metadata": {},
   "outputs": [
    {
     "data": {
      "text/html": [
       "<div>\n",
       "<style scoped>\n",
       "    .dataframe tbody tr th:only-of-type {\n",
       "        vertical-align: middle;\n",
       "    }\n",
       "\n",
       "    .dataframe tbody tr th {\n",
       "        vertical-align: top;\n",
       "    }\n",
       "\n",
       "    .dataframe thead th {\n",
       "        text-align: right;\n",
       "    }\n",
       "</style>\n",
       "<table border=\"1\" class=\"dataframe\">\n",
       "  <thead>\n",
       "    <tr style=\"text-align: right;\">\n",
       "      <th></th>\n",
       "      <th>AGE</th>\n",
       "      <th>FEMALE</th>\n",
       "      <th>LOS</th>\n",
       "      <th>RACE</th>\n",
       "      <th>TOTCHG</th>\n",
       "      <th>APRDRG</th>\n",
       "      <th>LOS Model Predictions</th>\n",
       "    </tr>\n",
       "  </thead>\n",
       "  <tbody>\n",
       "    <tr>\n",
       "      <th>8</th>\n",
       "      <td>16</td>\n",
       "      <td>1</td>\n",
       "      <td>1</td>\n",
       "      <td>1.0</td>\n",
       "      <td>532</td>\n",
       "      <td>753</td>\n",
       "      <td>926.923010</td>\n",
       "    </tr>\n",
       "    <tr>\n",
       "      <th>388</th>\n",
       "      <td>16</td>\n",
       "      <td>1</td>\n",
       "      <td>1</td>\n",
       "      <td>1.0</td>\n",
       "      <td>532</td>\n",
       "      <td>755</td>\n",
       "      <td>990.149461</td>\n",
       "    </tr>\n",
       "    <tr>\n",
       "      <th>365</th>\n",
       "      <td>16</td>\n",
       "      <td>1</td>\n",
       "      <td>1</td>\n",
       "      <td>1.0</td>\n",
       "      <td>547</td>\n",
       "      <td>754</td>\n",
       "      <td>826.976149</td>\n",
       "    </tr>\n",
       "    <tr>\n",
       "      <th>378</th>\n",
       "      <td>13</td>\n",
       "      <td>1</td>\n",
       "      <td>1</td>\n",
       "      <td>1.0</td>\n",
       "      <td>548</td>\n",
       "      <td>751</td>\n",
       "      <td>515.317023</td>\n",
       "    </tr>\n",
       "    <tr>\n",
       "      <th>403</th>\n",
       "      <td>0</td>\n",
       "      <td>0</td>\n",
       "      <td>1</td>\n",
       "      <td>1.0</td>\n",
       "      <td>550</td>\n",
       "      <td>640</td>\n",
       "      <td>741.234500</td>\n",
       "    </tr>\n",
       "  </tbody>\n",
       "</table>\n",
       "</div>"
      ],
      "text/plain": [
       "     AGE  FEMALE  LOS  RACE  TOTCHG  APRDRG  LOS Model Predictions\n",
       "8     16       1    1   1.0     532     753             926.923010\n",
       "388   16       1    1   1.0     532     755             990.149461\n",
       "365   16       1    1   1.0     547     754             826.976149\n",
       "378   13       1    1   1.0     548     751             515.317023\n",
       "403    0       0    1   1.0     550     640             741.234500"
      ]
     },
     "execution_count": 35,
     "metadata": {},
     "output_type": "execute_result"
    }
   ],
   "source": [
    "results = pd.concat([df, ypred], axis = 1)\n",
    "results = results.rename({0 : \"LOS Model Predictions\"}, axis=1)\n",
    "results.head()"
   ]
  },
  {
   "cell_type": "markdown",
   "metadata": {},
   "source": [
    "## Test Model Assumptions"
   ]
  },
  {
   "cell_type": "markdown",
   "metadata": {},
   "source": [
    "#### Test for Linearity between X and Y"
   ]
  },
  {
   "cell_type": "code",
   "execution_count": 36,
   "metadata": {},
   "outputs": [
    {
     "data": {
      "image/png": "[encoded data removed]",
      "text/plain": [
       "<Figure size 432x288 with 1 Axes>"
      ]
     },
     "metadata": {
      "needs_background": "light"
     },
     "output_type": "display_data"
    }
   ],
   "source": [
    "fig, ax = plt.subplots()\n",
    "sns.set(rc={'figure.figsize':(7, 7)})\n",
    "\n",
    "sns.regplot(x=results[\"LOS\"], y=results[\"TOTCHG\"], fit_reg=False, ax=ax,scatter_kws={\"color\": \"blue\"});\n",
    "sns.regplot(x=results[\"LOS\"], y=results[\"LOS Model Predictions\"], scatter=False, ax=ax);"
   ]
  },
  {
   "cell_type": "code",
   "execution_count": 37,
   "metadata": {},
   "outputs": [
    {
     "data": {
      "image/png": "[encoded data removed]",
      "text/plain": [
       "<Figure size 504x504 with 1 Axes>"
      ]
     },
     "metadata": {},
     "output_type": "display_data"
    }
   ],
   "source": [
    "fig, ax = plt.subplots()\n",
    "sns.set(rc={'figure.figsize':(7, 7)})\n",
    "\n",
    "sns.regplot(x=results[\"AGE\"], y=results[\"TOTCHG\"], fit_reg=False, ax=ax,scatter_kws={\"color\": \"blue\"});\n",
    "sns.regplot(x=results[\"AGE\"], y=results[\"LOS Model Predictions\"], scatter=False, ax=ax);"
   ]
  },
  {
   "cell_type": "markdown",
   "metadata": {},
   "source": [
    "Based on these results, this assumption has been violated."
   ]
  },
  {
   "cell_type": "markdown",
   "metadata": {},
   "source": [
    "#### Test for homoscedasticity\n",
    "OLS gives equal weight to all observations in an attempt to minimize residuals and reduce the standard error. When homoscedasticity is violated, the high variations and disturbances will have more pull than other observations disrupting the equal weight assumption."
   ]
  },
  {
   "cell_type": "code",
   "execution_count": 38,
   "metadata": {},
   "outputs": [
    {
     "data": {
      "image/png": "[encoded data removed]",
      "text/plain": [
       "<Figure size 648x360 with 4 Axes>"
      ]
     },
     "metadata": {},
     "output_type": "display_data"
    }
   ],
   "source": [
    "fig = plt.figure(figsize = (9,5))\n",
    "fig = sm.graphics.plot_regress_exog(ols_res,'LOS', fig=fig);"
   ]
  },
  {
   "cell_type": "markdown",
   "metadata": {},
   "source": [
    "In the case of LOS, this assumption has been violated. Each independent variable can be replaced in the function to understand the residuals."
   ]
  },
  {
   "cell_type": "markdown",
   "metadata": {},
   "source": [
    "## Model Accuracy"
   ]
  },
  {
   "cell_type": "code",
   "execution_count": 39,
   "metadata": {},
   "outputs": [
    {
     "name": "stdout",
     "output_type": "stream",
     "text": [
      "Model MSE: 527740.3944534\n"
     ]
    }
   ],
   "source": [
    "print(\"Model MSE:\", smf_metrics.mse(df['TOTCHG'],ols_res.predict().round(2)))"
   ]
  },
  {
   "cell_type": "markdown",
   "metadata": {},
   "source": [
    "Although, the model performed very well, many of the assumptions have been violated and must be corrected, prior to accepting this as a reliable model."
   ]
  },
  {
   "cell_type": "code",
   "execution_count": null,
   "metadata": {},
   "outputs": [],
   "source": []
  }
 ],
 "metadata": {
  "kernelspec": {
   "display_name": "Python 3",
   "language": "python",
   "name": "python3"
  },
  "language_info": {
   "codemirror_mode": {
    "name": "ipython",
    "version": 3
   },
   "file_extension": ".py",
   "mimetype": "text/x-python",
   "name": "python",
   "nbconvert_exporter": "python",
   "pygments_lexer": "ipython3",
   "version": "3.8.5"
  }
 },
 "nbformat": 4,
 "nbformat_minor": 4
}
