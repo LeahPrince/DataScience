{
 "cells": [
  {
   "cell_type": "markdown",
   "metadata": {},
   "source": [
    "# Leah Prince"
   ]
  },
  {
   "cell_type": "markdown",
   "metadata": {},
   "source": [
    "### Hospital Readmissions"
   ]
  },
  {
   "cell_type": "markdown",
   "metadata": {},
   "source": [
    ">The Hospital Readmissions Reduction Program is a Medicare value-based purchasing program that encourages hospitals to improve communication and care coordination to better engage patients and caregivers in discharge plans and, in turn, reduce avoidable readmissions. The program supports the national goal of improving health care for Americans by linking payment to the quality of hospital care.\n",
    ">CMS includes the following six conditions or procedure-specific 30-day risk standardized unplanned readmission measures in the program:\n",
    "> - Acute myocardial infarction (AMI)\n",
    "> - Chronic obstructive pulmonary disease (COPD)\n",
    "> - Heart failure (HF)\n",
    "> - Pneumonia\n",
    "> - Coronary artery bypass graft (CABG) surgery\n",
    "> - Elective primary total hip arthroplasty and/or total knee arthroplasty (THA/TKA)"
   ]
  },
  {
   "cell_type": "markdown",
   "metadata": {},
   "source": [
    "### Data Dictionary"
   ]
  },
  {
   "cell_type": "markdown",
   "metadata": {},
   "source": [
    "The dataset was provided by Capella University during my Master's program. There was no data dictionary provided for this dataset."
   ]
  },
  {
   "cell_type": "markdown",
   "metadata": {},
   "source": [
    "## Objectives:\n",
    ">Many patients get readmitted to hospitals within 30 days after they're discharged, due to various reasons. Many of these readmissions can be avoided by identifying patients that are at high risk for readmissions, using input variables such as, gender, race, age, diagnosis, icu patients, patients with chronic conditions and length of stay. Variables such as these will be helpful to understand, so that additional precautions can be taken to reduce the readmission rate. Therefore, by predicting hospital readmissions, hospitals can take early action to prepare accordingly.\n",
    "\n",
    "> The initial objective of this project is:\n",
    "\n",
    "> 1. Exploratory Data Analysis (EDA)\n",
    "> 2. Data Cleansing\n",
    "> 3. Feature Engineering"
   ]
  },
  {
   "cell_type": "markdown",
   "metadata": {},
   "source": [
    "### Import Libraries & Files"
   ]
  },
  {
   "cell_type": "code",
   "execution_count": 1,
   "metadata": {},
   "outputs": [],
   "source": [
    "import pandas as pd\n",
    "import numpy as np\n",
    "%matplotlib inline\n",
    "import matplotlib.pyplot as plt\n",
    "import seaborn as sns\n",
    "\n",
    "pd.set_option('display.max_columns', None)\n",
    "plt.style.use('seaborn-deep')"
   ]
  },
  {
   "cell_type": "code",
   "execution_count": 2,
   "metadata": {},
   "outputs": [],
   "source": [
    "df = pd.read_excel('vila_health_los_and_readmission.xlsx')"
   ]
  },
  {
   "cell_type": "code",
   "execution_count": 3,
   "metadata": {},
   "outputs": [
    {
     "data": {
      "text/html": [
       "<div>\n",
       "<style scoped>\n",
       "    .dataframe tbody tr th:only-of-type {\n",
       "        vertical-align: middle;\n",
       "    }\n",
       "\n",
       "    .dataframe tbody tr th {\n",
       "        vertical-align: top;\n",
       "    }\n",
       "\n",
       "    .dataframe thead th {\n",
       "        text-align: right;\n",
       "    }\n",
       "</style>\n",
       "<table border=\"1\" class=\"dataframe\">\n",
       "  <thead>\n",
       "    <tr style=\"text-align: right;\">\n",
       "      <th></th>\n",
       "      <th>ENCOUNTER_KEY</th>\n",
       "      <th>PATIENT_NUMBER</th>\n",
       "      <th>gender</th>\n",
       "      <th>race_cd</th>\n",
       "      <th>PatientAge</th>\n",
       "      <th>Diagnosis_Group</th>\n",
       "      <th>icd9_target</th>\n",
       "      <th>MS_DRG_CODE</th>\n",
       "      <th>MS_DRG_DESC</th>\n",
       "      <th>DRG_APR_CODE</th>\n",
       "      <th>DRG_APR_DESC</th>\n",
       "      <th>DRG_APR_SEVERITY</th>\n",
       "      <th>DIAGNOSIS_SUBCAT_CODE</th>\n",
       "      <th>DIAGNOSIS_SUBCAT_DESC</th>\n",
       "      <th>DIAGNOSIS_ICD_CODE</th>\n",
       "      <th>DIAGNOSIS_LONG_DESC</th>\n",
       "      <th>PROCEDURE_SUBCAT_CODE</th>\n",
       "      <th>PROCEDURE_SUBCAT_DESC</th>\n",
       "      <th>PROCEDURE_ICD_CODE</th>\n",
       "      <th>PROCEDURE_LONG_DESC</th>\n",
       "      <th>dx_code</th>\n",
       "      <th>dx_group</th>\n",
       "      <th>DOCTOR</th>\n",
       "      <th>ADMIT_DATE</th>\n",
       "      <th>DISCHARGE_DATE</th>\n",
       "      <th>readmit_date</th>\n",
       "      <th>readmit_discharge_date</th>\n",
       "      <th>readmit_days</th>\n",
       "      <th>LENGTH_OF_STAY</th>\n",
       "      <th>ICU_DAYS</th>\n",
       "      <th>DISCHARGED_TO</th>\n",
       "      <th>op_visits6</th>\n",
       "      <th>Standard_Orders_Used</th>\n",
       "      <th>Num_Chronic_Cond</th>\n",
       "      <th>Disch_Nurse_ID</th>\n",
       "      <th>admit_month</th>\n",
       "      <th>readmit_month</th>\n",
       "      <th>order_set_used</th>\n",
       "      <th>order_total_charges</th>\n",
       "      <th>readmit_number</th>\n",
       "      <th>operationcount</th>\n",
       "      <th>HOSPITAL</th>\n",
       "      <th>ZIP</th>\n",
       "      <th>STATECODE</th>\n",
       "      <th>City</th>\n",
       "      <th>County_name</th>\n",
       "      <th>i</th>\n",
       "    </tr>\n",
       "  </thead>\n",
       "  <tbody>\n",
       "    <tr>\n",
       "      <th>0</th>\n",
       "      <td>105241297</td>\n",
       "      <td>9921901297</td>\n",
       "      <td>M</td>\n",
       "      <td>White</td>\n",
       "      <td>50</td>\n",
       "      <td>COPD</td>\n",
       "      <td>0</td>\n",
       "      <td>192</td>\n",
       "      <td>CHRONIC OBSTRUCTIVE Hosp 46 DISEASE W/O CC/MCC</td>\n",
       "      <td>140</td>\n",
       "      <td>CHRONIC OBSTRUCTIVE Hosp 46 DISEASE</td>\n",
       "      <td>1.0</td>\n",
       "      <td>491</td>\n",
       "      <td>CHRONIC BRONCHITIS</td>\n",
       "      <td>491.21</td>\n",
       "      <td>OBSTRUCTIVE CHRONIC BRONCHITIS WITH ACUTE EXAC...</td>\n",
       "      <td>99.0</td>\n",
       "      <td>OTHER NONOPERATIVE PROCE</td>\n",
       "      <td>99.23</td>\n",
       "      <td>INJECTION OF STEROID</td>\n",
       "      <td>49121</td>\n",
       "      <td>Obstructive chronic bronchitis</td>\n",
       "      <td>303334</td>\n",
       "      <td>2014-12-15</td>\n",
       "      <td>2014-12-21</td>\n",
       "      <td>NaT</td>\n",
       "      <td>NaT</td>\n",
       "      <td>NaN</td>\n",
       "      <td>6</td>\n",
       "      <td>4</td>\n",
       "      <td>ROUTINE DSCHG, HOME</td>\n",
       "      <td>8</td>\n",
       "      <td>Y</td>\n",
       "      <td>1.0</td>\n",
       "      <td>350014</td>\n",
       "      <td>12</td>\n",
       "      <td>NaN</td>\n",
       "      <td>1</td>\n",
       "      <td>29507</td>\n",
       "      <td>0</td>\n",
       "      <td>0</td>\n",
       "      <td>Delaware County Hospital</td>\n",
       "      <td>52057</td>\n",
       "      <td>IA</td>\n",
       "      <td>Manchester</td>\n",
       "      <td>Delaware</td>\n",
       "      <td>5</td>\n",
       "    </tr>\n",
       "    <tr>\n",
       "      <th>1</th>\n",
       "      <td>105241793</td>\n",
       "      <td>9921901793</td>\n",
       "      <td>M</td>\n",
       "      <td>White</td>\n",
       "      <td>52</td>\n",
       "      <td>CHF</td>\n",
       "      <td>1</td>\n",
       "      <td>293</td>\n",
       "      <td>HEART FAILURE &amp; SHOCK W/O CC/MCC</td>\n",
       "      <td>194</td>\n",
       "      <td>HEART FAILURE</td>\n",
       "      <td>2.0</td>\n",
       "      <td>428</td>\n",
       "      <td>HEART FAILURE</td>\n",
       "      <td>428.43</td>\n",
       "      <td>ACUTE ON CHRONIC COMBINED SYSTOLIC AND DIASTOL...</td>\n",
       "      <td>NaN</td>\n",
       "      <td>NaN</td>\n",
       "      <td>NaN</td>\n",
       "      <td>NaN</td>\n",
       "      <td>42843</td>\n",
       "      <td>Congestive heart failure; nonhypertensive [108.]</td>\n",
       "      <td>292722</td>\n",
       "      <td>2015-05-17</td>\n",
       "      <td>2015-05-19</td>\n",
       "      <td>NaT</td>\n",
       "      <td>NaT</td>\n",
       "      <td>NaN</td>\n",
       "      <td>2</td>\n",
       "      <td>0</td>\n",
       "      <td>ROUTINE DSCHG, HOME</td>\n",
       "      <td>4</td>\n",
       "      <td>Y</td>\n",
       "      <td>1.0</td>\n",
       "      <td>350014</td>\n",
       "      <td>5</td>\n",
       "      <td>NaN</td>\n",
       "      <td>1</td>\n",
       "      <td>23526</td>\n",
       "      <td>0</td>\n",
       "      <td>1</td>\n",
       "      <td>Delaware County Hospital</td>\n",
       "      <td>52057</td>\n",
       "      <td>IA</td>\n",
       "      <td>Manchester</td>\n",
       "      <td>Delaware</td>\n",
       "      <td>5</td>\n",
       "    </tr>\n",
       "    <tr>\n",
       "      <th>2</th>\n",
       "      <td>105244762</td>\n",
       "      <td>9921904762</td>\n",
       "      <td>F</td>\n",
       "      <td>White</td>\n",
       "      <td>74</td>\n",
       "      <td>CHF</td>\n",
       "      <td>1</td>\n",
       "      <td>291</td>\n",
       "      <td>HEART FAILURE &amp; SHOCK W MCC</td>\n",
       "      <td>194</td>\n",
       "      <td>HEART FAILURE</td>\n",
       "      <td>4.0</td>\n",
       "      <td>428</td>\n",
       "      <td>HEART FAILURE</td>\n",
       "      <td>428.00</td>\n",
       "      <td>CONGESTIVE HEART FAILURE UNSPECIFIED</td>\n",
       "      <td>96.0</td>\n",
       "      <td>NONOPERATIVE INTUBATION</td>\n",
       "      <td>96.71</td>\n",
       "      <td>CONTINUOUS INVASIVE MECHANICAL VENTILATION FOR...</td>\n",
       "      <td>4280</td>\n",
       "      <td>Congestive heart failure; nonhypertensive [108.]</td>\n",
       "      <td>267981</td>\n",
       "      <td>2014-09-03</td>\n",
       "      <td>2014-09-04</td>\n",
       "      <td>NaT</td>\n",
       "      <td>NaT</td>\n",
       "      <td>NaN</td>\n",
       "      <td>1</td>\n",
       "      <td>0</td>\n",
       "      <td>OTHER DEATH</td>\n",
       "      <td>9</td>\n",
       "      <td>Y</td>\n",
       "      <td>0.0</td>\n",
       "      <td>350014</td>\n",
       "      <td>9</td>\n",
       "      <td>NaN</td>\n",
       "      <td>1</td>\n",
       "      <td>23893</td>\n",
       "      <td>0</td>\n",
       "      <td>0</td>\n",
       "      <td>Delaware County Hospital</td>\n",
       "      <td>52057</td>\n",
       "      <td>IA</td>\n",
       "      <td>Manchester</td>\n",
       "      <td>Delaware</td>\n",
       "      <td>5</td>\n",
       "    </tr>\n",
       "    <tr>\n",
       "      <th>3</th>\n",
       "      <td>105248368</td>\n",
       "      <td>9921908368</td>\n",
       "      <td>F</td>\n",
       "      <td>White</td>\n",
       "      <td>91</td>\n",
       "      <td>CHF</td>\n",
       "      <td>0</td>\n",
       "      <td>292</td>\n",
       "      <td>HEART FAILURE &amp; SHOCK W CC</td>\n",
       "      <td>194</td>\n",
       "      <td>HEART FAILURE</td>\n",
       "      <td>3.0</td>\n",
       "      <td>398</td>\n",
       "      <td>OTHER RHEUMATIC HEART DI</td>\n",
       "      <td>398.91</td>\n",
       "      <td>RHEUMATIC HEART FAILURE CONGESTIVE</td>\n",
       "      <td>99.0</td>\n",
       "      <td>OTHER NONOPERATIVE PROCE</td>\n",
       "      <td>99.17</td>\n",
       "      <td>INJECTION OF INSULIN</td>\n",
       "      <td>39891</td>\n",
       "      <td>Congestive heart failure; nonhypertensive [108.]</td>\n",
       "      <td>234813</td>\n",
       "      <td>2015-02-27</td>\n",
       "      <td>2015-03-02</td>\n",
       "      <td>NaT</td>\n",
       "      <td>NaT</td>\n",
       "      <td>NaN</td>\n",
       "      <td>4</td>\n",
       "      <td>1</td>\n",
       "      <td>ROUTINE DSCHG, HOME</td>\n",
       "      <td>1</td>\n",
       "      <td>Y</td>\n",
       "      <td>1.0</td>\n",
       "      <td>350014</td>\n",
       "      <td>2</td>\n",
       "      <td>NaN</td>\n",
       "      <td>1</td>\n",
       "      <td>20862</td>\n",
       "      <td>0</td>\n",
       "      <td>2</td>\n",
       "      <td>Delaware County Hospital</td>\n",
       "      <td>52057</td>\n",
       "      <td>IA</td>\n",
       "      <td>Manchester</td>\n",
       "      <td>Delaware</td>\n",
       "      <td>5</td>\n",
       "    </tr>\n",
       "    <tr>\n",
       "      <th>4</th>\n",
       "      <td>105249099</td>\n",
       "      <td>9921909099</td>\n",
       "      <td>F</td>\n",
       "      <td>White</td>\n",
       "      <td>79</td>\n",
       "      <td>AMI</td>\n",
       "      <td>1</td>\n",
       "      <td>249</td>\n",
       "      <td>PERC CARDIOVASC PROC W NON-DRUG-ELUTING STENT ...</td>\n",
       "      <td>139</td>\n",
       "      <td>OTHER PNEUMONIA</td>\n",
       "      <td>2.0</td>\n",
       "      <td>486</td>\n",
       "      <td>PNEUMONIA ORGANISM UNSP</td>\n",
       "      <td>486.00</td>\n",
       "      <td>PNEUMONIA ORGANISM UNSPECIFIED</td>\n",
       "      <td>NaN</td>\n",
       "      <td>NaN</td>\n",
       "      <td>NaN</td>\n",
       "      <td>NaN</td>\n",
       "      <td>486</td>\n",
       "      <td>Pneumonia (except that caused by TB or STD) [1...</td>\n",
       "      <td>234813</td>\n",
       "      <td>2014-07-19</td>\n",
       "      <td>2014-07-21</td>\n",
       "      <td>NaT</td>\n",
       "      <td>NaT</td>\n",
       "      <td>NaN</td>\n",
       "      <td>2</td>\n",
       "      <td>0</td>\n",
       "      <td>ROUTINE DSCHG, HOME</td>\n",
       "      <td>0</td>\n",
       "      <td>Y</td>\n",
       "      <td>1.0</td>\n",
       "      <td>12005</td>\n",
       "      <td>7</td>\n",
       "      <td>NaN</td>\n",
       "      <td>1</td>\n",
       "      <td>25947</td>\n",
       "      <td>0</td>\n",
       "      <td>1</td>\n",
       "      <td>Delaware County Hospital</td>\n",
       "      <td>52057</td>\n",
       "      <td>IA</td>\n",
       "      <td>Manchester</td>\n",
       "      <td>Delaware</td>\n",
       "      <td>5</td>\n",
       "    </tr>\n",
       "  </tbody>\n",
       "</table>\n",
       "</div>"
      ],
      "text/plain": [
       "   ENCOUNTER_KEY  PATIENT_NUMBER gender race_cd  PatientAge Diagnosis_Group  \\\n",
       "0      105241297      9921901297      M   White          50            COPD   \n",
       "1      105241793      9921901793      M   White          52             CHF   \n",
       "2      105244762      9921904762      F   White          74             CHF   \n",
       "3      105248368      9921908368      F   White          91             CHF   \n",
       "4      105249099      9921909099      F   White          79             AMI   \n",
       "\n",
       "   icd9_target  MS_DRG_CODE  \\\n",
       "0            0          192   \n",
       "1            1          293   \n",
       "2            1          291   \n",
       "3            0          292   \n",
       "4            1          249   \n",
       "\n",
       "                                         MS_DRG_DESC DRG_APR_CODE  \\\n",
       "0     CHRONIC OBSTRUCTIVE Hosp 46 DISEASE W/O CC/MCC          140   \n",
       "1                   HEART FAILURE & SHOCK W/O CC/MCC          194   \n",
       "2                        HEART FAILURE & SHOCK W MCC          194   \n",
       "3                         HEART FAILURE & SHOCK W CC          194   \n",
       "4  PERC CARDIOVASC PROC W NON-DRUG-ELUTING STENT ...          139   \n",
       "\n",
       "                          DRG_APR_DESC  DRG_APR_SEVERITY  \\\n",
       "0  CHRONIC OBSTRUCTIVE Hosp 46 DISEASE               1.0   \n",
       "1                        HEART FAILURE               2.0   \n",
       "2                        HEART FAILURE               4.0   \n",
       "3                        HEART FAILURE               3.0   \n",
       "4                      OTHER PNEUMONIA               2.0   \n",
       "\n",
       "   DIAGNOSIS_SUBCAT_CODE     DIAGNOSIS_SUBCAT_DESC  DIAGNOSIS_ICD_CODE  \\\n",
       "0                    491        CHRONIC BRONCHITIS              491.21   \n",
       "1                    428             HEART FAILURE              428.43   \n",
       "2                    428             HEART FAILURE              428.00   \n",
       "3                    398  OTHER RHEUMATIC HEART DI              398.91   \n",
       "4                    486   PNEUMONIA ORGANISM UNSP              486.00   \n",
       "\n",
       "                                 DIAGNOSIS_LONG_DESC  PROCEDURE_SUBCAT_CODE  \\\n",
       "0  OBSTRUCTIVE CHRONIC BRONCHITIS WITH ACUTE EXAC...                   99.0   \n",
       "1  ACUTE ON CHRONIC COMBINED SYSTOLIC AND DIASTOL...                    NaN   \n",
       "2               CONGESTIVE HEART FAILURE UNSPECIFIED                   96.0   \n",
       "3                 RHEUMATIC HEART FAILURE CONGESTIVE                   99.0   \n",
       "4                     PNEUMONIA ORGANISM UNSPECIFIED                    NaN   \n",
       "\n",
       "      PROCEDURE_SUBCAT_DESC  PROCEDURE_ICD_CODE  \\\n",
       "0  OTHER NONOPERATIVE PROCE               99.23   \n",
       "1                       NaN                 NaN   \n",
       "2   NONOPERATIVE INTUBATION               96.71   \n",
       "3  OTHER NONOPERATIVE PROCE               99.17   \n",
       "4                       NaN                 NaN   \n",
       "\n",
       "                                 PROCEDURE_LONG_DESC  dx_code  \\\n",
       "0                               INJECTION OF STEROID    49121   \n",
       "1                                                NaN    42843   \n",
       "2  CONTINUOUS INVASIVE MECHANICAL VENTILATION FOR...     4280   \n",
       "3                               INJECTION OF INSULIN    39891   \n",
       "4                                                NaN      486   \n",
       "\n",
       "                                            dx_group  DOCTOR ADMIT_DATE  \\\n",
       "0                     Obstructive chronic bronchitis  303334 2014-12-15   \n",
       "1   Congestive heart failure; nonhypertensive [108.]  292722 2015-05-17   \n",
       "2   Congestive heart failure; nonhypertensive [108.]  267981 2014-09-03   \n",
       "3   Congestive heart failure; nonhypertensive [108.]  234813 2015-02-27   \n",
       "4  Pneumonia (except that caused by TB or STD) [1...  234813 2014-07-19   \n",
       "\n",
       "  DISCHARGE_DATE readmit_date readmit_discharge_date readmit_days  \\\n",
       "0     2014-12-21          NaT                    NaT          NaN   \n",
       "1     2015-05-19          NaT                    NaT          NaN   \n",
       "2     2014-09-04          NaT                    NaT          NaN   \n",
       "3     2015-03-02          NaT                    NaT          NaN   \n",
       "4     2014-07-21          NaT                    NaT          NaN   \n",
       "\n",
       "   LENGTH_OF_STAY  ICU_DAYS        DISCHARGED_TO  op_visits6  \\\n",
       "0               6         4  ROUTINE DSCHG, HOME           8   \n",
       "1               2         0  ROUTINE DSCHG, HOME           4   \n",
       "2               1         0          OTHER DEATH           9   \n",
       "3               4         1  ROUTINE DSCHG, HOME           1   \n",
       "4               2         0  ROUTINE DSCHG, HOME           0   \n",
       "\n",
       "  Standard_Orders_Used  Num_Chronic_Cond  Disch_Nurse_ID  admit_month  \\\n",
       "0                    Y               1.0          350014           12   \n",
       "1                    Y               1.0          350014            5   \n",
       "2                    Y               0.0          350014            9   \n",
       "3                    Y               1.0          350014            2   \n",
       "4                    Y               1.0           12005            7   \n",
       "\n",
       "   readmit_month  order_set_used  order_total_charges  readmit_number  \\\n",
       "0            NaN               1                29507               0   \n",
       "1            NaN               1                23526               0   \n",
       "2            NaN               1                23893               0   \n",
       "3            NaN               1                20862               0   \n",
       "4            NaN               1                25947               0   \n",
       "\n",
       "   operationcount                  HOSPITAL    ZIP STATECODE        City  \\\n",
       "0               0  Delaware County Hospital  52057        IA  Manchester   \n",
       "1               1  Delaware County Hospital  52057        IA  Manchester   \n",
       "2               0  Delaware County Hospital  52057        IA  Manchester   \n",
       "3               2  Delaware County Hospital  52057        IA  Manchester   \n",
       "4               1  Delaware County Hospital  52057        IA  Manchester   \n",
       "\n",
       "  County_name  i  \n",
       "0    Delaware  5  \n",
       "1    Delaware  5  \n",
       "2    Delaware  5  \n",
       "3    Delaware  5  \n",
       "4    Delaware  5  "
      ]
     },
     "execution_count": 3,
     "metadata": {},
     "output_type": "execute_result"
    }
   ],
   "source": [
    "df.head()"
   ]
  },
  {
   "cell_type": "code",
   "execution_count": 4,
   "metadata": {},
   "outputs": [
    {
     "data": {
      "text/html": [
       "<div>\n",
       "<style scoped>\n",
       "    .dataframe tbody tr th:only-of-type {\n",
       "        vertical-align: middle;\n",
       "    }\n",
       "\n",
       "    .dataframe tbody tr th {\n",
       "        vertical-align: top;\n",
       "    }\n",
       "\n",
       "    .dataframe thead th {\n",
       "        text-align: right;\n",
       "    }\n",
       "</style>\n",
       "<table border=\"1\" class=\"dataframe\">\n",
       "  <thead>\n",
       "    <tr style=\"text-align: right;\">\n",
       "      <th></th>\n",
       "      <th>ENCOUNTER_KEY</th>\n",
       "      <th>PATIENT_NUMBER</th>\n",
       "      <th>gender</th>\n",
       "      <th>race_cd</th>\n",
       "      <th>PatientAge</th>\n",
       "      <th>Diagnosis_Group</th>\n",
       "      <th>icd9_target</th>\n",
       "      <th>MS_DRG_CODE</th>\n",
       "      <th>MS_DRG_DESC</th>\n",
       "      <th>DRG_APR_CODE</th>\n",
       "      <th>DRG_APR_DESC</th>\n",
       "      <th>DRG_APR_SEVERITY</th>\n",
       "      <th>DIAGNOSIS_SUBCAT_CODE</th>\n",
       "      <th>DIAGNOSIS_SUBCAT_DESC</th>\n",
       "      <th>DIAGNOSIS_ICD_CODE</th>\n",
       "      <th>DIAGNOSIS_LONG_DESC</th>\n",
       "      <th>PROCEDURE_SUBCAT_CODE</th>\n",
       "      <th>PROCEDURE_SUBCAT_DESC</th>\n",
       "      <th>PROCEDURE_ICD_CODE</th>\n",
       "      <th>PROCEDURE_LONG_DESC</th>\n",
       "      <th>dx_code</th>\n",
       "      <th>dx_group</th>\n",
       "      <th>DOCTOR</th>\n",
       "      <th>ADMIT_DATE</th>\n",
       "      <th>DISCHARGE_DATE</th>\n",
       "      <th>readmit_date</th>\n",
       "      <th>readmit_discharge_date</th>\n",
       "      <th>readmit_days</th>\n",
       "      <th>LENGTH_OF_STAY</th>\n",
       "      <th>ICU_DAYS</th>\n",
       "      <th>DISCHARGED_TO</th>\n",
       "      <th>op_visits6</th>\n",
       "      <th>Standard_Orders_Used</th>\n",
       "      <th>Num_Chronic_Cond</th>\n",
       "      <th>Disch_Nurse_ID</th>\n",
       "      <th>admit_month</th>\n",
       "      <th>readmit_month</th>\n",
       "      <th>order_set_used</th>\n",
       "      <th>order_total_charges</th>\n",
       "      <th>readmit_number</th>\n",
       "      <th>operationcount</th>\n",
       "      <th>HOSPITAL</th>\n",
       "      <th>ZIP</th>\n",
       "      <th>STATECODE</th>\n",
       "      <th>City</th>\n",
       "      <th>County_name</th>\n",
       "      <th>i</th>\n",
       "    </tr>\n",
       "  </thead>\n",
       "  <tbody>\n",
       "    <tr>\n",
       "      <th>146601</th>\n",
       "      <td>105400539</td>\n",
       "      <td>9922060539</td>\n",
       "      <td>F</td>\n",
       "      <td>White</td>\n",
       "      <td>73</td>\n",
       "      <td>AMI</td>\n",
       "      <td>1</td>\n",
       "      <td>280</td>\n",
       "      <td>ACUTE MYOCARDIAL INFARCTION, DISCHARGED ALIVE ...</td>\n",
       "      <td>139</td>\n",
       "      <td>OTHER PNEUMONIA</td>\n",
       "      <td>3.0</td>\n",
       "      <td>486</td>\n",
       "      <td>PNEUMONIA ORGANISM UNSP</td>\n",
       "      <td>486.00</td>\n",
       "      <td>PNEUMONIA ORGANISM UNSPECIFIED</td>\n",
       "      <td>88.0</td>\n",
       "      <td>OTHER DIAGNOSTIC RADIOLO</td>\n",
       "      <td>88.72</td>\n",
       "      <td>DIAGNOSTIC ULTRASOUND OF HEART</td>\n",
       "      <td>486</td>\n",
       "      <td>Pneumonia (except that caused by TB or STD) [1...</td>\n",
       "      <td>247678</td>\n",
       "      <td>2015-06-02</td>\n",
       "      <td>2015-06-04</td>\n",
       "      <td>2015-06-20</td>\n",
       "      <td>2015-06-30</td>\n",
       "      <td>01-07</td>\n",
       "      <td>2</td>\n",
       "      <td>0</td>\n",
       "      <td>ROUTINE DSCHG, HOME</td>\n",
       "      <td>1</td>\n",
       "      <td>N</td>\n",
       "      <td>2.0</td>\n",
       "      <td>145604</td>\n",
       "      <td>6</td>\n",
       "      <td>6.0</td>\n",
       "      <td>0</td>\n",
       "      <td>31480</td>\n",
       "      <td>1</td>\n",
       "      <td>1</td>\n",
       "      <td>Valley City Regional Hospital</td>\n",
       "      <td>58072</td>\n",
       "      <td>ND</td>\n",
       "      <td>Valley City</td>\n",
       "      <td>Barnes</td>\n",
       "      <td>5</td>\n",
       "    </tr>\n",
       "    <tr>\n",
       "      <th>146602</th>\n",
       "      <td>105400991</td>\n",
       "      <td>9922060991</td>\n",
       "      <td>M</td>\n",
       "      <td>Others</td>\n",
       "      <td>75</td>\n",
       "      <td>AMI</td>\n",
       "      <td>1</td>\n",
       "      <td>281</td>\n",
       "      <td>ACUTE MYOCARDIAL INFARCTION, DISCHARGED ALIVE ...</td>\n",
       "      <td>139</td>\n",
       "      <td>OTHER PNEUMONIA</td>\n",
       "      <td>3.0</td>\n",
       "      <td>486</td>\n",
       "      <td>PNEUMONIA ORGANISM UNSP</td>\n",
       "      <td>486.00</td>\n",
       "      <td>PNEUMONIA ORGANISM UNSPECIFIED</td>\n",
       "      <td>99.0</td>\n",
       "      <td>OTHER NONOPERATIVE PROCE</td>\n",
       "      <td>99.23</td>\n",
       "      <td>INJECTION OF STEROID</td>\n",
       "      <td>486</td>\n",
       "      <td>Pneumonia (except that caused by TB or STD) [1...</td>\n",
       "      <td>218284</td>\n",
       "      <td>2014-08-08</td>\n",
       "      <td>2014-09-08</td>\n",
       "      <td>NaT</td>\n",
       "      <td>NaT</td>\n",
       "      <td>NaN</td>\n",
       "      <td>31</td>\n",
       "      <td>28</td>\n",
       "      <td>SKILLED NURSING FACILITY</td>\n",
       "      <td>3</td>\n",
       "      <td>Y</td>\n",
       "      <td>0.0</td>\n",
       "      <td>340014</td>\n",
       "      <td>8</td>\n",
       "      <td>NaN</td>\n",
       "      <td>1</td>\n",
       "      <td>22611</td>\n",
       "      <td>0</td>\n",
       "      <td>2</td>\n",
       "      <td>Valley City Regional Hospital</td>\n",
       "      <td>58072</td>\n",
       "      <td>ND</td>\n",
       "      <td>Valley City</td>\n",
       "      <td>Barnes</td>\n",
       "      <td>5</td>\n",
       "    </tr>\n",
       "    <tr>\n",
       "      <th>146603</th>\n",
       "      <td>105400992</td>\n",
       "      <td>9922060992</td>\n",
       "      <td>M</td>\n",
       "      <td>White</td>\n",
       "      <td>79</td>\n",
       "      <td>AMI</td>\n",
       "      <td>1</td>\n",
       "      <td>280</td>\n",
       "      <td>ACUTE MYOCARDIAL INFARCTION, DISCHARGED ALIVE ...</td>\n",
       "      <td>139</td>\n",
       "      <td>OTHER PNEUMONIA</td>\n",
       "      <td>3.0</td>\n",
       "      <td>486</td>\n",
       "      <td>PNEUMONIA ORGANISM UNSP</td>\n",
       "      <td>486.00</td>\n",
       "      <td>PNEUMONIA ORGANISM UNSPECIFIED</td>\n",
       "      <td>99.0</td>\n",
       "      <td>OTHER NONOPERATIVE PROCE</td>\n",
       "      <td>99.23</td>\n",
       "      <td>INJECTION OF STEROID</td>\n",
       "      <td>486</td>\n",
       "      <td>Pneumonia (except that caused by TB or STD) [1...</td>\n",
       "      <td>218284</td>\n",
       "      <td>2014-07-02</td>\n",
       "      <td>2014-07-03</td>\n",
       "      <td>NaT</td>\n",
       "      <td>NaT</td>\n",
       "      <td>NaN</td>\n",
       "      <td>1</td>\n",
       "      <td>0</td>\n",
       "      <td>SKILLED NURSING FACILITY</td>\n",
       "      <td>0</td>\n",
       "      <td>N</td>\n",
       "      <td>2.0</td>\n",
       "      <td>353062</td>\n",
       "      <td>7</td>\n",
       "      <td>NaN</td>\n",
       "      <td>0</td>\n",
       "      <td>20109</td>\n",
       "      <td>0</td>\n",
       "      <td>0</td>\n",
       "      <td>Valley City Regional Hospital</td>\n",
       "      <td>58072</td>\n",
       "      <td>ND</td>\n",
       "      <td>Valley City</td>\n",
       "      <td>Barnes</td>\n",
       "      <td>5</td>\n",
       "    </tr>\n",
       "    <tr>\n",
       "      <th>146604</th>\n",
       "      <td>105401023</td>\n",
       "      <td>9922061023</td>\n",
       "      <td>F</td>\n",
       "      <td>White</td>\n",
       "      <td>74</td>\n",
       "      <td>COPD</td>\n",
       "      <td>0</td>\n",
       "      <td>192</td>\n",
       "      <td>CHRONIC OBSTRUCTIVE Hosp 46 DISEASE W/O CC/MCC</td>\n",
       "      <td>140</td>\n",
       "      <td>CHRONIC OBSTRUCTIVE Hosp 46 DISEASE</td>\n",
       "      <td>2.0</td>\n",
       "      <td>491</td>\n",
       "      <td>CHRONIC BRONCHITIS</td>\n",
       "      <td>491.21</td>\n",
       "      <td>OBSTRUCTIVE CHRONIC BRONCHITIS WITH ACUTE EXAC...</td>\n",
       "      <td>NaN</td>\n",
       "      <td>NaN</td>\n",
       "      <td>NaN</td>\n",
       "      <td>NaN</td>\n",
       "      <td>49121</td>\n",
       "      <td>Obstructive chronic bronchitis</td>\n",
       "      <td>279187</td>\n",
       "      <td>2015-02-22</td>\n",
       "      <td>2015-02-26</td>\n",
       "      <td>NaT</td>\n",
       "      <td>NaT</td>\n",
       "      <td>NaN</td>\n",
       "      <td>4</td>\n",
       "      <td>2</td>\n",
       "      <td>ROUTINE DSCHG, HOME</td>\n",
       "      <td>1</td>\n",
       "      <td>Y</td>\n",
       "      <td>2.0</td>\n",
       "      <td>145604</td>\n",
       "      <td>2</td>\n",
       "      <td>NaN</td>\n",
       "      <td>1</td>\n",
       "      <td>16163</td>\n",
       "      <td>0</td>\n",
       "      <td>0</td>\n",
       "      <td>Valley City Regional Hospital</td>\n",
       "      <td>58072</td>\n",
       "      <td>ND</td>\n",
       "      <td>Valley City</td>\n",
       "      <td>Barnes</td>\n",
       "      <td>5</td>\n",
       "    </tr>\n",
       "    <tr>\n",
       "      <th>146605</th>\n",
       "      <td>105401059</td>\n",
       "      <td>9922061059</td>\n",
       "      <td>F</td>\n",
       "      <td>White</td>\n",
       "      <td>88</td>\n",
       "      <td>AMI</td>\n",
       "      <td>1</td>\n",
       "      <td>280</td>\n",
       "      <td>ACUTE MYOCARDIAL INFARCTION, DISCHARGED ALIVE ...</td>\n",
       "      <td>139</td>\n",
       "      <td>OTHER PNEUMONIA</td>\n",
       "      <td>4.0</td>\n",
       "      <td>486</td>\n",
       "      <td>PNEUMONIA ORGANISM UNSP</td>\n",
       "      <td>486.00</td>\n",
       "      <td>PNEUMONIA ORGANISM UNSPECIFIED</td>\n",
       "      <td>33.0</td>\n",
       "      <td>OTHER OPERATIONS ON LUNG</td>\n",
       "      <td>33.24</td>\n",
       "      <td>CLOSED ENDOSCOPIC BIOPSY OF BRONCHUS</td>\n",
       "      <td>486</td>\n",
       "      <td>Pneumonia (except that caused by TB or STD) [1...</td>\n",
       "      <td>218284</td>\n",
       "      <td>2015-04-19</td>\n",
       "      <td>2015-04-21</td>\n",
       "      <td>NaT</td>\n",
       "      <td>NaT</td>\n",
       "      <td>NaN</td>\n",
       "      <td>2</td>\n",
       "      <td>0</td>\n",
       "      <td>ROUTINE DSCHG, HOME</td>\n",
       "      <td>2</td>\n",
       "      <td>N</td>\n",
       "      <td>0.0</td>\n",
       "      <td>139607</td>\n",
       "      <td>4</td>\n",
       "      <td>NaN</td>\n",
       "      <td>0</td>\n",
       "      <td>46071</td>\n",
       "      <td>0</td>\n",
       "      <td>2</td>\n",
       "      <td>Valley City Regional Hospital</td>\n",
       "      <td>58072</td>\n",
       "      <td>ND</td>\n",
       "      <td>Valley City</td>\n",
       "      <td>Barnes</td>\n",
       "      <td>5</td>\n",
       "    </tr>\n",
       "  </tbody>\n",
       "</table>\n",
       "</div>"
      ],
      "text/plain": [
       "        ENCOUNTER_KEY  PATIENT_NUMBER gender race_cd  PatientAge  \\\n",
       "146601      105400539      9922060539      F   White          73   \n",
       "146602      105400991      9922060991      M  Others          75   \n",
       "146603      105400992      9922060992      M   White          79   \n",
       "146604      105401023      9922061023      F   White          74   \n",
       "146605      105401059      9922061059      F   White          88   \n",
       "\n",
       "       Diagnosis_Group  icd9_target  MS_DRG_CODE  \\\n",
       "146601             AMI            1          280   \n",
       "146602             AMI            1          281   \n",
       "146603             AMI            1          280   \n",
       "146604            COPD            0          192   \n",
       "146605             AMI            1          280   \n",
       "\n",
       "                                              MS_DRG_DESC DRG_APR_CODE  \\\n",
       "146601  ACUTE MYOCARDIAL INFARCTION, DISCHARGED ALIVE ...          139   \n",
       "146602  ACUTE MYOCARDIAL INFARCTION, DISCHARGED ALIVE ...          139   \n",
       "146603  ACUTE MYOCARDIAL INFARCTION, DISCHARGED ALIVE ...          139   \n",
       "146604     CHRONIC OBSTRUCTIVE Hosp 46 DISEASE W/O CC/MCC          140   \n",
       "146605  ACUTE MYOCARDIAL INFARCTION, DISCHARGED ALIVE ...          139   \n",
       "\n",
       "                               DRG_APR_DESC  DRG_APR_SEVERITY  \\\n",
       "146601                      OTHER PNEUMONIA               3.0   \n",
       "146602                      OTHER PNEUMONIA               3.0   \n",
       "146603                      OTHER PNEUMONIA               3.0   \n",
       "146604  CHRONIC OBSTRUCTIVE Hosp 46 DISEASE               2.0   \n",
       "146605                      OTHER PNEUMONIA               4.0   \n",
       "\n",
       "        DIAGNOSIS_SUBCAT_CODE    DIAGNOSIS_SUBCAT_DESC  DIAGNOSIS_ICD_CODE  \\\n",
       "146601                    486  PNEUMONIA ORGANISM UNSP              486.00   \n",
       "146602                    486  PNEUMONIA ORGANISM UNSP              486.00   \n",
       "146603                    486  PNEUMONIA ORGANISM UNSP              486.00   \n",
       "146604                    491       CHRONIC BRONCHITIS              491.21   \n",
       "146605                    486  PNEUMONIA ORGANISM UNSP              486.00   \n",
       "\n",
       "                                      DIAGNOSIS_LONG_DESC  \\\n",
       "146601                     PNEUMONIA ORGANISM UNSPECIFIED   \n",
       "146602                     PNEUMONIA ORGANISM UNSPECIFIED   \n",
       "146603                     PNEUMONIA ORGANISM UNSPECIFIED   \n",
       "146604  OBSTRUCTIVE CHRONIC BRONCHITIS WITH ACUTE EXAC...   \n",
       "146605                     PNEUMONIA ORGANISM UNSPECIFIED   \n",
       "\n",
       "        PROCEDURE_SUBCAT_CODE     PROCEDURE_SUBCAT_DESC  PROCEDURE_ICD_CODE  \\\n",
       "146601                   88.0  OTHER DIAGNOSTIC RADIOLO               88.72   \n",
       "146602                   99.0  OTHER NONOPERATIVE PROCE               99.23   \n",
       "146603                   99.0  OTHER NONOPERATIVE PROCE               99.23   \n",
       "146604                    NaN                       NaN                 NaN   \n",
       "146605                   33.0  OTHER OPERATIONS ON LUNG               33.24   \n",
       "\n",
       "                         PROCEDURE_LONG_DESC  dx_code  \\\n",
       "146601        DIAGNOSTIC ULTRASOUND OF HEART      486   \n",
       "146602                  INJECTION OF STEROID      486   \n",
       "146603                  INJECTION OF STEROID      486   \n",
       "146604                                   NaN    49121   \n",
       "146605  CLOSED ENDOSCOPIC BIOPSY OF BRONCHUS      486   \n",
       "\n",
       "                                                 dx_group  DOCTOR ADMIT_DATE  \\\n",
       "146601  Pneumonia (except that caused by TB or STD) [1...  247678 2015-06-02   \n",
       "146602  Pneumonia (except that caused by TB or STD) [1...  218284 2014-08-08   \n",
       "146603  Pneumonia (except that caused by TB or STD) [1...  218284 2014-07-02   \n",
       "146604                     Obstructive chronic bronchitis  279187 2015-02-22   \n",
       "146605  Pneumonia (except that caused by TB or STD) [1...  218284 2015-04-19   \n",
       "\n",
       "       DISCHARGE_DATE readmit_date readmit_discharge_date readmit_days  \\\n",
       "146601     2015-06-04   2015-06-20             2015-06-30        01-07   \n",
       "146602     2014-09-08          NaT                    NaT          NaN   \n",
       "146603     2014-07-03          NaT                    NaT          NaN   \n",
       "146604     2015-02-26          NaT                    NaT          NaN   \n",
       "146605     2015-04-21          NaT                    NaT          NaN   \n",
       "\n",
       "        LENGTH_OF_STAY  ICU_DAYS             DISCHARGED_TO  op_visits6  \\\n",
       "146601               2         0       ROUTINE DSCHG, HOME           1   \n",
       "146602              31        28  SKILLED NURSING FACILITY           3   \n",
       "146603               1         0  SKILLED NURSING FACILITY           0   \n",
       "146604               4         2       ROUTINE DSCHG, HOME           1   \n",
       "146605               2         0       ROUTINE DSCHG, HOME           2   \n",
       "\n",
       "       Standard_Orders_Used  Num_Chronic_Cond  Disch_Nurse_ID  admit_month  \\\n",
       "146601                    N               2.0          145604            6   \n",
       "146602                    Y               0.0          340014            8   \n",
       "146603                    N               2.0          353062            7   \n",
       "146604                    Y               2.0          145604            2   \n",
       "146605                    N               0.0          139607            4   \n",
       "\n",
       "        readmit_month  order_set_used  order_total_charges  readmit_number  \\\n",
       "146601            6.0               0                31480               1   \n",
       "146602            NaN               1                22611               0   \n",
       "146603            NaN               0                20109               0   \n",
       "146604            NaN               1                16163               0   \n",
       "146605            NaN               0                46071               0   \n",
       "\n",
       "        operationcount                       HOSPITAL    ZIP STATECODE  \\\n",
       "146601               1  Valley City Regional Hospital  58072        ND   \n",
       "146602               2  Valley City Regional Hospital  58072        ND   \n",
       "146603               0  Valley City Regional Hospital  58072        ND   \n",
       "146604               0  Valley City Regional Hospital  58072        ND   \n",
       "146605               2  Valley City Regional Hospital  58072        ND   \n",
       "\n",
       "               City County_name  i  \n",
       "146601  Valley City      Barnes  5  \n",
       "146602  Valley City      Barnes  5  \n",
       "146603  Valley City      Barnes  5  \n",
       "146604  Valley City      Barnes  5  \n",
       "146605  Valley City      Barnes  5  "
      ]
     },
     "execution_count": 4,
     "metadata": {},
     "output_type": "execute_result"
    }
   ],
   "source": [
    "df.tail()"
   ]
  },
  {
   "cell_type": "markdown",
   "metadata": {},
   "source": [
    "## Explore the Data"
   ]
  },
  {
   "cell_type": "markdown",
   "metadata": {},
   "source": [
    "### Get information on rows and columns"
   ]
  },
  {
   "cell_type": "code",
   "execution_count": 5,
   "metadata": {},
   "outputs": [
    {
     "data": {
      "text/plain": [
       "(146606, 47)"
      ]
     },
     "execution_count": 5,
     "metadata": {},
     "output_type": "execute_result"
    }
   ],
   "source": [
    "df.shape"
   ]
  },
  {
   "cell_type": "code",
   "execution_count": 6,
   "metadata": {},
   "outputs": [
    {
     "name": "stdout",
     "output_type": "stream",
     "text": [
      "The number of columns is:  47\n"
     ]
    }
   ],
   "source": [
    "print (\"The number of columns is: \", df.shape[1])"
   ]
  },
  {
   "cell_type": "code",
   "execution_count": 7,
   "metadata": {},
   "outputs": [
    {
     "name": "stdout",
     "output_type": "stream",
     "text": [
      "The number of rows is:  146606\n"
     ]
    }
   ],
   "source": [
    "print (\"The number of rows is: \", df.shape[0])"
   ]
  },
  {
   "cell_type": "code",
   "execution_count": 8,
   "metadata": {},
   "outputs": [
    {
     "data": {
      "text/plain": [
       "Index(['ENCOUNTER_KEY', 'PATIENT_NUMBER', 'gender', 'race_cd', 'PatientAge',\n",
       "       'Diagnosis_Group', 'icd9_target', 'MS_DRG_CODE', 'MS_DRG_DESC',\n",
       "       'DRG_APR_CODE', 'DRG_APR_DESC', 'DRG_APR_SEVERITY',\n",
       "       'DIAGNOSIS_SUBCAT_CODE', 'DIAGNOSIS_SUBCAT_DESC', 'DIAGNOSIS_ICD_CODE',\n",
       "       'DIAGNOSIS_LONG_DESC', 'PROCEDURE_SUBCAT_CODE', 'PROCEDURE_SUBCAT_DESC',\n",
       "       'PROCEDURE_ICD_CODE', 'PROCEDURE_LONG_DESC', 'dx_code', 'dx_group',\n",
       "       'DOCTOR', 'ADMIT_DATE', 'DISCHARGE_DATE', 'readmit_date',\n",
       "       'readmit_discharge_date', 'readmit_days', 'LENGTH_OF_STAY', 'ICU_DAYS',\n",
       "       'DISCHARGED_TO', 'op_visits6', 'Standard_Orders_Used',\n",
       "       'Num_Chronic_Cond', 'Disch_Nurse_ID', 'admit_month', 'readmit_month',\n",
       "       'order_set_used', 'order_total_charges', 'readmit_number',\n",
       "       'operationcount', 'HOSPITAL', 'ZIP', 'STATECODE', 'City', 'County_name',\n",
       "       'i'],\n",
       "      dtype='object')"
      ]
     },
     "execution_count": 8,
     "metadata": {},
     "output_type": "execute_result"
    }
   ],
   "source": [
    "df.columns"
   ]
  },
  {
   "cell_type": "markdown",
   "metadata": {},
   "source": [
    "### Get information on Data Types"
   ]
  },
  {
   "cell_type": "code",
   "execution_count": 9,
   "metadata": {},
   "outputs": [
    {
     "name": "stdout",
     "output_type": "stream",
     "text": [
      "<class 'pandas.core.frame.DataFrame'>\n",
      "RangeIndex: 146606 entries, 0 to 146605\n",
      "Data columns (total 47 columns):\n",
      " #   Column                  Non-Null Count   Dtype         \n",
      "---  ------                  --------------   -----         \n",
      " 0   ENCOUNTER_KEY           146606 non-null  int64         \n",
      " 1   PATIENT_NUMBER          146606 non-null  int64         \n",
      " 2   gender                  146606 non-null  object        \n",
      " 3   race_cd                 146606 non-null  object        \n",
      " 4   PatientAge              146606 non-null  int64         \n",
      " 5   Diagnosis_Group         146606 non-null  object        \n",
      " 6   icd9_target             146606 non-null  int64         \n",
      " 7   MS_DRG_CODE             146606 non-null  int64         \n",
      " 8   MS_DRG_DESC             146606 non-null  object        \n",
      " 9   DRG_APR_CODE            146606 non-null  object        \n",
      " 10  DRG_APR_DESC            146606 non-null  object        \n",
      " 11  DRG_APR_SEVERITY        146413 non-null  float64       \n",
      " 12  DIAGNOSIS_SUBCAT_CODE   146606 non-null  int64         \n",
      " 13  DIAGNOSIS_SUBCAT_DESC   146606 non-null  object        \n",
      " 14  DIAGNOSIS_ICD_CODE      146606 non-null  float64       \n",
      " 15  DIAGNOSIS_LONG_DESC     146606 non-null  object        \n",
      " 16  PROCEDURE_SUBCAT_CODE   99875 non-null   float64       \n",
      " 17  PROCEDURE_SUBCAT_DESC   99875 non-null   object        \n",
      " 18  PROCEDURE_ICD_CODE      99875 non-null   float64       \n",
      " 19  PROCEDURE_LONG_DESC     99875 non-null   object        \n",
      " 20  dx_code                 146606 non-null  int64         \n",
      " 21  dx_group                146606 non-null  object        \n",
      " 22  DOCTOR                  146606 non-null  int64         \n",
      " 23  ADMIT_DATE              146606 non-null  datetime64[ns]\n",
      " 24  DISCHARGE_DATE          146606 non-null  datetime64[ns]\n",
      " 25  readmit_date            22642 non-null   datetime64[ns]\n",
      " 26  readmit_discharge_date  22642 non-null   datetime64[ns]\n",
      " 27  readmit_days            22642 non-null   object        \n",
      " 28  LENGTH_OF_STAY          146606 non-null  int64         \n",
      " 29  ICU_DAYS                146606 non-null  int64         \n",
      " 30  DISCHARGED_TO           146606 non-null  object        \n",
      " 31  op_visits6              146606 non-null  int64         \n",
      " 32  Standard_Orders_Used    146606 non-null  object        \n",
      " 33  Num_Chronic_Cond        146413 non-null  float64       \n",
      " 34  Disch_Nurse_ID          146606 non-null  int64         \n",
      " 35  admit_month             146606 non-null  int64         \n",
      " 36  readmit_month           22642 non-null   float64       \n",
      " 37  order_set_used          146606 non-null  int64         \n",
      " 38  order_total_charges     146606 non-null  int64         \n",
      " 39  readmit_number          146606 non-null  int64         \n",
      " 40  operationcount          146606 non-null  int64         \n",
      " 41  HOSPITAL                146606 non-null  object        \n",
      " 42  ZIP                     146606 non-null  int64         \n",
      " 43  STATECODE               146606 non-null  object        \n",
      " 44  City                    146606 non-null  object        \n",
      " 45  County_name             146606 non-null  object        \n",
      " 46  i                       146606 non-null  int64         \n",
      "dtypes: datetime64[ns](4), float64(6), int64(19), object(18)\n",
      "memory usage: 52.6+ MB\n"
     ]
    }
   ],
   "source": [
    "df.info()"
   ]
  },
  {
   "cell_type": "markdown",
   "metadata": {},
   "source": [
    "### Get Information on Missing Values"
   ]
  },
  {
   "cell_type": "code",
   "execution_count": 10,
   "metadata": {},
   "outputs": [],
   "source": [
    "missing_values = df.isnull().sum()"
   ]
  },
  {
   "cell_type": "code",
   "execution_count": 11,
   "metadata": {},
   "outputs": [
    {
     "data": {
      "text/plain": [
       "ENCOUNTER_KEY              0.00\n",
       "PATIENT_NUMBER             0.00\n",
       "gender                     0.00\n",
       "race_cd                    0.00\n",
       "PatientAge                 0.00\n",
       "Diagnosis_Group            0.00\n",
       "icd9_target                0.00\n",
       "MS_DRG_CODE                0.00\n",
       "MS_DRG_DESC                0.00\n",
       "DRG_APR_CODE               0.00\n",
       "DRG_APR_DESC               0.00\n",
       "DRG_APR_SEVERITY           0.13\n",
       "DIAGNOSIS_SUBCAT_CODE      0.00\n",
       "DIAGNOSIS_SUBCAT_DESC      0.00\n",
       "DIAGNOSIS_ICD_CODE         0.00\n",
       "DIAGNOSIS_LONG_DESC        0.00\n",
       "PROCEDURE_SUBCAT_CODE     31.88\n",
       "PROCEDURE_SUBCAT_DESC     31.88\n",
       "PROCEDURE_ICD_CODE        31.88\n",
       "PROCEDURE_LONG_DESC       31.88\n",
       "dx_code                    0.00\n",
       "dx_group                   0.00\n",
       "DOCTOR                     0.00\n",
       "ADMIT_DATE                 0.00\n",
       "DISCHARGE_DATE             0.00\n",
       "readmit_date              84.56\n",
       "readmit_discharge_date    84.56\n",
       "readmit_days              84.56\n",
       "LENGTH_OF_STAY             0.00\n",
       "ICU_DAYS                   0.00\n",
       "DISCHARGED_TO              0.00\n",
       "op_visits6                 0.00\n",
       "Standard_Orders_Used       0.00\n",
       "Num_Chronic_Cond           0.13\n",
       "Disch_Nurse_ID             0.00\n",
       "admit_month                0.00\n",
       "readmit_month             84.56\n",
       "order_set_used             0.00\n",
       "order_total_charges        0.00\n",
       "readmit_number             0.00\n",
       "operationcount             0.00\n",
       "HOSPITAL                   0.00\n",
       "ZIP                        0.00\n",
       "STATECODE                  0.00\n",
       "City                       0.00\n",
       "County_name                0.00\n",
       "i                          0.00\n",
       "dtype: float64"
      ]
     },
     "execution_count": 11,
     "metadata": {},
     "output_type": "execute_result"
    }
   ],
   "source": [
    "(missing_values/len(df)*100).round(2)"
   ]
  },
  {
   "cell_type": "markdown",
   "metadata": {},
   "source": [
    "Although, there are 84% missing values with readmit dates, this is most likely because a patient was never readmitted. Therefore, we can assume the missing data is valid and can be coded as missing. In addition, there's a possiblity that procedure codes are missing because no procedure was performed on the patient. Therefore, these will be coded as missing as well."
   ]
  },
  {
   "cell_type": "markdown",
   "metadata": {},
   "source": [
    "### Summary Stats"
   ]
  },
  {
   "cell_type": "markdown",
   "metadata": {},
   "source": [
    "#### Gender"
   ]
  },
  {
   "cell_type": "code",
   "execution_count": 12,
   "metadata": {},
   "outputs": [
    {
     "data": {
      "text/plain": [
       "F    56.62\n",
       "M    43.38\n",
       "Name: gender, dtype: float64"
      ]
     },
     "execution_count": 12,
     "metadata": {},
     "output_type": "execute_result"
    }
   ],
   "source": [
    "gender = df['gender'].value_counts(normalize=True)*100\n",
    "gender.round(2)"
   ]
  },
  {
   "cell_type": "code",
   "execution_count": 13,
   "metadata": {},
   "outputs": [
    {
     "data": {
      "text/html": [
       "<div>\n",
       "<style scoped>\n",
       "    .dataframe tbody tr th:only-of-type {\n",
       "        vertical-align: middle;\n",
       "    }\n",
       "\n",
       "    .dataframe tbody tr th {\n",
       "        vertical-align: top;\n",
       "    }\n",
       "\n",
       "    .dataframe thead th {\n",
       "        text-align: right;\n",
       "    }\n",
       "</style>\n",
       "<table border=\"1\" class=\"dataframe\">\n",
       "  <thead>\n",
       "    <tr style=\"text-align: right;\">\n",
       "      <th>readmit_days</th>\n",
       "      <th>01-07</th>\n",
       "      <th>08-30</th>\n",
       "      <th>31-60</th>\n",
       "    </tr>\n",
       "    <tr>\n",
       "      <th>gender</th>\n",
       "      <th></th>\n",
       "      <th></th>\n",
       "      <th></th>\n",
       "    </tr>\n",
       "  </thead>\n",
       "  <tbody>\n",
       "    <tr>\n",
       "      <th>F</th>\n",
       "      <td>5506</td>\n",
       "      <td>6539</td>\n",
       "      <td>1497</td>\n",
       "    </tr>\n",
       "    <tr>\n",
       "      <th>M</th>\n",
       "      <td>3465</td>\n",
       "      <td>4436</td>\n",
       "      <td>1199</td>\n",
       "    </tr>\n",
       "  </tbody>\n",
       "</table>\n",
       "</div>"
      ],
      "text/plain": [
       "readmit_days  01-07  08-30  31-60\n",
       "gender                           \n",
       "F              5506   6539   1497\n",
       "M              3465   4436   1199"
      ]
     },
     "execution_count": 13,
     "metadata": {},
     "output_type": "execute_result"
    }
   ],
   "source": [
    "gender_read = pd.crosstab(df['gender'], df['readmit_days'])\n",
    "gender_read"
   ]
  },
  {
   "cell_type": "code",
   "execution_count": 14,
   "metadata": {},
   "outputs": [
    {
     "data": {
      "image/png": "[encoded data removed]",
      "text/plain": [
       "<Figure size 432x288 with 1 Axes>"
      ]
     },
     "metadata": {
      "needs_background": "light"
     },
     "output_type": "display_data"
    }
   ],
   "source": [
    "gender_read.plot(kind='bar');\n",
    "plt.title('Count of Readmissions by Gender');"
   ]
  },
  {
   "cell_type": "markdown",
   "metadata": {},
   "source": [
    "Females have the highest number of readmissions compared to males, with the majority of readmissions occuring between 8 and 30 days after discharge."
   ]
  },
  {
   "cell_type": "markdown",
   "metadata": {},
   "source": [
    "#### Race"
   ]
  },
  {
   "cell_type": "code",
   "execution_count": 15,
   "metadata": {},
   "outputs": [
    {
     "data": {
      "text/plain": [
       "array(['White', 'Black', 'Others'], dtype=object)"
      ]
     },
     "execution_count": 15,
     "metadata": {},
     "output_type": "execute_result"
    }
   ],
   "source": [
    "df['race_cd'].unique()"
   ]
  },
  {
   "cell_type": "code",
   "execution_count": 16,
   "metadata": {},
   "outputs": [
    {
     "data": {
      "text/plain": [
       "White     85.42\n",
       "Black      9.45\n",
       "Others     5.13\n",
       "Name: race_cd, dtype: float64"
      ]
     },
     "execution_count": 16,
     "metadata": {},
     "output_type": "execute_result"
    }
   ],
   "source": [
    "race = df['race_cd'].value_counts(normalize=True)*100\n",
    "race.round(2)"
   ]
  },
  {
   "cell_type": "code",
   "execution_count": 17,
   "metadata": {},
   "outputs": [
    {
     "data": {
      "text/html": [
       "<div>\n",
       "<style scoped>\n",
       "    .dataframe tbody tr th:only-of-type {\n",
       "        vertical-align: middle;\n",
       "    }\n",
       "\n",
       "    .dataframe tbody tr th {\n",
       "        vertical-align: top;\n",
       "    }\n",
       "\n",
       "    .dataframe thead th {\n",
       "        text-align: right;\n",
       "    }\n",
       "</style>\n",
       "<table border=\"1\" class=\"dataframe\">\n",
       "  <thead>\n",
       "    <tr style=\"text-align: right;\">\n",
       "      <th>readmit_days</th>\n",
       "      <th>01-07</th>\n",
       "      <th>08-30</th>\n",
       "      <th>31-60</th>\n",
       "    </tr>\n",
       "    <tr>\n",
       "      <th>race_cd</th>\n",
       "      <th></th>\n",
       "      <th></th>\n",
       "      <th></th>\n",
       "    </tr>\n",
       "  </thead>\n",
       "  <tbody>\n",
       "    <tr>\n",
       "      <th>Black</th>\n",
       "      <td>1112</td>\n",
       "      <td>677</td>\n",
       "      <td>436</td>\n",
       "    </tr>\n",
       "    <tr>\n",
       "      <th>Others</th>\n",
       "      <td>386</td>\n",
       "      <td>819</td>\n",
       "      <td>145</td>\n",
       "    </tr>\n",
       "    <tr>\n",
       "      <th>White</th>\n",
       "      <td>7473</td>\n",
       "      <td>9479</td>\n",
       "      <td>2115</td>\n",
       "    </tr>\n",
       "  </tbody>\n",
       "</table>\n",
       "</div>"
      ],
      "text/plain": [
       "readmit_days  01-07  08-30  31-60\n",
       "race_cd                          \n",
       "Black          1112    677    436\n",
       "Others          386    819    145\n",
       "White          7473   9479   2115"
      ]
     },
     "execution_count": 17,
     "metadata": {},
     "output_type": "execute_result"
    }
   ],
   "source": [
    "race_read = pd.crosstab(df.race_cd, df.readmit_days)\n",
    "race_read"
   ]
  },
  {
   "cell_type": "code",
   "execution_count": 18,
   "metadata": {},
   "outputs": [
    {
     "data": {
      "image/png": "[encoded data removed]",
      "text/plain": [
       "<Figure size 432x288 with 1 Axes>"
      ]
     },
     "metadata": {
      "needs_background": "light"
     },
     "output_type": "display_data"
    }
   ],
   "source": [
    "race_read.plot(kind='bar');\n",
    "plt.title('Count of Readmissions by Race');"
   ]
  },
  {
   "cell_type": "markdown",
   "metadata": {},
   "source": [
    "People of white ethnicity accounted for the most number of readmissions between 8 and 30 days."
   ]
  },
  {
   "cell_type": "markdown",
   "metadata": {},
   "source": [
    "#### Age"
   ]
  },
  {
   "cell_type": "code",
   "execution_count": 19,
   "metadata": {},
   "outputs": [
    {
     "data": {
      "text/plain": [
       "count    146606.000000\n",
       "mean         74.440848\n",
       "std          13.267879\n",
       "min          27.000000\n",
       "25%          69.000000\n",
       "50%          76.000000\n",
       "75%          83.000000\n",
       "max         101.000000\n",
       "Name: PatientAge, dtype: float64"
      ]
     },
     "execution_count": 19,
     "metadata": {},
     "output_type": "execute_result"
    }
   ],
   "source": [
    "df['PatientAge'].describe()"
   ]
  },
  {
   "cell_type": "code",
   "execution_count": 20,
   "metadata": {},
   "outputs": [
    {
     "data": {
      "image/png": "[encoded data removed]",
      "text/plain": [
       "<Figure size 432x288 with 1 Axes>"
      ]
     },
     "metadata": {
      "needs_background": "light"
     },
     "output_type": "display_data"
    }
   ],
   "source": [
    "df['PatientAge'].plot(kind='hist', color='dodgerblue');\n",
    "plt.title('Distribution of Patient Age');"
   ]
  },
  {
   "cell_type": "markdown",
   "metadata": {},
   "source": [
    "Patient ages ranged from 27 to 101. The average age of patients was 74. Due to the various number of ages, the ages category will be grouped into bins to make it easier for analysis."
   ]
  },
  {
   "cell_type": "markdown",
   "metadata": {},
   "source": [
    "#### Diagnosis"
   ]
  },
  {
   "cell_type": "code",
   "execution_count": 21,
   "metadata": {},
   "outputs": [
    {
     "data": {
      "text/plain": [
       "array(['COPD', 'CHF', 'AMI'], dtype=object)"
      ]
     },
     "execution_count": 21,
     "metadata": {},
     "output_type": "execute_result"
    }
   ],
   "source": [
    "df['Diagnosis_Group'].unique()"
   ]
  },
  {
   "cell_type": "code",
   "execution_count": 22,
   "metadata": {},
   "outputs": [
    {
     "data": {
      "text/plain": [
       "CHF     64.98\n",
       "AMI     27.38\n",
       "COPD     7.63\n",
       "Name: Diagnosis_Group, dtype: float64"
      ]
     },
     "execution_count": 22,
     "metadata": {},
     "output_type": "execute_result"
    }
   ],
   "source": [
    "diag = df['Diagnosis_Group'].value_counts(normalize=True)*100\n",
    "diag.round(2)"
   ]
  },
  {
   "cell_type": "code",
   "execution_count": 23,
   "metadata": {},
   "outputs": [
    {
     "data": {
      "text/plain": [
       "HEART FAILURE & SHOCK W CC                                              26.67\n",
       "HEART FAILURE & SHOCK W MCC                                             26.62\n",
       "HEART FAILURE & SHOCK W/O CC/MCC                                        11.90\n",
       "PERC CARDIOVASC PROC W NON-DRUG-ELUTING STENT W/O MCC                    4.87\n",
       "ACUTE MYOCARDIAL INFARCTION, DISCHARGED ALIVE W MCC                      3.76\n",
       "CHRONIC OBSTRUCTIVE Hosp 46 DISEASE W CC                                 2.80\n",
       "CHRONIC OBSTRUCTIVE Hosp 46 DISEASE W/O CC/MCC                           2.47\n",
       "CHRONIC OBSTRUCTIVE Hosp 46 DISEASE W MCC                                2.37\n",
       "ACUTE MYOCARDIAL INFARCTION, DISCHARGED ALIVE W CC                       2.27\n",
       "CORONARY BYPASS W CARDIAC CATH W/O MCC                                   2.17\n",
       "CORONARY BYPASS W CARDIAC CATH W MCC                                     1.98\n",
       "ACUTE MYOCARDIA INFARCTION, DISCHARGED ALIVE W/O CC/MCC                  1.39\n",
       "PERC CARDIOVASC PROC W DRUG-ELUTING STENT W/O MCC                        1.05\n",
       "PERC CARDIOVASC PROC W NON-DRUG-ELUTING STENT W MCC OR 4+ VES/STENTS     0.98\n",
       "PERC CARDIOVASC PROC W DRUG-ELUTING STENT W MCC OR 4+ VESSELS/STENTS     0.93\n",
       "ACUTE MYOCARDIAL INFARCTION, EXPIRED W MCC                               0.72\n",
       "MAJOR CARDIOVASC PROCEDURES W MCC OR THORACIC AORTIC ANUERYSM REPAIR     0.66\n",
       "CORONARY BYPASS W/O CARDIAC CATH W/O MCC                                 0.59\n",
       "CARDIAC VALVE & OTH MAJ CARDIOTHORACIC PROC W CARD CATH W MCC            0.59\n",
       "ECMO OR TRACH W MV 96+ HRS OR PDX EXC FACE, MOUTH & NECK W MAJ O.R.      0.53\n",
       "CIRCULATORY DISORDERS EXCEPT AMI, W CARD CATH W/O MCC                    0.53\n",
       "CORONARY BYPASS W/O CARDIAC CATH W MCC                                   0.40\n",
       "MAJOR CARDIOVASC PROCEDURES W/O MCC                                      0.33\n",
       "CORONARY BYPASS W PTCA W/O MCC                                           0.33\n",
       "RESPIRATORY SIGNS & SYMPTOMS                                             0.23\n",
       "CIRCULATORY DISORDERS EXCEPT AMI, W CARD CATH W MCC                      0.20\n",
       "CHEST PAIN                                                               0.20\n",
       "CARDIAC DEFIB IMPLANT W CARDIAC CATH W AMI/HF/SHOCK W MCC                0.20\n",
       "OTHER CARDIOTHORACIC PROCEDURES W MCC                                    0.20\n",
       "HEART Hosp 50 OR IMPLANT OF HEART ASSIST SYSTEM W MCC                    0.20\n",
       "CORONARY BYPASS W PTCA W MCC                                             0.19\n",
       "OTHER CARDIOTHORACIC PROCEDURES W CC                                     0.13\n",
       "PERC CARDIOVASC PROC W/O CORONARY ARTERY STENT OR AMI W MCC              0.13\n",
       "PERMANENT CARDIAC PACEMAKER IMPLANT W MCC                                0.13\n",
       "CARDIAC VALVE & OTH MAJ CARDIOTHORACIC PROC W/O CARD CATH W CC           0.13\n",
       "NON-EXTENSIVE O.R. PROC UNRELATED TO PRINCIPAL DIAGNOSIS W MCC           0.07\n",
       "HEART Hosp 50 OR IMPLANT OF HEART ASSIST SYSTEM W/O MCC                  0.07\n",
       "CARDIAC VALVE & OTH MAJ CARDIOTHORACIC PROC W/O CARD CATH W MCC          0.07\n",
       "COMPLICATIONS OF TREATMENT W MCC                                         0.07\n",
       "ATHEROSCLEROSIS W/O MCC                                                  0.07\n",
       "SIGNS & SYMPTOMS OF MUSCULOSKELETAL SYSTEM & CONN TISSUE W/O MCC         0.07\n",
       "ACUTE MYOCARDIAL INFARCTION, EXPIRED W CC                                0.07\n",
       "CARDIAC VALVE & OTH MAJ CARDIOTHORACIC PROC W/O CARD CATH W/O CC/MCC     0.07\n",
       "PERC CARDIOVASC PROC W/O CORONARY ARTERY STENT OR AMI W/O MCC            0.07\n",
       "CARDIAC VALVE & OTH MAJ CARDIOTHORACIC PROC W CARD CATH W CC             0.07\n",
       "CARDIAC VALVE & OTH MAJ CARDIOTHORACIC PROC W CARD CATH W/O CC/MCC       0.07\n",
       "MAJOR CHEST PROCEDURES W MCC                                             0.07\n",
       "EXTENSIVE O.R. PROCEDURE UNRELATED TO PRINCIPAL DIAGNOSIS W MCC          0.07\n",
       "EXTENSIVE O.R. PROCEDURE UNRELATED TO PRINCIPAL DIAGNOSIS W CC           0.06\n",
       "OTHER DISORDERS OF NERVOUS SYSTEM W CC                                   0.06\n",
       "CARDIAC DEFIB IMPLANT W CARDIAC CATH W AMI/HF/SHOCK W/O MCC              0.06\n",
       "CARDIAC ARRHYTHMIA & CONDUCTION DISORDERS W MCC                          0.06\n",
       "KIDNEY & URINARY TRACT INFECTIONS W MCC                                  0.06\n",
       "Name: MS_DRG_DESC, dtype: float64"
      ]
     },
     "execution_count": 23,
     "metadata": {},
     "output_type": "execute_result"
    }
   ],
   "source": [
    "ms = df['MS_DRG_DESC'].value_counts(normalize=True)*100\n",
    "ms.round(2)"
   ]
  },
  {
   "cell_type": "code",
   "execution_count": 24,
   "metadata": {},
   "outputs": [
    {
     "data": {
      "text/plain": [
       "HEART FAILURE                                                             63.93\n",
       "OTHER PNEUMONIA                                                           23.63\n",
       "CHRONIC OBSTRUCTIVE Hosp 46 DISEASE                                        6.56\n",
       "MAJOR RESPIRATORY INFECTIONS & INFLAMMATIONS                               1.55\n",
       "CYSTIC FIBROSIS - Hosp 46 DISEASE                                          1.37\n",
       "RESPIRATORY SYSTEM DIAGNOSIS W VENTILATOR SUPPORT 96+ HOURS                0.66\n",
       "ACUTE MYOCARDIAL INFARCTION                                                0.33\n",
       "HIV W MAJOR HIV RELATED CONDITION                                          0.27\n",
       "HIV W ONE SIGNIF HIV COND OR W/O SIGNIF RELATED COND                       0.27\n",
       "OTHER CIRCULATORY SYSTEM DIAGNOSES                                         0.20\n",
       "OTHER RESPIRATORY & CHEST PROCEDURES                                       0.20\n",
       "TRACHEOSTOMY W LONG TERM MECHANICAL VENTILATION W/O EXTENSIVE PROCEDUR     0.13\n",
       "NODATA                                                                     0.13\n",
       "CARDIAC CATHETERIZATION W CIRC DISORD EXC ISCHEMIC HEART DISEASE           0.13\n",
       "MALNUTRITION, FAILURE TO THRIVE & OTHER NUTRITIONAL DISORDERS              0.07\n",
       "BPD & OTH CHRONIC RESPIRATORY DISEASES ARISING IN PERINATAL PERIOD         0.07\n",
       "EXTENSIVE PROCEDURE UNRELATED TO PRINCIPAL DIAGNOSIS                       0.07\n",
       "BRONCHIOLITIS & RSV PNEUMONIA                                              0.07\n",
       "SEPTICEMIA & DISSEMINATED INFECTIONS                                       0.07\n",
       "MODERATELY EXTENSIVE PROCEDURE UNRELATED TO PRINCIPAL DIAGNOSIS            0.07\n",
       "CONNECTIVE TISSUE DISORDERS                                                0.07\n",
       "MAJOR RESPIRATORY & CHEST PROCEDURES                                       0.07\n",
       "TRACHEOSTOMY W LONG TERM MECHANICAL VENTILATION W EXTENSIVE PROCEDURE      0.07\n",
       "ELECTROLYTE DISORDERS EXCEPT HYPOVOLEMIA RELATED                           0.06\n",
       "Name: DRG_APR_DESC, dtype: float64"
      ]
     },
     "execution_count": 24,
     "metadata": {},
     "output_type": "execute_result"
    }
   ],
   "source": [
    "apr = df['DRG_APR_DESC'].value_counts(normalize=True)*100\n",
    "apr.round(2)"
   ]
  },
  {
   "cell_type": "code",
   "execution_count": 25,
   "metadata": {},
   "outputs": [
    {
     "data": {
      "text/plain": [
       "HEART FAILURE               59.91\n",
       "PNEUMONIA ORGANISM UNSP     22.19\n",
       "CHRONIC BRONCHITIS           5.29\n",
       "OTHER BACTERIAL PNEUMONI     2.57\n",
       "PNEUMOCOCCAL PNEUMONIA       2.04\n",
       "HYPERTENSIVE HEART AND C     1.98\n",
       "HYPERTENSIVE HEART DISEA     1.19\n",
       "OTHER RHEUMATIC HEART DI     1.12\n",
       "ASTHMA                       0.79\n",
       "BRONCHIECTASIS               0.69\n",
       "EMPHYSEMA                    0.56\n",
       "VIRAL PNEUMONIA              0.39\n",
       "ACUTE MYOCARDIAL INFARCT     0.33\n",
       "CHRONIC AIRWAY OBSTRUCTI     0.26\n",
       "CHRONIC Hosp 46 HEART        0.20\n",
       "PNEUMONIA DUE TO OTHER S     0.13\n",
       "SYMPTOMS CONCERNING NUTR     0.07\n",
       "OTHER AND UNSPECIFIED DI     0.07\n",
       "SEPTICEMIA                   0.07\n",
       "BRONCHOPNEUMONIA ORGANI      0.07\n",
       "DISORDERS OF FLUID ELEC      0.06\n",
       "DISEASES DUE TO OTHER MY     0.03\n",
       "Name: DIAGNOSIS_SUBCAT_DESC, dtype: float64"
      ]
     },
     "execution_count": 25,
     "metadata": {},
     "output_type": "execute_result"
    }
   ],
   "source": [
    "diag_subcat = df['DIAGNOSIS_SUBCAT_DESC'].value_counts(normalize=True)*100\n",
    "diag_subcat.round(2)"
   ]
  },
  {
   "cell_type": "code",
   "execution_count": 26,
   "metadata": {},
   "outputs": [
    {
     "data": {
      "text/plain": [
       "OTHER DIAGNOSTIC RADIOLO    47.08\n",
       "OTHER NONOPERATIVE PROCE    17.14\n",
       "INCISION, EXCISION, AND     11.65\n",
       "OTHER OPERATIONS ON VESS     5.16\n",
       "NONOPERATIVE INTUBATION      5.02\n",
       "OTHER OPERATIONS ON LUNG     4.06\n",
       "OPERATIONS ON CHEST WALL     2.47\n",
       "INTERVIEW, EVALUATION, C     2.31\n",
       "OTHER OPERATIONS ON HEAR     0.82\n",
       "NUCLEAR MEDICINE             0.81\n",
       "OPERATIONS ON SPINAL COR     0.58\n",
       "PROCEDURES RELATED TO TH     0.38\n",
       "OTHER OPERATIONS ON LARY     0.34\n",
       "OTHER OPERATIONS ON ABDO     0.29\n",
       "OPERATIONS ON BONE MARRO     0.29\n",
       "OPERATIONS ON SKIN AND S     0.29\n",
       "OPERATIONS ON NOSE           0.20\n",
       "REPAIR AND PLASTIC OPERA     0.19\n",
       "PROCEDURES AND INTERVENT     0.19\n",
       "INCISION AND EXCISION OF     0.15\n",
       "REPLACEMENT AND REMOVAL      0.10\n",
       "OPERATIONS ON LYMPHATIC      0.10\n",
       "OPERATIONS ON RECTUM REC     0.10\n",
       "OTHER OPERATIONS ON TEET     0.10\n",
       "OPERATIONS ON ANUS           0.10\n",
       "OPERATIONS ON LIVER          0.09\n",
       "Name: PROCEDURE_SUBCAT_DESC, dtype: float64"
      ]
     },
     "execution_count": 26,
     "metadata": {},
     "output_type": "execute_result"
    }
   ],
   "source": [
    "proc_subcat = df['PROCEDURE_SUBCAT_DESC'].value_counts(normalize=True)*100\n",
    "proc_subcat.round(2)"
   ]
  },
  {
   "cell_type": "code",
   "execution_count": 27,
   "metadata": {},
   "outputs": [
    {
     "data": {
      "text/plain": [
       "Congestive heart failure; nonhypertensive [108.]                         61.02\n",
       "Pneumonia (except that caused by TB or STD) [122.]                       27.41\n",
       "Obstructive chronic bronchitis                                            5.23\n",
       "Hypertension with complications and secondary hypertension [99.]          3.17\n",
       "Other chronic pulmonary disease                                           0.79\n",
       "Chronic obstructive asthma                                                0.79\n",
       "Emphysema                                                                 0.53\n",
       "Acute myocardial infarction [100.]                                        0.33\n",
       "Chronic airway obstruction; not otherwise specified                       0.26\n",
       "Pulmonary heart disease [103.]                                            0.20\n",
       "Other and unspecified metabolic; nutritional; and endocrine disorders     0.13\n",
       "Septicemia (except in labor) [2.]                                         0.07\n",
       "Hypopotassemia                                                            0.06\n",
       "Name: dx_group, dtype: float64"
      ]
     },
     "execution_count": 27,
     "metadata": {},
     "output_type": "execute_result"
    }
   ],
   "source": [
    "dx = df['dx_group'].value_counts(normalize=True)*100\n",
    "dx.round(2)"
   ]
  },
  {
   "cell_type": "code",
   "execution_count": 28,
   "metadata": {},
   "outputs": [
    {
     "data": {
      "text/html": [
       "<div>\n",
       "<style scoped>\n",
       "    .dataframe tbody tr th:only-of-type {\n",
       "        vertical-align: middle;\n",
       "    }\n",
       "\n",
       "    .dataframe tbody tr th {\n",
       "        vertical-align: top;\n",
       "    }\n",
       "\n",
       "    .dataframe thead th {\n",
       "        text-align: right;\n",
       "    }\n",
       "</style>\n",
       "<table border=\"1\" class=\"dataframe\">\n",
       "  <thead>\n",
       "    <tr style=\"text-align: right;\">\n",
       "      <th>readmit_days</th>\n",
       "      <th>01-07</th>\n",
       "      <th>08-30</th>\n",
       "      <th>31-60</th>\n",
       "    </tr>\n",
       "    <tr>\n",
       "      <th>Diagnosis_Group</th>\n",
       "      <th></th>\n",
       "      <th></th>\n",
       "      <th></th>\n",
       "    </tr>\n",
       "  </thead>\n",
       "  <tbody>\n",
       "    <tr>\n",
       "      <th>AMI</th>\n",
       "      <td>3244</td>\n",
       "      <td>3321</td>\n",
       "      <td>725</td>\n",
       "    </tr>\n",
       "    <tr>\n",
       "      <th>CHF</th>\n",
       "      <td>5293</td>\n",
       "      <td>7081</td>\n",
       "      <td>1828</td>\n",
       "    </tr>\n",
       "    <tr>\n",
       "      <th>COPD</th>\n",
       "      <td>434</td>\n",
       "      <td>573</td>\n",
       "      <td>143</td>\n",
       "    </tr>\n",
       "  </tbody>\n",
       "</table>\n",
       "</div>"
      ],
      "text/plain": [
       "readmit_days     01-07  08-30  31-60\n",
       "Diagnosis_Group                     \n",
       "AMI               3244   3321    725\n",
       "CHF               5293   7081   1828\n",
       "COPD               434    573    143"
      ]
     },
     "execution_count": 28,
     "metadata": {},
     "output_type": "execute_result"
    }
   ],
   "source": [
    "pd.crosstab(df['Diagnosis_Group'], df['readmit_days'])"
   ]
  },
  {
   "cell_type": "markdown",
   "metadata": {},
   "source": [
    "Diagnosis Group CHF - Congestive Heart Failure accounted for the highest number of diagnosis. In addition, CHF and AMI - Acute Myocardial Infarction, diagnosis groups had the highest number of readmissions between 1 and 30 days."
   ]
  },
  {
   "cell_type": "markdown",
   "metadata": {},
   "source": [
    "#### Readmits"
   ]
  },
  {
   "cell_type": "code",
   "execution_count": 29,
   "metadata": {},
   "outputs": [
    {
     "data": {
      "text/plain": [
       "08-30    48.47\n",
       "01-07    39.62\n",
       "31-60    11.91\n",
       "Name: readmit_days, dtype: float64"
      ]
     },
     "execution_count": 29,
     "metadata": {},
     "output_type": "execute_result"
    }
   ],
   "source": [
    "readmit_day = df['readmit_days'].value_counts(normalize=True)*100\n",
    "readmit_day.round(2)"
   ]
  },
  {
   "cell_type": "code",
   "execution_count": 30,
   "metadata": {},
   "outputs": [
    {
     "data": {
      "text/html": [
       "<div>\n",
       "<style scoped>\n",
       "    .dataframe tbody tr th:only-of-type {\n",
       "        vertical-align: middle;\n",
       "    }\n",
       "\n",
       "    .dataframe tbody tr th {\n",
       "        vertical-align: top;\n",
       "    }\n",
       "\n",
       "    .dataframe thead th {\n",
       "        text-align: right;\n",
       "    }\n",
       "</style>\n",
       "<table border=\"1\" class=\"dataframe\">\n",
       "  <thead>\n",
       "    <tr style=\"text-align: right;\">\n",
       "      <th>readmit_days</th>\n",
       "      <th>01-07</th>\n",
       "      <th>08-30</th>\n",
       "      <th>31-60</th>\n",
       "    </tr>\n",
       "    <tr>\n",
       "      <th>Diagnosis_Group</th>\n",
       "      <th></th>\n",
       "      <th></th>\n",
       "      <th></th>\n",
       "    </tr>\n",
       "  </thead>\n",
       "  <tbody>\n",
       "    <tr>\n",
       "      <th>AMI</th>\n",
       "      <td>3244</td>\n",
       "      <td>3321</td>\n",
       "      <td>725</td>\n",
       "    </tr>\n",
       "    <tr>\n",
       "      <th>CHF</th>\n",
       "      <td>5293</td>\n",
       "      <td>7081</td>\n",
       "      <td>1828</td>\n",
       "    </tr>\n",
       "    <tr>\n",
       "      <th>COPD</th>\n",
       "      <td>434</td>\n",
       "      <td>573</td>\n",
       "      <td>143</td>\n",
       "    </tr>\n",
       "  </tbody>\n",
       "</table>\n",
       "</div>"
      ],
      "text/plain": [
       "readmit_days     01-07  08-30  31-60\n",
       "Diagnosis_Group                     \n",
       "AMI               3244   3321    725\n",
       "CHF               5293   7081   1828\n",
       "COPD               434    573    143"
      ]
     },
     "execution_count": 30,
     "metadata": {},
     "output_type": "execute_result"
    }
   ],
   "source": [
    "diag_read = pd.crosstab(df.Diagnosis_Group, df.readmit_days)\n",
    "diag_read"
   ]
  },
  {
   "cell_type": "code",
   "execution_count": 31,
   "metadata": {},
   "outputs": [
    {
     "data": {
      "image/png": "[encoded data removed]",
      "text/plain": [
       "<Figure size 432x288 with 1 Axes>"
      ]
     },
     "metadata": {
      "needs_background": "light"
     },
     "output_type": "display_data"
    }
   ],
   "source": [
    "diag_read.plot(kind='bar');"
   ]
  },
  {
   "cell_type": "code",
   "execution_count": 32,
   "metadata": {},
   "outputs": [
    {
     "data": {
      "text/plain": [
       "5.0     12.14\n",
       "3.0     11.88\n",
       "6.0     10.24\n",
       "4.0      9.59\n",
       "12.0     9.39\n",
       "1.0      9.16\n",
       "8.0      7.87\n",
       "11.0     7.63\n",
       "10.0     7.03\n",
       "2.0      6.80\n",
       "7.0      4.47\n",
       "9.0      3.80\n",
       "Name: readmit_month, dtype: float64"
      ]
     },
     "execution_count": 32,
     "metadata": {},
     "output_type": "execute_result"
    }
   ],
   "source": [
    "readmit_month = df['readmit_month'].value_counts(normalize=True)*100\n",
    "readmit_month.round(2)"
   ]
  },
  {
   "cell_type": "code",
   "execution_count": 33,
   "metadata": {},
   "outputs": [
    {
     "data": {
      "text/plain": [
       "array([0, 1], dtype=int64)"
      ]
     },
     "execution_count": 33,
     "metadata": {},
     "output_type": "execute_result"
    }
   ],
   "source": [
    "df['readmit_number'].unique()"
   ]
  },
  {
   "cell_type": "code",
   "execution_count": 34,
   "metadata": {},
   "outputs": [
    {
     "data": {
      "text/plain": [
       "0    84.56\n",
       "1    15.44\n",
       "Name: readmit_number, dtype: float64"
      ]
     },
     "execution_count": 34,
     "metadata": {},
     "output_type": "execute_result"
    }
   ],
   "source": [
    "read_num = df['readmit_number'].value_counts(normalize=True)*100\n",
    "read_num.round(2)"
   ]
  },
  {
   "cell_type": "markdown",
   "metadata": {},
   "source": [
    "39% of patients were readmitted within 1 to 7 days, while 48% of patients were readmitted between 8 and 30 days. The majority of patients who were readmitted between 8 and 30 days were readmitted due to Congestive Heart Failure. There was no significant peaks in the months. However, May had the most number of readmissions."
   ]
  },
  {
   "cell_type": "markdown",
   "metadata": {},
   "source": [
    "#### Admissions"
   ]
  },
  {
   "cell_type": "code",
   "execution_count": 35,
   "metadata": {},
   "outputs": [
    {
     "data": {
      "text/plain": [
       "5     12.16\n",
       "1     11.49\n",
       "2     10.88\n",
       "3     10.24\n",
       "4      8.99\n",
       "12     8.68\n",
       "11     8.65\n",
       "6      8.40\n",
       "10     8.27\n",
       "9      4.33\n",
       "8      4.16\n",
       "7      3.75\n",
       "Name: admit_month, dtype: float64"
      ]
     },
     "execution_count": 35,
     "metadata": {},
     "output_type": "execute_result"
    }
   ],
   "source": [
    "admit = df['admit_month'].value_counts(normalize=True)*100\n",
    "admit.round(2)"
   ]
  },
  {
   "cell_type": "markdown",
   "metadata": {},
   "source": [
    "#### Length of Stay"
   ]
  },
  {
   "cell_type": "code",
   "execution_count": 36,
   "metadata": {},
   "outputs": [
    {
     "data": {
      "text/plain": [
       "count    146606.000000\n",
       "mean          5.446094\n",
       "std           4.102900\n",
       "min           1.000000\n",
       "25%           3.000000\n",
       "50%           4.000000\n",
       "75%           7.000000\n",
       "max          32.000000\n",
       "Name: LENGTH_OF_STAY, dtype: float64"
      ]
     },
     "execution_count": 36,
     "metadata": {},
     "output_type": "execute_result"
    }
   ],
   "source": [
    "df['LENGTH_OF_STAY'].describe()"
   ]
  },
  {
   "cell_type": "code",
   "execution_count": 37,
   "metadata": {},
   "outputs": [
    {
     "data": {
      "image/png": "[encoded data removed]",
      "text/plain": [
       "<Figure size 432x288 with 1 Axes>"
      ]
     },
     "metadata": {
      "needs_background": "light"
     },
     "output_type": "display_data"
    }
   ],
   "source": [
    "df['LENGTH_OF_STAY'].plot(kind='box');\n",
    "plt.title('Distribution of Length of Stay');"
   ]
  },
  {
   "cell_type": "code",
   "execution_count": 38,
   "metadata": {},
   "outputs": [
    {
     "data": {
      "image/png": "[encoded data removed]",
      "text/plain": [
       "<Figure size 432x288 with 1 Axes>"
      ]
     },
     "metadata": {
      "needs_background": "light"
     },
     "output_type": "display_data"
    }
   ],
   "source": [
    "df.boxplot(column = 'LENGTH_OF_STAY', by = 'Diagnosis_Group');\n",
    "plt.suptitle('');\n",
    "plt.title('Length of Stay by Diagnosis Group');"
   ]
  },
  {
   "cell_type": "code",
   "execution_count": 39,
   "metadata": {},
   "outputs": [
    {
     "data": {
      "text/html": [
       "<div>\n",
       "<style scoped>\n",
       "    .dataframe tbody tr th:only-of-type {\n",
       "        vertical-align: middle;\n",
       "    }\n",
       "\n",
       "    .dataframe tbody tr th {\n",
       "        vertical-align: top;\n",
       "    }\n",
       "\n",
       "    .dataframe thead th {\n",
       "        text-align: right;\n",
       "    }\n",
       "</style>\n",
       "<table border=\"1\" class=\"dataframe\">\n",
       "  <thead>\n",
       "    <tr style=\"text-align: right;\">\n",
       "      <th></th>\n",
       "      <th>count</th>\n",
       "      <th>mean</th>\n",
       "      <th>std</th>\n",
       "      <th>min</th>\n",
       "      <th>25%</th>\n",
       "      <th>50%</th>\n",
       "      <th>75%</th>\n",
       "      <th>max</th>\n",
       "    </tr>\n",
       "    <tr>\n",
       "      <th>HOSPITAL</th>\n",
       "      <th></th>\n",
       "      <th></th>\n",
       "      <th></th>\n",
       "      <th></th>\n",
       "      <th></th>\n",
       "      <th></th>\n",
       "      <th></th>\n",
       "      <th></th>\n",
       "    </tr>\n",
       "  </thead>\n",
       "  <tbody>\n",
       "    <tr>\n",
       "      <th>Delaware County Hospital</th>\n",
       "      <td>1446.0</td>\n",
       "      <td>3.233057</td>\n",
       "      <td>1.519984</td>\n",
       "      <td>1.0</td>\n",
       "      <td>2.0</td>\n",
       "      <td>4.0</td>\n",
       "      <td>4.0</td>\n",
       "      <td>6.0</td>\n",
       "    </tr>\n",
       "    <tr>\n",
       "      <th>Hilding-Long Memorial Hospital</th>\n",
       "      <td>18109.0</td>\n",
       "      <td>5.776686</td>\n",
       "      <td>4.409529</td>\n",
       "      <td>1.0</td>\n",
       "      <td>3.0</td>\n",
       "      <td>5.0</td>\n",
       "      <td>7.0</td>\n",
       "      <td>28.0</td>\n",
       "    </tr>\n",
       "    <tr>\n",
       "      <th>Independence Medical Center</th>\n",
       "      <td>5787.0</td>\n",
       "      <td>5.332469</td>\n",
       "      <td>4.307373</td>\n",
       "      <td>1.0</td>\n",
       "      <td>2.0</td>\n",
       "      <td>4.0</td>\n",
       "      <td>6.0</td>\n",
       "      <td>18.0</td>\n",
       "    </tr>\n",
       "    <tr>\n",
       "      <th>Mercy Hospital</th>\n",
       "      <td>34840.0</td>\n",
       "      <td>5.257233</td>\n",
       "      <td>3.702523</td>\n",
       "      <td>1.0</td>\n",
       "      <td>3.0</td>\n",
       "      <td>4.0</td>\n",
       "      <td>7.0</td>\n",
       "      <td>26.0</td>\n",
       "    </tr>\n",
       "    <tr>\n",
       "      <th>Oxbow Regional Hospital</th>\n",
       "      <td>9133.0</td>\n",
       "      <td>4.795905</td>\n",
       "      <td>4.210820</td>\n",
       "      <td>1.0</td>\n",
       "      <td>3.0</td>\n",
       "      <td>3.0</td>\n",
       "      <td>6.0</td>\n",
       "      <td>32.0</td>\n",
       "    </tr>\n",
       "    <tr>\n",
       "      <th>St. Anthony Medical Center</th>\n",
       "      <td>69577.0</td>\n",
       "      <td>5.675266</td>\n",
       "      <td>4.057550</td>\n",
       "      <td>1.0</td>\n",
       "      <td>3.0</td>\n",
       "      <td>5.0</td>\n",
       "      <td>7.0</td>\n",
       "      <td>31.0</td>\n",
       "    </tr>\n",
       "    <tr>\n",
       "      <th>Superior-Parkland Hospital</th>\n",
       "      <td>5113.0</td>\n",
       "      <td>3.627420</td>\n",
       "      <td>2.168257</td>\n",
       "      <td>1.0</td>\n",
       "      <td>2.0</td>\n",
       "      <td>3.0</td>\n",
       "      <td>4.0</td>\n",
       "      <td>10.0</td>\n",
       "    </tr>\n",
       "    <tr>\n",
       "      <th>Valley City Regional Hospital</th>\n",
       "      <td>2601.0</td>\n",
       "      <td>6.885044</td>\n",
       "      <td>7.743946</td>\n",
       "      <td>1.0</td>\n",
       "      <td>2.0</td>\n",
       "      <td>4.0</td>\n",
       "      <td>8.0</td>\n",
       "      <td>31.0</td>\n",
       "    </tr>\n",
       "  </tbody>\n",
       "</table>\n",
       "</div>"
      ],
      "text/plain": [
       "                                  count      mean       std  min  25%  50%  \\\n",
       "HOSPITAL                                                                     \n",
       "Delaware County Hospital         1446.0  3.233057  1.519984  1.0  2.0  4.0   \n",
       "Hilding-Long Memorial Hospital  18109.0  5.776686  4.409529  1.0  3.0  5.0   \n",
       "Independence Medical Center      5787.0  5.332469  4.307373  1.0  2.0  4.0   \n",
       "Mercy Hospital                  34840.0  5.257233  3.702523  1.0  3.0  4.0   \n",
       "Oxbow Regional Hospital          9133.0  4.795905  4.210820  1.0  3.0  3.0   \n",
       "St. Anthony Medical Center      69577.0  5.675266  4.057550  1.0  3.0  5.0   \n",
       "Superior-Parkland Hospital       5113.0  3.627420  2.168257  1.0  2.0  3.0   \n",
       "Valley City Regional Hospital    2601.0  6.885044  7.743946  1.0  2.0  4.0   \n",
       "\n",
       "                                75%   max  \n",
       "HOSPITAL                                   \n",
       "Delaware County Hospital        4.0   6.0  \n",
       "Hilding-Long Memorial Hospital  7.0  28.0  \n",
       "Independence Medical Center     6.0  18.0  \n",
       "Mercy Hospital                  7.0  26.0  \n",
       "Oxbow Regional Hospital         6.0  32.0  \n",
       "St. Anthony Medical Center      7.0  31.0  \n",
       "Superior-Parkland Hospital      4.0  10.0  \n",
       "Valley City Regional Hospital   8.0  31.0  "
      ]
     },
     "execution_count": 39,
     "metadata": {},
     "output_type": "execute_result"
    }
   ],
   "source": [
    "df.groupby(\"HOSPITAL\")[\"LENGTH_OF_STAY\"].describe()"
   ]
  },
  {
   "cell_type": "code",
   "execution_count": 40,
   "metadata": {},
   "outputs": [
    {
     "data": {
      "text/html": [
       "<div>\n",
       "<style scoped>\n",
       "    .dataframe tbody tr th:only-of-type {\n",
       "        vertical-align: middle;\n",
       "    }\n",
       "\n",
       "    .dataframe tbody tr th {\n",
       "        vertical-align: top;\n",
       "    }\n",
       "\n",
       "    .dataframe thead th {\n",
       "        text-align: right;\n",
       "    }\n",
       "</style>\n",
       "<table border=\"1\" class=\"dataframe\">\n",
       "  <thead>\n",
       "    <tr style=\"text-align: right;\">\n",
       "      <th>readmit_days</th>\n",
       "      <th>01-07</th>\n",
       "      <th>08-30</th>\n",
       "      <th>31-60</th>\n",
       "    </tr>\n",
       "    <tr>\n",
       "      <th>LENGTH_OF_STAY</th>\n",
       "      <th></th>\n",
       "      <th></th>\n",
       "      <th></th>\n",
       "    </tr>\n",
       "  </thead>\n",
       "  <tbody>\n",
       "    <tr>\n",
       "      <th>1</th>\n",
       "      <td>721</td>\n",
       "      <td>239</td>\n",
       "      <td>533</td>\n",
       "    </tr>\n",
       "    <tr>\n",
       "      <th>2</th>\n",
       "      <td>2226</td>\n",
       "      <td>1831</td>\n",
       "      <td>142</td>\n",
       "    </tr>\n",
       "    <tr>\n",
       "      <th>3</th>\n",
       "      <td>1061</td>\n",
       "      <td>1833</td>\n",
       "      <td>581</td>\n",
       "    </tr>\n",
       "    <tr>\n",
       "      <th>4</th>\n",
       "      <td>674</td>\n",
       "      <td>2069</td>\n",
       "      <td>385</td>\n",
       "    </tr>\n",
       "    <tr>\n",
       "      <th>5</th>\n",
       "      <td>1351</td>\n",
       "      <td>961</td>\n",
       "      <td>146</td>\n",
       "    </tr>\n",
       "    <tr>\n",
       "      <th>6</th>\n",
       "      <td>676</td>\n",
       "      <td>966</td>\n",
       "      <td>477</td>\n",
       "    </tr>\n",
       "    <tr>\n",
       "      <th>7</th>\n",
       "      <td>385</td>\n",
       "      <td>675</td>\n",
       "      <td>144</td>\n",
       "    </tr>\n",
       "    <tr>\n",
       "      <th>8</th>\n",
       "      <td>580</td>\n",
       "      <td>720</td>\n",
       "      <td>193</td>\n",
       "    </tr>\n",
       "    <tr>\n",
       "      <th>9</th>\n",
       "      <td>577</td>\n",
       "      <td>239</td>\n",
       "      <td>0</td>\n",
       "    </tr>\n",
       "    <tr>\n",
       "      <th>10</th>\n",
       "      <td>194</td>\n",
       "      <td>337</td>\n",
       "      <td>0</td>\n",
       "    </tr>\n",
       "    <tr>\n",
       "      <th>11</th>\n",
       "      <td>48</td>\n",
       "      <td>98</td>\n",
       "      <td>0</td>\n",
       "    </tr>\n",
       "    <tr>\n",
       "      <th>12</th>\n",
       "      <td>97</td>\n",
       "      <td>289</td>\n",
       "      <td>95</td>\n",
       "    </tr>\n",
       "    <tr>\n",
       "      <th>13</th>\n",
       "      <td>143</td>\n",
       "      <td>431</td>\n",
       "      <td>0</td>\n",
       "    </tr>\n",
       "    <tr>\n",
       "      <th>14</th>\n",
       "      <td>48</td>\n",
       "      <td>0</td>\n",
       "      <td>0</td>\n",
       "    </tr>\n",
       "    <tr>\n",
       "      <th>15</th>\n",
       "      <td>0</td>\n",
       "      <td>95</td>\n",
       "      <td>0</td>\n",
       "    </tr>\n",
       "    <tr>\n",
       "      <th>18</th>\n",
       "      <td>96</td>\n",
       "      <td>0</td>\n",
       "      <td>0</td>\n",
       "    </tr>\n",
       "    <tr>\n",
       "      <th>22</th>\n",
       "      <td>94</td>\n",
       "      <td>0</td>\n",
       "      <td>0</td>\n",
       "    </tr>\n",
       "    <tr>\n",
       "      <th>31</th>\n",
       "      <td>0</td>\n",
       "      <td>192</td>\n",
       "      <td>0</td>\n",
       "    </tr>\n",
       "  </tbody>\n",
       "</table>\n",
       "</div>"
      ],
      "text/plain": [
       "readmit_days    01-07  08-30  31-60\n",
       "LENGTH_OF_STAY                     \n",
       "1                 721    239    533\n",
       "2                2226   1831    142\n",
       "3                1061   1833    581\n",
       "4                 674   2069    385\n",
       "5                1351    961    146\n",
       "6                 676    966    477\n",
       "7                 385    675    144\n",
       "8                 580    720    193\n",
       "9                 577    239      0\n",
       "10                194    337      0\n",
       "11                 48     98      0\n",
       "12                 97    289     95\n",
       "13                143    431      0\n",
       "14                 48      0      0\n",
       "15                  0     95      0\n",
       "18                 96      0      0\n",
       "22                 94      0      0\n",
       "31                  0    192      0"
      ]
     },
     "execution_count": 40,
     "metadata": {},
     "output_type": "execute_result"
    }
   ],
   "source": [
    "length_read = pd.crosstab(df.LENGTH_OF_STAY, df.readmit_days)\n",
    "length_read"
   ]
  },
  {
   "cell_type": "markdown",
   "metadata": {},
   "source": [
    "The average length of stay for patients was 5 days. However, some patients stayed a max of 32 days. 2,226 patients who had a length of stay of at least 2 days, were readmitted between 1 and 7 days after discharge. 2,069 patients who had a length of stay of at least 4 days, were readmitted between 8 and 30 days after discharge."
   ]
  },
  {
   "cell_type": "markdown",
   "metadata": {},
   "source": [
    "#### Hospital"
   ]
  },
  {
   "cell_type": "code",
   "execution_count": 41,
   "metadata": {},
   "outputs": [
    {
     "data": {
      "text/plain": [
       "array(['Delaware County Hospital', 'Hilding-Long Memorial Hospital',\n",
       "       'Independence Medical Center', 'Mercy Hospital',\n",
       "       'Oxbow Regional Hospital', 'St. Anthony Medical Center',\n",
       "       'Superior-Parkland Hospital', 'Valley City Regional Hospital'],\n",
       "      dtype=object)"
      ]
     },
     "execution_count": 41,
     "metadata": {},
     "output_type": "execute_result"
    }
   ],
   "source": [
    "df['HOSPITAL'].unique()"
   ]
  },
  {
   "cell_type": "code",
   "execution_count": 42,
   "metadata": {},
   "outputs": [
    {
     "data": {
      "text/plain": [
       "St. Anthony Medical Center        47.46\n",
       "Mercy Hospital                    23.76\n",
       "Hilding-Long Memorial Hospital    12.35\n",
       "Oxbow Regional Hospital            6.23\n",
       "Independence Medical Center        3.95\n",
       "Superior-Parkland Hospital         3.49\n",
       "Valley City Regional Hospital      1.77\n",
       "Delaware County Hospital           0.99\n",
       "Name: HOSPITAL, dtype: float64"
      ]
     },
     "execution_count": 42,
     "metadata": {},
     "output_type": "execute_result"
    }
   ],
   "source": [
    "hospital = df['HOSPITAL'].value_counts(normalize=True)*100\n",
    "hospital.round(2)"
   ]
  },
  {
   "cell_type": "code",
   "execution_count": 43,
   "metadata": {},
   "outputs": [
    {
     "data": {
      "image/png": "[encoded data removed]",
      "text/plain": [
       "<Figure size 432x288 with 1 Axes>"
      ]
     },
     "metadata": {
      "needs_background": "light"
     },
     "output_type": "display_data"
    }
   ],
   "source": [
    "hospital.plot(kind='barh',color='dodgerblue');\n",
    "plt.title('Percent of Patients by Hospital');"
   ]
  },
  {
   "cell_type": "code",
   "execution_count": 44,
   "metadata": {},
   "outputs": [
    {
     "data": {
      "text/plain": [
       "235415    15.40\n",
       "262051    10.41\n",
       "202927     7.56\n",
       "275709     7.11\n",
       "220194     3.94\n",
       "          ...  \n",
       "311772     0.06\n",
       "276404     0.06\n",
       "302999     0.03\n",
       "317267     0.03\n",
       "245283     0.03\n",
       "Name: DOCTOR, Length: 99, dtype: float64"
      ]
     },
     "execution_count": 44,
     "metadata": {},
     "output_type": "execute_result"
    }
   ],
   "source": [
    "doctor = df['DOCTOR'].value_counts(normalize=True)*100\n",
    "doctor.round(2)"
   ]
  },
  {
   "cell_type": "code",
   "execution_count": 45,
   "metadata": {},
   "outputs": [
    {
     "data": {
      "text/plain": [
       "100292    3.71\n",
       "190916    2.95\n",
       "4002      2.87\n",
       "14006     2.81\n",
       "23009     2.79\n",
       "          ... \n",
       "275543    0.03\n",
       "230231    0.03\n",
       "165817    0.02\n",
       "399485    0.02\n",
       "19007     0.02\n",
       "Name: Disch_Nurse_ID, Length: 93, dtype: float64"
      ]
     },
     "execution_count": 45,
     "metadata": {},
     "output_type": "execute_result"
    }
   ],
   "source": [
    "nurse = df['Disch_Nurse_ID'].value_counts(normalize=True)*100\n",
    "nurse.round(2)"
   ]
  },
  {
   "cell_type": "code",
   "execution_count": 46,
   "metadata": {},
   "outputs": [
    {
     "data": {
      "text/html": [
       "<div>\n",
       "<style scoped>\n",
       "    .dataframe tbody tr th:only-of-type {\n",
       "        vertical-align: middle;\n",
       "    }\n",
       "\n",
       "    .dataframe tbody tr th {\n",
       "        vertical-align: top;\n",
       "    }\n",
       "\n",
       "    .dataframe thead th {\n",
       "        text-align: right;\n",
       "    }\n",
       "</style>\n",
       "<table border=\"1\" class=\"dataframe\">\n",
       "  <thead>\n",
       "    <tr style=\"text-align: right;\">\n",
       "      <th>readmit_days</th>\n",
       "      <th>01-07</th>\n",
       "      <th>08-30</th>\n",
       "      <th>31-60</th>\n",
       "    </tr>\n",
       "    <tr>\n",
       "      <th>HOSPITAL</th>\n",
       "      <th></th>\n",
       "      <th></th>\n",
       "      <th></th>\n",
       "    </tr>\n",
       "  </thead>\n",
       "  <tbody>\n",
       "    <tr>\n",
       "      <th>Delaware County Hospital</th>\n",
       "      <td>0</td>\n",
       "      <td>196</td>\n",
       "      <td>0</td>\n",
       "    </tr>\n",
       "    <tr>\n",
       "      <th>Hilding-Long Memorial Hospital</th>\n",
       "      <td>435</td>\n",
       "      <td>964</td>\n",
       "      <td>144</td>\n",
       "    </tr>\n",
       "    <tr>\n",
       "      <th>Independence Medical Center</th>\n",
       "      <td>97</td>\n",
       "      <td>0</td>\n",
       "      <td>0</td>\n",
       "    </tr>\n",
       "    <tr>\n",
       "      <th>Mercy Hospital</th>\n",
       "      <td>3190</td>\n",
       "      <td>5187</td>\n",
       "      <td>1732</td>\n",
       "    </tr>\n",
       "    <tr>\n",
       "      <th>Oxbow Regional Hospital</th>\n",
       "      <td>384</td>\n",
       "      <td>441</td>\n",
       "      <td>97</td>\n",
       "    </tr>\n",
       "    <tr>\n",
       "      <th>St. Anthony Medical Center</th>\n",
       "      <td>4090</td>\n",
       "      <td>3703</td>\n",
       "      <td>723</td>\n",
       "    </tr>\n",
       "    <tr>\n",
       "      <th>Superior-Parkland Hospital</th>\n",
       "      <td>194</td>\n",
       "      <td>97</td>\n",
       "      <td>0</td>\n",
       "    </tr>\n",
       "    <tr>\n",
       "      <th>Valley City Regional Hospital</th>\n",
       "      <td>581</td>\n",
       "      <td>387</td>\n",
       "      <td>0</td>\n",
       "    </tr>\n",
       "  </tbody>\n",
       "</table>\n",
       "</div>"
      ],
      "text/plain": [
       "readmit_days                    01-07  08-30  31-60\n",
       "HOSPITAL                                           \n",
       "Delaware County Hospital            0    196      0\n",
       "Hilding-Long Memorial Hospital    435    964    144\n",
       "Independence Medical Center        97      0      0\n",
       "Mercy Hospital                   3190   5187   1732\n",
       "Oxbow Regional Hospital           384    441     97\n",
       "St. Anthony Medical Center       4090   3703    723\n",
       "Superior-Parkland Hospital        194     97      0\n",
       "Valley City Regional Hospital     581    387      0"
      ]
     },
     "execution_count": 46,
     "metadata": {},
     "output_type": "execute_result"
    }
   ],
   "source": [
    "pd.crosstab(df.HOSPITAL, df.readmit_days)"
   ]
  },
  {
   "cell_type": "markdown",
   "metadata": {},
   "source": [
    "St. Anthony Medical Center accounted for the most number of patients. However, Mercy Hospital had the most number of readmissions."
   ]
  },
  {
   "cell_type": "markdown",
   "metadata": {},
   "source": [
    "#### Location"
   ]
  },
  {
   "cell_type": "code",
   "execution_count": 47,
   "metadata": {},
   "outputs": [
    {
     "data": {
      "text/plain": [
       "MN    83.58\n",
       "WI     9.72\n",
       "IA     4.93\n",
       "ND     1.77\n",
       "Name: STATECODE, dtype: float64"
      ]
     },
     "execution_count": 47,
     "metadata": {},
     "output_type": "execute_result"
    }
   ],
   "source": [
    "state = df['STATECODE'].value_counts(normalize=True)*100\n",
    "state.round(2)"
   ]
  },
  {
   "cell_type": "code",
   "execution_count": 48,
   "metadata": {},
   "outputs": [
    {
     "data": {
      "text/plain": [
       "Minneapolis    47.46\n",
       "Bloomington    23.76\n",
       "Park Rapids    12.35\n",
       "Eau Claire      6.23\n",
       "Waterloo        3.95\n",
       "Parkland        3.49\n",
       "Valley City     1.77\n",
       "Manchester      0.99\n",
       "Name: City, dtype: float64"
      ]
     },
     "execution_count": 48,
     "metadata": {},
     "output_type": "execute_result"
    }
   ],
   "source": [
    "city = df['City'].value_counts(normalize=True)*100\n",
    "city.round(2)"
   ]
  },
  {
   "cell_type": "code",
   "execution_count": 49,
   "metadata": {},
   "outputs": [
    {
     "data": {
      "text/plain": [
       "55406    47.46\n",
       "55437    23.76\n",
       "56470    12.35\n",
       "54702     6.23\n",
       "50644     3.95\n",
       "54874     3.49\n",
       "58072     1.77\n",
       "52057     0.99\n",
       "Name: ZIP, dtype: float64"
      ]
     },
     "execution_count": 49,
     "metadata": {},
     "output_type": "execute_result"
    }
   ],
   "source": [
    "zip = df['ZIP'].value_counts(normalize=True)*100\n",
    "zip.round(2)"
   ]
  },
  {
   "cell_type": "code",
   "execution_count": 50,
   "metadata": {},
   "outputs": [
    {
     "data": {
      "text/plain": [
       "Hennepin      71.22\n",
       "Hubbard       12.35\n",
       "Eau Claire     6.23\n",
       "Black Hawk     3.95\n",
       "Douglas        3.49\n",
       "Barnes         1.77\n",
       "Delaware       0.99\n",
       "Name: County_name, dtype: float64"
      ]
     },
     "execution_count": 50,
     "metadata": {},
     "output_type": "execute_result"
    }
   ],
   "source": [
    "country = df['County_name'].value_counts(normalize=True)*100\n",
    "country.round(2)"
   ]
  },
  {
   "cell_type": "markdown",
   "metadata": {},
   "source": [
    "Minnesota had the most number of patients, accounting for 83% of patients. However, within the state of Minnesota, Minneapolis accounted for 47% of these patients."
   ]
  },
  {
   "cell_type": "markdown",
   "metadata": {},
   "source": [
    "#### ICU"
   ]
  },
  {
   "cell_type": "code",
   "execution_count": 51,
   "metadata": {},
   "outputs": [
    {
     "data": {
      "text/plain": [
       "count    146606.000000\n",
       "mean          2.785398\n",
       "std           3.832078\n",
       "min           0.000000\n",
       "25%           0.000000\n",
       "50%           2.000000\n",
       "75%           4.000000\n",
       "max          29.000000\n",
       "Name: ICU_DAYS, dtype: float64"
      ]
     },
     "execution_count": 51,
     "metadata": {},
     "output_type": "execute_result"
    }
   ],
   "source": [
    "df['ICU_DAYS'].describe()"
   ]
  },
  {
   "cell_type": "code",
   "execution_count": 52,
   "metadata": {},
   "outputs": [
    {
     "data": {
      "image/png": "[encoded data removed]",
      "text/plain": [
       "<Figure size 432x288 with 1 Axes>"
      ]
     },
     "metadata": {
      "needs_background": "light"
     },
     "output_type": "display_data"
    }
   ],
   "source": [
    "df['ICU_DAYS'].plot(kind='box');\n",
    "plt.title('Distribution of ICU Days');"
   ]
  },
  {
   "cell_type": "markdown",
   "metadata": {},
   "source": [
    "Patients in ICU spent an average of 2.7 days in ICU, with a max of 29 days. "
   ]
  },
  {
   "cell_type": "markdown",
   "metadata": {},
   "source": [
    "#### Discharge"
   ]
  },
  {
   "cell_type": "code",
   "execution_count": 53,
   "metadata": {},
   "outputs": [
    {
     "data": {
      "text/plain": [
       "ROUTINE DSCHG, HOME         62.54\n",
       "HOME HEALTH AGENCY          18.04\n",
       "SKILLED NURSING FACILITY    10.90\n",
       "OTHER DEATH                  3.52\n",
       "HOSPICE (HOME)               1.87\n",
       "INTERMEDIATE CARE            1.35\n",
       "AGNST MEDICAL ADVICE AMA     0.82\n",
       "CHG TO LTAC                  0.39\n",
       "OTHER ACUTE HOSP             0.30\n",
       "HOSPICE - MEDICAL INPAT      0.14\n",
       "REHAB HOSPITAL               0.13\n",
       "Name: DISCHARGED_TO, dtype: float64"
      ]
     },
     "execution_count": 53,
     "metadata": {},
     "output_type": "execute_result"
    }
   ],
   "source": [
    "discharge = df['DISCHARGED_TO'].value_counts(normalize=True)*100\n",
    "discharge.round(2)"
   ]
  },
  {
   "cell_type": "code",
   "execution_count": 54,
   "metadata": {},
   "outputs": [
    {
     "data": {
      "text/html": [
       "<div>\n",
       "<style scoped>\n",
       "    .dataframe tbody tr th:only-of-type {\n",
       "        vertical-align: middle;\n",
       "    }\n",
       "\n",
       "    .dataframe tbody tr th {\n",
       "        vertical-align: top;\n",
       "    }\n",
       "\n",
       "    .dataframe thead th {\n",
       "        text-align: right;\n",
       "    }\n",
       "</style>\n",
       "<table border=\"1\" class=\"dataframe\">\n",
       "  <thead>\n",
       "    <tr style=\"text-align: right;\">\n",
       "      <th>readmit_days</th>\n",
       "      <th>01-07</th>\n",
       "      <th>08-30</th>\n",
       "      <th>31-60</th>\n",
       "    </tr>\n",
       "    <tr>\n",
       "      <th>DISCHARGED_TO</th>\n",
       "      <th></th>\n",
       "      <th></th>\n",
       "      <th></th>\n",
       "    </tr>\n",
       "  </thead>\n",
       "  <tbody>\n",
       "    <tr>\n",
       "      <th>AGNST MEDICAL ADVICE AMA</th>\n",
       "      <td>96</td>\n",
       "      <td>97</td>\n",
       "      <td>97</td>\n",
       "    </tr>\n",
       "    <tr>\n",
       "      <th>CHG TO LTAC</th>\n",
       "      <td>48</td>\n",
       "      <td>0</td>\n",
       "      <td>0</td>\n",
       "    </tr>\n",
       "    <tr>\n",
       "      <th>HOME HEALTH AGENCY</th>\n",
       "      <td>1543</td>\n",
       "      <td>1296</td>\n",
       "      <td>191</td>\n",
       "    </tr>\n",
       "    <tr>\n",
       "      <th>HOSPICE (HOME)</th>\n",
       "      <td>96</td>\n",
       "      <td>193</td>\n",
       "      <td>96</td>\n",
       "    </tr>\n",
       "    <tr>\n",
       "      <th>INTERMEDIATE CARE</th>\n",
       "      <td>245</td>\n",
       "      <td>142</td>\n",
       "      <td>50</td>\n",
       "    </tr>\n",
       "    <tr>\n",
       "      <th>OTHER DEATH</th>\n",
       "      <td>240</td>\n",
       "      <td>431</td>\n",
       "      <td>98</td>\n",
       "    </tr>\n",
       "    <tr>\n",
       "      <th>REHAB HOSPITAL</th>\n",
       "      <td>0</td>\n",
       "      <td>145</td>\n",
       "      <td>0</td>\n",
       "    </tr>\n",
       "    <tr>\n",
       "      <th>ROUTINE DSCHG, HOME</th>\n",
       "      <td>5639</td>\n",
       "      <td>6987</td>\n",
       "      <td>2068</td>\n",
       "    </tr>\n",
       "    <tr>\n",
       "      <th>SKILLED NURSING FACILITY</th>\n",
       "      <td>1064</td>\n",
       "      <td>1684</td>\n",
       "      <td>96</td>\n",
       "    </tr>\n",
       "  </tbody>\n",
       "</table>\n",
       "</div>"
      ],
      "text/plain": [
       "readmit_days              01-07  08-30  31-60\n",
       "DISCHARGED_TO                                \n",
       "AGNST MEDICAL ADVICE AMA     96     97     97\n",
       "CHG TO LTAC                  48      0      0\n",
       "HOME HEALTH AGENCY         1543   1296    191\n",
       "HOSPICE (HOME)               96    193     96\n",
       "INTERMEDIATE CARE           245    142     50\n",
       "OTHER DEATH                 240    431     98\n",
       "REHAB HOSPITAL                0    145      0\n",
       "ROUTINE DSCHG, HOME        5639   6987   2068\n",
       "SKILLED NURSING FACILITY   1064   1684     96"
      ]
     },
     "execution_count": 54,
     "metadata": {},
     "output_type": "execute_result"
    }
   ],
   "source": [
    "pd.crosstab(df.DISCHARGED_TO, df.readmit_days)"
   ]
  },
  {
   "cell_type": "markdown",
   "metadata": {},
   "source": [
    "Most patients were discharged to their homes. Also, patients who were discharged to their home had the highest number of readmissions."
   ]
  },
  {
   "cell_type": "markdown",
   "metadata": {},
   "source": [
    "#### Chronic Conditions"
   ]
  },
  {
   "cell_type": "code",
   "execution_count": 55,
   "metadata": {},
   "outputs": [
    {
     "data": {
      "text/plain": [
       "count    146413.000000\n",
       "mean          1.018550\n",
       "std           0.937125\n",
       "min           0.000000\n",
       "25%           0.000000\n",
       "50%           1.000000\n",
       "75%           1.000000\n",
       "max           4.000000\n",
       "Name: Num_Chronic_Cond, dtype: float64"
      ]
     },
     "execution_count": 55,
     "metadata": {},
     "output_type": "execute_result"
    }
   ],
   "source": [
    "df['Num_Chronic_Cond'].describe()"
   ]
  },
  {
   "cell_type": "code",
   "execution_count": 56,
   "metadata": {},
   "outputs": [
    {
     "data": {
      "image/png": "[encoded data removed]",
      "text/plain": [
       "<Figure size 432x288 with 1 Axes>"
      ]
     },
     "metadata": {
      "needs_background": "light"
     },
     "output_type": "display_data"
    }
   ],
   "source": [
    "df['Num_Chronic_Cond'].plot(kind='box');\n",
    "plt.title('Distribution of Number of Chronic Conditions');"
   ]
  },
  {
   "cell_type": "code",
   "execution_count": 57,
   "metadata": {},
   "outputs": [
    {
     "data": {
      "text/html": [
       "<div>\n",
       "<style scoped>\n",
       "    .dataframe tbody tr th:only-of-type {\n",
       "        vertical-align: middle;\n",
       "    }\n",
       "\n",
       "    .dataframe tbody tr th {\n",
       "        vertical-align: top;\n",
       "    }\n",
       "\n",
       "    .dataframe thead th {\n",
       "        text-align: right;\n",
       "    }\n",
       "</style>\n",
       "<table border=\"1\" class=\"dataframe\">\n",
       "  <thead>\n",
       "    <tr style=\"text-align: right;\">\n",
       "      <th>readmit_days</th>\n",
       "      <th>01-07</th>\n",
       "      <th>08-30</th>\n",
       "      <th>31-60</th>\n",
       "    </tr>\n",
       "    <tr>\n",
       "      <th>Num_Chronic_Cond</th>\n",
       "      <th></th>\n",
       "      <th></th>\n",
       "      <th></th>\n",
       "    </tr>\n",
       "  </thead>\n",
       "  <tbody>\n",
       "    <tr>\n",
       "      <th>0.0</th>\n",
       "      <td>632</td>\n",
       "      <td>529</td>\n",
       "      <td>49</td>\n",
       "    </tr>\n",
       "    <tr>\n",
       "      <th>1.0</th>\n",
       "      <td>1832</td>\n",
       "      <td>1823</td>\n",
       "      <td>626</td>\n",
       "    </tr>\n",
       "    <tr>\n",
       "      <th>2.0</th>\n",
       "      <td>2748</td>\n",
       "      <td>3508</td>\n",
       "      <td>961</td>\n",
       "    </tr>\n",
       "    <tr>\n",
       "      <th>3.0</th>\n",
       "      <td>2316</td>\n",
       "      <td>3476</td>\n",
       "      <td>576</td>\n",
       "    </tr>\n",
       "    <tr>\n",
       "      <th>4.0</th>\n",
       "      <td>1443</td>\n",
       "      <td>1639</td>\n",
       "      <td>484</td>\n",
       "    </tr>\n",
       "  </tbody>\n",
       "</table>\n",
       "</div>"
      ],
      "text/plain": [
       "readmit_days      01-07  08-30  31-60\n",
       "Num_Chronic_Cond                     \n",
       "0.0                 632    529     49\n",
       "1.0                1832   1823    626\n",
       "2.0                2748   3508    961\n",
       "3.0                2316   3476    576\n",
       "4.0                1443   1639    484"
      ]
     },
     "execution_count": 57,
     "metadata": {},
     "output_type": "execute_result"
    }
   ],
   "source": [
    "pd.crosstab(df.Num_Chronic_Cond, df.readmit_days)"
   ]
  },
  {
   "cell_type": "markdown",
   "metadata": {},
   "source": [
    "The average number of chronic conditions for a patient was 1. However, patients with chronic conditions seem to have a high number of readmissions accross the board."
   ]
  },
  {
   "cell_type": "markdown",
   "metadata": {},
   "source": [
    "#### DRG_APR_Severity"
   ]
  },
  {
   "cell_type": "code",
   "execution_count": 58,
   "metadata": {},
   "outputs": [
    {
     "data": {
      "text/plain": [
       "3.0    43.151223\n",
       "2.0    41.442358\n",
       "4.0     8.749906\n",
       "1.0     6.656513\n",
       "Name: DRG_APR_SEVERITY, dtype: float64"
      ]
     },
     "execution_count": 58,
     "metadata": {},
     "output_type": "execute_result"
    }
   ],
   "source": [
    "df['DRG_APR_SEVERITY'].value_counts(normalize=True)*100"
   ]
  },
  {
   "cell_type": "code",
   "execution_count": 59,
   "metadata": {},
   "outputs": [
    {
     "data": {
      "text/html": [
       "<div>\n",
       "<style scoped>\n",
       "    .dataframe tbody tr th:only-of-type {\n",
       "        vertical-align: middle;\n",
       "    }\n",
       "\n",
       "    .dataframe tbody tr th {\n",
       "        vertical-align: top;\n",
       "    }\n",
       "\n",
       "    .dataframe thead th {\n",
       "        text-align: right;\n",
       "    }\n",
       "</style>\n",
       "<table border=\"1\" class=\"dataframe\">\n",
       "  <thead>\n",
       "    <tr style=\"text-align: right;\">\n",
       "      <th>Diagnosis_Group</th>\n",
       "      <th>AMI</th>\n",
       "      <th>CHF</th>\n",
       "      <th>COPD</th>\n",
       "    </tr>\n",
       "    <tr>\n",
       "      <th>DRG_APR_SEVERITY</th>\n",
       "      <th></th>\n",
       "      <th></th>\n",
       "      <th></th>\n",
       "    </tr>\n",
       "  </thead>\n",
       "  <tbody>\n",
       "    <tr>\n",
       "      <th>1.0</th>\n",
       "      <td>3095</td>\n",
       "      <td>5396</td>\n",
       "      <td>1255</td>\n",
       "    </tr>\n",
       "    <tr>\n",
       "      <th>2.0</th>\n",
       "      <td>14393</td>\n",
       "      <td>41030</td>\n",
       "      <td>5254</td>\n",
       "    </tr>\n",
       "    <tr>\n",
       "      <th>3.0</th>\n",
       "      <td>17548</td>\n",
       "      <td>41380</td>\n",
       "      <td>4251</td>\n",
       "    </tr>\n",
       "    <tr>\n",
       "      <th>4.0</th>\n",
       "      <td>5107</td>\n",
       "      <td>7271</td>\n",
       "      <td>433</td>\n",
       "    </tr>\n",
       "  </tbody>\n",
       "</table>\n",
       "</div>"
      ],
      "text/plain": [
       "Diagnosis_Group     AMI    CHF  COPD\n",
       "DRG_APR_SEVERITY                    \n",
       "1.0                3095   5396  1255\n",
       "2.0               14393  41030  5254\n",
       "3.0               17548  41380  4251\n",
       "4.0                5107   7271   433"
      ]
     },
     "execution_count": 59,
     "metadata": {},
     "output_type": "execute_result"
    }
   ],
   "source": [
    "sev_diag = pd.crosstab(df['DRG_APR_SEVERITY'], df['Diagnosis_Group'])\n",
    "sev_diag"
   ]
  },
  {
   "cell_type": "code",
   "execution_count": 60,
   "metadata": {},
   "outputs": [
    {
     "data": {
      "text/html": [
       "<div>\n",
       "<style scoped>\n",
       "    .dataframe tbody tr th:only-of-type {\n",
       "        vertical-align: middle;\n",
       "    }\n",
       "\n",
       "    .dataframe tbody tr th {\n",
       "        vertical-align: top;\n",
       "    }\n",
       "\n",
       "    .dataframe thead th {\n",
       "        text-align: right;\n",
       "    }\n",
       "</style>\n",
       "<table border=\"1\" class=\"dataframe\">\n",
       "  <thead>\n",
       "    <tr style=\"text-align: right;\">\n",
       "      <th>readmit_days</th>\n",
       "      <th>01-07</th>\n",
       "      <th>08-30</th>\n",
       "      <th>31-60</th>\n",
       "    </tr>\n",
       "    <tr>\n",
       "      <th>DRG_APR_SEVERITY</th>\n",
       "      <th></th>\n",
       "      <th></th>\n",
       "      <th></th>\n",
       "    </tr>\n",
       "  </thead>\n",
       "  <tbody>\n",
       "    <tr>\n",
       "      <th>1.0</th>\n",
       "      <td>339</td>\n",
       "      <td>723</td>\n",
       "      <td>0</td>\n",
       "    </tr>\n",
       "    <tr>\n",
       "      <th>2.0</th>\n",
       "      <td>3480</td>\n",
       "      <td>4867</td>\n",
       "      <td>1400</td>\n",
       "    </tr>\n",
       "    <tr>\n",
       "      <th>3.0</th>\n",
       "      <td>4334</td>\n",
       "      <td>4475</td>\n",
       "      <td>1151</td>\n",
       "    </tr>\n",
       "    <tr>\n",
       "      <th>4.0</th>\n",
       "      <td>818</td>\n",
       "      <td>910</td>\n",
       "      <td>49</td>\n",
       "    </tr>\n",
       "  </tbody>\n",
       "</table>\n",
       "</div>"
      ],
      "text/plain": [
       "readmit_days      01-07  08-30  31-60\n",
       "DRG_APR_SEVERITY                     \n",
       "1.0                 339    723      0\n",
       "2.0                3480   4867   1400\n",
       "3.0                4334   4475   1151\n",
       "4.0                 818    910     49"
      ]
     },
     "execution_count": 60,
     "metadata": {},
     "output_type": "execute_result"
    }
   ],
   "source": [
    "sev_read = pd.crosstab(df['DRG_APR_SEVERITY'], df['readmit_days'])\n",
    "sev_read"
   ]
  },
  {
   "cell_type": "markdown",
   "metadata": {},
   "source": [
    "Patients whose diagnosis was associated with a severity level of 2 or 3 had the highest number of readmissions between 1 and 30 days."
   ]
  },
  {
   "cell_type": "markdown",
   "metadata": {},
   "source": [
    "## Data Cleansing"
   ]
  },
  {
   "cell_type": "markdown",
   "metadata": {},
   "source": [
    "### Handle Missing Values"
   ]
  },
  {
   "cell_type": "markdown",
   "metadata": {},
   "source": [
    "Although, there are 84% missing values with readmit dates, this is most likely because a patient was never readmitted. Therefore, we can assume the missing data is valid and can be coded as missing. In addition, there's a possiblity that procedure codes are missing because no procedure was performed on the patient. Therefore, these will be coded as missing as well."
   ]
  },
  {
   "cell_type": "code",
   "execution_count": 61,
   "metadata": {},
   "outputs": [],
   "source": [
    "missing_cols = ['PROCEDURE_SUBCAT_CODE', 'PROCEDURE_SUBCAT_DESC', 'PROCEDURE_ICD_CODE', 'PROCEDURE_LONG_DESC',\n",
    "                'readmit_date','readmit_discharge_date','readmit_days','readmit_month']"
   ]
  },
  {
   "cell_type": "code",
   "execution_count": 62,
   "metadata": {},
   "outputs": [],
   "source": [
    "df[missing_cols] = df[missing_cols].fillna(value='M', axis=1)"
   ]
  },
  {
   "cell_type": "markdown",
   "metadata": {},
   "source": [
    "There was a very small percentage of missing values for patients with chronic conditions. This is possible because not all patients have chronic conditions. Therefore, the missing values will be replaced with 0."
   ]
  },
  {
   "cell_type": "code",
   "execution_count": 63,
   "metadata": {},
   "outputs": [],
   "source": [
    "df['Num_Chronic_Cond'] = df['Num_Chronic_Cond'].fillna(value=0, axis=0)"
   ]
  },
  {
   "cell_type": "markdown",
   "metadata": {},
   "source": [
    "There was also a small percentage of patients with missing values for the DRG_APR_SEVERITY. This variable indicates the severity of the illness. We could assume that each illness should have a level of severity attached. However, making an assumption of what the severity should be could be misleading, depending on the similar diagnosis. Therefore, these will be coded as missing. "
   ]
  },
  {
   "cell_type": "code",
   "execution_count": 64,
   "metadata": {},
   "outputs": [
    {
     "data": {
      "text/plain": [
       "array([ 1.,  2.,  4.,  3., nan])"
      ]
     },
     "execution_count": 64,
     "metadata": {},
     "output_type": "execute_result"
    }
   ],
   "source": [
    "df['DRG_APR_SEVERITY'].unique()"
   ]
  },
  {
   "cell_type": "code",
   "execution_count": 65,
   "metadata": {},
   "outputs": [],
   "source": [
    "df['DRG_APR_SEVERITY'] = df['DRG_APR_SEVERITY'].fillna(value='M', axis=0)"
   ]
  },
  {
   "cell_type": "code",
   "execution_count": 66,
   "metadata": {},
   "outputs": [
    {
     "data": {
      "text/plain": [
       "array([1.0, 2.0, 4.0, 3.0, 'M'], dtype=object)"
      ]
     },
     "execution_count": 66,
     "metadata": {},
     "output_type": "execute_result"
    }
   ],
   "source": [
    "df['DRG_APR_SEVERITY'].unique()"
   ]
  },
  {
   "cell_type": "code",
   "execution_count": 67,
   "metadata": {},
   "outputs": [
    {
     "data": {
      "text/plain": [
       "ENCOUNTER_KEY             0\n",
       "PATIENT_NUMBER            0\n",
       "gender                    0\n",
       "race_cd                   0\n",
       "PatientAge                0\n",
       "Diagnosis_Group           0\n",
       "icd9_target               0\n",
       "MS_DRG_CODE               0\n",
       "MS_DRG_DESC               0\n",
       "DRG_APR_CODE              0\n",
       "DRG_APR_DESC              0\n",
       "DRG_APR_SEVERITY          0\n",
       "DIAGNOSIS_SUBCAT_CODE     0\n",
       "DIAGNOSIS_SUBCAT_DESC     0\n",
       "DIAGNOSIS_ICD_CODE        0\n",
       "DIAGNOSIS_LONG_DESC       0\n",
       "PROCEDURE_SUBCAT_CODE     0\n",
       "PROCEDURE_SUBCAT_DESC     0\n",
       "PROCEDURE_ICD_CODE        0\n",
       "PROCEDURE_LONG_DESC       0\n",
       "dx_code                   0\n",
       "dx_group                  0\n",
       "DOCTOR                    0\n",
       "ADMIT_DATE                0\n",
       "DISCHARGE_DATE            0\n",
       "readmit_date              0\n",
       "readmit_discharge_date    0\n",
       "readmit_days              0\n",
       "LENGTH_OF_STAY            0\n",
       "ICU_DAYS                  0\n",
       "DISCHARGED_TO             0\n",
       "op_visits6                0\n",
       "Standard_Orders_Used      0\n",
       "Num_Chronic_Cond          0\n",
       "Disch_Nurse_ID            0\n",
       "admit_month               0\n",
       "readmit_month             0\n",
       "order_set_used            0\n",
       "order_total_charges       0\n",
       "readmit_number            0\n",
       "operationcount            0\n",
       "HOSPITAL                  0\n",
       "ZIP                       0\n",
       "STATECODE                 0\n",
       "City                      0\n",
       "County_name               0\n",
       "i                         0\n",
       "dtype: int64"
      ]
     },
     "execution_count": 67,
     "metadata": {},
     "output_type": "execute_result"
    }
   ],
   "source": [
    "df.isnull().sum()"
   ]
  },
  {
   "cell_type": "markdown",
   "metadata": {},
   "source": [
    "### Collapse Variables"
   ]
  },
  {
   "cell_type": "markdown",
   "metadata": {},
   "source": [
    "#### Age"
   ]
  },
  {
   "cell_type": "code",
   "execution_count": 68,
   "metadata": {},
   "outputs": [
    {
     "data": {
      "text/plain": [
       "count    146606.000000\n",
       "mean         74.440848\n",
       "std          13.267879\n",
       "min          27.000000\n",
       "25%          69.000000\n",
       "50%          76.000000\n",
       "75%          83.000000\n",
       "max         101.000000\n",
       "Name: PatientAge, dtype: float64"
      ]
     },
     "execution_count": 68,
     "metadata": {},
     "output_type": "execute_result"
    }
   ],
   "source": [
    "df['PatientAge'].describe()"
   ]
  },
  {
   "cell_type": "code",
   "execution_count": 69,
   "metadata": {},
   "outputs": [],
   "source": [
    "bins = [20,40,60,80,101]"
   ]
  },
  {
   "cell_type": "code",
   "execution_count": 70,
   "metadata": {},
   "outputs": [],
   "source": [
    "labels = ['20-39', '40-59', '60-79', '80-101']"
   ]
  },
  {
   "cell_type": "code",
   "execution_count": 71,
   "metadata": {},
   "outputs": [],
   "source": [
    "df['PatientAge_Bins'] = pd.cut(df['PatientAge'], bins, labels = labels)"
   ]
  },
  {
   "cell_type": "code",
   "execution_count": 72,
   "metadata": {},
   "outputs": [
    {
     "data": {
      "text/plain": [
       "60-79     78868\n",
       "80-101    48943\n",
       "40-59     14984\n",
       "20-39      3811\n",
       "Name: PatientAge_Bins, dtype: int64"
      ]
     },
     "execution_count": 72,
     "metadata": {},
     "output_type": "execute_result"
    }
   ],
   "source": [
    "df['PatientAge_Bins'].value_counts()"
   ]
  },
  {
   "cell_type": "markdown",
   "metadata": {},
   "source": [
    "#### Length_of_Stay"
   ]
  },
  {
   "cell_type": "code",
   "execution_count": 73,
   "metadata": {},
   "outputs": [
    {
     "data": {
      "text/plain": [
       "count    146606.000000\n",
       "mean          5.446094\n",
       "std           4.102900\n",
       "min           1.000000\n",
       "25%           3.000000\n",
       "50%           4.000000\n",
       "75%           7.000000\n",
       "max          32.000000\n",
       "Name: LENGTH_OF_STAY, dtype: float64"
      ]
     },
     "execution_count": 73,
     "metadata": {},
     "output_type": "execute_result"
    }
   ],
   "source": [
    "df['LENGTH_OF_STAY'].describe()"
   ]
  },
  {
   "cell_type": "code",
   "execution_count": 74,
   "metadata": {},
   "outputs": [],
   "source": [
    "bins = [1,10,20,30]"
   ]
  },
  {
   "cell_type": "code",
   "execution_count": 75,
   "metadata": {},
   "outputs": [],
   "source": [
    "labels = ['1-9', '10-19','20-32']"
   ]
  },
  {
   "cell_type": "code",
   "execution_count": 76,
   "metadata": {},
   "outputs": [],
   "source": [
    "df['LENGTH_OF_STAY_Bins'] = pd.cut(df['LENGTH_OF_STAY'], bins, labels = labels)"
   ]
  },
  {
   "cell_type": "code",
   "execution_count": 77,
   "metadata": {},
   "outputs": [
    {
     "data": {
      "text/plain": [
       "1-9      124431\n",
       "10-19     11906\n",
       "20-32      1391\n",
       "Name: LENGTH_OF_STAY_Bins, dtype: int64"
      ]
     },
     "execution_count": 77,
     "metadata": {},
     "output_type": "execute_result"
    }
   ],
   "source": [
    "df['LENGTH_OF_STAY_Bins'].value_counts()"
   ]
  },
  {
   "cell_type": "markdown",
   "metadata": {},
   "source": [
    "### Create Dummies\n",
    "For features that contained missing values, which a category was created to track the missing values as missing, these categories were dropped from the dataframe, once dummy variables was created. In some cases, an additional column was also dropped, since the other columns captured the information needed about the feature."
   ]
  },
  {
   "cell_type": "markdown",
   "metadata": {},
   "source": [
    "#### Patient Age"
   ]
  },
  {
   "cell_type": "code",
   "execution_count": 78,
   "metadata": {},
   "outputs": [],
   "source": [
    "patient_age_dummies = pd.get_dummies(df['PatientAge_Bins'],prefix = 'PatientAge_Bins')"
   ]
  },
  {
   "cell_type": "code",
   "execution_count": 79,
   "metadata": {},
   "outputs": [
    {
     "data": {
      "text/plain": [
       "Index(['PatientAge_Bins_20-39', 'PatientAge_Bins_40-59',\n",
       "       'PatientAge_Bins_60-79', 'PatientAge_Bins_80-101'],\n",
       "      dtype='object')"
      ]
     },
     "execution_count": 79,
     "metadata": {},
     "output_type": "execute_result"
    }
   ],
   "source": [
    "patient_age_dummies.columns"
   ]
  },
  {
   "cell_type": "code",
   "execution_count": 80,
   "metadata": {},
   "outputs": [],
   "source": [
    "df = df.join(patient_age_dummies)"
   ]
  },
  {
   "cell_type": "code",
   "execution_count": 81,
   "metadata": {},
   "outputs": [
    {
     "data": {
      "text/html": [
       "<div>\n",
       "<style scoped>\n",
       "    .dataframe tbody tr th:only-of-type {\n",
       "        vertical-align: middle;\n",
       "    }\n",
       "\n",
       "    .dataframe tbody tr th {\n",
       "        vertical-align: top;\n",
       "    }\n",
       "\n",
       "    .dataframe thead th {\n",
       "        text-align: right;\n",
       "    }\n",
       "</style>\n",
       "<table border=\"1\" class=\"dataframe\">\n",
       "  <thead>\n",
       "    <tr style=\"text-align: right;\">\n",
       "      <th></th>\n",
       "      <th>PatientAge_Bins_20-39</th>\n",
       "      <th>PatientAge_Bins_40-59</th>\n",
       "      <th>PatientAge_Bins_60-79</th>\n",
       "      <th>PatientAge_Bins_80-101</th>\n",
       "    </tr>\n",
       "  </thead>\n",
       "  <tbody>\n",
       "    <tr>\n",
       "      <th>79915</th>\n",
       "      <td>0</td>\n",
       "      <td>0</td>\n",
       "      <td>0</td>\n",
       "      <td>1</td>\n",
       "    </tr>\n",
       "    <tr>\n",
       "      <th>73042</th>\n",
       "      <td>0</td>\n",
       "      <td>0</td>\n",
       "      <td>1</td>\n",
       "      <td>0</td>\n",
       "    </tr>\n",
       "    <tr>\n",
       "      <th>52727</th>\n",
       "      <td>0</td>\n",
       "      <td>0</td>\n",
       "      <td>1</td>\n",
       "      <td>0</td>\n",
       "    </tr>\n",
       "    <tr>\n",
       "      <th>127994</th>\n",
       "      <td>0</td>\n",
       "      <td>1</td>\n",
       "      <td>0</td>\n",
       "      <td>0</td>\n",
       "    </tr>\n",
       "    <tr>\n",
       "      <th>76754</th>\n",
       "      <td>0</td>\n",
       "      <td>0</td>\n",
       "      <td>1</td>\n",
       "      <td>0</td>\n",
       "    </tr>\n",
       "  </tbody>\n",
       "</table>\n",
       "</div>"
      ],
      "text/plain": [
       "        PatientAge_Bins_20-39  PatientAge_Bins_40-59  PatientAge_Bins_60-79  \\\n",
       "79915                       0                      0                      0   \n",
       "73042                       0                      0                      1   \n",
       "52727                       0                      0                      1   \n",
       "127994                      0                      1                      0   \n",
       "76754                       0                      0                      1   \n",
       "\n",
       "        PatientAge_Bins_80-101  \n",
       "79915                        1  \n",
       "73042                        0  \n",
       "52727                        0  \n",
       "127994                       0  \n",
       "76754                        0  "
      ]
     },
     "execution_count": 81,
     "metadata": {},
     "output_type": "execute_result"
    }
   ],
   "source": [
    "patient_age_dummies.sample(n=5, random_state=1)"
   ]
  },
  {
   "cell_type": "markdown",
   "metadata": {},
   "source": [
    "#### Length of Stay"
   ]
  },
  {
   "cell_type": "code",
   "execution_count": 82,
   "metadata": {},
   "outputs": [],
   "source": [
    "length_of_stay_dummies = pd.get_dummies(df['LENGTH_OF_STAY_Bins'],prefix= 'LENGTH_OF_STAY_Bins')"
   ]
  },
  {
   "cell_type": "code",
   "execution_count": 83,
   "metadata": {},
   "outputs": [
    {
     "data": {
      "text/plain": [
       "Index(['LENGTH_OF_STAY_Bins_1-9', 'LENGTH_OF_STAY_Bins_10-19',\n",
       "       'LENGTH_OF_STAY_Bins_20-32'],\n",
       "      dtype='object')"
      ]
     },
     "execution_count": 83,
     "metadata": {},
     "output_type": "execute_result"
    }
   ],
   "source": [
    "length_of_stay_dummies.columns"
   ]
  },
  {
   "cell_type": "code",
   "execution_count": 84,
   "metadata": {},
   "outputs": [],
   "source": [
    "df = df.join(length_of_stay_dummies)"
   ]
  },
  {
   "cell_type": "code",
   "execution_count": 85,
   "metadata": {},
   "outputs": [
    {
     "data": {
      "text/html": [
       "<div>\n",
       "<style scoped>\n",
       "    .dataframe tbody tr th:only-of-type {\n",
       "        vertical-align: middle;\n",
       "    }\n",
       "\n",
       "    .dataframe tbody tr th {\n",
       "        vertical-align: top;\n",
       "    }\n",
       "\n",
       "    .dataframe thead th {\n",
       "        text-align: right;\n",
       "    }\n",
       "</style>\n",
       "<table border=\"1\" class=\"dataframe\">\n",
       "  <thead>\n",
       "    <tr style=\"text-align: right;\">\n",
       "      <th></th>\n",
       "      <th>LENGTH_OF_STAY_Bins_1-9</th>\n",
       "      <th>LENGTH_OF_STAY_Bins_10-19</th>\n",
       "      <th>LENGTH_OF_STAY_Bins_20-32</th>\n",
       "    </tr>\n",
       "  </thead>\n",
       "  <tbody>\n",
       "    <tr>\n",
       "      <th>79915</th>\n",
       "      <td>1</td>\n",
       "      <td>0</td>\n",
       "      <td>0</td>\n",
       "    </tr>\n",
       "    <tr>\n",
       "      <th>73042</th>\n",
       "      <td>0</td>\n",
       "      <td>0</td>\n",
       "      <td>1</td>\n",
       "    </tr>\n",
       "    <tr>\n",
       "      <th>52727</th>\n",
       "      <td>0</td>\n",
       "      <td>1</td>\n",
       "      <td>0</td>\n",
       "    </tr>\n",
       "    <tr>\n",
       "      <th>127994</th>\n",
       "      <td>1</td>\n",
       "      <td>0</td>\n",
       "      <td>0</td>\n",
       "    </tr>\n",
       "    <tr>\n",
       "      <th>76754</th>\n",
       "      <td>0</td>\n",
       "      <td>1</td>\n",
       "      <td>0</td>\n",
       "    </tr>\n",
       "  </tbody>\n",
       "</table>\n",
       "</div>"
      ],
      "text/plain": [
       "        LENGTH_OF_STAY_Bins_1-9  LENGTH_OF_STAY_Bins_10-19  \\\n",
       "79915                         1                          0   \n",
       "73042                         0                          0   \n",
       "52727                         0                          1   \n",
       "127994                        1                          0   \n",
       "76754                         0                          1   \n",
       "\n",
       "        LENGTH_OF_STAY_Bins_20-32  \n",
       "79915                           0  \n",
       "73042                           1  \n",
       "52727                           0  \n",
       "127994                          0  \n",
       "76754                           0  "
      ]
     },
     "execution_count": 85,
     "metadata": {},
     "output_type": "execute_result"
    }
   ],
   "source": [
    "length_of_stay_dummies.sample(n=5, random_state=1)"
   ]
  },
  {
   "cell_type": "markdown",
   "metadata": {},
   "source": [
    "#### readmit_days"
   ]
  },
  {
   "cell_type": "markdown",
   "metadata": {},
   "source": [
    "Hospital readmissions is when patients are admitted back to the hospital after being discharged. CMS constitutes a readmission  between 1 and 30 days from the same or another acute care hospital. Readmissions during this window are considered avoidable. Therefore, CMS Hospital Readmissions Reduction Program encourages hospitals to reduce avoidable readmissions, by linking payment to the quality of care."
   ]
  },
  {
   "cell_type": "code",
   "execution_count": 86,
   "metadata": {},
   "outputs": [
    {
     "data": {
      "text/plain": [
       "M        123964\n",
       "08-30     10975\n",
       "01-07      8971\n",
       "31-60      2696\n",
       "Name: readmit_days, dtype: int64"
      ]
     },
     "execution_count": 86,
     "metadata": {},
     "output_type": "execute_result"
    }
   ],
   "source": [
    "df['readmit_days'].value_counts()"
   ]
  },
  {
   "cell_type": "code",
   "execution_count": 87,
   "metadata": {},
   "outputs": [],
   "source": [
    "readmit_days_dummies = pd.get_dummies(df['readmit_days'],prefix = 'readmit_days')"
   ]
  },
  {
   "cell_type": "code",
   "execution_count": 88,
   "metadata": {},
   "outputs": [
    {
     "data": {
      "text/plain": [
       "Index(['readmit_days_01-07', 'readmit_days_08-30', 'readmit_days_31-60',\n",
       "       'readmit_days_M'],\n",
       "      dtype='object')"
      ]
     },
     "execution_count": 88,
     "metadata": {},
     "output_type": "execute_result"
    }
   ],
   "source": [
    "readmit_days_dummies.columns"
   ]
  },
  {
   "cell_type": "code",
   "execution_count": 89,
   "metadata": {},
   "outputs": [],
   "source": [
    "readmit_days_dummies.drop('readmit_days_M', axis=1, inplace=True)"
   ]
  },
  {
   "cell_type": "code",
   "execution_count": 90,
   "metadata": {},
   "outputs": [],
   "source": [
    "df = df.join(readmit_days_dummies)"
   ]
  },
  {
   "cell_type": "code",
   "execution_count": 91,
   "metadata": {},
   "outputs": [
    {
     "data": {
      "text/html": [
       "<div>\n",
       "<style scoped>\n",
       "    .dataframe tbody tr th:only-of-type {\n",
       "        vertical-align: middle;\n",
       "    }\n",
       "\n",
       "    .dataframe tbody tr th {\n",
       "        vertical-align: top;\n",
       "    }\n",
       "\n",
       "    .dataframe thead th {\n",
       "        text-align: right;\n",
       "    }\n",
       "</style>\n",
       "<table border=\"1\" class=\"dataframe\">\n",
       "  <thead>\n",
       "    <tr style=\"text-align: right;\">\n",
       "      <th></th>\n",
       "      <th>readmit_days_01-07</th>\n",
       "      <th>readmit_days_08-30</th>\n",
       "      <th>readmit_days_31-60</th>\n",
       "    </tr>\n",
       "  </thead>\n",
       "  <tbody>\n",
       "    <tr>\n",
       "      <th>79915</th>\n",
       "      <td>0</td>\n",
       "      <td>0</td>\n",
       "      <td>0</td>\n",
       "    </tr>\n",
       "    <tr>\n",
       "      <th>73042</th>\n",
       "      <td>0</td>\n",
       "      <td>0</td>\n",
       "      <td>0</td>\n",
       "    </tr>\n",
       "    <tr>\n",
       "      <th>52727</th>\n",
       "      <td>0</td>\n",
       "      <td>0</td>\n",
       "      <td>0</td>\n",
       "    </tr>\n",
       "    <tr>\n",
       "      <th>127994</th>\n",
       "      <td>0</td>\n",
       "      <td>0</td>\n",
       "      <td>0</td>\n",
       "    </tr>\n",
       "    <tr>\n",
       "      <th>76754</th>\n",
       "      <td>0</td>\n",
       "      <td>0</td>\n",
       "      <td>0</td>\n",
       "    </tr>\n",
       "  </tbody>\n",
       "</table>\n",
       "</div>"
      ],
      "text/plain": [
       "        readmit_days_01-07  readmit_days_08-30  readmit_days_31-60\n",
       "79915                    0                   0                   0\n",
       "73042                    0                   0                   0\n",
       "52727                    0                   0                   0\n",
       "127994                   0                   0                   0\n",
       "76754                    0                   0                   0"
      ]
     },
     "execution_count": 91,
     "metadata": {},
     "output_type": "execute_result"
    }
   ],
   "source": [
    "readmit_days_dummies.sample(n=5, random_state=1)"
   ]
  },
  {
   "cell_type": "markdown",
   "metadata": {},
   "source": [
    "#### gender"
   ]
  },
  {
   "cell_type": "code",
   "execution_count": 92,
   "metadata": {},
   "outputs": [],
   "source": [
    "gender_dummies = pd.get_dummies(df['gender'],prefix = 'gender')"
   ]
  },
  {
   "cell_type": "code",
   "execution_count": 93,
   "metadata": {},
   "outputs": [
    {
     "data": {
      "text/plain": [
       "Index(['gender_F', 'gender_M'], dtype='object')"
      ]
     },
     "execution_count": 93,
     "metadata": {},
     "output_type": "execute_result"
    }
   ],
   "source": [
    "gender_dummies.columns"
   ]
  },
  {
   "cell_type": "code",
   "execution_count": 94,
   "metadata": {},
   "outputs": [],
   "source": [
    "gender_dummies.drop(\"gender_M\", axis=1, inplace=True)"
   ]
  },
  {
   "cell_type": "code",
   "execution_count": 95,
   "metadata": {},
   "outputs": [],
   "source": [
    "df = df.join(gender_dummies)"
   ]
  },
  {
   "cell_type": "code",
   "execution_count": 96,
   "metadata": {},
   "outputs": [
    {
     "data": {
      "text/html": [
       "<div>\n",
       "<style scoped>\n",
       "    .dataframe tbody tr th:only-of-type {\n",
       "        vertical-align: middle;\n",
       "    }\n",
       "\n",
       "    .dataframe tbody tr th {\n",
       "        vertical-align: top;\n",
       "    }\n",
       "\n",
       "    .dataframe thead th {\n",
       "        text-align: right;\n",
       "    }\n",
       "</style>\n",
       "<table border=\"1\" class=\"dataframe\">\n",
       "  <thead>\n",
       "    <tr style=\"text-align: right;\">\n",
       "      <th></th>\n",
       "      <th>gender_F</th>\n",
       "    </tr>\n",
       "  </thead>\n",
       "  <tbody>\n",
       "    <tr>\n",
       "      <th>79915</th>\n",
       "      <td>1</td>\n",
       "    </tr>\n",
       "    <tr>\n",
       "      <th>73042</th>\n",
       "      <td>1</td>\n",
       "    </tr>\n",
       "    <tr>\n",
       "      <th>52727</th>\n",
       "      <td>1</td>\n",
       "    </tr>\n",
       "    <tr>\n",
       "      <th>127994</th>\n",
       "      <td>1</td>\n",
       "    </tr>\n",
       "    <tr>\n",
       "      <th>76754</th>\n",
       "      <td>1</td>\n",
       "    </tr>\n",
       "  </tbody>\n",
       "</table>\n",
       "</div>"
      ],
      "text/plain": [
       "        gender_F\n",
       "79915          1\n",
       "73042          1\n",
       "52727          1\n",
       "127994         1\n",
       "76754          1"
      ]
     },
     "execution_count": 96,
     "metadata": {},
     "output_type": "execute_result"
    }
   ],
   "source": [
    "gender_dummies.sample(n=5, random_state=1)"
   ]
  },
  {
   "cell_type": "markdown",
   "metadata": {},
   "source": [
    "#### race_cd"
   ]
  },
  {
   "cell_type": "code",
   "execution_count": 97,
   "metadata": {},
   "outputs": [],
   "source": [
    "race_dummies = pd.get_dummies(df['race_cd'],prefix = 'race')"
   ]
  },
  {
   "cell_type": "code",
   "execution_count": 98,
   "metadata": {},
   "outputs": [
    {
     "data": {
      "text/plain": [
       "Index(['race_Black', 'race_Others', 'race_White'], dtype='object')"
      ]
     },
     "execution_count": 98,
     "metadata": {},
     "output_type": "execute_result"
    }
   ],
   "source": [
    "race_dummies.columns"
   ]
  },
  {
   "cell_type": "code",
   "execution_count": 99,
   "metadata": {},
   "outputs": [],
   "source": [
    "race_dummies.drop(\"race_Others\", axis=1, inplace=True)"
   ]
  },
  {
   "cell_type": "code",
   "execution_count": 100,
   "metadata": {},
   "outputs": [],
   "source": [
    "df = df.join(race_dummies)"
   ]
  },
  {
   "cell_type": "code",
   "execution_count": 101,
   "metadata": {},
   "outputs": [
    {
     "data": {
      "text/html": [
       "<div>\n",
       "<style scoped>\n",
       "    .dataframe tbody tr th:only-of-type {\n",
       "        vertical-align: middle;\n",
       "    }\n",
       "\n",
       "    .dataframe tbody tr th {\n",
       "        vertical-align: top;\n",
       "    }\n",
       "\n",
       "    .dataframe thead th {\n",
       "        text-align: right;\n",
       "    }\n",
       "</style>\n",
       "<table border=\"1\" class=\"dataframe\">\n",
       "  <thead>\n",
       "    <tr style=\"text-align: right;\">\n",
       "      <th></th>\n",
       "      <th>race_Black</th>\n",
       "      <th>race_White</th>\n",
       "    </tr>\n",
       "  </thead>\n",
       "  <tbody>\n",
       "    <tr>\n",
       "      <th>79915</th>\n",
       "      <td>0</td>\n",
       "      <td>1</td>\n",
       "    </tr>\n",
       "    <tr>\n",
       "      <th>73042</th>\n",
       "      <td>0</td>\n",
       "      <td>1</td>\n",
       "    </tr>\n",
       "    <tr>\n",
       "      <th>52727</th>\n",
       "      <td>0</td>\n",
       "      <td>1</td>\n",
       "    </tr>\n",
       "    <tr>\n",
       "      <th>127994</th>\n",
       "      <td>0</td>\n",
       "      <td>1</td>\n",
       "    </tr>\n",
       "    <tr>\n",
       "      <th>76754</th>\n",
       "      <td>0</td>\n",
       "      <td>1</td>\n",
       "    </tr>\n",
       "  </tbody>\n",
       "</table>\n",
       "</div>"
      ],
      "text/plain": [
       "        race_Black  race_White\n",
       "79915            0           1\n",
       "73042            0           1\n",
       "52727            0           1\n",
       "127994           0           1\n",
       "76754            0           1"
      ]
     },
     "execution_count": 101,
     "metadata": {},
     "output_type": "execute_result"
    }
   ],
   "source": [
    "race_dummies.sample(n=5, random_state=1)"
   ]
  },
  {
   "cell_type": "markdown",
   "metadata": {},
   "source": [
    "#### Diagnosis Group"
   ]
  },
  {
   "cell_type": "code",
   "execution_count": 102,
   "metadata": {},
   "outputs": [],
   "source": [
    "dg_dummies = pd.get_dummies(df['Diagnosis_Group'],prefix = 'Diagnosis_Group')"
   ]
  },
  {
   "cell_type": "code",
   "execution_count": 103,
   "metadata": {},
   "outputs": [
    {
     "data": {
      "text/plain": [
       "Index(['Diagnosis_Group_AMI', 'Diagnosis_Group_CHF', 'Diagnosis_Group_COPD'], dtype='object')"
      ]
     },
     "execution_count": 103,
     "metadata": {},
     "output_type": "execute_result"
    }
   ],
   "source": [
    "dg_dummies.columns"
   ]
  },
  {
   "cell_type": "code",
   "execution_count": 104,
   "metadata": {},
   "outputs": [],
   "source": [
    "dg_dummies.drop(\"Diagnosis_Group_AMI\", axis=1, inplace=True)"
   ]
  },
  {
   "cell_type": "code",
   "execution_count": 105,
   "metadata": {},
   "outputs": [],
   "source": [
    "df = df.join(dg_dummies)"
   ]
  },
  {
   "cell_type": "code",
   "execution_count": 106,
   "metadata": {},
   "outputs": [
    {
     "data": {
      "text/html": [
       "<div>\n",
       "<style scoped>\n",
       "    .dataframe tbody tr th:only-of-type {\n",
       "        vertical-align: middle;\n",
       "    }\n",
       "\n",
       "    .dataframe tbody tr th {\n",
       "        vertical-align: top;\n",
       "    }\n",
       "\n",
       "    .dataframe thead th {\n",
       "        text-align: right;\n",
       "    }\n",
       "</style>\n",
       "<table border=\"1\" class=\"dataframe\">\n",
       "  <thead>\n",
       "    <tr style=\"text-align: right;\">\n",
       "      <th></th>\n",
       "      <th>Diagnosis_Group_CHF</th>\n",
       "      <th>Diagnosis_Group_COPD</th>\n",
       "    </tr>\n",
       "  </thead>\n",
       "  <tbody>\n",
       "    <tr>\n",
       "      <th>79915</th>\n",
       "      <td>0</td>\n",
       "      <td>1</td>\n",
       "    </tr>\n",
       "    <tr>\n",
       "      <th>73042</th>\n",
       "      <td>0</td>\n",
       "      <td>0</td>\n",
       "    </tr>\n",
       "    <tr>\n",
       "      <th>52727</th>\n",
       "      <td>0</td>\n",
       "      <td>0</td>\n",
       "    </tr>\n",
       "    <tr>\n",
       "      <th>127994</th>\n",
       "      <td>0</td>\n",
       "      <td>1</td>\n",
       "    </tr>\n",
       "    <tr>\n",
       "      <th>76754</th>\n",
       "      <td>1</td>\n",
       "      <td>0</td>\n",
       "    </tr>\n",
       "  </tbody>\n",
       "</table>\n",
       "</div>"
      ],
      "text/plain": [
       "        Diagnosis_Group_CHF  Diagnosis_Group_COPD\n",
       "79915                     0                     1\n",
       "73042                     0                     0\n",
       "52727                     0                     0\n",
       "127994                    0                     1\n",
       "76754                     1                     0"
      ]
     },
     "execution_count": 106,
     "metadata": {},
     "output_type": "execute_result"
    }
   ],
   "source": [
    "dg_dummies.sample(n=5, random_state=1)"
   ]
  },
  {
   "cell_type": "markdown",
   "metadata": {},
   "source": [
    "#### DRG APR Severity"
   ]
  },
  {
   "cell_type": "code",
   "execution_count": 107,
   "metadata": {},
   "outputs": [],
   "source": [
    "severity_dummies = pd.get_dummies(df['DRG_APR_SEVERITY'],prefix = 'DRG_APR_SEVERITY')"
   ]
  },
  {
   "cell_type": "code",
   "execution_count": 108,
   "metadata": {},
   "outputs": [
    {
     "data": {
      "text/plain": [
       "Index(['DRG_APR_SEVERITY_1.0', 'DRG_APR_SEVERITY_2.0', 'DRG_APR_SEVERITY_3.0',\n",
       "       'DRG_APR_SEVERITY_4.0', 'DRG_APR_SEVERITY_M'],\n",
       "      dtype='object')"
      ]
     },
     "execution_count": 108,
     "metadata": {},
     "output_type": "execute_result"
    }
   ],
   "source": [
    "severity_dummies.columns"
   ]
  },
  {
   "cell_type": "code",
   "execution_count": 109,
   "metadata": {},
   "outputs": [],
   "source": [
    "severity_dummies.drop(\"DRG_APR_SEVERITY_M\", axis=1, inplace=True)"
   ]
  },
  {
   "cell_type": "code",
   "execution_count": 110,
   "metadata": {},
   "outputs": [],
   "source": [
    "df = df.join(severity_dummies)"
   ]
  },
  {
   "cell_type": "code",
   "execution_count": 111,
   "metadata": {},
   "outputs": [
    {
     "data": {
      "text/html": [
       "<div>\n",
       "<style scoped>\n",
       "    .dataframe tbody tr th:only-of-type {\n",
       "        vertical-align: middle;\n",
       "    }\n",
       "\n",
       "    .dataframe tbody tr th {\n",
       "        vertical-align: top;\n",
       "    }\n",
       "\n",
       "    .dataframe thead th {\n",
       "        text-align: right;\n",
       "    }\n",
       "</style>\n",
       "<table border=\"1\" class=\"dataframe\">\n",
       "  <thead>\n",
       "    <tr style=\"text-align: right;\">\n",
       "      <th></th>\n",
       "      <th>DRG_APR_SEVERITY_1.0</th>\n",
       "      <th>DRG_APR_SEVERITY_2.0</th>\n",
       "      <th>DRG_APR_SEVERITY_3.0</th>\n",
       "      <th>DRG_APR_SEVERITY_4.0</th>\n",
       "    </tr>\n",
       "  </thead>\n",
       "  <tbody>\n",
       "    <tr>\n",
       "      <th>79915</th>\n",
       "      <td>0</td>\n",
       "      <td>0</td>\n",
       "      <td>1</td>\n",
       "      <td>0</td>\n",
       "    </tr>\n",
       "    <tr>\n",
       "      <th>73042</th>\n",
       "      <td>0</td>\n",
       "      <td>1</td>\n",
       "      <td>0</td>\n",
       "      <td>0</td>\n",
       "    </tr>\n",
       "    <tr>\n",
       "      <th>52727</th>\n",
       "      <td>0</td>\n",
       "      <td>0</td>\n",
       "      <td>1</td>\n",
       "      <td>0</td>\n",
       "    </tr>\n",
       "    <tr>\n",
       "      <th>127994</th>\n",
       "      <td>0</td>\n",
       "      <td>1</td>\n",
       "      <td>0</td>\n",
       "      <td>0</td>\n",
       "    </tr>\n",
       "    <tr>\n",
       "      <th>76754</th>\n",
       "      <td>0</td>\n",
       "      <td>0</td>\n",
       "      <td>0</td>\n",
       "      <td>1</td>\n",
       "    </tr>\n",
       "  </tbody>\n",
       "</table>\n",
       "</div>"
      ],
      "text/plain": [
       "        DRG_APR_SEVERITY_1.0  DRG_APR_SEVERITY_2.0  DRG_APR_SEVERITY_3.0  \\\n",
       "79915                      0                     0                     1   \n",
       "73042                      0                     1                     0   \n",
       "52727                      0                     0                     1   \n",
       "127994                     0                     1                     0   \n",
       "76754                      0                     0                     0   \n",
       "\n",
       "        DRG_APR_SEVERITY_4.0  \n",
       "79915                      0  \n",
       "73042                      0  \n",
       "52727                      0  \n",
       "127994                     0  \n",
       "76754                      1  "
      ]
     },
     "execution_count": 111,
     "metadata": {},
     "output_type": "execute_result"
    }
   ],
   "source": [
    "severity_dummies.sample(n=5, random_state=1)"
   ]
  },
  {
   "cell_type": "markdown",
   "metadata": {},
   "source": [
    "#### Discharged to"
   ]
  },
  {
   "cell_type": "code",
   "execution_count": 112,
   "metadata": {},
   "outputs": [],
   "source": [
    "discharged_dummies = pd.get_dummies(df['DISCHARGED_TO'],prefix = 'DISCHARGED_TO')"
   ]
  },
  {
   "cell_type": "code",
   "execution_count": 113,
   "metadata": {},
   "outputs": [
    {
     "data": {
      "text/plain": [
       "Index(['DISCHARGED_TO_AGNST MEDICAL ADVICE AMA', 'DISCHARGED_TO_CHG TO LTAC',\n",
       "       'DISCHARGED_TO_HOME HEALTH AGENCY', 'DISCHARGED_TO_HOSPICE (HOME)',\n",
       "       'DISCHARGED_TO_HOSPICE - MEDICAL INPAT',\n",
       "       'DISCHARGED_TO_INTERMEDIATE CARE', 'DISCHARGED_TO_OTHER ACUTE HOSP',\n",
       "       'DISCHARGED_TO_OTHER DEATH', 'DISCHARGED_TO_REHAB HOSPITAL',\n",
       "       'DISCHARGED_TO_ROUTINE DSCHG, HOME',\n",
       "       'DISCHARGED_TO_SKILLED NURSING FACILITY'],\n",
       "      dtype='object')"
      ]
     },
     "execution_count": 113,
     "metadata": {},
     "output_type": "execute_result"
    }
   ],
   "source": [
    "discharged_dummies.columns"
   ]
  },
  {
   "cell_type": "code",
   "execution_count": 114,
   "metadata": {},
   "outputs": [],
   "source": [
    "df = df.join(discharged_dummies)"
   ]
  },
  {
   "cell_type": "code",
   "execution_count": 115,
   "metadata": {},
   "outputs": [
    {
     "data": {
      "text/html": [
       "<div>\n",
       "<style scoped>\n",
       "    .dataframe tbody tr th:only-of-type {\n",
       "        vertical-align: middle;\n",
       "    }\n",
       "\n",
       "    .dataframe tbody tr th {\n",
       "        vertical-align: top;\n",
       "    }\n",
       "\n",
       "    .dataframe thead th {\n",
       "        text-align: right;\n",
       "    }\n",
       "</style>\n",
       "<table border=\"1\" class=\"dataframe\">\n",
       "  <thead>\n",
       "    <tr style=\"text-align: right;\">\n",
       "      <th></th>\n",
       "      <th>DISCHARGED_TO_AGNST MEDICAL ADVICE AMA</th>\n",
       "      <th>DISCHARGED_TO_CHG TO LTAC</th>\n",
       "      <th>DISCHARGED_TO_HOME HEALTH AGENCY</th>\n",
       "      <th>DISCHARGED_TO_HOSPICE (HOME)</th>\n",
       "      <th>DISCHARGED_TO_HOSPICE - MEDICAL INPAT</th>\n",
       "      <th>DISCHARGED_TO_INTERMEDIATE CARE</th>\n",
       "      <th>DISCHARGED_TO_OTHER ACUTE HOSP</th>\n",
       "      <th>DISCHARGED_TO_OTHER DEATH</th>\n",
       "      <th>DISCHARGED_TO_REHAB HOSPITAL</th>\n",
       "      <th>DISCHARGED_TO_ROUTINE DSCHG, HOME</th>\n",
       "      <th>DISCHARGED_TO_SKILLED NURSING FACILITY</th>\n",
       "    </tr>\n",
       "  </thead>\n",
       "  <tbody>\n",
       "    <tr>\n",
       "      <th>79915</th>\n",
       "      <td>0</td>\n",
       "      <td>0</td>\n",
       "      <td>1</td>\n",
       "      <td>0</td>\n",
       "      <td>0</td>\n",
       "      <td>0</td>\n",
       "      <td>0</td>\n",
       "      <td>0</td>\n",
       "      <td>0</td>\n",
       "      <td>0</td>\n",
       "      <td>0</td>\n",
       "    </tr>\n",
       "    <tr>\n",
       "      <th>73042</th>\n",
       "      <td>0</td>\n",
       "      <td>0</td>\n",
       "      <td>0</td>\n",
       "      <td>0</td>\n",
       "      <td>0</td>\n",
       "      <td>0</td>\n",
       "      <td>0</td>\n",
       "      <td>0</td>\n",
       "      <td>0</td>\n",
       "      <td>1</td>\n",
       "      <td>0</td>\n",
       "    </tr>\n",
       "    <tr>\n",
       "      <th>52727</th>\n",
       "      <td>0</td>\n",
       "      <td>0</td>\n",
       "      <td>0</td>\n",
       "      <td>0</td>\n",
       "      <td>0</td>\n",
       "      <td>0</td>\n",
       "      <td>0</td>\n",
       "      <td>0</td>\n",
       "      <td>0</td>\n",
       "      <td>0</td>\n",
       "      <td>1</td>\n",
       "    </tr>\n",
       "    <tr>\n",
       "      <th>127994</th>\n",
       "      <td>0</td>\n",
       "      <td>0</td>\n",
       "      <td>0</td>\n",
       "      <td>0</td>\n",
       "      <td>0</td>\n",
       "      <td>0</td>\n",
       "      <td>0</td>\n",
       "      <td>0</td>\n",
       "      <td>0</td>\n",
       "      <td>1</td>\n",
       "      <td>0</td>\n",
       "    </tr>\n",
       "    <tr>\n",
       "      <th>76754</th>\n",
       "      <td>0</td>\n",
       "      <td>0</td>\n",
       "      <td>1</td>\n",
       "      <td>0</td>\n",
       "      <td>0</td>\n",
       "      <td>0</td>\n",
       "      <td>0</td>\n",
       "      <td>0</td>\n",
       "      <td>0</td>\n",
       "      <td>0</td>\n",
       "      <td>0</td>\n",
       "    </tr>\n",
       "  </tbody>\n",
       "</table>\n",
       "</div>"
      ],
      "text/plain": [
       "        DISCHARGED_TO_AGNST MEDICAL ADVICE AMA  DISCHARGED_TO_CHG TO LTAC  \\\n",
       "79915                                        0                          0   \n",
       "73042                                        0                          0   \n",
       "52727                                        0                          0   \n",
       "127994                                       0                          0   \n",
       "76754                                        0                          0   \n",
       "\n",
       "        DISCHARGED_TO_HOME HEALTH AGENCY  DISCHARGED_TO_HOSPICE (HOME)  \\\n",
       "79915                                  1                             0   \n",
       "73042                                  0                             0   \n",
       "52727                                  0                             0   \n",
       "127994                                 0                             0   \n",
       "76754                                  1                             0   \n",
       "\n",
       "        DISCHARGED_TO_HOSPICE - MEDICAL INPAT  \\\n",
       "79915                                       0   \n",
       "73042                                       0   \n",
       "52727                                       0   \n",
       "127994                                      0   \n",
       "76754                                       0   \n",
       "\n",
       "        DISCHARGED_TO_INTERMEDIATE CARE  DISCHARGED_TO_OTHER ACUTE HOSP  \\\n",
       "79915                                 0                               0   \n",
       "73042                                 0                               0   \n",
       "52727                                 0                               0   \n",
       "127994                                0                               0   \n",
       "76754                                 0                               0   \n",
       "\n",
       "        DISCHARGED_TO_OTHER DEATH  DISCHARGED_TO_REHAB HOSPITAL  \\\n",
       "79915                           0                             0   \n",
       "73042                           0                             0   \n",
       "52727                           0                             0   \n",
       "127994                          0                             0   \n",
       "76754                           0                             0   \n",
       "\n",
       "        DISCHARGED_TO_ROUTINE DSCHG, HOME  \\\n",
       "79915                                   0   \n",
       "73042                                   1   \n",
       "52727                                   0   \n",
       "127994                                  1   \n",
       "76754                                   0   \n",
       "\n",
       "        DISCHARGED_TO_SKILLED NURSING FACILITY  \n",
       "79915                                        0  \n",
       "73042                                        0  \n",
       "52727                                        1  \n",
       "127994                                       0  \n",
       "76754                                        0  "
      ]
     },
     "execution_count": 115,
     "metadata": {},
     "output_type": "execute_result"
    }
   ],
   "source": [
    "discharged_dummies.sample(n=5, random_state=1)"
   ]
  },
  {
   "cell_type": "markdown",
   "metadata": {},
   "source": [
    "#### Readmit Month"
   ]
  },
  {
   "cell_type": "code",
   "execution_count": 116,
   "metadata": {},
   "outputs": [],
   "source": [
    "readmit_dummies = pd.get_dummies(df['readmit_month'],prefix = 'readmit_month')"
   ]
  },
  {
   "cell_type": "code",
   "execution_count": 117,
   "metadata": {},
   "outputs": [
    {
     "data": {
      "text/plain": [
       "Index(['readmit_month_1.0', 'readmit_month_2.0', 'readmit_month_3.0',\n",
       "       'readmit_month_4.0', 'readmit_month_5.0', 'readmit_month_6.0',\n",
       "       'readmit_month_7.0', 'readmit_month_8.0', 'readmit_month_9.0',\n",
       "       'readmit_month_10.0', 'readmit_month_11.0', 'readmit_month_12.0',\n",
       "       'readmit_month_M'],\n",
       "      dtype='object')"
      ]
     },
     "execution_count": 117,
     "metadata": {},
     "output_type": "execute_result"
    }
   ],
   "source": [
    "readmit_dummies.columns"
   ]
  },
  {
   "cell_type": "code",
   "execution_count": 118,
   "metadata": {},
   "outputs": [],
   "source": [
    "readmit_dummies.drop(\"readmit_month_M\", axis=1, inplace=True)"
   ]
  },
  {
   "cell_type": "code",
   "execution_count": 119,
   "metadata": {},
   "outputs": [],
   "source": [
    "df = df.join(readmit_dummies)"
   ]
  },
  {
   "cell_type": "code",
   "execution_count": 120,
   "metadata": {},
   "outputs": [
    {
     "data": {
      "text/html": [
       "<div>\n",
       "<style scoped>\n",
       "    .dataframe tbody tr th:only-of-type {\n",
       "        vertical-align: middle;\n",
       "    }\n",
       "\n",
       "    .dataframe tbody tr th {\n",
       "        vertical-align: top;\n",
       "    }\n",
       "\n",
       "    .dataframe thead th {\n",
       "        text-align: right;\n",
       "    }\n",
       "</style>\n",
       "<table border=\"1\" class=\"dataframe\">\n",
       "  <thead>\n",
       "    <tr style=\"text-align: right;\">\n",
       "      <th></th>\n",
       "      <th>readmit_month_1.0</th>\n",
       "      <th>readmit_month_2.0</th>\n",
       "      <th>readmit_month_3.0</th>\n",
       "      <th>readmit_month_4.0</th>\n",
       "      <th>readmit_month_5.0</th>\n",
       "      <th>readmit_month_6.0</th>\n",
       "      <th>readmit_month_7.0</th>\n",
       "      <th>readmit_month_8.0</th>\n",
       "      <th>readmit_month_9.0</th>\n",
       "      <th>readmit_month_10.0</th>\n",
       "      <th>readmit_month_11.0</th>\n",
       "      <th>readmit_month_12.0</th>\n",
       "    </tr>\n",
       "  </thead>\n",
       "  <tbody>\n",
       "    <tr>\n",
       "      <th>79915</th>\n",
       "      <td>0</td>\n",
       "      <td>0</td>\n",
       "      <td>0</td>\n",
       "      <td>0</td>\n",
       "      <td>0</td>\n",
       "      <td>0</td>\n",
       "      <td>0</td>\n",
       "      <td>0</td>\n",
       "      <td>0</td>\n",
       "      <td>0</td>\n",
       "      <td>0</td>\n",
       "      <td>0</td>\n",
       "    </tr>\n",
       "    <tr>\n",
       "      <th>73042</th>\n",
       "      <td>0</td>\n",
       "      <td>0</td>\n",
       "      <td>0</td>\n",
       "      <td>0</td>\n",
       "      <td>0</td>\n",
       "      <td>0</td>\n",
       "      <td>0</td>\n",
       "      <td>0</td>\n",
       "      <td>0</td>\n",
       "      <td>0</td>\n",
       "      <td>0</td>\n",
       "      <td>0</td>\n",
       "    </tr>\n",
       "    <tr>\n",
       "      <th>52727</th>\n",
       "      <td>0</td>\n",
       "      <td>0</td>\n",
       "      <td>0</td>\n",
       "      <td>0</td>\n",
       "      <td>0</td>\n",
       "      <td>0</td>\n",
       "      <td>0</td>\n",
       "      <td>0</td>\n",
       "      <td>0</td>\n",
       "      <td>0</td>\n",
       "      <td>0</td>\n",
       "      <td>0</td>\n",
       "    </tr>\n",
       "    <tr>\n",
       "      <th>127994</th>\n",
       "      <td>0</td>\n",
       "      <td>0</td>\n",
       "      <td>0</td>\n",
       "      <td>0</td>\n",
       "      <td>0</td>\n",
       "      <td>0</td>\n",
       "      <td>0</td>\n",
       "      <td>0</td>\n",
       "      <td>0</td>\n",
       "      <td>0</td>\n",
       "      <td>0</td>\n",
       "      <td>0</td>\n",
       "    </tr>\n",
       "    <tr>\n",
       "      <th>76754</th>\n",
       "      <td>0</td>\n",
       "      <td>0</td>\n",
       "      <td>0</td>\n",
       "      <td>0</td>\n",
       "      <td>0</td>\n",
       "      <td>0</td>\n",
       "      <td>0</td>\n",
       "      <td>0</td>\n",
       "      <td>0</td>\n",
       "      <td>0</td>\n",
       "      <td>0</td>\n",
       "      <td>0</td>\n",
       "    </tr>\n",
       "  </tbody>\n",
       "</table>\n",
       "</div>"
      ],
      "text/plain": [
       "        readmit_month_1.0  readmit_month_2.0  readmit_month_3.0  \\\n",
       "79915                   0                  0                  0   \n",
       "73042                   0                  0                  0   \n",
       "52727                   0                  0                  0   \n",
       "127994                  0                  0                  0   \n",
       "76754                   0                  0                  0   \n",
       "\n",
       "        readmit_month_4.0  readmit_month_5.0  readmit_month_6.0  \\\n",
       "79915                   0                  0                  0   \n",
       "73042                   0                  0                  0   \n",
       "52727                   0                  0                  0   \n",
       "127994                  0                  0                  0   \n",
       "76754                   0                  0                  0   \n",
       "\n",
       "        readmit_month_7.0  readmit_month_8.0  readmit_month_9.0  \\\n",
       "79915                   0                  0                  0   \n",
       "73042                   0                  0                  0   \n",
       "52727                   0                  0                  0   \n",
       "127994                  0                  0                  0   \n",
       "76754                   0                  0                  0   \n",
       "\n",
       "        readmit_month_10.0  readmit_month_11.0  readmit_month_12.0  \n",
       "79915                    0                   0                   0  \n",
       "73042                    0                   0                   0  \n",
       "52727                    0                   0                   0  \n",
       "127994                   0                   0                   0  \n",
       "76754                    0                   0                   0  "
      ]
     },
     "execution_count": 120,
     "metadata": {},
     "output_type": "execute_result"
    }
   ],
   "source": [
    "readmit_dummies.sample(n=5, random_state=1)"
   ]
  },
  {
   "cell_type": "markdown",
   "metadata": {},
   "source": [
    "#### Hospital"
   ]
  },
  {
   "cell_type": "code",
   "execution_count": 121,
   "metadata": {},
   "outputs": [],
   "source": [
    "hospital_dummies = pd.get_dummies(df['HOSPITAL'],prefix = 'HOSPITAL')"
   ]
  },
  {
   "cell_type": "code",
   "execution_count": 122,
   "metadata": {},
   "outputs": [
    {
     "data": {
      "text/plain": [
       "Index(['HOSPITAL_Delaware County Hospital',\n",
       "       'HOSPITAL_Hilding-Long Memorial Hospital',\n",
       "       'HOSPITAL_Independence Medical Center', 'HOSPITAL_Mercy Hospital',\n",
       "       'HOSPITAL_Oxbow Regional Hospital',\n",
       "       'HOSPITAL_St. Anthony Medical Center',\n",
       "       'HOSPITAL_Superior-Parkland Hospital',\n",
       "       'HOSPITAL_Valley City Regional Hospital'],\n",
       "      dtype='object')"
      ]
     },
     "execution_count": 122,
     "metadata": {},
     "output_type": "execute_result"
    }
   ],
   "source": [
    "hospital_dummies.columns"
   ]
  },
  {
   "cell_type": "code",
   "execution_count": 123,
   "metadata": {},
   "outputs": [],
   "source": [
    "df = df.join(hospital_dummies)"
   ]
  },
  {
   "cell_type": "code",
   "execution_count": 124,
   "metadata": {},
   "outputs": [
    {
     "data": {
      "text/html": [
       "<div>\n",
       "<style scoped>\n",
       "    .dataframe tbody tr th:only-of-type {\n",
       "        vertical-align: middle;\n",
       "    }\n",
       "\n",
       "    .dataframe tbody tr th {\n",
       "        vertical-align: top;\n",
       "    }\n",
       "\n",
       "    .dataframe thead th {\n",
       "        text-align: right;\n",
       "    }\n",
       "</style>\n",
       "<table border=\"1\" class=\"dataframe\">\n",
       "  <thead>\n",
       "    <tr style=\"text-align: right;\">\n",
       "      <th></th>\n",
       "      <th>HOSPITAL_Delaware County Hospital</th>\n",
       "      <th>HOSPITAL_Hilding-Long Memorial Hospital</th>\n",
       "      <th>HOSPITAL_Independence Medical Center</th>\n",
       "      <th>HOSPITAL_Mercy Hospital</th>\n",
       "      <th>HOSPITAL_Oxbow Regional Hospital</th>\n",
       "      <th>HOSPITAL_St. Anthony Medical Center</th>\n",
       "      <th>HOSPITAL_Superior-Parkland Hospital</th>\n",
       "      <th>HOSPITAL_Valley City Regional Hospital</th>\n",
       "    </tr>\n",
       "  </thead>\n",
       "  <tbody>\n",
       "    <tr>\n",
       "      <th>79915</th>\n",
       "      <td>0</td>\n",
       "      <td>0</td>\n",
       "      <td>0</td>\n",
       "      <td>0</td>\n",
       "      <td>0</td>\n",
       "      <td>1</td>\n",
       "      <td>0</td>\n",
       "      <td>0</td>\n",
       "    </tr>\n",
       "    <tr>\n",
       "      <th>73042</th>\n",
       "      <td>0</td>\n",
       "      <td>0</td>\n",
       "      <td>0</td>\n",
       "      <td>0</td>\n",
       "      <td>0</td>\n",
       "      <td>1</td>\n",
       "      <td>0</td>\n",
       "      <td>0</td>\n",
       "    </tr>\n",
       "    <tr>\n",
       "      <th>52727</th>\n",
       "      <td>0</td>\n",
       "      <td>0</td>\n",
       "      <td>0</td>\n",
       "      <td>1</td>\n",
       "      <td>0</td>\n",
       "      <td>0</td>\n",
       "      <td>0</td>\n",
       "      <td>0</td>\n",
       "    </tr>\n",
       "    <tr>\n",
       "      <th>127994</th>\n",
       "      <td>0</td>\n",
       "      <td>0</td>\n",
       "      <td>0</td>\n",
       "      <td>0</td>\n",
       "      <td>0</td>\n",
       "      <td>1</td>\n",
       "      <td>0</td>\n",
       "      <td>0</td>\n",
       "    </tr>\n",
       "    <tr>\n",
       "      <th>76754</th>\n",
       "      <td>0</td>\n",
       "      <td>0</td>\n",
       "      <td>0</td>\n",
       "      <td>0</td>\n",
       "      <td>0</td>\n",
       "      <td>1</td>\n",
       "      <td>0</td>\n",
       "      <td>0</td>\n",
       "    </tr>\n",
       "  </tbody>\n",
       "</table>\n",
       "</div>"
      ],
      "text/plain": [
       "        HOSPITAL_Delaware County Hospital  \\\n",
       "79915                                   0   \n",
       "73042                                   0   \n",
       "52727                                   0   \n",
       "127994                                  0   \n",
       "76754                                   0   \n",
       "\n",
       "        HOSPITAL_Hilding-Long Memorial Hospital  \\\n",
       "79915                                         0   \n",
       "73042                                         0   \n",
       "52727                                         0   \n",
       "127994                                        0   \n",
       "76754                                         0   \n",
       "\n",
       "        HOSPITAL_Independence Medical Center  HOSPITAL_Mercy Hospital  \\\n",
       "79915                                      0                        0   \n",
       "73042                                      0                        0   \n",
       "52727                                      0                        1   \n",
       "127994                                     0                        0   \n",
       "76754                                      0                        0   \n",
       "\n",
       "        HOSPITAL_Oxbow Regional Hospital  HOSPITAL_St. Anthony Medical Center  \\\n",
       "79915                                  0                                    1   \n",
       "73042                                  0                                    1   \n",
       "52727                                  0                                    0   \n",
       "127994                                 0                                    1   \n",
       "76754                                  0                                    1   \n",
       "\n",
       "        HOSPITAL_Superior-Parkland Hospital  \\\n",
       "79915                                     0   \n",
       "73042                                     0   \n",
       "52727                                     0   \n",
       "127994                                    0   \n",
       "76754                                     0   \n",
       "\n",
       "        HOSPITAL_Valley City Regional Hospital  \n",
       "79915                                        0  \n",
       "73042                                        0  \n",
       "52727                                        0  \n",
       "127994                                       0  \n",
       "76754                                        0  "
      ]
     },
     "execution_count": 124,
     "metadata": {},
     "output_type": "execute_result"
    }
   ],
   "source": [
    "hospital_dummies.sample(n=5, random_state=1)"
   ]
  },
  {
   "cell_type": "markdown",
   "metadata": {},
   "source": [
    "#### State cd"
   ]
  },
  {
   "cell_type": "code",
   "execution_count": 125,
   "metadata": {},
   "outputs": [],
   "source": [
    "state_dummies = pd.get_dummies(df['STATECODE'],prefix = 'STATECODE')"
   ]
  },
  {
   "cell_type": "code",
   "execution_count": 126,
   "metadata": {},
   "outputs": [
    {
     "data": {
      "text/plain": [
       "Index(['STATECODE_IA', 'STATECODE_MN', 'STATECODE_ND', 'STATECODE_WI'], dtype='object')"
      ]
     },
     "execution_count": 126,
     "metadata": {},
     "output_type": "execute_result"
    }
   ],
   "source": [
    "state_dummies.columns"
   ]
  },
  {
   "cell_type": "code",
   "execution_count": 127,
   "metadata": {},
   "outputs": [],
   "source": [
    "df = df.join(state_dummies)"
   ]
  },
  {
   "cell_type": "code",
   "execution_count": 128,
   "metadata": {},
   "outputs": [
    {
     "data": {
      "text/html": [
       "<div>\n",
       "<style scoped>\n",
       "    .dataframe tbody tr th:only-of-type {\n",
       "        vertical-align: middle;\n",
       "    }\n",
       "\n",
       "    .dataframe tbody tr th {\n",
       "        vertical-align: top;\n",
       "    }\n",
       "\n",
       "    .dataframe thead th {\n",
       "        text-align: right;\n",
       "    }\n",
       "</style>\n",
       "<table border=\"1\" class=\"dataframe\">\n",
       "  <thead>\n",
       "    <tr style=\"text-align: right;\">\n",
       "      <th></th>\n",
       "      <th>STATECODE_IA</th>\n",
       "      <th>STATECODE_MN</th>\n",
       "      <th>STATECODE_ND</th>\n",
       "      <th>STATECODE_WI</th>\n",
       "    </tr>\n",
       "  </thead>\n",
       "  <tbody>\n",
       "    <tr>\n",
       "      <th>79915</th>\n",
       "      <td>0</td>\n",
       "      <td>1</td>\n",
       "      <td>0</td>\n",
       "      <td>0</td>\n",
       "    </tr>\n",
       "    <tr>\n",
       "      <th>73042</th>\n",
       "      <td>0</td>\n",
       "      <td>1</td>\n",
       "      <td>0</td>\n",
       "      <td>0</td>\n",
       "    </tr>\n",
       "    <tr>\n",
       "      <th>52727</th>\n",
       "      <td>0</td>\n",
       "      <td>1</td>\n",
       "      <td>0</td>\n",
       "      <td>0</td>\n",
       "    </tr>\n",
       "    <tr>\n",
       "      <th>127994</th>\n",
       "      <td>0</td>\n",
       "      <td>1</td>\n",
       "      <td>0</td>\n",
       "      <td>0</td>\n",
       "    </tr>\n",
       "    <tr>\n",
       "      <th>76754</th>\n",
       "      <td>0</td>\n",
       "      <td>1</td>\n",
       "      <td>0</td>\n",
       "      <td>0</td>\n",
       "    </tr>\n",
       "  </tbody>\n",
       "</table>\n",
       "</div>"
      ],
      "text/plain": [
       "        STATECODE_IA  STATECODE_MN  STATECODE_ND  STATECODE_WI\n",
       "79915              0             1             0             0\n",
       "73042              0             1             0             0\n",
       "52727              0             1             0             0\n",
       "127994             0             1             0             0\n",
       "76754              0             1             0             0"
      ]
     },
     "execution_count": 128,
     "metadata": {},
     "output_type": "execute_result"
    }
   ],
   "source": [
    "state_dummies.sample(n=5, random_state=1)"
   ]
  },
  {
   "cell_type": "markdown",
   "metadata": {},
   "source": [
    "#### Diagnosis Subcat Desc"
   ]
  },
  {
   "cell_type": "code",
   "execution_count": 129,
   "metadata": {},
   "outputs": [],
   "source": [
    "diag_subcat_dummies = pd.get_dummies(df['DIAGNOSIS_SUBCAT_DESC'],prefix = 'DIAGNOSIS_SUBCAT_DESC')"
   ]
  },
  {
   "cell_type": "code",
   "execution_count": 130,
   "metadata": {},
   "outputs": [
    {
     "data": {
      "text/plain": [
       "Index(['DIAGNOSIS_SUBCAT_DESC_ACUTE MYOCARDIAL INFARCT',\n",
       "       'DIAGNOSIS_SUBCAT_DESC_ASTHMA', 'DIAGNOSIS_SUBCAT_DESC_BRONCHIECTASIS',\n",
       "       'DIAGNOSIS_SUBCAT_DESC_BRONCHOPNEUMONIA ORGANI',\n",
       "       'DIAGNOSIS_SUBCAT_DESC_CHRONIC AIRWAY OBSTRUCTI',\n",
       "       'DIAGNOSIS_SUBCAT_DESC_CHRONIC BRONCHITIS',\n",
       "       'DIAGNOSIS_SUBCAT_DESC_CHRONIC Hosp 46 HEART',\n",
       "       'DIAGNOSIS_SUBCAT_DESC_DISEASES DUE TO OTHER MY',\n",
       "       'DIAGNOSIS_SUBCAT_DESC_DISORDERS OF FLUID ELEC',\n",
       "       'DIAGNOSIS_SUBCAT_DESC_EMPHYSEMA',\n",
       "       'DIAGNOSIS_SUBCAT_DESC_HEART FAILURE',\n",
       "       'DIAGNOSIS_SUBCAT_DESC_HYPERTENSIVE HEART AND C',\n",
       "       'DIAGNOSIS_SUBCAT_DESC_HYPERTENSIVE HEART DISEA',\n",
       "       'DIAGNOSIS_SUBCAT_DESC_OTHER AND UNSPECIFIED DI',\n",
       "       'DIAGNOSIS_SUBCAT_DESC_OTHER BACTERIAL PNEUMONI',\n",
       "       'DIAGNOSIS_SUBCAT_DESC_OTHER RHEUMATIC HEART DI',\n",
       "       'DIAGNOSIS_SUBCAT_DESC_PNEUMOCOCCAL PNEUMONIA',\n",
       "       'DIAGNOSIS_SUBCAT_DESC_PNEUMONIA DUE TO OTHER S',\n",
       "       'DIAGNOSIS_SUBCAT_DESC_PNEUMONIA ORGANISM UNSP',\n",
       "       'DIAGNOSIS_SUBCAT_DESC_SEPTICEMIA',\n",
       "       'DIAGNOSIS_SUBCAT_DESC_SYMPTOMS CONCERNING NUTR',\n",
       "       'DIAGNOSIS_SUBCAT_DESC_VIRAL PNEUMONIA'],\n",
       "      dtype='object')"
      ]
     },
     "execution_count": 130,
     "metadata": {},
     "output_type": "execute_result"
    }
   ],
   "source": [
    "diag_subcat_dummies.columns"
   ]
  },
  {
   "cell_type": "code",
   "execution_count": 131,
   "metadata": {},
   "outputs": [],
   "source": [
    "df = df.join(diag_subcat_dummies)"
   ]
  },
  {
   "cell_type": "code",
   "execution_count": 132,
   "metadata": {},
   "outputs": [
    {
     "data": {
      "text/html": [
       "<div>\n",
       "<style scoped>\n",
       "    .dataframe tbody tr th:only-of-type {\n",
       "        vertical-align: middle;\n",
       "    }\n",
       "\n",
       "    .dataframe tbody tr th {\n",
       "        vertical-align: top;\n",
       "    }\n",
       "\n",
       "    .dataframe thead th {\n",
       "        text-align: right;\n",
       "    }\n",
       "</style>\n",
       "<table border=\"1\" class=\"dataframe\">\n",
       "  <thead>\n",
       "    <tr style=\"text-align: right;\">\n",
       "      <th></th>\n",
       "      <th>DIAGNOSIS_SUBCAT_DESC_ACUTE MYOCARDIAL INFARCT</th>\n",
       "      <th>DIAGNOSIS_SUBCAT_DESC_ASTHMA</th>\n",
       "      <th>DIAGNOSIS_SUBCAT_DESC_BRONCHIECTASIS</th>\n",
       "      <th>DIAGNOSIS_SUBCAT_DESC_BRONCHOPNEUMONIA ORGANI</th>\n",
       "      <th>DIAGNOSIS_SUBCAT_DESC_CHRONIC AIRWAY OBSTRUCTI</th>\n",
       "      <th>DIAGNOSIS_SUBCAT_DESC_CHRONIC BRONCHITIS</th>\n",
       "      <th>DIAGNOSIS_SUBCAT_DESC_CHRONIC Hosp 46 HEART</th>\n",
       "      <th>DIAGNOSIS_SUBCAT_DESC_DISEASES DUE TO OTHER MY</th>\n",
       "      <th>DIAGNOSIS_SUBCAT_DESC_DISORDERS OF FLUID ELEC</th>\n",
       "      <th>DIAGNOSIS_SUBCAT_DESC_EMPHYSEMA</th>\n",
       "      <th>DIAGNOSIS_SUBCAT_DESC_HEART FAILURE</th>\n",
       "      <th>DIAGNOSIS_SUBCAT_DESC_HYPERTENSIVE HEART AND C</th>\n",
       "      <th>DIAGNOSIS_SUBCAT_DESC_HYPERTENSIVE HEART DISEA</th>\n",
       "      <th>DIAGNOSIS_SUBCAT_DESC_OTHER AND UNSPECIFIED DI</th>\n",
       "      <th>DIAGNOSIS_SUBCAT_DESC_OTHER BACTERIAL PNEUMONI</th>\n",
       "      <th>DIAGNOSIS_SUBCAT_DESC_OTHER RHEUMATIC HEART DI</th>\n",
       "      <th>DIAGNOSIS_SUBCAT_DESC_PNEUMOCOCCAL PNEUMONIA</th>\n",
       "      <th>DIAGNOSIS_SUBCAT_DESC_PNEUMONIA DUE TO OTHER S</th>\n",
       "      <th>DIAGNOSIS_SUBCAT_DESC_PNEUMONIA ORGANISM UNSP</th>\n",
       "      <th>DIAGNOSIS_SUBCAT_DESC_SEPTICEMIA</th>\n",
       "      <th>DIAGNOSIS_SUBCAT_DESC_SYMPTOMS CONCERNING NUTR</th>\n",
       "      <th>DIAGNOSIS_SUBCAT_DESC_VIRAL PNEUMONIA</th>\n",
       "    </tr>\n",
       "  </thead>\n",
       "  <tbody>\n",
       "    <tr>\n",
       "      <th>79915</th>\n",
       "      <td>0</td>\n",
       "      <td>0</td>\n",
       "      <td>0</td>\n",
       "      <td>0</td>\n",
       "      <td>0</td>\n",
       "      <td>1</td>\n",
       "      <td>0</td>\n",
       "      <td>0</td>\n",
       "      <td>0</td>\n",
       "      <td>0</td>\n",
       "      <td>0</td>\n",
       "      <td>0</td>\n",
       "      <td>0</td>\n",
       "      <td>0</td>\n",
       "      <td>0</td>\n",
       "      <td>0</td>\n",
       "      <td>0</td>\n",
       "      <td>0</td>\n",
       "      <td>0</td>\n",
       "      <td>0</td>\n",
       "      <td>0</td>\n",
       "      <td>0</td>\n",
       "    </tr>\n",
       "    <tr>\n",
       "      <th>73042</th>\n",
       "      <td>0</td>\n",
       "      <td>0</td>\n",
       "      <td>0</td>\n",
       "      <td>0</td>\n",
       "      <td>0</td>\n",
       "      <td>0</td>\n",
       "      <td>0</td>\n",
       "      <td>0</td>\n",
       "      <td>0</td>\n",
       "      <td>0</td>\n",
       "      <td>0</td>\n",
       "      <td>0</td>\n",
       "      <td>0</td>\n",
       "      <td>0</td>\n",
       "      <td>0</td>\n",
       "      <td>0</td>\n",
       "      <td>0</td>\n",
       "      <td>0</td>\n",
       "      <td>1</td>\n",
       "      <td>0</td>\n",
       "      <td>0</td>\n",
       "      <td>0</td>\n",
       "    </tr>\n",
       "    <tr>\n",
       "      <th>52727</th>\n",
       "      <td>0</td>\n",
       "      <td>0</td>\n",
       "      <td>0</td>\n",
       "      <td>0</td>\n",
       "      <td>0</td>\n",
       "      <td>0</td>\n",
       "      <td>0</td>\n",
       "      <td>0</td>\n",
       "      <td>0</td>\n",
       "      <td>0</td>\n",
       "      <td>0</td>\n",
       "      <td>0</td>\n",
       "      <td>0</td>\n",
       "      <td>0</td>\n",
       "      <td>0</td>\n",
       "      <td>0</td>\n",
       "      <td>0</td>\n",
       "      <td>0</td>\n",
       "      <td>1</td>\n",
       "      <td>0</td>\n",
       "      <td>0</td>\n",
       "      <td>0</td>\n",
       "    </tr>\n",
       "    <tr>\n",
       "      <th>127994</th>\n",
       "      <td>0</td>\n",
       "      <td>0</td>\n",
       "      <td>0</td>\n",
       "      <td>0</td>\n",
       "      <td>1</td>\n",
       "      <td>0</td>\n",
       "      <td>0</td>\n",
       "      <td>0</td>\n",
       "      <td>0</td>\n",
       "      <td>0</td>\n",
       "      <td>0</td>\n",
       "      <td>0</td>\n",
       "      <td>0</td>\n",
       "      <td>0</td>\n",
       "      <td>0</td>\n",
       "      <td>0</td>\n",
       "      <td>0</td>\n",
       "      <td>0</td>\n",
       "      <td>0</td>\n",
       "      <td>0</td>\n",
       "      <td>0</td>\n",
       "      <td>0</td>\n",
       "    </tr>\n",
       "    <tr>\n",
       "      <th>76754</th>\n",
       "      <td>0</td>\n",
       "      <td>0</td>\n",
       "      <td>0</td>\n",
       "      <td>0</td>\n",
       "      <td>0</td>\n",
       "      <td>0</td>\n",
       "      <td>0</td>\n",
       "      <td>0</td>\n",
       "      <td>0</td>\n",
       "      <td>0</td>\n",
       "      <td>1</td>\n",
       "      <td>0</td>\n",
       "      <td>0</td>\n",
       "      <td>0</td>\n",
       "      <td>0</td>\n",
       "      <td>0</td>\n",
       "      <td>0</td>\n",
       "      <td>0</td>\n",
       "      <td>0</td>\n",
       "      <td>0</td>\n",
       "      <td>0</td>\n",
       "      <td>0</td>\n",
       "    </tr>\n",
       "  </tbody>\n",
       "</table>\n",
       "</div>"
      ],
      "text/plain": [
       "        DIAGNOSIS_SUBCAT_DESC_ACUTE MYOCARDIAL INFARCT  \\\n",
       "79915                                                0   \n",
       "73042                                                0   \n",
       "52727                                                0   \n",
       "127994                                               0   \n",
       "76754                                                0   \n",
       "\n",
       "        DIAGNOSIS_SUBCAT_DESC_ASTHMA  DIAGNOSIS_SUBCAT_DESC_BRONCHIECTASIS  \\\n",
       "79915                              0                                     0   \n",
       "73042                              0                                     0   \n",
       "52727                              0                                     0   \n",
       "127994                             0                                     0   \n",
       "76754                              0                                     0   \n",
       "\n",
       "        DIAGNOSIS_SUBCAT_DESC_BRONCHOPNEUMONIA ORGANI  \\\n",
       "79915                                               0   \n",
       "73042                                               0   \n",
       "52727                                               0   \n",
       "127994                                              0   \n",
       "76754                                               0   \n",
       "\n",
       "        DIAGNOSIS_SUBCAT_DESC_CHRONIC AIRWAY OBSTRUCTI  \\\n",
       "79915                                                0   \n",
       "73042                                                0   \n",
       "52727                                                0   \n",
       "127994                                               1   \n",
       "76754                                                0   \n",
       "\n",
       "        DIAGNOSIS_SUBCAT_DESC_CHRONIC BRONCHITIS  \\\n",
       "79915                                          1   \n",
       "73042                                          0   \n",
       "52727                                          0   \n",
       "127994                                         0   \n",
       "76754                                          0   \n",
       "\n",
       "        DIAGNOSIS_SUBCAT_DESC_CHRONIC Hosp 46 HEART  \\\n",
       "79915                                             0   \n",
       "73042                                             0   \n",
       "52727                                             0   \n",
       "127994                                            0   \n",
       "76754                                             0   \n",
       "\n",
       "        DIAGNOSIS_SUBCAT_DESC_DISEASES DUE TO OTHER MY  \\\n",
       "79915                                                0   \n",
       "73042                                                0   \n",
       "52727                                                0   \n",
       "127994                                               0   \n",
       "76754                                                0   \n",
       "\n",
       "        DIAGNOSIS_SUBCAT_DESC_DISORDERS OF FLUID ELEC  \\\n",
       "79915                                               0   \n",
       "73042                                               0   \n",
       "52727                                               0   \n",
       "127994                                              0   \n",
       "76754                                               0   \n",
       "\n",
       "        DIAGNOSIS_SUBCAT_DESC_EMPHYSEMA  DIAGNOSIS_SUBCAT_DESC_HEART FAILURE  \\\n",
       "79915                                 0                                    0   \n",
       "73042                                 0                                    0   \n",
       "52727                                 0                                    0   \n",
       "127994                                0                                    0   \n",
       "76754                                 0                                    1   \n",
       "\n",
       "        DIAGNOSIS_SUBCAT_DESC_HYPERTENSIVE HEART AND C  \\\n",
       "79915                                                0   \n",
       "73042                                                0   \n",
       "52727                                                0   \n",
       "127994                                               0   \n",
       "76754                                                0   \n",
       "\n",
       "        DIAGNOSIS_SUBCAT_DESC_HYPERTENSIVE HEART DISEA  \\\n",
       "79915                                                0   \n",
       "73042                                                0   \n",
       "52727                                                0   \n",
       "127994                                               0   \n",
       "76754                                                0   \n",
       "\n",
       "        DIAGNOSIS_SUBCAT_DESC_OTHER AND UNSPECIFIED DI  \\\n",
       "79915                                                0   \n",
       "73042                                                0   \n",
       "52727                                                0   \n",
       "127994                                               0   \n",
       "76754                                                0   \n",
       "\n",
       "        DIAGNOSIS_SUBCAT_DESC_OTHER BACTERIAL PNEUMONI  \\\n",
       "79915                                                0   \n",
       "73042                                                0   \n",
       "52727                                                0   \n",
       "127994                                               0   \n",
       "76754                                                0   \n",
       "\n",
       "        DIAGNOSIS_SUBCAT_DESC_OTHER RHEUMATIC HEART DI  \\\n",
       "79915                                                0   \n",
       "73042                                                0   \n",
       "52727                                                0   \n",
       "127994                                               0   \n",
       "76754                                                0   \n",
       "\n",
       "        DIAGNOSIS_SUBCAT_DESC_PNEUMOCOCCAL PNEUMONIA  \\\n",
       "79915                                              0   \n",
       "73042                                              0   \n",
       "52727                                              0   \n",
       "127994                                             0   \n",
       "76754                                              0   \n",
       "\n",
       "        DIAGNOSIS_SUBCAT_DESC_PNEUMONIA DUE TO OTHER S  \\\n",
       "79915                                                0   \n",
       "73042                                                0   \n",
       "52727                                                0   \n",
       "127994                                               0   \n",
       "76754                                                0   \n",
       "\n",
       "        DIAGNOSIS_SUBCAT_DESC_PNEUMONIA ORGANISM UNSP  \\\n",
       "79915                                               0   \n",
       "73042                                               1   \n",
       "52727                                               1   \n",
       "127994                                              0   \n",
       "76754                                               0   \n",
       "\n",
       "        DIAGNOSIS_SUBCAT_DESC_SEPTICEMIA  \\\n",
       "79915                                  0   \n",
       "73042                                  0   \n",
       "52727                                  0   \n",
       "127994                                 0   \n",
       "76754                                  0   \n",
       "\n",
       "        DIAGNOSIS_SUBCAT_DESC_SYMPTOMS CONCERNING NUTR  \\\n",
       "79915                                                0   \n",
       "73042                                                0   \n",
       "52727                                                0   \n",
       "127994                                               0   \n",
       "76754                                                0   \n",
       "\n",
       "        DIAGNOSIS_SUBCAT_DESC_VIRAL PNEUMONIA  \n",
       "79915                                       0  \n",
       "73042                                       0  \n",
       "52727                                       0  \n",
       "127994                                      0  \n",
       "76754                                       0  "
      ]
     },
     "execution_count": 132,
     "metadata": {},
     "output_type": "execute_result"
    }
   ],
   "source": [
    "diag_subcat_dummies.sample(n=5, random_state=1)"
   ]
  },
  {
   "cell_type": "markdown",
   "metadata": {},
   "source": [
    "#### Print the new data"
   ]
  },
  {
   "cell_type": "code",
   "execution_count": 133,
   "metadata": {},
   "outputs": [
    {
     "data": {
      "text/html": [
       "<div>\n",
       "<style scoped>\n",
       "    .dataframe tbody tr th:only-of-type {\n",
       "        vertical-align: middle;\n",
       "    }\n",
       "\n",
       "    .dataframe tbody tr th {\n",
       "        vertical-align: top;\n",
       "    }\n",
       "\n",
       "    .dataframe thead th {\n",
       "        text-align: right;\n",
       "    }\n",
       "</style>\n",
       "<table border=\"1\" class=\"dataframe\">\n",
       "  <thead>\n",
       "    <tr style=\"text-align: right;\">\n",
       "      <th></th>\n",
       "      <th>ENCOUNTER_KEY</th>\n",
       "      <th>PATIENT_NUMBER</th>\n",
       "      <th>gender</th>\n",
       "      <th>race_cd</th>\n",
       "      <th>PatientAge</th>\n",
       "      <th>Diagnosis_Group</th>\n",
       "      <th>icd9_target</th>\n",
       "      <th>MS_DRG_CODE</th>\n",
       "      <th>MS_DRG_DESC</th>\n",
       "      <th>DRG_APR_CODE</th>\n",
       "      <th>DRG_APR_DESC</th>\n",
       "      <th>DRG_APR_SEVERITY</th>\n",
       "      <th>DIAGNOSIS_SUBCAT_CODE</th>\n",
       "      <th>DIAGNOSIS_SUBCAT_DESC</th>\n",
       "      <th>DIAGNOSIS_ICD_CODE</th>\n",
       "      <th>DIAGNOSIS_LONG_DESC</th>\n",
       "      <th>PROCEDURE_SUBCAT_CODE</th>\n",
       "      <th>PROCEDURE_SUBCAT_DESC</th>\n",
       "      <th>PROCEDURE_ICD_CODE</th>\n",
       "      <th>PROCEDURE_LONG_DESC</th>\n",
       "      <th>dx_code</th>\n",
       "      <th>dx_group</th>\n",
       "      <th>DOCTOR</th>\n",
       "      <th>ADMIT_DATE</th>\n",
       "      <th>DISCHARGE_DATE</th>\n",
       "      <th>readmit_date</th>\n",
       "      <th>readmit_discharge_date</th>\n",
       "      <th>readmit_days</th>\n",
       "      <th>LENGTH_OF_STAY</th>\n",
       "      <th>ICU_DAYS</th>\n",
       "      <th>DISCHARGED_TO</th>\n",
       "      <th>op_visits6</th>\n",
       "      <th>Standard_Orders_Used</th>\n",
       "      <th>Num_Chronic_Cond</th>\n",
       "      <th>Disch_Nurse_ID</th>\n",
       "      <th>admit_month</th>\n",
       "      <th>readmit_month</th>\n",
       "      <th>order_set_used</th>\n",
       "      <th>order_total_charges</th>\n",
       "      <th>readmit_number</th>\n",
       "      <th>operationcount</th>\n",
       "      <th>HOSPITAL</th>\n",
       "      <th>ZIP</th>\n",
       "      <th>STATECODE</th>\n",
       "      <th>City</th>\n",
       "      <th>County_name</th>\n",
       "      <th>i</th>\n",
       "      <th>PatientAge_Bins</th>\n",
       "      <th>LENGTH_OF_STAY_Bins</th>\n",
       "      <th>PatientAge_Bins_20-39</th>\n",
       "      <th>PatientAge_Bins_40-59</th>\n",
       "      <th>PatientAge_Bins_60-79</th>\n",
       "      <th>PatientAge_Bins_80-101</th>\n",
       "      <th>LENGTH_OF_STAY_Bins_1-9</th>\n",
       "      <th>LENGTH_OF_STAY_Bins_10-19</th>\n",
       "      <th>LENGTH_OF_STAY_Bins_20-32</th>\n",
       "      <th>readmit_days_01-07</th>\n",
       "      <th>readmit_days_08-30</th>\n",
       "      <th>readmit_days_31-60</th>\n",
       "      <th>gender_F</th>\n",
       "      <th>race_Black</th>\n",
       "      <th>race_White</th>\n",
       "      <th>Diagnosis_Group_CHF</th>\n",
       "      <th>Diagnosis_Group_COPD</th>\n",
       "      <th>DRG_APR_SEVERITY_1.0</th>\n",
       "      <th>DRG_APR_SEVERITY_2.0</th>\n",
       "      <th>DRG_APR_SEVERITY_3.0</th>\n",
       "      <th>DRG_APR_SEVERITY_4.0</th>\n",
       "      <th>DISCHARGED_TO_AGNST MEDICAL ADVICE AMA</th>\n",
       "      <th>DISCHARGED_TO_CHG TO LTAC</th>\n",
       "      <th>DISCHARGED_TO_HOME HEALTH AGENCY</th>\n",
       "      <th>DISCHARGED_TO_HOSPICE (HOME)</th>\n",
       "      <th>DISCHARGED_TO_HOSPICE - MEDICAL INPAT</th>\n",
       "      <th>DISCHARGED_TO_INTERMEDIATE CARE</th>\n",
       "      <th>DISCHARGED_TO_OTHER ACUTE HOSP</th>\n",
       "      <th>DISCHARGED_TO_OTHER DEATH</th>\n",
       "      <th>DISCHARGED_TO_REHAB HOSPITAL</th>\n",
       "      <th>DISCHARGED_TO_ROUTINE DSCHG, HOME</th>\n",
       "      <th>DISCHARGED_TO_SKILLED NURSING FACILITY</th>\n",
       "      <th>readmit_month_1.0</th>\n",
       "      <th>readmit_month_2.0</th>\n",
       "      <th>readmit_month_3.0</th>\n",
       "      <th>readmit_month_4.0</th>\n",
       "      <th>readmit_month_5.0</th>\n",
       "      <th>readmit_month_6.0</th>\n",
       "      <th>readmit_month_7.0</th>\n",
       "      <th>readmit_month_8.0</th>\n",
       "      <th>readmit_month_9.0</th>\n",
       "      <th>readmit_month_10.0</th>\n",
       "      <th>readmit_month_11.0</th>\n",
       "      <th>readmit_month_12.0</th>\n",
       "      <th>HOSPITAL_Delaware County Hospital</th>\n",
       "      <th>HOSPITAL_Hilding-Long Memorial Hospital</th>\n",
       "      <th>HOSPITAL_Independence Medical Center</th>\n",
       "      <th>HOSPITAL_Mercy Hospital</th>\n",
       "      <th>HOSPITAL_Oxbow Regional Hospital</th>\n",
       "      <th>HOSPITAL_St. Anthony Medical Center</th>\n",
       "      <th>HOSPITAL_Superior-Parkland Hospital</th>\n",
       "      <th>HOSPITAL_Valley City Regional Hospital</th>\n",
       "      <th>STATECODE_IA</th>\n",
       "      <th>STATECODE_MN</th>\n",
       "      <th>STATECODE_ND</th>\n",
       "      <th>STATECODE_WI</th>\n",
       "      <th>DIAGNOSIS_SUBCAT_DESC_ACUTE MYOCARDIAL INFARCT</th>\n",
       "      <th>DIAGNOSIS_SUBCAT_DESC_ASTHMA</th>\n",
       "      <th>DIAGNOSIS_SUBCAT_DESC_BRONCHIECTASIS</th>\n",
       "      <th>DIAGNOSIS_SUBCAT_DESC_BRONCHOPNEUMONIA ORGANI</th>\n",
       "      <th>DIAGNOSIS_SUBCAT_DESC_CHRONIC AIRWAY OBSTRUCTI</th>\n",
       "      <th>DIAGNOSIS_SUBCAT_DESC_CHRONIC BRONCHITIS</th>\n",
       "      <th>DIAGNOSIS_SUBCAT_DESC_CHRONIC Hosp 46 HEART</th>\n",
       "      <th>DIAGNOSIS_SUBCAT_DESC_DISEASES DUE TO OTHER MY</th>\n",
       "      <th>DIAGNOSIS_SUBCAT_DESC_DISORDERS OF FLUID ELEC</th>\n",
       "      <th>DIAGNOSIS_SUBCAT_DESC_EMPHYSEMA</th>\n",
       "      <th>DIAGNOSIS_SUBCAT_DESC_HEART FAILURE</th>\n",
       "      <th>DIAGNOSIS_SUBCAT_DESC_HYPERTENSIVE HEART AND C</th>\n",
       "      <th>DIAGNOSIS_SUBCAT_DESC_HYPERTENSIVE HEART DISEA</th>\n",
       "      <th>DIAGNOSIS_SUBCAT_DESC_OTHER AND UNSPECIFIED DI</th>\n",
       "      <th>DIAGNOSIS_SUBCAT_DESC_OTHER BACTERIAL PNEUMONI</th>\n",
       "      <th>DIAGNOSIS_SUBCAT_DESC_OTHER RHEUMATIC HEART DI</th>\n",
       "      <th>DIAGNOSIS_SUBCAT_DESC_PNEUMOCOCCAL PNEUMONIA</th>\n",
       "      <th>DIAGNOSIS_SUBCAT_DESC_PNEUMONIA DUE TO OTHER S</th>\n",
       "      <th>DIAGNOSIS_SUBCAT_DESC_PNEUMONIA ORGANISM UNSP</th>\n",
       "      <th>DIAGNOSIS_SUBCAT_DESC_SEPTICEMIA</th>\n",
       "      <th>DIAGNOSIS_SUBCAT_DESC_SYMPTOMS CONCERNING NUTR</th>\n",
       "      <th>DIAGNOSIS_SUBCAT_DESC_VIRAL PNEUMONIA</th>\n",
       "    </tr>\n",
       "  </thead>\n",
       "  <tbody>\n",
       "    <tr>\n",
       "      <th>0</th>\n",
       "      <td>105241297</td>\n",
       "      <td>9921901297</td>\n",
       "      <td>M</td>\n",
       "      <td>White</td>\n",
       "      <td>50</td>\n",
       "      <td>COPD</td>\n",
       "      <td>0</td>\n",
       "      <td>192</td>\n",
       "      <td>CHRONIC OBSTRUCTIVE Hosp 46 DISEASE W/O CC/MCC</td>\n",
       "      <td>140</td>\n",
       "      <td>CHRONIC OBSTRUCTIVE Hosp 46 DISEASE</td>\n",
       "      <td>1</td>\n",
       "      <td>491</td>\n",
       "      <td>CHRONIC BRONCHITIS</td>\n",
       "      <td>491.21</td>\n",
       "      <td>OBSTRUCTIVE CHRONIC BRONCHITIS WITH ACUTE EXAC...</td>\n",
       "      <td>99</td>\n",
       "      <td>OTHER NONOPERATIVE PROCE</td>\n",
       "      <td>99.23</td>\n",
       "      <td>INJECTION OF STEROID</td>\n",
       "      <td>49121</td>\n",
       "      <td>Obstructive chronic bronchitis</td>\n",
       "      <td>303334</td>\n",
       "      <td>2014-12-15</td>\n",
       "      <td>2014-12-21</td>\n",
       "      <td>M</td>\n",
       "      <td>M</td>\n",
       "      <td>M</td>\n",
       "      <td>6</td>\n",
       "      <td>4</td>\n",
       "      <td>ROUTINE DSCHG, HOME</td>\n",
       "      <td>8</td>\n",
       "      <td>Y</td>\n",
       "      <td>1.0</td>\n",
       "      <td>350014</td>\n",
       "      <td>12</td>\n",
       "      <td>M</td>\n",
       "      <td>1</td>\n",
       "      <td>29507</td>\n",
       "      <td>0</td>\n",
       "      <td>0</td>\n",
       "      <td>Delaware County Hospital</td>\n",
       "      <td>52057</td>\n",
       "      <td>IA</td>\n",
       "      <td>Manchester</td>\n",
       "      <td>Delaware</td>\n",
       "      <td>5</td>\n",
       "      <td>40-59</td>\n",
       "      <td>1-9</td>\n",
       "      <td>0</td>\n",
       "      <td>1</td>\n",
       "      <td>0</td>\n",
       "      <td>0</td>\n",
       "      <td>1</td>\n",
       "      <td>0</td>\n",
       "      <td>0</td>\n",
       "      <td>0</td>\n",
       "      <td>0</td>\n",
       "      <td>0</td>\n",
       "      <td>0</td>\n",
       "      <td>0</td>\n",
       "      <td>1</td>\n",
       "      <td>0</td>\n",
       "      <td>1</td>\n",
       "      <td>1</td>\n",
       "      <td>0</td>\n",
       "      <td>0</td>\n",
       "      <td>0</td>\n",
       "      <td>0</td>\n",
       "      <td>0</td>\n",
       "      <td>0</td>\n",
       "      <td>0</td>\n",
       "      <td>0</td>\n",
       "      <td>0</td>\n",
       "      <td>0</td>\n",
       "      <td>0</td>\n",
       "      <td>0</td>\n",
       "      <td>1</td>\n",
       "      <td>0</td>\n",
       "      <td>0</td>\n",
       "      <td>0</td>\n",
       "      <td>0</td>\n",
       "      <td>0</td>\n",
       "      <td>0</td>\n",
       "      <td>0</td>\n",
       "      <td>0</td>\n",
       "      <td>0</td>\n",
       "      <td>0</td>\n",
       "      <td>0</td>\n",
       "      <td>0</td>\n",
       "      <td>0</td>\n",
       "      <td>1</td>\n",
       "      <td>0</td>\n",
       "      <td>0</td>\n",
       "      <td>0</td>\n",
       "      <td>0</td>\n",
       "      <td>0</td>\n",
       "      <td>0</td>\n",
       "      <td>0</td>\n",
       "      <td>1</td>\n",
       "      <td>0</td>\n",
       "      <td>0</td>\n",
       "      <td>0</td>\n",
       "      <td>0</td>\n",
       "      <td>0</td>\n",
       "      <td>0</td>\n",
       "      <td>0</td>\n",
       "      <td>0</td>\n",
       "      <td>1</td>\n",
       "      <td>0</td>\n",
       "      <td>0</td>\n",
       "      <td>0</td>\n",
       "      <td>0</td>\n",
       "      <td>0</td>\n",
       "      <td>0</td>\n",
       "      <td>0</td>\n",
       "      <td>0</td>\n",
       "      <td>0</td>\n",
       "      <td>0</td>\n",
       "      <td>0</td>\n",
       "      <td>0</td>\n",
       "      <td>0</td>\n",
       "      <td>0</td>\n",
       "      <td>0</td>\n",
       "      <td>0</td>\n",
       "    </tr>\n",
       "    <tr>\n",
       "      <th>1</th>\n",
       "      <td>105241793</td>\n",
       "      <td>9921901793</td>\n",
       "      <td>M</td>\n",
       "      <td>White</td>\n",
       "      <td>52</td>\n",
       "      <td>CHF</td>\n",
       "      <td>1</td>\n",
       "      <td>293</td>\n",
       "      <td>HEART FAILURE &amp; SHOCK W/O CC/MCC</td>\n",
       "      <td>194</td>\n",
       "      <td>HEART FAILURE</td>\n",
       "      <td>2</td>\n",
       "      <td>428</td>\n",
       "      <td>HEART FAILURE</td>\n",
       "      <td>428.43</td>\n",
       "      <td>ACUTE ON CHRONIC COMBINED SYSTOLIC AND DIASTOL...</td>\n",
       "      <td>M</td>\n",
       "      <td>M</td>\n",
       "      <td>M</td>\n",
       "      <td>M</td>\n",
       "      <td>42843</td>\n",
       "      <td>Congestive heart failure; nonhypertensive [108.]</td>\n",
       "      <td>292722</td>\n",
       "      <td>2015-05-17</td>\n",
       "      <td>2015-05-19</td>\n",
       "      <td>M</td>\n",
       "      <td>M</td>\n",
       "      <td>M</td>\n",
       "      <td>2</td>\n",
       "      <td>0</td>\n",
       "      <td>ROUTINE DSCHG, HOME</td>\n",
       "      <td>4</td>\n",
       "      <td>Y</td>\n",
       "      <td>1.0</td>\n",
       "      <td>350014</td>\n",
       "      <td>5</td>\n",
       "      <td>M</td>\n",
       "      <td>1</td>\n",
       "      <td>23526</td>\n",
       "      <td>0</td>\n",
       "      <td>1</td>\n",
       "      <td>Delaware County Hospital</td>\n",
       "      <td>52057</td>\n",
       "      <td>IA</td>\n",
       "      <td>Manchester</td>\n",
       "      <td>Delaware</td>\n",
       "      <td>5</td>\n",
       "      <td>40-59</td>\n",
       "      <td>1-9</td>\n",
       "      <td>0</td>\n",
       "      <td>1</td>\n",
       "      <td>0</td>\n",
       "      <td>0</td>\n",
       "      <td>1</td>\n",
       "      <td>0</td>\n",
       "      <td>0</td>\n",
       "      <td>0</td>\n",
       "      <td>0</td>\n",
       "      <td>0</td>\n",
       "      <td>0</td>\n",
       "      <td>0</td>\n",
       "      <td>1</td>\n",
       "      <td>1</td>\n",
       "      <td>0</td>\n",
       "      <td>0</td>\n",
       "      <td>1</td>\n",
       "      <td>0</td>\n",
       "      <td>0</td>\n",
       "      <td>0</td>\n",
       "      <td>0</td>\n",
       "      <td>0</td>\n",
       "      <td>0</td>\n",
       "      <td>0</td>\n",
       "      <td>0</td>\n",
       "      <td>0</td>\n",
       "      <td>0</td>\n",
       "      <td>0</td>\n",
       "      <td>1</td>\n",
       "      <td>0</td>\n",
       "      <td>0</td>\n",
       "      <td>0</td>\n",
       "      <td>0</td>\n",
       "      <td>0</td>\n",
       "      <td>0</td>\n",
       "      <td>0</td>\n",
       "      <td>0</td>\n",
       "      <td>0</td>\n",
       "      <td>0</td>\n",
       "      <td>0</td>\n",
       "      <td>0</td>\n",
       "      <td>0</td>\n",
       "      <td>1</td>\n",
       "      <td>0</td>\n",
       "      <td>0</td>\n",
       "      <td>0</td>\n",
       "      <td>0</td>\n",
       "      <td>0</td>\n",
       "      <td>0</td>\n",
       "      <td>0</td>\n",
       "      <td>1</td>\n",
       "      <td>0</td>\n",
       "      <td>0</td>\n",
       "      <td>0</td>\n",
       "      <td>0</td>\n",
       "      <td>0</td>\n",
       "      <td>0</td>\n",
       "      <td>0</td>\n",
       "      <td>0</td>\n",
       "      <td>0</td>\n",
       "      <td>0</td>\n",
       "      <td>0</td>\n",
       "      <td>0</td>\n",
       "      <td>0</td>\n",
       "      <td>1</td>\n",
       "      <td>0</td>\n",
       "      <td>0</td>\n",
       "      <td>0</td>\n",
       "      <td>0</td>\n",
       "      <td>0</td>\n",
       "      <td>0</td>\n",
       "      <td>0</td>\n",
       "      <td>0</td>\n",
       "      <td>0</td>\n",
       "      <td>0</td>\n",
       "      <td>0</td>\n",
       "    </tr>\n",
       "    <tr>\n",
       "      <th>2</th>\n",
       "      <td>105244762</td>\n",
       "      <td>9921904762</td>\n",
       "      <td>F</td>\n",
       "      <td>White</td>\n",
       "      <td>74</td>\n",
       "      <td>CHF</td>\n",
       "      <td>1</td>\n",
       "      <td>291</td>\n",
       "      <td>HEART FAILURE &amp; SHOCK W MCC</td>\n",
       "      <td>194</td>\n",
       "      <td>HEART FAILURE</td>\n",
       "      <td>4</td>\n",
       "      <td>428</td>\n",
       "      <td>HEART FAILURE</td>\n",
       "      <td>428.00</td>\n",
       "      <td>CONGESTIVE HEART FAILURE UNSPECIFIED</td>\n",
       "      <td>96</td>\n",
       "      <td>NONOPERATIVE INTUBATION</td>\n",
       "      <td>96.71</td>\n",
       "      <td>CONTINUOUS INVASIVE MECHANICAL VENTILATION FOR...</td>\n",
       "      <td>4280</td>\n",
       "      <td>Congestive heart failure; nonhypertensive [108.]</td>\n",
       "      <td>267981</td>\n",
       "      <td>2014-09-03</td>\n",
       "      <td>2014-09-04</td>\n",
       "      <td>M</td>\n",
       "      <td>M</td>\n",
       "      <td>M</td>\n",
       "      <td>1</td>\n",
       "      <td>0</td>\n",
       "      <td>OTHER DEATH</td>\n",
       "      <td>9</td>\n",
       "      <td>Y</td>\n",
       "      <td>0.0</td>\n",
       "      <td>350014</td>\n",
       "      <td>9</td>\n",
       "      <td>M</td>\n",
       "      <td>1</td>\n",
       "      <td>23893</td>\n",
       "      <td>0</td>\n",
       "      <td>0</td>\n",
       "      <td>Delaware County Hospital</td>\n",
       "      <td>52057</td>\n",
       "      <td>IA</td>\n",
       "      <td>Manchester</td>\n",
       "      <td>Delaware</td>\n",
       "      <td>5</td>\n",
       "      <td>60-79</td>\n",
       "      <td>NaN</td>\n",
       "      <td>0</td>\n",
       "      <td>0</td>\n",
       "      <td>1</td>\n",
       "      <td>0</td>\n",
       "      <td>0</td>\n",
       "      <td>0</td>\n",
       "      <td>0</td>\n",
       "      <td>0</td>\n",
       "      <td>0</td>\n",
       "      <td>0</td>\n",
       "      <td>1</td>\n",
       "      <td>0</td>\n",
       "      <td>1</td>\n",
       "      <td>1</td>\n",
       "      <td>0</td>\n",
       "      <td>0</td>\n",
       "      <td>0</td>\n",
       "      <td>0</td>\n",
       "      <td>1</td>\n",
       "      <td>0</td>\n",
       "      <td>0</td>\n",
       "      <td>0</td>\n",
       "      <td>0</td>\n",
       "      <td>0</td>\n",
       "      <td>0</td>\n",
       "      <td>0</td>\n",
       "      <td>1</td>\n",
       "      <td>0</td>\n",
       "      <td>0</td>\n",
       "      <td>0</td>\n",
       "      <td>0</td>\n",
       "      <td>0</td>\n",
       "      <td>0</td>\n",
       "      <td>0</td>\n",
       "      <td>0</td>\n",
       "      <td>0</td>\n",
       "      <td>0</td>\n",
       "      <td>0</td>\n",
       "      <td>0</td>\n",
       "      <td>0</td>\n",
       "      <td>0</td>\n",
       "      <td>0</td>\n",
       "      <td>1</td>\n",
       "      <td>0</td>\n",
       "      <td>0</td>\n",
       "      <td>0</td>\n",
       "      <td>0</td>\n",
       "      <td>0</td>\n",
       "      <td>0</td>\n",
       "      <td>0</td>\n",
       "      <td>1</td>\n",
       "      <td>0</td>\n",
       "      <td>0</td>\n",
       "      <td>0</td>\n",
       "      <td>0</td>\n",
       "      <td>0</td>\n",
       "      <td>0</td>\n",
       "      <td>0</td>\n",
       "      <td>0</td>\n",
       "      <td>0</td>\n",
       "      <td>0</td>\n",
       "      <td>0</td>\n",
       "      <td>0</td>\n",
       "      <td>0</td>\n",
       "      <td>1</td>\n",
       "      <td>0</td>\n",
       "      <td>0</td>\n",
       "      <td>0</td>\n",
       "      <td>0</td>\n",
       "      <td>0</td>\n",
       "      <td>0</td>\n",
       "      <td>0</td>\n",
       "      <td>0</td>\n",
       "      <td>0</td>\n",
       "      <td>0</td>\n",
       "      <td>0</td>\n",
       "    </tr>\n",
       "    <tr>\n",
       "      <th>3</th>\n",
       "      <td>105248368</td>\n",
       "      <td>9921908368</td>\n",
       "      <td>F</td>\n",
       "      <td>White</td>\n",
       "      <td>91</td>\n",
       "      <td>CHF</td>\n",
       "      <td>0</td>\n",
       "      <td>292</td>\n",
       "      <td>HEART FAILURE &amp; SHOCK W CC</td>\n",
       "      <td>194</td>\n",
       "      <td>HEART FAILURE</td>\n",
       "      <td>3</td>\n",
       "      <td>398</td>\n",
       "      <td>OTHER RHEUMATIC HEART DI</td>\n",
       "      <td>398.91</td>\n",
       "      <td>RHEUMATIC HEART FAILURE CONGESTIVE</td>\n",
       "      <td>99</td>\n",
       "      <td>OTHER NONOPERATIVE PROCE</td>\n",
       "      <td>99.17</td>\n",
       "      <td>INJECTION OF INSULIN</td>\n",
       "      <td>39891</td>\n",
       "      <td>Congestive heart failure; nonhypertensive [108.]</td>\n",
       "      <td>234813</td>\n",
       "      <td>2015-02-27</td>\n",
       "      <td>2015-03-02</td>\n",
       "      <td>M</td>\n",
       "      <td>M</td>\n",
       "      <td>M</td>\n",
       "      <td>4</td>\n",
       "      <td>1</td>\n",
       "      <td>ROUTINE DSCHG, HOME</td>\n",
       "      <td>1</td>\n",
       "      <td>Y</td>\n",
       "      <td>1.0</td>\n",
       "      <td>350014</td>\n",
       "      <td>2</td>\n",
       "      <td>M</td>\n",
       "      <td>1</td>\n",
       "      <td>20862</td>\n",
       "      <td>0</td>\n",
       "      <td>2</td>\n",
       "      <td>Delaware County Hospital</td>\n",
       "      <td>52057</td>\n",
       "      <td>IA</td>\n",
       "      <td>Manchester</td>\n",
       "      <td>Delaware</td>\n",
       "      <td>5</td>\n",
       "      <td>80-101</td>\n",
       "      <td>1-9</td>\n",
       "      <td>0</td>\n",
       "      <td>0</td>\n",
       "      <td>0</td>\n",
       "      <td>1</td>\n",
       "      <td>1</td>\n",
       "      <td>0</td>\n",
       "      <td>0</td>\n",
       "      <td>0</td>\n",
       "      <td>0</td>\n",
       "      <td>0</td>\n",
       "      <td>1</td>\n",
       "      <td>0</td>\n",
       "      <td>1</td>\n",
       "      <td>1</td>\n",
       "      <td>0</td>\n",
       "      <td>0</td>\n",
       "      <td>0</td>\n",
       "      <td>1</td>\n",
       "      <td>0</td>\n",
       "      <td>0</td>\n",
       "      <td>0</td>\n",
       "      <td>0</td>\n",
       "      <td>0</td>\n",
       "      <td>0</td>\n",
       "      <td>0</td>\n",
       "      <td>0</td>\n",
       "      <td>0</td>\n",
       "      <td>0</td>\n",
       "      <td>1</td>\n",
       "      <td>0</td>\n",
       "      <td>0</td>\n",
       "      <td>0</td>\n",
       "      <td>0</td>\n",
       "      <td>0</td>\n",
       "      <td>0</td>\n",
       "      <td>0</td>\n",
       "      <td>0</td>\n",
       "      <td>0</td>\n",
       "      <td>0</td>\n",
       "      <td>0</td>\n",
       "      <td>0</td>\n",
       "      <td>0</td>\n",
       "      <td>1</td>\n",
       "      <td>0</td>\n",
       "      <td>0</td>\n",
       "      <td>0</td>\n",
       "      <td>0</td>\n",
       "      <td>0</td>\n",
       "      <td>0</td>\n",
       "      <td>0</td>\n",
       "      <td>1</td>\n",
       "      <td>0</td>\n",
       "      <td>0</td>\n",
       "      <td>0</td>\n",
       "      <td>0</td>\n",
       "      <td>0</td>\n",
       "      <td>0</td>\n",
       "      <td>0</td>\n",
       "      <td>0</td>\n",
       "      <td>0</td>\n",
       "      <td>0</td>\n",
       "      <td>0</td>\n",
       "      <td>0</td>\n",
       "      <td>0</td>\n",
       "      <td>0</td>\n",
       "      <td>0</td>\n",
       "      <td>0</td>\n",
       "      <td>0</td>\n",
       "      <td>0</td>\n",
       "      <td>1</td>\n",
       "      <td>0</td>\n",
       "      <td>0</td>\n",
       "      <td>0</td>\n",
       "      <td>0</td>\n",
       "      <td>0</td>\n",
       "      <td>0</td>\n",
       "    </tr>\n",
       "    <tr>\n",
       "      <th>4</th>\n",
       "      <td>105249099</td>\n",
       "      <td>9921909099</td>\n",
       "      <td>F</td>\n",
       "      <td>White</td>\n",
       "      <td>79</td>\n",
       "      <td>AMI</td>\n",
       "      <td>1</td>\n",
       "      <td>249</td>\n",
       "      <td>PERC CARDIOVASC PROC W NON-DRUG-ELUTING STENT ...</td>\n",
       "      <td>139</td>\n",
       "      <td>OTHER PNEUMONIA</td>\n",
       "      <td>2</td>\n",
       "      <td>486</td>\n",
       "      <td>PNEUMONIA ORGANISM UNSP</td>\n",
       "      <td>486.00</td>\n",
       "      <td>PNEUMONIA ORGANISM UNSPECIFIED</td>\n",
       "      <td>M</td>\n",
       "      <td>M</td>\n",
       "      <td>M</td>\n",
       "      <td>M</td>\n",
       "      <td>486</td>\n",
       "      <td>Pneumonia (except that caused by TB or STD) [1...</td>\n",
       "      <td>234813</td>\n",
       "      <td>2014-07-19</td>\n",
       "      <td>2014-07-21</td>\n",
       "      <td>M</td>\n",
       "      <td>M</td>\n",
       "      <td>M</td>\n",
       "      <td>2</td>\n",
       "      <td>0</td>\n",
       "      <td>ROUTINE DSCHG, HOME</td>\n",
       "      <td>0</td>\n",
       "      <td>Y</td>\n",
       "      <td>1.0</td>\n",
       "      <td>12005</td>\n",
       "      <td>7</td>\n",
       "      <td>M</td>\n",
       "      <td>1</td>\n",
       "      <td>25947</td>\n",
       "      <td>0</td>\n",
       "      <td>1</td>\n",
       "      <td>Delaware County Hospital</td>\n",
       "      <td>52057</td>\n",
       "      <td>IA</td>\n",
       "      <td>Manchester</td>\n",
       "      <td>Delaware</td>\n",
       "      <td>5</td>\n",
       "      <td>60-79</td>\n",
       "      <td>1-9</td>\n",
       "      <td>0</td>\n",
       "      <td>0</td>\n",
       "      <td>1</td>\n",
       "      <td>0</td>\n",
       "      <td>1</td>\n",
       "      <td>0</td>\n",
       "      <td>0</td>\n",
       "      <td>0</td>\n",
       "      <td>0</td>\n",
       "      <td>0</td>\n",
       "      <td>1</td>\n",
       "      <td>0</td>\n",
       "      <td>1</td>\n",
       "      <td>0</td>\n",
       "      <td>0</td>\n",
       "      <td>0</td>\n",
       "      <td>1</td>\n",
       "      <td>0</td>\n",
       "      <td>0</td>\n",
       "      <td>0</td>\n",
       "      <td>0</td>\n",
       "      <td>0</td>\n",
       "      <td>0</td>\n",
       "      <td>0</td>\n",
       "      <td>0</td>\n",
       "      <td>0</td>\n",
       "      <td>0</td>\n",
       "      <td>0</td>\n",
       "      <td>1</td>\n",
       "      <td>0</td>\n",
       "      <td>0</td>\n",
       "      <td>0</td>\n",
       "      <td>0</td>\n",
       "      <td>0</td>\n",
       "      <td>0</td>\n",
       "      <td>0</td>\n",
       "      <td>0</td>\n",
       "      <td>0</td>\n",
       "      <td>0</td>\n",
       "      <td>0</td>\n",
       "      <td>0</td>\n",
       "      <td>0</td>\n",
       "      <td>1</td>\n",
       "      <td>0</td>\n",
       "      <td>0</td>\n",
       "      <td>0</td>\n",
       "      <td>0</td>\n",
       "      <td>0</td>\n",
       "      <td>0</td>\n",
       "      <td>0</td>\n",
       "      <td>1</td>\n",
       "      <td>0</td>\n",
       "      <td>0</td>\n",
       "      <td>0</td>\n",
       "      <td>0</td>\n",
       "      <td>0</td>\n",
       "      <td>0</td>\n",
       "      <td>0</td>\n",
       "      <td>0</td>\n",
       "      <td>0</td>\n",
       "      <td>0</td>\n",
       "      <td>0</td>\n",
       "      <td>0</td>\n",
       "      <td>0</td>\n",
       "      <td>0</td>\n",
       "      <td>0</td>\n",
       "      <td>0</td>\n",
       "      <td>0</td>\n",
       "      <td>0</td>\n",
       "      <td>0</td>\n",
       "      <td>0</td>\n",
       "      <td>0</td>\n",
       "      <td>1</td>\n",
       "      <td>0</td>\n",
       "      <td>0</td>\n",
       "      <td>0</td>\n",
       "    </tr>\n",
       "  </tbody>\n",
       "</table>\n",
       "</div>"
      ],
      "text/plain": [
       "   ENCOUNTER_KEY  PATIENT_NUMBER gender race_cd  PatientAge Diagnosis_Group  \\\n",
       "0      105241297      9921901297      M   White          50            COPD   \n",
       "1      105241793      9921901793      M   White          52             CHF   \n",
       "2      105244762      9921904762      F   White          74             CHF   \n",
       "3      105248368      9921908368      F   White          91             CHF   \n",
       "4      105249099      9921909099      F   White          79             AMI   \n",
       "\n",
       "   icd9_target  MS_DRG_CODE  \\\n",
       "0            0          192   \n",
       "1            1          293   \n",
       "2            1          291   \n",
       "3            0          292   \n",
       "4            1          249   \n",
       "\n",
       "                                         MS_DRG_DESC DRG_APR_CODE  \\\n",
       "0     CHRONIC OBSTRUCTIVE Hosp 46 DISEASE W/O CC/MCC          140   \n",
       "1                   HEART FAILURE & SHOCK W/O CC/MCC          194   \n",
       "2                        HEART FAILURE & SHOCK W MCC          194   \n",
       "3                         HEART FAILURE & SHOCK W CC          194   \n",
       "4  PERC CARDIOVASC PROC W NON-DRUG-ELUTING STENT ...          139   \n",
       "\n",
       "                          DRG_APR_DESC DRG_APR_SEVERITY  \\\n",
       "0  CHRONIC OBSTRUCTIVE Hosp 46 DISEASE                1   \n",
       "1                        HEART FAILURE                2   \n",
       "2                        HEART FAILURE                4   \n",
       "3                        HEART FAILURE                3   \n",
       "4                      OTHER PNEUMONIA                2   \n",
       "\n",
       "   DIAGNOSIS_SUBCAT_CODE     DIAGNOSIS_SUBCAT_DESC  DIAGNOSIS_ICD_CODE  \\\n",
       "0                    491        CHRONIC BRONCHITIS              491.21   \n",
       "1                    428             HEART FAILURE              428.43   \n",
       "2                    428             HEART FAILURE              428.00   \n",
       "3                    398  OTHER RHEUMATIC HEART DI              398.91   \n",
       "4                    486   PNEUMONIA ORGANISM UNSP              486.00   \n",
       "\n",
       "                                 DIAGNOSIS_LONG_DESC PROCEDURE_SUBCAT_CODE  \\\n",
       "0  OBSTRUCTIVE CHRONIC BRONCHITIS WITH ACUTE EXAC...                    99   \n",
       "1  ACUTE ON CHRONIC COMBINED SYSTOLIC AND DIASTOL...                     M   \n",
       "2               CONGESTIVE HEART FAILURE UNSPECIFIED                    96   \n",
       "3                 RHEUMATIC HEART FAILURE CONGESTIVE                    99   \n",
       "4                     PNEUMONIA ORGANISM UNSPECIFIED                     M   \n",
       "\n",
       "      PROCEDURE_SUBCAT_DESC PROCEDURE_ICD_CODE  \\\n",
       "0  OTHER NONOPERATIVE PROCE              99.23   \n",
       "1                         M                  M   \n",
       "2   NONOPERATIVE INTUBATION              96.71   \n",
       "3  OTHER NONOPERATIVE PROCE              99.17   \n",
       "4                         M                  M   \n",
       "\n",
       "                                 PROCEDURE_LONG_DESC  dx_code  \\\n",
       "0                               INJECTION OF STEROID    49121   \n",
       "1                                                  M    42843   \n",
       "2  CONTINUOUS INVASIVE MECHANICAL VENTILATION FOR...     4280   \n",
       "3                               INJECTION OF INSULIN    39891   \n",
       "4                                                  M      486   \n",
       "\n",
       "                                            dx_group  DOCTOR ADMIT_DATE  \\\n",
       "0                     Obstructive chronic bronchitis  303334 2014-12-15   \n",
       "1   Congestive heart failure; nonhypertensive [108.]  292722 2015-05-17   \n",
       "2   Congestive heart failure; nonhypertensive [108.]  267981 2014-09-03   \n",
       "3   Congestive heart failure; nonhypertensive [108.]  234813 2015-02-27   \n",
       "4  Pneumonia (except that caused by TB or STD) [1...  234813 2014-07-19   \n",
       "\n",
       "  DISCHARGE_DATE readmit_date readmit_discharge_date readmit_days  \\\n",
       "0     2014-12-21            M                      M            M   \n",
       "1     2015-05-19            M                      M            M   \n",
       "2     2014-09-04            M                      M            M   \n",
       "3     2015-03-02            M                      M            M   \n",
       "4     2014-07-21            M                      M            M   \n",
       "\n",
       "   LENGTH_OF_STAY  ICU_DAYS        DISCHARGED_TO  op_visits6  \\\n",
       "0               6         4  ROUTINE DSCHG, HOME           8   \n",
       "1               2         0  ROUTINE DSCHG, HOME           4   \n",
       "2               1         0          OTHER DEATH           9   \n",
       "3               4         1  ROUTINE DSCHG, HOME           1   \n",
       "4               2         0  ROUTINE DSCHG, HOME           0   \n",
       "\n",
       "  Standard_Orders_Used  Num_Chronic_Cond  Disch_Nurse_ID  admit_month  \\\n",
       "0                    Y               1.0          350014           12   \n",
       "1                    Y               1.0          350014            5   \n",
       "2                    Y               0.0          350014            9   \n",
       "3                    Y               1.0          350014            2   \n",
       "4                    Y               1.0           12005            7   \n",
       "\n",
       "  readmit_month  order_set_used  order_total_charges  readmit_number  \\\n",
       "0             M               1                29507               0   \n",
       "1             M               1                23526               0   \n",
       "2             M               1                23893               0   \n",
       "3             M               1                20862               0   \n",
       "4             M               1                25947               0   \n",
       "\n",
       "   operationcount                  HOSPITAL    ZIP STATECODE        City  \\\n",
       "0               0  Delaware County Hospital  52057        IA  Manchester   \n",
       "1               1  Delaware County Hospital  52057        IA  Manchester   \n",
       "2               0  Delaware County Hospital  52057        IA  Manchester   \n",
       "3               2  Delaware County Hospital  52057        IA  Manchester   \n",
       "4               1  Delaware County Hospital  52057        IA  Manchester   \n",
       "\n",
       "  County_name  i PatientAge_Bins LENGTH_OF_STAY_Bins  PatientAge_Bins_20-39  \\\n",
       "0    Delaware  5           40-59                 1-9                      0   \n",
       "1    Delaware  5           40-59                 1-9                      0   \n",
       "2    Delaware  5           60-79                 NaN                      0   \n",
       "3    Delaware  5          80-101                 1-9                      0   \n",
       "4    Delaware  5           60-79                 1-9                      0   \n",
       "\n",
       "   PatientAge_Bins_40-59  PatientAge_Bins_60-79  PatientAge_Bins_80-101  \\\n",
       "0                      1                      0                       0   \n",
       "1                      1                      0                       0   \n",
       "2                      0                      1                       0   \n",
       "3                      0                      0                       1   \n",
       "4                      0                      1                       0   \n",
       "\n",
       "   LENGTH_OF_STAY_Bins_1-9  LENGTH_OF_STAY_Bins_10-19  \\\n",
       "0                        1                          0   \n",
       "1                        1                          0   \n",
       "2                        0                          0   \n",
       "3                        1                          0   \n",
       "4                        1                          0   \n",
       "\n",
       "   LENGTH_OF_STAY_Bins_20-32  readmit_days_01-07  readmit_days_08-30  \\\n",
       "0                          0                   0                   0   \n",
       "1                          0                   0                   0   \n",
       "2                          0                   0                   0   \n",
       "3                          0                   0                   0   \n",
       "4                          0                   0                   0   \n",
       "\n",
       "   readmit_days_31-60  gender_F  race_Black  race_White  Diagnosis_Group_CHF  \\\n",
       "0                   0         0           0           1                    0   \n",
       "1                   0         0           0           1                    1   \n",
       "2                   0         1           0           1                    1   \n",
       "3                   0         1           0           1                    1   \n",
       "4                   0         1           0           1                    0   \n",
       "\n",
       "   Diagnosis_Group_COPD  DRG_APR_SEVERITY_1.0  DRG_APR_SEVERITY_2.0  \\\n",
       "0                     1                     1                     0   \n",
       "1                     0                     0                     1   \n",
       "2                     0                     0                     0   \n",
       "3                     0                     0                     0   \n",
       "4                     0                     0                     1   \n",
       "\n",
       "   DRG_APR_SEVERITY_3.0  DRG_APR_SEVERITY_4.0  \\\n",
       "0                     0                     0   \n",
       "1                     0                     0   \n",
       "2                     0                     1   \n",
       "3                     1                     0   \n",
       "4                     0                     0   \n",
       "\n",
       "   DISCHARGED_TO_AGNST MEDICAL ADVICE AMA  DISCHARGED_TO_CHG TO LTAC  \\\n",
       "0                                       0                          0   \n",
       "1                                       0                          0   \n",
       "2                                       0                          0   \n",
       "3                                       0                          0   \n",
       "4                                       0                          0   \n",
       "\n",
       "   DISCHARGED_TO_HOME HEALTH AGENCY  DISCHARGED_TO_HOSPICE (HOME)  \\\n",
       "0                                 0                             0   \n",
       "1                                 0                             0   \n",
       "2                                 0                             0   \n",
       "3                                 0                             0   \n",
       "4                                 0                             0   \n",
       "\n",
       "   DISCHARGED_TO_HOSPICE - MEDICAL INPAT  DISCHARGED_TO_INTERMEDIATE CARE  \\\n",
       "0                                      0                                0   \n",
       "1                                      0                                0   \n",
       "2                                      0                                0   \n",
       "3                                      0                                0   \n",
       "4                                      0                                0   \n",
       "\n",
       "   DISCHARGED_TO_OTHER ACUTE HOSP  DISCHARGED_TO_OTHER DEATH  \\\n",
       "0                               0                          0   \n",
       "1                               0                          0   \n",
       "2                               0                          1   \n",
       "3                               0                          0   \n",
       "4                               0                          0   \n",
       "\n",
       "   DISCHARGED_TO_REHAB HOSPITAL  DISCHARGED_TO_ROUTINE DSCHG, HOME  \\\n",
       "0                             0                                  1   \n",
       "1                             0                                  1   \n",
       "2                             0                                  0   \n",
       "3                             0                                  1   \n",
       "4                             0                                  1   \n",
       "\n",
       "   DISCHARGED_TO_SKILLED NURSING FACILITY  readmit_month_1.0  \\\n",
       "0                                       0                  0   \n",
       "1                                       0                  0   \n",
       "2                                       0                  0   \n",
       "3                                       0                  0   \n",
       "4                                       0                  0   \n",
       "\n",
       "   readmit_month_2.0  readmit_month_3.0  readmit_month_4.0  readmit_month_5.0  \\\n",
       "0                  0                  0                  0                  0   \n",
       "1                  0                  0                  0                  0   \n",
       "2                  0                  0                  0                  0   \n",
       "3                  0                  0                  0                  0   \n",
       "4                  0                  0                  0                  0   \n",
       "\n",
       "   readmit_month_6.0  readmit_month_7.0  readmit_month_8.0  readmit_month_9.0  \\\n",
       "0                  0                  0                  0                  0   \n",
       "1                  0                  0                  0                  0   \n",
       "2                  0                  0                  0                  0   \n",
       "3                  0                  0                  0                  0   \n",
       "4                  0                  0                  0                  0   \n",
       "\n",
       "   readmit_month_10.0  readmit_month_11.0  readmit_month_12.0  \\\n",
       "0                   0                   0                   0   \n",
       "1                   0                   0                   0   \n",
       "2                   0                   0                   0   \n",
       "3                   0                   0                   0   \n",
       "4                   0                   0                   0   \n",
       "\n",
       "   HOSPITAL_Delaware County Hospital  HOSPITAL_Hilding-Long Memorial Hospital  \\\n",
       "0                                  1                                        0   \n",
       "1                                  1                                        0   \n",
       "2                                  1                                        0   \n",
       "3                                  1                                        0   \n",
       "4                                  1                                        0   \n",
       "\n",
       "   HOSPITAL_Independence Medical Center  HOSPITAL_Mercy Hospital  \\\n",
       "0                                     0                        0   \n",
       "1                                     0                        0   \n",
       "2                                     0                        0   \n",
       "3                                     0                        0   \n",
       "4                                     0                        0   \n",
       "\n",
       "   HOSPITAL_Oxbow Regional Hospital  HOSPITAL_St. Anthony Medical Center  \\\n",
       "0                                 0                                    0   \n",
       "1                                 0                                    0   \n",
       "2                                 0                                    0   \n",
       "3                                 0                                    0   \n",
       "4                                 0                                    0   \n",
       "\n",
       "   HOSPITAL_Superior-Parkland Hospital  \\\n",
       "0                                    0   \n",
       "1                                    0   \n",
       "2                                    0   \n",
       "3                                    0   \n",
       "4                                    0   \n",
       "\n",
       "   HOSPITAL_Valley City Regional Hospital  STATECODE_IA  STATECODE_MN  \\\n",
       "0                                       0             1             0   \n",
       "1                                       0             1             0   \n",
       "2                                       0             1             0   \n",
       "3                                       0             1             0   \n",
       "4                                       0             1             0   \n",
       "\n",
       "   STATECODE_ND  STATECODE_WI  DIAGNOSIS_SUBCAT_DESC_ACUTE MYOCARDIAL INFARCT  \\\n",
       "0             0             0                                               0   \n",
       "1             0             0                                               0   \n",
       "2             0             0                                               0   \n",
       "3             0             0                                               0   \n",
       "4             0             0                                               0   \n",
       "\n",
       "   DIAGNOSIS_SUBCAT_DESC_ASTHMA  DIAGNOSIS_SUBCAT_DESC_BRONCHIECTASIS  \\\n",
       "0                             0                                     0   \n",
       "1                             0                                     0   \n",
       "2                             0                                     0   \n",
       "3                             0                                     0   \n",
       "4                             0                                     0   \n",
       "\n",
       "   DIAGNOSIS_SUBCAT_DESC_BRONCHOPNEUMONIA ORGANI  \\\n",
       "0                                              0   \n",
       "1                                              0   \n",
       "2                                              0   \n",
       "3                                              0   \n",
       "4                                              0   \n",
       "\n",
       "   DIAGNOSIS_SUBCAT_DESC_CHRONIC AIRWAY OBSTRUCTI  \\\n",
       "0                                               0   \n",
       "1                                               0   \n",
       "2                                               0   \n",
       "3                                               0   \n",
       "4                                               0   \n",
       "\n",
       "   DIAGNOSIS_SUBCAT_DESC_CHRONIC BRONCHITIS  \\\n",
       "0                                         1   \n",
       "1                                         0   \n",
       "2                                         0   \n",
       "3                                         0   \n",
       "4                                         0   \n",
       "\n",
       "   DIAGNOSIS_SUBCAT_DESC_CHRONIC Hosp 46 HEART  \\\n",
       "0                                            0   \n",
       "1                                            0   \n",
       "2                                            0   \n",
       "3                                            0   \n",
       "4                                            0   \n",
       "\n",
       "   DIAGNOSIS_SUBCAT_DESC_DISEASES DUE TO OTHER MY  \\\n",
       "0                                               0   \n",
       "1                                               0   \n",
       "2                                               0   \n",
       "3                                               0   \n",
       "4                                               0   \n",
       "\n",
       "   DIAGNOSIS_SUBCAT_DESC_DISORDERS OF FLUID ELEC  \\\n",
       "0                                              0   \n",
       "1                                              0   \n",
       "2                                              0   \n",
       "3                                              0   \n",
       "4                                              0   \n",
       "\n",
       "   DIAGNOSIS_SUBCAT_DESC_EMPHYSEMA  DIAGNOSIS_SUBCAT_DESC_HEART FAILURE  \\\n",
       "0                                0                                    0   \n",
       "1                                0                                    1   \n",
       "2                                0                                    1   \n",
       "3                                0                                    0   \n",
       "4                                0                                    0   \n",
       "\n",
       "   DIAGNOSIS_SUBCAT_DESC_HYPERTENSIVE HEART AND C  \\\n",
       "0                                               0   \n",
       "1                                               0   \n",
       "2                                               0   \n",
       "3                                               0   \n",
       "4                                               0   \n",
       "\n",
       "   DIAGNOSIS_SUBCAT_DESC_HYPERTENSIVE HEART DISEA  \\\n",
       "0                                               0   \n",
       "1                                               0   \n",
       "2                                               0   \n",
       "3                                               0   \n",
       "4                                               0   \n",
       "\n",
       "   DIAGNOSIS_SUBCAT_DESC_OTHER AND UNSPECIFIED DI  \\\n",
       "0                                               0   \n",
       "1                                               0   \n",
       "2                                               0   \n",
       "3                                               0   \n",
       "4                                               0   \n",
       "\n",
       "   DIAGNOSIS_SUBCAT_DESC_OTHER BACTERIAL PNEUMONI  \\\n",
       "0                                               0   \n",
       "1                                               0   \n",
       "2                                               0   \n",
       "3                                               0   \n",
       "4                                               0   \n",
       "\n",
       "   DIAGNOSIS_SUBCAT_DESC_OTHER RHEUMATIC HEART DI  \\\n",
       "0                                               0   \n",
       "1                                               0   \n",
       "2                                               0   \n",
       "3                                               1   \n",
       "4                                               0   \n",
       "\n",
       "   DIAGNOSIS_SUBCAT_DESC_PNEUMOCOCCAL PNEUMONIA  \\\n",
       "0                                             0   \n",
       "1                                             0   \n",
       "2                                             0   \n",
       "3                                             0   \n",
       "4                                             0   \n",
       "\n",
       "   DIAGNOSIS_SUBCAT_DESC_PNEUMONIA DUE TO OTHER S  \\\n",
       "0                                               0   \n",
       "1                                               0   \n",
       "2                                               0   \n",
       "3                                               0   \n",
       "4                                               0   \n",
       "\n",
       "   DIAGNOSIS_SUBCAT_DESC_PNEUMONIA ORGANISM UNSP  \\\n",
       "0                                              0   \n",
       "1                                              0   \n",
       "2                                              0   \n",
       "3                                              0   \n",
       "4                                              1   \n",
       "\n",
       "   DIAGNOSIS_SUBCAT_DESC_SEPTICEMIA  \\\n",
       "0                                 0   \n",
       "1                                 0   \n",
       "2                                 0   \n",
       "3                                 0   \n",
       "4                                 0   \n",
       "\n",
       "   DIAGNOSIS_SUBCAT_DESC_SYMPTOMS CONCERNING NUTR  \\\n",
       "0                                               0   \n",
       "1                                               0   \n",
       "2                                               0   \n",
       "3                                               0   \n",
       "4                                               0   \n",
       "\n",
       "   DIAGNOSIS_SUBCAT_DESC_VIRAL PNEUMONIA  \n",
       "0                                      0  \n",
       "1                                      0  \n",
       "2                                      0  \n",
       "3                                      0  \n",
       "4                                      0  "
      ]
     },
     "execution_count": 133,
     "metadata": {},
     "output_type": "execute_result"
    }
   ],
   "source": [
    "df.head()"
   ]
  },
  {
   "cell_type": "markdown",
   "metadata": {},
   "source": [
    "## Check for Multicollinearity"
   ]
  },
  {
   "cell_type": "code",
   "execution_count": 134,
   "metadata": {},
   "outputs": [
    {
     "data": {
      "image/png": "[encoded data removed]",
      "text/plain": [
       "<Figure size 432x288 with 1 Axes>"
      ]
     },
     "metadata": {
      "needs_background": "light"
     },
     "output_type": "display_data"
    }
   ],
   "source": [
    "df.plot(kind='scatter', x='PatientAge', y='LENGTH_OF_STAY', color='dodgerblue');\n",
    "plt.title('Relationship between Length of Stay and Patient Age');"
   ]
  },
  {
   "cell_type": "code",
   "execution_count": 135,
   "metadata": {},
   "outputs": [
    {
     "data": {
      "image/png": "[encoded data removed]",
      "text/plain": [
       "<Figure size 432x288 with 1 Axes>"
      ]
     },
     "metadata": {
      "needs_background": "light"
     },
     "output_type": "display_data"
    }
   ],
   "source": [
    "df.plot(kind='scatter', x='PatientAge', y='ICU_DAYS', color='dodgerblue');\n",
    "plt.title('Relationship between ICU Days and Patient Age');"
   ]
  },
  {
   "cell_type": "code",
   "execution_count": 136,
   "metadata": {},
   "outputs": [
    {
     "data": {
      "image/png": "[encoded data removed]",
      "text/plain": [
       "<Figure size 432x288 with 1 Axes>"
      ]
     },
     "metadata": {
      "needs_background": "light"
     },
     "output_type": "display_data"
    }
   ],
   "source": [
    "df.plot(kind='scatter', x='LENGTH_OF_STAY', y='ICU_DAYS', color='dodgerblue');\n",
    "plt.title('Relationship between Length of Stay and ICU Days');"
   ]
  },
  {
   "cell_type": "markdown",
   "metadata": {},
   "source": [
    "There is no relationship between patient age and length of stay or patient age and ICU days. However, there is a positive relationship between ICU days and length of stay, meaning as ICU days increase, so does the length of stay for a patient. However, we will check the correlation coefficient to determine the strength of the relationship."
   ]
  },
  {
   "cell_type": "code",
   "execution_count": 137,
   "metadata": {},
   "outputs": [
    {
     "name": "stdout",
     "output_type": "stream",
     "text": [
      "                           LENGTH_OF_STAY_Bins_1-9  LENGTH_OF_STAY_Bins_10-19  \\\n",
      "LENGTH_OF_STAY_Bins_1-9                   1.000000                  -0.704258   \n",
      "LENGTH_OF_STAY_Bins_10-19                -0.704258                   1.000000   \n",
      "LENGTH_OF_STAY_Bins_20-32                -0.231841                  -0.029098   \n",
      "ICU_DAYS                                 -0.496087                   0.554185   \n",
      "\n",
      "                           LENGTH_OF_STAY_Bins_20-32  ICU_DAYS  \n",
      "LENGTH_OF_STAY_Bins_1-9                    -0.231841 -0.496087  \n",
      "LENGTH_OF_STAY_Bins_10-19                  -0.029098  0.554185  \n",
      "LENGTH_OF_STAY_Bins_20-32                   1.000000  0.478003  \n",
      "ICU_DAYS                                    0.478003  1.000000  \n",
      "AxesSubplot(0.125,0.125;0.62x0.755)\n"
     ]
    },
    {
     "data": {
      "image/png": "[encoded data removed]",
      "text/plain": [
       "<Figure size 432x288 with 2 Axes>"
      ]
     },
     "metadata": {
      "needs_background": "light"
     },
     "output_type": "display_data"
    }
   ],
   "source": [
    "feature_cols = ['LENGTH_OF_STAY_Bins_1-9','LENGTH_OF_STAY_Bins_10-19','LENGTH_OF_STAY_Bins_20-32','ICU_DAYS']\n",
    "\n",
    "Y =   df['readmit_number']\n",
    "X =   df[feature_cols]\n",
    "\n",
    "cmap = sns.color_palette('coolwarm', as_cmap=True)\n",
    "\n",
    "correlations = X.corr()\n",
    "print(correlations)\n",
    "print(sns.heatmap(correlations, vmin=-1, vmax=1, annot=True, cmap=cmap))"
   ]
  },
  {
   "cell_type": "markdown",
   "metadata": {},
   "source": [
    "Based on the correlation coefficients, the correlations are not too high between ICU days and length of stay."
   ]
  },
  {
   "cell_type": "code",
   "execution_count": 138,
   "metadata": {},
   "outputs": [
    {
     "data": {
      "text/html": [
       "<div>\n",
       "<style scoped>\n",
       "    .dataframe tbody tr th:only-of-type {\n",
       "        vertical-align: middle;\n",
       "    }\n",
       "\n",
       "    .dataframe tbody tr th {\n",
       "        vertical-align: top;\n",
       "    }\n",
       "\n",
       "    .dataframe thead th {\n",
       "        text-align: right;\n",
       "    }\n",
       "</style>\n",
       "<table border=\"1\" class=\"dataframe\">\n",
       "  <thead>\n",
       "    <tr style=\"text-align: right;\">\n",
       "      <th></th>\n",
       "      <th>ENCOUNTER_KEY</th>\n",
       "      <th>PATIENT_NUMBER</th>\n",
       "      <th>gender</th>\n",
       "      <th>race_cd</th>\n",
       "      <th>PatientAge</th>\n",
       "      <th>Diagnosis_Group</th>\n",
       "      <th>icd9_target</th>\n",
       "      <th>MS_DRG_CODE</th>\n",
       "      <th>MS_DRG_DESC</th>\n",
       "      <th>DRG_APR_CODE</th>\n",
       "      <th>DRG_APR_DESC</th>\n",
       "      <th>DRG_APR_SEVERITY</th>\n",
       "      <th>DIAGNOSIS_SUBCAT_CODE</th>\n",
       "      <th>DIAGNOSIS_SUBCAT_DESC</th>\n",
       "      <th>DIAGNOSIS_ICD_CODE</th>\n",
       "      <th>DIAGNOSIS_LONG_DESC</th>\n",
       "      <th>PROCEDURE_SUBCAT_CODE</th>\n",
       "      <th>PROCEDURE_SUBCAT_DESC</th>\n",
       "      <th>PROCEDURE_ICD_CODE</th>\n",
       "      <th>PROCEDURE_LONG_DESC</th>\n",
       "      <th>dx_code</th>\n",
       "      <th>dx_group</th>\n",
       "      <th>DOCTOR</th>\n",
       "      <th>ADMIT_DATE</th>\n",
       "      <th>DISCHARGE_DATE</th>\n",
       "      <th>readmit_date</th>\n",
       "      <th>readmit_discharge_date</th>\n",
       "      <th>readmit_days</th>\n",
       "      <th>LENGTH_OF_STAY</th>\n",
       "      <th>ICU_DAYS</th>\n",
       "      <th>DISCHARGED_TO</th>\n",
       "      <th>op_visits6</th>\n",
       "      <th>Standard_Orders_Used</th>\n",
       "      <th>Num_Chronic_Cond</th>\n",
       "      <th>Disch_Nurse_ID</th>\n",
       "      <th>admit_month</th>\n",
       "      <th>readmit_month</th>\n",
       "      <th>order_set_used</th>\n",
       "      <th>order_total_charges</th>\n",
       "      <th>readmit_number</th>\n",
       "      <th>operationcount</th>\n",
       "      <th>HOSPITAL</th>\n",
       "      <th>ZIP</th>\n",
       "      <th>STATECODE</th>\n",
       "      <th>City</th>\n",
       "      <th>County_name</th>\n",
       "      <th>i</th>\n",
       "      <th>PatientAge_Bins</th>\n",
       "      <th>LENGTH_OF_STAY_Bins</th>\n",
       "      <th>PatientAge_Bins_20-39</th>\n",
       "      <th>PatientAge_Bins_40-59</th>\n",
       "      <th>PatientAge_Bins_60-79</th>\n",
       "      <th>PatientAge_Bins_80-101</th>\n",
       "      <th>LENGTH_OF_STAY_Bins_1-9</th>\n",
       "      <th>LENGTH_OF_STAY_Bins_10-19</th>\n",
       "      <th>LENGTH_OF_STAY_Bins_20-32</th>\n",
       "      <th>readmit_days_01-07</th>\n",
       "      <th>readmit_days_08-30</th>\n",
       "      <th>readmit_days_31-60</th>\n",
       "      <th>gender_F</th>\n",
       "      <th>race_Black</th>\n",
       "      <th>race_White</th>\n",
       "      <th>Diagnosis_Group_CHF</th>\n",
       "      <th>Diagnosis_Group_COPD</th>\n",
       "      <th>DRG_APR_SEVERITY_1.0</th>\n",
       "      <th>DRG_APR_SEVERITY_2.0</th>\n",
       "      <th>DRG_APR_SEVERITY_3.0</th>\n",
       "      <th>DRG_APR_SEVERITY_4.0</th>\n",
       "      <th>DISCHARGED_TO_AGNST MEDICAL ADVICE AMA</th>\n",
       "      <th>DISCHARGED_TO_CHG TO LTAC</th>\n",
       "      <th>DISCHARGED_TO_HOME HEALTH AGENCY</th>\n",
       "      <th>DISCHARGED_TO_HOSPICE (HOME)</th>\n",
       "      <th>DISCHARGED_TO_HOSPICE - MEDICAL INPAT</th>\n",
       "      <th>DISCHARGED_TO_INTERMEDIATE CARE</th>\n",
       "      <th>DISCHARGED_TO_OTHER ACUTE HOSP</th>\n",
       "      <th>DISCHARGED_TO_OTHER DEATH</th>\n",
       "      <th>DISCHARGED_TO_REHAB HOSPITAL</th>\n",
       "      <th>DISCHARGED_TO_ROUTINE DSCHG, HOME</th>\n",
       "      <th>DISCHARGED_TO_SKILLED NURSING FACILITY</th>\n",
       "      <th>readmit_month_1.0</th>\n",
       "      <th>readmit_month_2.0</th>\n",
       "      <th>readmit_month_3.0</th>\n",
       "      <th>readmit_month_4.0</th>\n",
       "      <th>readmit_month_5.0</th>\n",
       "      <th>readmit_month_6.0</th>\n",
       "      <th>readmit_month_7.0</th>\n",
       "      <th>readmit_month_8.0</th>\n",
       "      <th>readmit_month_9.0</th>\n",
       "      <th>readmit_month_10.0</th>\n",
       "      <th>readmit_month_11.0</th>\n",
       "      <th>readmit_month_12.0</th>\n",
       "      <th>HOSPITAL_Delaware County Hospital</th>\n",
       "      <th>HOSPITAL_Hilding-Long Memorial Hospital</th>\n",
       "      <th>HOSPITAL_Independence Medical Center</th>\n",
       "      <th>HOSPITAL_Mercy Hospital</th>\n",
       "      <th>HOSPITAL_Oxbow Regional Hospital</th>\n",
       "      <th>HOSPITAL_St. Anthony Medical Center</th>\n",
       "      <th>HOSPITAL_Superior-Parkland Hospital</th>\n",
       "      <th>HOSPITAL_Valley City Regional Hospital</th>\n",
       "      <th>STATECODE_IA</th>\n",
       "      <th>STATECODE_MN</th>\n",
       "      <th>STATECODE_ND</th>\n",
       "      <th>STATECODE_WI</th>\n",
       "      <th>DIAGNOSIS_SUBCAT_DESC_ACUTE MYOCARDIAL INFARCT</th>\n",
       "      <th>DIAGNOSIS_SUBCAT_DESC_ASTHMA</th>\n",
       "      <th>DIAGNOSIS_SUBCAT_DESC_BRONCHIECTASIS</th>\n",
       "      <th>DIAGNOSIS_SUBCAT_DESC_BRONCHOPNEUMONIA ORGANI</th>\n",
       "      <th>DIAGNOSIS_SUBCAT_DESC_CHRONIC AIRWAY OBSTRUCTI</th>\n",
       "      <th>DIAGNOSIS_SUBCAT_DESC_CHRONIC BRONCHITIS</th>\n",
       "      <th>DIAGNOSIS_SUBCAT_DESC_CHRONIC Hosp 46 HEART</th>\n",
       "      <th>DIAGNOSIS_SUBCAT_DESC_DISEASES DUE TO OTHER MY</th>\n",
       "      <th>DIAGNOSIS_SUBCAT_DESC_DISORDERS OF FLUID ELEC</th>\n",
       "      <th>DIAGNOSIS_SUBCAT_DESC_EMPHYSEMA</th>\n",
       "      <th>DIAGNOSIS_SUBCAT_DESC_HEART FAILURE</th>\n",
       "      <th>DIAGNOSIS_SUBCAT_DESC_HYPERTENSIVE HEART AND C</th>\n",
       "      <th>DIAGNOSIS_SUBCAT_DESC_HYPERTENSIVE HEART DISEA</th>\n",
       "      <th>DIAGNOSIS_SUBCAT_DESC_OTHER AND UNSPECIFIED DI</th>\n",
       "      <th>DIAGNOSIS_SUBCAT_DESC_OTHER BACTERIAL PNEUMONI</th>\n",
       "      <th>DIAGNOSIS_SUBCAT_DESC_OTHER RHEUMATIC HEART DI</th>\n",
       "      <th>DIAGNOSIS_SUBCAT_DESC_PNEUMOCOCCAL PNEUMONIA</th>\n",
       "      <th>DIAGNOSIS_SUBCAT_DESC_PNEUMONIA DUE TO OTHER S</th>\n",
       "      <th>DIAGNOSIS_SUBCAT_DESC_PNEUMONIA ORGANISM UNSP</th>\n",
       "      <th>DIAGNOSIS_SUBCAT_DESC_SEPTICEMIA</th>\n",
       "      <th>DIAGNOSIS_SUBCAT_DESC_SYMPTOMS CONCERNING NUTR</th>\n",
       "      <th>DIAGNOSIS_SUBCAT_DESC_VIRAL PNEUMONIA</th>\n",
       "    </tr>\n",
       "  </thead>\n",
       "  <tbody>\n",
       "    <tr>\n",
       "      <th>0</th>\n",
       "      <td>105241297</td>\n",
       "      <td>9921901297</td>\n",
       "      <td>M</td>\n",
       "      <td>White</td>\n",
       "      <td>50</td>\n",
       "      <td>COPD</td>\n",
       "      <td>0</td>\n",
       "      <td>192</td>\n",
       "      <td>CHRONIC OBSTRUCTIVE Hosp 46 DISEASE W/O CC/MCC</td>\n",
       "      <td>140</td>\n",
       "      <td>CHRONIC OBSTRUCTIVE Hosp 46 DISEASE</td>\n",
       "      <td>1</td>\n",
       "      <td>491</td>\n",
       "      <td>CHRONIC BRONCHITIS</td>\n",
       "      <td>491.21</td>\n",
       "      <td>OBSTRUCTIVE CHRONIC BRONCHITIS WITH ACUTE EXAC...</td>\n",
       "      <td>99</td>\n",
       "      <td>OTHER NONOPERATIVE PROCE</td>\n",
       "      <td>99.23</td>\n",
       "      <td>INJECTION OF STEROID</td>\n",
       "      <td>49121</td>\n",
       "      <td>Obstructive chronic bronchitis</td>\n",
       "      <td>303334</td>\n",
       "      <td>2014-12-15</td>\n",
       "      <td>2014-12-21</td>\n",
       "      <td>M</td>\n",
       "      <td>M</td>\n",
       "      <td>M</td>\n",
       "      <td>6</td>\n",
       "      <td>4</td>\n",
       "      <td>ROUTINE DSCHG, HOME</td>\n",
       "      <td>8</td>\n",
       "      <td>Y</td>\n",
       "      <td>1.0</td>\n",
       "      <td>350014</td>\n",
       "      <td>12</td>\n",
       "      <td>M</td>\n",
       "      <td>1</td>\n",
       "      <td>29507</td>\n",
       "      <td>0</td>\n",
       "      <td>0</td>\n",
       "      <td>Delaware County Hospital</td>\n",
       "      <td>52057</td>\n",
       "      <td>IA</td>\n",
       "      <td>Manchester</td>\n",
       "      <td>Delaware</td>\n",
       "      <td>5</td>\n",
       "      <td>40-59</td>\n",
       "      <td>1-9</td>\n",
       "      <td>0</td>\n",
       "      <td>1</td>\n",
       "      <td>0</td>\n",
       "      <td>0</td>\n",
       "      <td>1</td>\n",
       "      <td>0</td>\n",
       "      <td>0</td>\n",
       "      <td>0</td>\n",
       "      <td>0</td>\n",
       "      <td>0</td>\n",
       "      <td>0</td>\n",
       "      <td>0</td>\n",
       "      <td>1</td>\n",
       "      <td>0</td>\n",
       "      <td>1</td>\n",
       "      <td>1</td>\n",
       "      <td>0</td>\n",
       "      <td>0</td>\n",
       "      <td>0</td>\n",
       "      <td>0</td>\n",
       "      <td>0</td>\n",
       "      <td>0</td>\n",
       "      <td>0</td>\n",
       "      <td>0</td>\n",
       "      <td>0</td>\n",
       "      <td>0</td>\n",
       "      <td>0</td>\n",
       "      <td>0</td>\n",
       "      <td>1</td>\n",
       "      <td>0</td>\n",
       "      <td>0</td>\n",
       "      <td>0</td>\n",
       "      <td>0</td>\n",
       "      <td>0</td>\n",
       "      <td>0</td>\n",
       "      <td>0</td>\n",
       "      <td>0</td>\n",
       "      <td>0</td>\n",
       "      <td>0</td>\n",
       "      <td>0</td>\n",
       "      <td>0</td>\n",
       "      <td>0</td>\n",
       "      <td>1</td>\n",
       "      <td>0</td>\n",
       "      <td>0</td>\n",
       "      <td>0</td>\n",
       "      <td>0</td>\n",
       "      <td>0</td>\n",
       "      <td>0</td>\n",
       "      <td>0</td>\n",
       "      <td>1</td>\n",
       "      <td>0</td>\n",
       "      <td>0</td>\n",
       "      <td>0</td>\n",
       "      <td>0</td>\n",
       "      <td>0</td>\n",
       "      <td>0</td>\n",
       "      <td>0</td>\n",
       "      <td>0</td>\n",
       "      <td>1</td>\n",
       "      <td>0</td>\n",
       "      <td>0</td>\n",
       "      <td>0</td>\n",
       "      <td>0</td>\n",
       "      <td>0</td>\n",
       "      <td>0</td>\n",
       "      <td>0</td>\n",
       "      <td>0</td>\n",
       "      <td>0</td>\n",
       "      <td>0</td>\n",
       "      <td>0</td>\n",
       "      <td>0</td>\n",
       "      <td>0</td>\n",
       "      <td>0</td>\n",
       "      <td>0</td>\n",
       "      <td>0</td>\n",
       "    </tr>\n",
       "  </tbody>\n",
       "</table>\n",
       "</div>"
      ],
      "text/plain": [
       "   ENCOUNTER_KEY  PATIENT_NUMBER gender race_cd  PatientAge Diagnosis_Group  \\\n",
       "0      105241297      9921901297      M   White          50            COPD   \n",
       "\n",
       "   icd9_target  MS_DRG_CODE                                     MS_DRG_DESC  \\\n",
       "0            0          192  CHRONIC OBSTRUCTIVE Hosp 46 DISEASE W/O CC/MCC   \n",
       "\n",
       "  DRG_APR_CODE                         DRG_APR_DESC DRG_APR_SEVERITY  \\\n",
       "0          140  CHRONIC OBSTRUCTIVE Hosp 46 DISEASE                1   \n",
       "\n",
       "   DIAGNOSIS_SUBCAT_CODE DIAGNOSIS_SUBCAT_DESC  DIAGNOSIS_ICD_CODE  \\\n",
       "0                    491    CHRONIC BRONCHITIS              491.21   \n",
       "\n",
       "                                 DIAGNOSIS_LONG_DESC PROCEDURE_SUBCAT_CODE  \\\n",
       "0  OBSTRUCTIVE CHRONIC BRONCHITIS WITH ACUTE EXAC...                    99   \n",
       "\n",
       "      PROCEDURE_SUBCAT_DESC PROCEDURE_ICD_CODE   PROCEDURE_LONG_DESC  dx_code  \\\n",
       "0  OTHER NONOPERATIVE PROCE              99.23  INJECTION OF STEROID    49121   \n",
       "\n",
       "                         dx_group  DOCTOR ADMIT_DATE DISCHARGE_DATE  \\\n",
       "0  Obstructive chronic bronchitis  303334 2014-12-15     2014-12-21   \n",
       "\n",
       "  readmit_date readmit_discharge_date readmit_days  LENGTH_OF_STAY  ICU_DAYS  \\\n",
       "0            M                      M            M               6         4   \n",
       "\n",
       "         DISCHARGED_TO  op_visits6 Standard_Orders_Used  Num_Chronic_Cond  \\\n",
       "0  ROUTINE DSCHG, HOME           8                    Y               1.0   \n",
       "\n",
       "   Disch_Nurse_ID  admit_month readmit_month  order_set_used  \\\n",
       "0          350014           12             M               1   \n",
       "\n",
       "   order_total_charges  readmit_number  operationcount  \\\n",
       "0                29507               0               0   \n",
       "\n",
       "                   HOSPITAL    ZIP STATECODE        City County_name  i  \\\n",
       "0  Delaware County Hospital  52057        IA  Manchester    Delaware  5   \n",
       "\n",
       "  PatientAge_Bins LENGTH_OF_STAY_Bins  PatientAge_Bins_20-39  \\\n",
       "0           40-59                 1-9                      0   \n",
       "\n",
       "   PatientAge_Bins_40-59  PatientAge_Bins_60-79  PatientAge_Bins_80-101  \\\n",
       "0                      1                      0                       0   \n",
       "\n",
       "   LENGTH_OF_STAY_Bins_1-9  LENGTH_OF_STAY_Bins_10-19  \\\n",
       "0                        1                          0   \n",
       "\n",
       "   LENGTH_OF_STAY_Bins_20-32  readmit_days_01-07  readmit_days_08-30  \\\n",
       "0                          0                   0                   0   \n",
       "\n",
       "   readmit_days_31-60  gender_F  race_Black  race_White  Diagnosis_Group_CHF  \\\n",
       "0                   0         0           0           1                    0   \n",
       "\n",
       "   Diagnosis_Group_COPD  DRG_APR_SEVERITY_1.0  DRG_APR_SEVERITY_2.0  \\\n",
       "0                     1                     1                     0   \n",
       "\n",
       "   DRG_APR_SEVERITY_3.0  DRG_APR_SEVERITY_4.0  \\\n",
       "0                     0                     0   \n",
       "\n",
       "   DISCHARGED_TO_AGNST MEDICAL ADVICE AMA  DISCHARGED_TO_CHG TO LTAC  \\\n",
       "0                                       0                          0   \n",
       "\n",
       "   DISCHARGED_TO_HOME HEALTH AGENCY  DISCHARGED_TO_HOSPICE (HOME)  \\\n",
       "0                                 0                             0   \n",
       "\n",
       "   DISCHARGED_TO_HOSPICE - MEDICAL INPAT  DISCHARGED_TO_INTERMEDIATE CARE  \\\n",
       "0                                      0                                0   \n",
       "\n",
       "   DISCHARGED_TO_OTHER ACUTE HOSP  DISCHARGED_TO_OTHER DEATH  \\\n",
       "0                               0                          0   \n",
       "\n",
       "   DISCHARGED_TO_REHAB HOSPITAL  DISCHARGED_TO_ROUTINE DSCHG, HOME  \\\n",
       "0                             0                                  1   \n",
       "\n",
       "   DISCHARGED_TO_SKILLED NURSING FACILITY  readmit_month_1.0  \\\n",
       "0                                       0                  0   \n",
       "\n",
       "   readmit_month_2.0  readmit_month_3.0  readmit_month_4.0  readmit_month_5.0  \\\n",
       "0                  0                  0                  0                  0   \n",
       "\n",
       "   readmit_month_6.0  readmit_month_7.0  readmit_month_8.0  readmit_month_9.0  \\\n",
       "0                  0                  0                  0                  0   \n",
       "\n",
       "   readmit_month_10.0  readmit_month_11.0  readmit_month_12.0  \\\n",
       "0                   0                   0                   0   \n",
       "\n",
       "   HOSPITAL_Delaware County Hospital  HOSPITAL_Hilding-Long Memorial Hospital  \\\n",
       "0                                  1                                        0   \n",
       "\n",
       "   HOSPITAL_Independence Medical Center  HOSPITAL_Mercy Hospital  \\\n",
       "0                                     0                        0   \n",
       "\n",
       "   HOSPITAL_Oxbow Regional Hospital  HOSPITAL_St. Anthony Medical Center  \\\n",
       "0                                 0                                    0   \n",
       "\n",
       "   HOSPITAL_Superior-Parkland Hospital  \\\n",
       "0                                    0   \n",
       "\n",
       "   HOSPITAL_Valley City Regional Hospital  STATECODE_IA  STATECODE_MN  \\\n",
       "0                                       0             1             0   \n",
       "\n",
       "   STATECODE_ND  STATECODE_WI  DIAGNOSIS_SUBCAT_DESC_ACUTE MYOCARDIAL INFARCT  \\\n",
       "0             0             0                                               0   \n",
       "\n",
       "   DIAGNOSIS_SUBCAT_DESC_ASTHMA  DIAGNOSIS_SUBCAT_DESC_BRONCHIECTASIS  \\\n",
       "0                             0                                     0   \n",
       "\n",
       "   DIAGNOSIS_SUBCAT_DESC_BRONCHOPNEUMONIA ORGANI  \\\n",
       "0                                              0   \n",
       "\n",
       "   DIAGNOSIS_SUBCAT_DESC_CHRONIC AIRWAY OBSTRUCTI  \\\n",
       "0                                               0   \n",
       "\n",
       "   DIAGNOSIS_SUBCAT_DESC_CHRONIC BRONCHITIS  \\\n",
       "0                                         1   \n",
       "\n",
       "   DIAGNOSIS_SUBCAT_DESC_CHRONIC Hosp 46 HEART  \\\n",
       "0                                            0   \n",
       "\n",
       "   DIAGNOSIS_SUBCAT_DESC_DISEASES DUE TO OTHER MY  \\\n",
       "0                                               0   \n",
       "\n",
       "   DIAGNOSIS_SUBCAT_DESC_DISORDERS OF FLUID ELEC  \\\n",
       "0                                              0   \n",
       "\n",
       "   DIAGNOSIS_SUBCAT_DESC_EMPHYSEMA  DIAGNOSIS_SUBCAT_DESC_HEART FAILURE  \\\n",
       "0                                0                                    0   \n",
       "\n",
       "   DIAGNOSIS_SUBCAT_DESC_HYPERTENSIVE HEART AND C  \\\n",
       "0                                               0   \n",
       "\n",
       "   DIAGNOSIS_SUBCAT_DESC_HYPERTENSIVE HEART DISEA  \\\n",
       "0                                               0   \n",
       "\n",
       "   DIAGNOSIS_SUBCAT_DESC_OTHER AND UNSPECIFIED DI  \\\n",
       "0                                               0   \n",
       "\n",
       "   DIAGNOSIS_SUBCAT_DESC_OTHER BACTERIAL PNEUMONI  \\\n",
       "0                                               0   \n",
       "\n",
       "   DIAGNOSIS_SUBCAT_DESC_OTHER RHEUMATIC HEART DI  \\\n",
       "0                                               0   \n",
       "\n",
       "   DIAGNOSIS_SUBCAT_DESC_PNEUMOCOCCAL PNEUMONIA  \\\n",
       "0                                             0   \n",
       "\n",
       "   DIAGNOSIS_SUBCAT_DESC_PNEUMONIA DUE TO OTHER S  \\\n",
       "0                                               0   \n",
       "\n",
       "   DIAGNOSIS_SUBCAT_DESC_PNEUMONIA ORGANISM UNSP  \\\n",
       "0                                              0   \n",
       "\n",
       "   DIAGNOSIS_SUBCAT_DESC_SEPTICEMIA  \\\n",
       "0                                 0   \n",
       "\n",
       "   DIAGNOSIS_SUBCAT_DESC_SYMPTOMS CONCERNING NUTR  \\\n",
       "0                                               0   \n",
       "\n",
       "   DIAGNOSIS_SUBCAT_DESC_VIRAL PNEUMONIA  \n",
       "0                                      0  "
      ]
     },
     "execution_count": 138,
     "metadata": {},
     "output_type": "execute_result"
    }
   ],
   "source": [
    "df.head(1)"
   ]
  },
  {
   "cell_type": "markdown",
   "metadata": {},
   "source": [
    "I will run another correlation on specific variables that may seem questionable, as far as their relationships."
   ]
  },
  {
   "cell_type": "code",
   "execution_count": 139,
   "metadata": {},
   "outputs": [
    {
     "name": "stdout",
     "output_type": "stream",
     "text": [
      "                      ICU_DAYS  readmit_days_01-07  readmit_days_08-30  \\\n",
      "ICU_DAYS              1.000000           -0.023800            0.007165   \n",
      "readmit_days_01-07   -0.023800            1.000000           -0.072624   \n",
      "readmit_days_08-30    0.007165           -0.072624            1.000000   \n",
      "readmit_days_31-60   -0.034730           -0.034944           -0.038935   \n",
      "Diagnosis_Group_CHF  -0.027903           -0.032018           -0.002769   \n",
      "Diagnosis_Group_COPD -0.006113           -0.026890           -0.025857   \n",
      "DRG_APR_SEVERITY_1.0 -0.089605           -0.029402           -0.000686   \n",
      "DRG_APR_SEVERITY_2.0 -0.158298           -0.013457            0.017087   \n",
      "DRG_APR_SEVERITY_3.0  0.102852            0.026895           -0.013326   \n",
      "DRG_APR_SEVERITY_4.0  0.172077            0.003434           -0.004501   \n",
      "\n",
      "                      readmit_days_31-60  Diagnosis_Group_CHF  \\\n",
      "ICU_DAYS                       -0.034730            -0.027903   \n",
      "readmit_days_01-07             -0.034944            -0.032018   \n",
      "readmit_days_08-30             -0.038935            -0.002769   \n",
      "readmit_days_31-60              1.000000             0.008093   \n",
      "Diagnosis_Group_CHF             0.008093             1.000000   \n",
      "Diagnosis_Group_COPD           -0.012012            -0.391661   \n",
      "DRG_APR_SEVERITY_1.0           -0.036525            -0.053802   \n",
      "DRG_APR_SEVERITY_2.0            0.029293             0.046447   \n",
      "DRG_APR_SEVERITY_3.0           -0.001110             0.009354   \n",
      "DRG_APR_SEVERITY_4.0           -0.033544            -0.053372   \n",
      "\n",
      "                      Diagnosis_Group_COPD  DRG_APR_SEVERITY_1.0  \\\n",
      "ICU_DAYS                         -0.006113             -0.089605   \n",
      "readmit_days_01-07               -0.026890             -0.029402   \n",
      "readmit_days_08-30               -0.025857             -0.000686   \n",
      "readmit_days_31-60               -0.012012             -0.036525   \n",
      "Diagnosis_Group_CHF              -0.391661             -0.053802   \n",
      "Diagnosis_Group_COPD              1.000000              0.052680   \n",
      "DRG_APR_SEVERITY_1.0              0.052680              1.000000   \n",
      "DRG_APR_SEVERITY_2.0              0.032410             -0.224242   \n",
      "DRG_APR_SEVERITY_3.0             -0.029698             -0.232224   \n",
      "DRG_APR_SEVERITY_4.0             -0.049580             -0.082575   \n",
      "\n",
      "                      DRG_APR_SEVERITY_2.0  DRG_APR_SEVERITY_3.0  \\\n",
      "ICU_DAYS                         -0.158298              0.102852   \n",
      "readmit_days_01-07               -0.013457              0.026895   \n",
      "readmit_days_08-30                0.017087             -0.013326   \n",
      "readmit_days_31-60                0.029293             -0.001110   \n",
      "Diagnosis_Group_CHF               0.046447              0.009354   \n",
      "Diagnosis_Group_COPD              0.032410             -0.029698   \n",
      "DRG_APR_SEVERITY_1.0             -0.224242             -0.232224   \n",
      "DRG_APR_SEVERITY_2.0              1.000000             -0.731266   \n",
      "DRG_APR_SEVERITY_3.0             -0.731266              1.000000   \n",
      "DRG_APR_SEVERITY_4.0             -0.260024             -0.269280   \n",
      "\n",
      "                      DRG_APR_SEVERITY_4.0  \n",
      "ICU_DAYS                          0.172077  \n",
      "readmit_days_01-07                0.003434  \n",
      "readmit_days_08-30               -0.004501  \n",
      "readmit_days_31-60               -0.033544  \n",
      "Diagnosis_Group_CHF              -0.053372  \n",
      "Diagnosis_Group_COPD             -0.049580  \n",
      "DRG_APR_SEVERITY_1.0             -0.082575  \n",
      "DRG_APR_SEVERITY_2.0             -0.260024  \n",
      "DRG_APR_SEVERITY_3.0             -0.269280  \n",
      "DRG_APR_SEVERITY_4.0              1.000000  \n"
     ]
    }
   ],
   "source": [
    "feature_cols = ['ICU_DAYS','readmit_days_01-07','readmit_days_08-30','readmit_days_31-60',\n",
    "               'Diagnosis_Group_CHF','Diagnosis_Group_COPD','DRG_APR_SEVERITY_1.0',\n",
    "               'DRG_APR_SEVERITY_2.0','DRG_APR_SEVERITY_3.0','DRG_APR_SEVERITY_4.0']\n",
    "\n",
    "Y =   df['readmit_number']\n",
    "X =   df[feature_cols]\n",
    "\n",
    "#cmap = sns.color_palette('coolwarm', as_cmap=True)\n",
    "\n",
    "correlations = X.corr()\n",
    "print(correlations)\n",
    "#print(sns.heatmap(correlations, vmin=-1, vmax=1, annot=True, cmap=cmap))"
   ]
  },
  {
   "cell_type": "markdown",
   "metadata": {},
   "source": [
    "## Export Data"
   ]
  },
  {
   "cell_type": "code",
   "execution_count": 140,
   "metadata": {},
   "outputs": [],
   "source": [
    "df.to_csv(\"Hospital_Readmissions.csv\")"
   ]
  }
 ],
 "metadata": {
  "kernelspec": {
   "display_name": "Python 3",
   "language": "python",
   "name": "python3"
  },
  "language_info": {
   "codemirror_mode": {
    "name": "ipython",
    "version": 3
   },
   "file_extension": ".py",
   "mimetype": "text/x-python",
   "name": "python",
   "nbconvert_exporter": "python",
   "pygments_lexer": "ipython3",
   "version": "3.8.5"
  }
 },
 "nbformat": 4,
 "nbformat_minor": 4
}
